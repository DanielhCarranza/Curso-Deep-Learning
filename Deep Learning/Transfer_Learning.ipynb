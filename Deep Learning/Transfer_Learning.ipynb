{
  "nbformat": 4,
  "nbformat_minor": 0,
  "metadata": {
    "colab": {
      "name": "Transfer_Learning.ipynb",
      "version": "0.3.2",
      "provenance": [],
      "collapsed_sections": [
        "u2S9dv6lO1QW",
        "wHVscV0YcTX0",
        "YBjFjajFc5af",
        "oCkg_lQFhKgV",
        "2e23bVNXdXPn",
        "ivg__NvL4dJg",
        "h1CZs0ap4aQK"
      ]
    },
    "kernelspec": {
      "name": "python3",
      "display_name": "Python 3"
    },
    "accelerator": "GPU"
  },
  "cells": [
    {
      "metadata": {
        "id": "5Pnb58oHO3eU",
        "colab_type": "text"
      },
      "cell_type": "markdown",
      "source": [
        "# Convolutional Neural Networks with Trasfer Learning"
      ]
    },
    {
      "metadata": {
        "id": "jOLK6TcjM5cN",
        "colab_type": "code",
        "colab": {}
      },
      "cell_type": "code",
      "source": [
        "import tensorflow as tf\n",
        "import tensorflow_hub as hub\n",
        "import numpy as np \n",
        "import seaborn as sn\n",
        "import pandas  as pd\n",
        "import matplotlib.pyplot as plt\n",
        "from sklearn.metrics import confusion_matrix\n",
        "from tensorflow.keras.applications import ResNet50, MobileNetV2 # Modelos pre-entrenados\n",
        "from tensorflow.keras.preprocessing.image import ImageDataGenerator # Generador de imagenes para aumentacion de datos\n",
        "from tensorflow.keras.models import Sequential, Model \n",
        "from tensorflow.keras.callbacks import ModelCheckpoint, EarlyStopping\n",
        "from tensorflow.keras.layers import Dropout, BatchNormalization # Metodos de regularizacion\n",
        "from tensorflow.keras.layers import Input,Dense, Conv2D, MaxPooling2D, GlobalAveragePooling2D, Flatten\n",
        "\n",
        "import os\n",
        "tf.logging.set_verbosity(tf.logging.INFO)\n",
        "\n",
        "# habilitar eager execution\n",
        "tf.enable_eager_execution()\n",
        "\n",
        "%matplotlib inline"
      ],
      "execution_count": 0,
      "outputs": []
    },
    {
      "metadata": {
        "id": "u2S9dv6lO1QW",
        "colab_type": "text"
      },
      "cell_type": "markdown",
      "source": [
        "## Import Data"
      ]
    },
    {
      "metadata": {
        "id": "_foIRVoxNH-h",
        "colab_type": "code",
        "colab": {}
      },
      "cell_type": "code",
      "source": [
        "class DataLoader():\n",
        "    \"\"\"Load data MNIST \"\"\"\n",
        "    def __init__(self):\n",
        "      \n",
        "        # Download data\n",
        "        (self.X_train, self.y_train),(self.X_test,self.y_test)= tf.keras.datasets.cifar10.load_data()\n",
        "        \n",
        "        # Preprocessing\n",
        "        self.X_train = self.X_train.reshape(-1, 32, 32, 3).astype(np.float32)/255.0 # Debe ser de la forma [batch, H, W, num_canales]\n",
        "        self.X_test  = self.X_test.reshape(-1, 32, 32, 3).astype(np.float32)/255.0\n",
        "        self.y_train=self.y_train.astype(np.int32) \n",
        "        self.y_test=self.y_test.astype(np.int32)\n",
        "        \n",
        "    def get_batch(self,batch_size):\n",
        "        # Muestreo aleatorio de los datos de la forma [0, stop, size]\n",
        "        index=np.random.randint(0, self.X_train.shape[0], batch_size)\n",
        "        return self.X_train[index,:], self.y_train[index]"
      ],
      "execution_count": 0,
      "outputs": []
    },
    {
      "metadata": {
        "id": "dGSBFZvcNJJZ",
        "colab_type": "code",
        "colab": {
          "base_uri": "https://localhost:8080/",
          "height": 51
        },
        "outputId": "31904b01-86e6-4e8b-e0e4-36c153c90ba9"
      },
      "cell_type": "code",
      "source": [
        "data=DataLoader()\n",
        "print(f'Forma de la entrada: {data.X_train.shape}')\n",
        "print(f'Forma de la salida:  {data.y_train.shape}')"
      ],
      "execution_count": 3,
      "outputs": [
        {
          "output_type": "stream",
          "text": [
            "Forma de la entrada: (50000, 32, 32, 3)\n",
            "Forma de la salida:  (50000, 1)\n"
          ],
          "name": "stdout"
        }
      ]
    },
    {
      "metadata": {
        "id": "wHVscV0YcTX0",
        "colab_type": "text"
      },
      "cell_type": "markdown",
      "source": [
        "### Image Data Generator"
      ]
    },
    {
      "metadata": {
        "id": "oCg1Sa-_cTc3",
        "colab_type": "code",
        "colab": {}
      },
      "cell_type": "code",
      "source": [
        "datagen = ImageDataGenerator(rotation_range=40,\n",
        "                            width_shift_range=0.2,\n",
        "                            height_shift_range=0.2,\n",
        "                            shear_range=0.2,\n",
        "                            zoom_range=0.2,\n",
        "                            horizontal_flip=True,\n",
        "                            fill_mode='nearest')"
      ],
      "execution_count": 0,
      "outputs": []
    },
    {
      "metadata": {
        "id": "VdwD1uUVcTh6",
        "colab_type": "code",
        "colab": {}
      },
      "cell_type": "code",
      "source": [
        "# Aplico la aumentacion de datos\n",
        "datagen.fit(data.X_train)"
      ],
      "execution_count": 0,
      "outputs": []
    },
    {
      "metadata": {
        "id": "HFWrHkSCcTnK",
        "colab_type": "code",
        "colab": {
          "base_uri": "https://localhost:8080/",
          "height": 485
        },
        "outputId": "e4cfef96-974d-4594-b7b4-4912e8b3d136"
      },
      "cell_type": "code",
      "source": [
        "\n",
        "plt.figure(figsize=(8,8))\n",
        "\n",
        "for x_batch, y_batch in datagen.flow(data.X_train, data.y_train, batch_size=9):\n",
        "    for i in range (1,9):\n",
        "        plt.subplot(3,3,i)\n",
        "        plt.imshow(x_batch[i])\n",
        "    break\n",
        "    \n",
        "plt.show()"
      ],
      "execution_count": 13,
      "outputs": [
        {
          "output_type": "display_data",
          "data": {
            "image/png": "[encoded data removed]",
            "text/plain": [
              "<matplotlib.figure.Figure at 0x7f4f6a9947f0>"
            ]
          },
          "metadata": {
            "tags": []
          }
        }
      ]
    },
    {
      "metadata": {
        "id": "LZSapzOLc5VO",
        "colab_type": "text"
      },
      "cell_type": "markdown",
      "source": [
        "## Convolutional Neural Network Model "
      ]
    },
    {
      "metadata": {
        "id": "YBjFjajFc5af",
        "colab_type": "text"
      },
      "cell_type": "markdown",
      "source": [
        "### Sequential "
      ]
    },
    {
      "metadata": {
        "id": "B4ecqOsAc5fe",
        "colab_type": "code",
        "colab": {}
      },
      "cell_type": "code",
      "source": [
        "model =Sequential()\n",
        "model.add(Conv2D(32,(3,3),strides= (1,1), activation = 'relu', input_shape= (32,32,3)))\n",
        "model.add(BatchNormalization())\n",
        "\n",
        "model.add(Conv2D(64, (3,3), strides=(1,1), activation='relu'))\n",
        "model.add(BatchNormalization())\n",
        "\n",
        "model.add(Conv2D(128, (3,3),strides=(1,1), activation='relu'))\n",
        "model.add(BatchNormalization())\n",
        "model.add(MaxPooling2D(pool_size=(2,2)))\n",
        "\n",
        "model.add(GlobalAveragePooling2D()) # Flatten vector \n",
        "model.add(Dense(1024,activation='relu'))\n",
        "model.add(BatchNormalization())\n",
        "model.add(Dense(512,activation='relu'))\n",
        "model.add(BatchNormalization())\n",
        "model.add(Dense(256, activation='relu'))\n",
        "model.add(Dropout(0.1))\n",
        "model.add(Dense(10, activation='softmax'))"
      ],
      "execution_count": 0,
      "outputs": []
    },
    {
      "metadata": {
        "id": "j7u8kTnsc5j_",
        "colab_type": "code",
        "colab": {
          "base_uri": "https://localhost:8080/",
          "height": 646
        },
        "outputId": "01f8b0d3-02ec-4167-9773-8cf4e8652fe6"
      },
      "cell_type": "code",
      "source": [
        "model.summary()"
      ],
      "execution_count": 7,
      "outputs": [
        {
          "output_type": "stream",
          "text": [
            "_________________________________________________________________\n",
            "Layer (type)                 Output Shape              Param #   \n",
            "=================================================================\n",
            "conv2d (Conv2D)              (None, 30, 30, 32)        896       \n",
            "_________________________________________________________________\n",
            "batch_normalization (BatchNo (None, 30, 30, 32)        128       \n",
            "_________________________________________________________________\n",
            "conv2d_1 (Conv2D)            (None, 28, 28, 64)        18496     \n",
            "_________________________________________________________________\n",
            "batch_normalization_1 (Batch (None, 28, 28, 64)        256       \n",
            "_________________________________________________________________\n",
            "conv2d_2 (Conv2D)            (None, 26, 26, 128)       73856     \n",
            "_________________________________________________________________\n",
            "batch_normalization_2 (Batch (None, 26, 26, 128)       512       \n",
            "_________________________________________________________________\n",
            "max_pooling2d (MaxPooling2D) (None, 13, 13, 128)       0         \n",
            "_________________________________________________________________\n",
            "global_average_pooling2d (Gl (None, 128)               0         \n",
            "_________________________________________________________________\n",
            "dense (Dense)                (None, 1024)              132096    \n",
            "_________________________________________________________________\n",
            "batch_normalization_3 (Batch (None, 1024)              4096      \n",
            "_________________________________________________________________\n",
            "dense_1 (Dense)              (None, 512)               524800    \n",
            "_________________________________________________________________\n",
            "batch_normalization_4 (Batch (None, 512)               2048      \n",
            "_________________________________________________________________\n",
            "dense_2 (Dense)              (None, 256)               131328    \n",
            "_________________________________________________________________\n",
            "dropout (Dropout)            (None, 256)               0         \n",
            "_________________________________________________________________\n",
            "dense_3 (Dense)              (None, 10)                2570      \n",
            "=================================================================\n",
            "Total params: 891,082\n",
            "Trainable params: 887,562\n",
            "Non-trainable params: 3,520\n",
            "_________________________________________________________________\n"
          ],
          "name": "stdout"
        }
      ]
    },
    {
      "metadata": {
        "id": "rTRbSC8Le9Ve",
        "colab_type": "code",
        "colab": {}
      },
      "cell_type": "code",
      "source": [
        "model.compile(optimizer='nadam', loss='sparse_categorical_crossentropy', metrics=['accuracy'])"
      ],
      "execution_count": 0,
      "outputs": []
    },
    {
      "metadata": {
        "id": "celgDZM2e-GP",
        "colab_type": "code",
        "colab": {
          "base_uri": "https://localhost:8080/",
          "height": 1717
        },
        "outputId": "21b430c7-875a-40f0-80e8-984ef784626f"
      },
      "cell_type": "code",
      "source": [
        "training = model.fit_generator(datagen.flow(data.X_train, data.y_train, batch_size= 64, shuffle= True),\n",
        "                                   steps_per_epoch=data.X_train.shape[0]//64,\n",
        "                                   epochs = 50,\n",
        "                                   validation_data= (data.X_test,data.y_test))"
      ],
      "execution_count": 17,
      "outputs": [
        {
          "output_type": "stream",
          "text": [
            "Epoch 1/50\n",
            "781/781 [==============================] - 49s 62ms/step - loss: 0.9785 - acc: 0.6567 - val_loss: 1.0249 - val_acc: 0.6483\n",
            "Epoch 2/50\n",
            "781/781 [==============================] - 50s 64ms/step - loss: 0.9546 - acc: 0.6667 - val_loss: 1.1952 - val_acc: 0.5935\n",
            "Epoch 3/50\n",
            "781/781 [==============================] - 49s 63ms/step - loss: 0.9335 - acc: 0.6729 - val_loss: 1.1964 - val_acc: 0.6047\n",
            "Epoch 4/50\n",
            "781/781 [==============================] - 48s 61ms/step - loss: 0.9170 - acc: 0.6793 - val_loss: 1.0792 - val_acc: 0.6453\n",
            "Epoch 5/50\n",
            "781/781 [==============================] - 48s 61ms/step - loss: 0.8977 - acc: 0.6848 - val_loss: 1.0135 - val_acc: 0.6559\n",
            "Epoch 6/50\n",
            "781/781 [==============================] - 47s 60ms/step - loss: 0.8806 - acc: 0.6927 - val_loss: 1.0497 - val_acc: 0.6430\n",
            "Epoch 7/50\n",
            "781/781 [==============================] - 47s 61ms/step - loss: 0.8674 - acc: 0.6968 - val_loss: 0.9396 - val_acc: 0.6836\n",
            "Epoch 8/50\n",
            "781/781 [==============================] - 48s 61ms/step - loss: 0.8645 - acc: 0.6971 - val_loss: 0.9912 - val_acc: 0.6638\n",
            "Epoch 9/50\n",
            "781/781 [==============================] - 47s 61ms/step - loss: 0.8425 - acc: 0.7029 - val_loss: 0.9079 - val_acc: 0.6884\n",
            "Epoch 10/50\n",
            "781/781 [==============================] - 47s 61ms/step - loss: 0.8350 - acc: 0.7064 - val_loss: 1.3379 - val_acc: 0.5924\n",
            "Epoch 11/50\n",
            "781/781 [==============================] - 47s 61ms/step - loss: 0.8166 - acc: 0.7106 - val_loss: 1.1490 - val_acc: 0.6253\n",
            "Epoch 12/50\n",
            "781/781 [==============================] - 47s 60ms/step - loss: 0.8152 - acc: 0.7146 - val_loss: 0.8353 - val_acc: 0.7159\n",
            "Epoch 13/50\n",
            "781/781 [==============================] - 47s 60ms/step - loss: 0.8006 - acc: 0.7176 - val_loss: 1.1486 - val_acc: 0.6282\n",
            "Epoch 14/50\n",
            "781/781 [==============================] - 47s 60ms/step - loss: 0.7962 - acc: 0.7202 - val_loss: 0.8504 - val_acc: 0.7031\n",
            "Epoch 15/50\n",
            "781/781 [==============================] - 47s 60ms/step - loss: 0.7854 - acc: 0.7249 - val_loss: 0.9621 - val_acc: 0.6718\n",
            "Epoch 16/50\n",
            "781/781 [==============================] - 47s 60ms/step - loss: 0.7773 - acc: 0.7287 - val_loss: 1.0796 - val_acc: 0.6606\n",
            "Epoch 17/50\n",
            "781/781 [==============================] - 47s 60ms/step - loss: 0.7675 - acc: 0.7312 - val_loss: 0.9965 - val_acc: 0.6662\n",
            "Epoch 18/50\n",
            "781/781 [==============================] - 48s 61ms/step - loss: 0.7615 - acc: 0.7345 - val_loss: 0.8442 - val_acc: 0.7172\n",
            "Epoch 19/50\n",
            "781/781 [==============================] - 47s 60ms/step - loss: 0.7534 - acc: 0.7365 - val_loss: 0.9926 - val_acc: 0.6635\n",
            "Epoch 20/50\n",
            "781/781 [==============================] - 51s 65ms/step - loss: 0.7500 - acc: 0.7380 - val_loss: 0.9698 - val_acc: 0.6917\n",
            "Epoch 21/50\n",
            "781/781 [==============================] - 50s 64ms/step - loss: 0.7432 - acc: 0.7388 - val_loss: 1.0576 - val_acc: 0.6672\n",
            "Epoch 22/50\n",
            "781/781 [==============================] - 50s 63ms/step - loss: 0.7317 - acc: 0.7433 - val_loss: 0.8943 - val_acc: 0.7010\n",
            "Epoch 23/50\n",
            "781/781 [==============================] - 48s 62ms/step - loss: 0.7256 - acc: 0.7444 - val_loss: 0.8298 - val_acc: 0.7193\n",
            "Epoch 24/50\n",
            "781/781 [==============================] - 48s 61ms/step - loss: 0.7164 - acc: 0.7473 - val_loss: 0.9788 - val_acc: 0.6864\n",
            "Epoch 25/50\n",
            "781/781 [==============================] - 47s 61ms/step - loss: 0.7113 - acc: 0.7482 - val_loss: 0.8840 - val_acc: 0.7158\n",
            "Epoch 26/50\n",
            "781/781 [==============================] - 53s 68ms/step - loss: 0.7120 - acc: 0.7508 - val_loss: 0.8406 - val_acc: 0.7177\n",
            "Epoch 27/50\n",
            "781/781 [==============================] - 49s 63ms/step - loss: 0.7034 - acc: 0.7531 - val_loss: 0.9681 - val_acc: 0.6962\n",
            "Epoch 28/50\n",
            "781/781 [==============================] - 50s 64ms/step - loss: 0.7007 - acc: 0.7557 - val_loss: 1.0128 - val_acc: 0.6724\n",
            "Epoch 29/50\n",
            "781/781 [==============================] - 50s 64ms/step - loss: 0.6958 - acc: 0.7561 - val_loss: 0.8029 - val_acc: 0.7359\n",
            "Epoch 30/50\n",
            "781/781 [==============================] - 50s 64ms/step - loss: 0.6863 - acc: 0.7594 - val_loss: 0.8570 - val_acc: 0.7186\n",
            "Epoch 31/50\n",
            "781/781 [==============================] - 50s 64ms/step - loss: 0.6835 - acc: 0.7593 - val_loss: 1.0448 - val_acc: 0.6845\n",
            "Epoch 32/50\n",
            "781/781 [==============================] - 50s 63ms/step - loss: 0.6769 - acc: 0.7638 - val_loss: 0.8143 - val_acc: 0.7389\n",
            "Epoch 33/50\n",
            "781/781 [==============================] - 49s 63ms/step - loss: 0.6748 - acc: 0.7611 - val_loss: 0.9081 - val_acc: 0.7000\n",
            "Epoch 34/50\n",
            "781/781 [==============================] - 49s 63ms/step - loss: 0.6698 - acc: 0.7635 - val_loss: 0.7782 - val_acc: 0.7360\n",
            "Epoch 35/50\n",
            "781/781 [==============================] - 48s 61ms/step - loss: 0.6647 - acc: 0.7661 - val_loss: 0.8572 - val_acc: 0.7149\n",
            "Epoch 36/50\n",
            "781/781 [==============================] - 48s 61ms/step - loss: 0.6588 - acc: 0.7686 - val_loss: 0.7658 - val_acc: 0.7499\n",
            "Epoch 37/50\n",
            "781/781 [==============================] - 48s 61ms/step - loss: 0.6516 - acc: 0.7723 - val_loss: 0.7773 - val_acc: 0.7347\n",
            "Epoch 38/50\n",
            "781/781 [==============================] - 47s 60ms/step - loss: 0.6522 - acc: 0.7708 - val_loss: 1.0372 - val_acc: 0.6748\n",
            "Epoch 39/50\n",
            "781/781 [==============================] - 47s 60ms/step - loss: 0.6451 - acc: 0.7739 - val_loss: 0.7965 - val_acc: 0.7449\n",
            "Epoch 40/50\n",
            "781/781 [==============================] - 46s 59ms/step - loss: 0.6388 - acc: 0.7770 - val_loss: 0.7282 - val_acc: 0.7539\n",
            "Epoch 41/50\n",
            "781/781 [==============================] - 46s 59ms/step - loss: 0.6348 - acc: 0.7749 - val_loss: 0.7717 - val_acc: 0.7422\n",
            "Epoch 42/50\n",
            "781/781 [==============================] - 46s 59ms/step - loss: 0.6360 - acc: 0.7758 - val_loss: 0.9233 - val_acc: 0.7091\n",
            "Epoch 43/50\n",
            "781/781 [==============================] - 45s 58ms/step - loss: 0.6298 - acc: 0.7800 - val_loss: 0.7121 - val_acc: 0.7624\n",
            "Epoch 44/50\n",
            "781/781 [==============================] - 46s 59ms/step - loss: 0.6307 - acc: 0.7792 - val_loss: 0.8916 - val_acc: 0.7232\n",
            "Epoch 45/50\n",
            "781/781 [==============================] - 46s 59ms/step - loss: 0.6218 - acc: 0.7809 - val_loss: 0.7627 - val_acc: 0.7521\n",
            "Epoch 46/50\n",
            "781/781 [==============================] - 46s 59ms/step - loss: 0.6190 - acc: 0.7824 - val_loss: 0.8604 - val_acc: 0.7163\n",
            "Epoch 47/50\n",
            "781/781 [==============================] - 46s 59ms/step - loss: 0.6186 - acc: 0.7827 - val_loss: 0.7639 - val_acc: 0.7552\n",
            "Epoch 48/50\n",
            "781/781 [==============================] - 46s 59ms/step - loss: 0.6132 - acc: 0.7864 - val_loss: 0.8644 - val_acc: 0.7276\n",
            "Epoch 49/50\n",
            "781/781 [==============================] - 46s 59ms/step - loss: 0.6092 - acc: 0.7871 - val_loss: 0.8796 - val_acc: 0.7258\n",
            "Epoch 50/50\n",
            "781/781 [==============================] - 46s 58ms/step - loss: 0.6017 - acc: 0.7875 - val_loss: 0.7723 - val_acc: 0.7481\n"
          ],
          "name": "stdout"
        }
      ]
    },
    {
      "metadata": {
        "id": "qZXmqLWDfHXR",
        "colab_type": "code",
        "colab": {
          "base_uri": "https://localhost:8080/",
          "height": 51
        },
        "outputId": "7b1d1b39-2df8-4736-d85a-2f4225f265fc"
      },
      "cell_type": "code",
      "source": [
        "loss, acc= model.evaluate(data.X_test,data.y_test, batch_size=64)\n",
        "print(f'Accuracy: {acc}')"
      ],
      "execution_count": 18,
      "outputs": [
        {
          "output_type": "stream",
          "text": [
            "10000/10000 [==============================] - 1s 137us/step\n",
            "Accuracy: 0.7481\n"
          ],
          "name": "stdout"
        }
      ]
    },
    {
      "metadata": {
        "id": "oCkg_lQFhKgV",
        "colab_type": "text"
      },
      "cell_type": "markdown",
      "source": [
        "#### Confusion Matrix"
      ]
    },
    {
      "metadata": {
        "id": "kD0y5M-GhI7V",
        "colab_type": "code",
        "colab": {
          "base_uri": "https://localhost:8080/",
          "height": 432
        },
        "outputId": "9132f76a-b801-4961-d3ef-9db963f2567e"
      },
      "cell_type": "code",
      "source": [
        "# Prediction\n",
        "y_pred = model.predict(data.X_test)\n",
        "y_pred = np.argmax(y_pred, axis=1)\n",
        "\n",
        "cm = confusion_matrix(data.y_test, y_pred)\n",
        "\n",
        "# Visualizing of confusion matrix  \n",
        "df_cm = pd.DataFrame(cm, range(10), range(10))\n",
        "plt.figure(figsize = (10,7))\n",
        "sn.set(font_scale=1.4)\n",
        "sn.heatmap(df_cm, annot=True,annot_kws={\"size\": 12})\n",
        "plt.show()"
      ],
      "execution_count": 36,
      "outputs": [
        {
          "output_type": "display_data",
          "data": {
            "image/png": "[encoded data removed]",
            "text/plain": [
              "<matplotlib.figure.Figure at 0x7f9f40ca5048>"
            ]
          },
          "metadata": {
            "tags": []
          }
        }
      ]
    },
    {
      "metadata": {
        "id": "sQzIHgOosOD6",
        "colab_type": "code",
        "colab": {}
      },
      "cell_type": "code",
      "source": [
        "confusion_matrix?"
      ],
      "execution_count": 0,
      "outputs": []
    },
    {
      "metadata": {
        "id": "2e23bVNXdXPn",
        "colab_type": "text"
      },
      "cell_type": "markdown",
      "source": [
        "### Functional Model API \n",
        "Esta te permite poder crear modelos mas complejos que Sequential"
      ]
    },
    {
      "metadata": {
        "id": "WnLuB9rMdXVJ",
        "colab_type": "code",
        "colab": {}
      },
      "cell_type": "code",
      "source": [
        "def CNN_Model(input_shape):\n",
        "  \n",
        "    Img_input= Input(input_shape)   \n",
        "    # Aquitecture\n",
        "    x = Conv2D(32,(3,3),strides= (1,1), activation = 'relu', input_shape= (32,32,3),name='conv0')(Img_input)\n",
        "    x = BatchNormalization(axis=3, name='bn0')(x)\n",
        "    x = Conv2D(64, (3,3), strides=(1,1), activation='relu', name='conv1')(x)\n",
        "    x = BatchNormalization(axis=3, name='bn1')(x)\n",
        "    x = Conv2D(128, (3,3),strides=(1,1), activation='relu',name='conv2')(x)\n",
        "    x = BatchNormalization(axis=3, name='bn2')(x)\n",
        "    x = MaxPooling2D(pool_size=(2,2), name='maxpool')(x)\n",
        "    \n",
        "    x = GlobalAveragePooling2D(name='Gavg')(x)\n",
        "    x = Dense(1024,activation='relu', name='dense1')(x)\n",
        "    x = BatchNormalization(name='bn3')(x)\n",
        "    x = Dense(512,activation='relu',name='dense2')(x)\n",
        "    x = BatchNormalization(name='bn4')(x)\n",
        "    x = Dense(256, activation='relu',name='dense3')(x)\n",
        "    x = Dropout(0.1, name='dropout')(x)\n",
        "    y_pred = Dense(10, activation='softmax',name='feature_vector')(x)\n",
        "    model= Model(inputs=Img_input, outputs=y_pred) \n",
        "    return model\n",
        "    "
      ],
      "execution_count": 0,
      "outputs": []
    },
    {
      "metadata": {
        "id": "_7_ToJSpdXag",
        "colab_type": "code",
        "colab": {}
      },
      "cell_type": "code",
      "source": [
        "modelo= CNN_Model((32,32,3))"
      ],
      "execution_count": 0,
      "outputs": []
    },
    {
      "metadata": {
        "id": "lkTjNUeexlkC",
        "colab_type": "code",
        "colab": {}
      },
      "cell_type": "code",
      "source": [
        "modelo.compile(optimizer='nadam', loss='sparse_categorical_crossentropy', metrics=['accuracy']) "
      ],
      "execution_count": 0,
      "outputs": []
    },
    {
      "metadata": {
        "id": "nh_G7qqWxlsQ",
        "colab_type": "code",
        "colab": {
          "base_uri": "https://localhost:8080/",
          "height": 357
        },
        "outputId": "047ddf1b-5711-435b-dbfc-3ced3ad7374a"
      },
      "cell_type": "code",
      "source": [
        "training = modelo.fit_generator(datagen.flow(data.X_train, data.y_train, batch_size= 64, shuffle= True),\n",
        "                                   steps_per_epoch=data.X_train.shape[0]//64,\n",
        "                                   epochs = 20,\n",
        "                                   validation_data= (data.X_test,data.y_test))"
      ],
      "execution_count": 48,
      "outputs": [
        {
          "output_type": "stream",
          "text": [
            "Epoch 1/10\n",
            "781/781 [==============================] - 51s 65ms/step - loss: 1.8040 - acc: 0.3538 - val_loss: 1.5626 - val_acc: 0.4371\n",
            "Epoch 2/10\n",
            "781/781 [==============================] - 48s 62ms/step - loss: 1.4652 - acc: 0.4726 - val_loss: 2.1446 - val_acc: 0.3459\n",
            "Epoch 3/10\n",
            "781/781 [==============================] - 48s 61ms/step - loss: 1.3314 - acc: 0.5245 - val_loss: 1.3326 - val_acc: 0.5284\n",
            "Epoch 4/10\n",
            "781/781 [==============================] - 48s 62ms/step - loss: 1.2561 - acc: 0.5550 - val_loss: 1.4513 - val_acc: 0.5031\n",
            "Epoch 5/10\n",
            "781/781 [==============================] - 48s 62ms/step - loss: 1.1883 - acc: 0.5795 - val_loss: 1.3228 - val_acc: 0.5567\n",
            "Epoch 6/10\n",
            "781/781 [==============================] - 47s 61ms/step - loss: 1.1406 - acc: 0.5984 - val_loss: 1.3604 - val_acc: 0.5462\n",
            "Epoch 7/10\n",
            "781/781 [==============================] - 47s 60ms/step - loss: 1.0952 - acc: 0.6154 - val_loss: 1.2223 - val_acc: 0.5744\n",
            "Epoch 8/10\n",
            "781/781 [==============================] - 47s 60ms/step - loss: 1.0574 - acc: 0.6299 - val_loss: 1.6440 - val_acc: 0.4895\n",
            "Epoch 9/10\n",
            "781/781 [==============================] - 51s 65ms/step - loss: 1.0332 - acc: 0.6364 - val_loss: 1.0958 - val_acc: 0.6251\n",
            "Epoch 10/10\n",
            "781/781 [==============================] - 49s 63ms/step - loss: 1.0031 - acc: 0.6495 - val_loss: 1.0201 - val_acc: 0.6452\n"
          ],
          "name": "stdout"
        }
      ]
    },
    {
      "metadata": {
        "id": "r-5iGFm0xlxr",
        "colab_type": "code",
        "colab": {}
      },
      "cell_type": "code",
      "source": [
        ""
      ],
      "execution_count": 0,
      "outputs": []
    },
    {
      "metadata": {
        "id": "QlWkHU5air5p",
        "colab_type": "text"
      },
      "cell_type": "markdown",
      "source": [
        "### Eager Execution Model "
      ]
    },
    {
      "metadata": {
        "id": "ivg__NvL4dJg",
        "colab_type": "text"
      },
      "cell_type": "markdown",
      "source": [
        "#### Model "
      ]
    },
    {
      "metadata": {
        "id": "S04cwDgGisAP",
        "colab_type": "code",
        "colab": {}
      },
      "cell_type": "code",
      "source": [
        "class Conv_Model(tf.keras.Model):\n",
        "  \n",
        "  def __init__(self):\n",
        "    super().__init__()\n",
        "    \n",
        "    # Aquitecture\n",
        "    self.conv1= Conv2D(32, (3,3),strides= (1,1), activation = tf.nn.relu, input_shape= (32,32,3))\n",
        "    self.BatchNorm1 = BatchNormalization(axis=3)\n",
        "    self.conv2= Conv2D(64, (3,3), strides=(1,1), activation=tf.nn.relu)\n",
        "    self.BatchNorm2 = BatchNormalization(axis=3)\n",
        "    self.conv3= Conv2D(128, (3,3),strides=(1,1), activation=tf.nn.relu)\n",
        "    self.BatchNorm3 = BatchNormalization(axis=3)\n",
        "    self.maxpool = MaxPooling2D(pool_size=(2,2))\n",
        "    self.globalAvg = GlobalAveragePooling2D()\n",
        "    self.dense1 = Dense(1024, activation=tf.nn.relu)\n",
        "    self.BatchNorm4= BatchNormalization()\n",
        "    self.dense2 = Dense(512,activation=tf.nn.relu)\n",
        "    self.BatchNorm5 = BatchNormalization()\n",
        "    self.dense3= Dense(256,activation=tf.nn.relu)\n",
        "    self.dropout= Dropout(0.1)\n",
        "    self.logits= Dense(10)\n",
        "  \n",
        "  def call(self, inputs):\n",
        "    x= self.conv1(inputs)\n",
        "    x= self.BatchNorm1(x)\n",
        "    x= self.conv2(x)\n",
        "    x= self.BatchNorm2(inputs)\n",
        "    x= self.conv3(x)\n",
        "    x= self.BatchNorm3(x)\n",
        "    x= self.maxpool(x)\n",
        "    x= self.globalAvg(x)\n",
        "    x= self.dense1(x)\n",
        "    x= self.BatchNorm4(x)\n",
        "    x= self.dense2(x)\n",
        "    x= self.BatchNorm5(x)\n",
        "    x= self.dense3(x)\n",
        "    x= self.dropout(x)\n",
        "    output= self.logits(x)\n",
        "    \n",
        "    return output\n",
        "  \n",
        "  def predict(self,inputs):\n",
        "    y_pred=self(inputs)\n",
        "    return tf.argmax(y_pred, axis=-1)\n",
        "\n",
        "  def evaluate(self, X_test, y_test):\n",
        "    y_pred= self.predict(X_test).numpy()\n",
        "    total_test_samples=y_test.shape[0]\n",
        "    print(\"Validation Accuracy: %f \" % (sum(y_pred==data_loader.y_test)/total_test_samples))\n",
        "    "
      ],
      "execution_count": 0,
      "outputs": []
    },
    {
      "metadata": {
        "id": "1YbDclvRisHm",
        "colab_type": "code",
        "colab": {}
      },
      "cell_type": "code",
      "source": [
        "convModel=Conv_Model()"
      ],
      "execution_count": 0,
      "outputs": []
    },
    {
      "metadata": {
        "id": "_dSEafVw4D1i",
        "colab_type": "code",
        "colab": {}
      },
      "cell_type": "code",
      "source": [
        "# Hyperparametros\n",
        "epochs=1000\n",
        "batch_size=64\n",
        "learning_rate=0.001"
      ],
      "execution_count": 0,
      "outputs": []
    },
    {
      "metadata": {
        "id": "3IBXxwfT4D9J",
        "colab_type": "code",
        "colab": {}
      },
      "cell_type": "code",
      "source": [
        "# Adam Optimizer\n",
        "optimizer=tf.train.AdamOptimizer(learning_rate)"
      ],
      "execution_count": 0,
      "outputs": []
    },
    {
      "metadata": {
        "id": "h1CZs0ap4aQK",
        "colab_type": "text"
      },
      "cell_type": "markdown",
      "source": [
        "#### Training"
      ]
    },
    {
      "metadata": {
        "id": "riUIGtDs-V4H",
        "colab_type": "code",
        "colab": {
          "base_uri": "https://localhost:8080/",
          "height": 34
        },
        "outputId": "63c491ef-5ea3-4cc9-fae4-13d8f3c13d9d"
      },
      "cell_type": "code",
      "source": [
        "y.shape"
      ],
      "execution_count": 18,
      "outputs": [
        {
          "output_type": "execute_result",
          "data": {
            "text/plain": [
              "(64, 1)"
            ]
          },
          "metadata": {
            "tags": []
          },
          "execution_count": 18
        }
      ]
    },
    {
      "metadata": {
        "id": "H0iN7jHO4WVy",
        "colab_type": "code",
        "colab": {
          "base_uri": "https://localhost:8080/",
          "height": 187
        },
        "outputId": "35c9b74d-55e0-43fd-f6af-e765a4ad9dbd"
      },
      "cell_type": "code",
      "source": [
        "for epoch in range(epochs):\n",
        "  # Datos de entrenamientp\n",
        "  X,y=data.get_batch(batch_size)\n",
        "  \n",
        "  with tf.GradientTape() as tape:\n",
        "    # forward prop\n",
        "    y_pred=convModel(tf.convert_to_tensor(X))\n",
        "    \n",
        "    # loss function\n",
        "    loss= tf.losses.sparse_softmax_cross_entropy(labels=y, logits=y_pred)\n",
        "    if epoch%100==0:\n",
        "      print(f'epoch: {epoch}, loss: {loss.numpy()}')\n",
        "   \n",
        "  # Backprop \n",
        "  grads= tape.gradient(loss, convModel.variables)\n",
        "  \n",
        "  # update rule (dW1, W1)\n",
        "  optimizer.apply_gradients(grads_and_vars=zip(grads,convModel.variables))"
      ],
      "execution_count": 23,
      "outputs": [
        {
          "output_type": "stream",
          "text": [
            "epoch: 0, loss: 2.299995183944702\n",
            "epoch: 100, loss: 2.1629436016082764\n",
            "epoch: 200, loss: 1.757750153541565\n",
            "epoch: 300, loss: 1.763550043106079\n",
            "epoch: 400, loss: 1.7612206935882568\n",
            "epoch: 500, loss: 1.789049744606018\n",
            "epoch: 600, loss: 1.8878310918807983\n",
            "epoch: 700, loss: 1.8299998044967651\n",
            "epoch: 800, loss: 1.6959118843078613\n",
            "epoch: 900, loss: 1.661496877670288\n"
          ],
          "name": "stdout"
        }
      ]
    },
    {
      "metadata": {
        "id": "GfO40lpU4Wdl",
        "colab_type": "code",
        "colab": {}
      },
      "cell_type": "code",
      "source": [
        ""
      ],
      "execution_count": 0,
      "outputs": []
    },
    {
      "metadata": {
        "id": "RNmzws5CNJUO",
        "colab_type": "text"
      },
      "cell_type": "markdown",
      "source": [
        "## Transfer Learning\n"
      ]
    },
    {
      "metadata": {
        "id": "vRSClkVK5UZm",
        "colab_type": "text"
      },
      "cell_type": "markdown",
      "source": [
        "#### Download Data "
      ]
    },
    {
      "metadata": {
        "id": "ECP5G5-95VBT",
        "colab_type": "code",
        "colab": {}
      },
      "cell_type": "code",
      "source": [
        "! mkdir data && wget http://files.fast.ai/data/dogscats.zip && unzip dogscats.zip -d data"
      ],
      "execution_count": 0,
      "outputs": []
    },
    {
      "metadata": {
        "id": "qIPbl6Wv5VI7",
        "colab_type": "code",
        "colab": {
          "base_uri": "https://localhost:8080/",
          "height": 34
        },
        "outputId": "a8cd6686-7d30-4dde-ab9c-3909cf814654"
      },
      "cell_type": "code",
      "source": [
        "ls data/dogscats/"
      ],
      "execution_count": 16,
      "outputs": [
        {
          "output_type": "stream",
          "text": [
            "\u001b[0m\u001b[01;34mmodels\u001b[0m/  \u001b[01;34msample\u001b[0m/  \u001b[01;34mtest1\u001b[0m/  \u001b[01;34mtrain\u001b[0m/  \u001b[01;34mvalid\u001b[0m/\n"
          ],
          "name": "stdout"
        }
      ]
    },
    {
      "metadata": {
        "id": "Hlwok9E06M07",
        "colab_type": "code",
        "colab": {}
      },
      "cell_type": "code",
      "source": [
        "train_dir='data/dogscats/train'\n",
        "val_dir='data/dogscats/valid'\n",
        "test_dir='data/dogscats/test1'"
      ],
      "execution_count": 0,
      "outputs": []
    },
    {
      "metadata": {
        "id": "Jp-VXavRDjr8",
        "colab_type": "text"
      },
      "cell_type": "markdown",
      "source": [
        "#### Data Augmentation"
      ]
    },
    {
      "metadata": {
        "id": "chGmuv52DkGy",
        "colab_type": "code",
        "colab": {}
      },
      "cell_type": "code",
      "source": [
        "train_datagen = ImageDataGenerator(\n",
        "        rescale=1./255,\n",
        "        shear_range=0.2,\n",
        "        zoom_range=0.2,\n",
        "        horizontal_flip=True)\n",
        "\n",
        "test_datagen = ImageDataGenerator(rescale=1./255)"
      ],
      "execution_count": 0,
      "outputs": []
    },
    {
      "metadata": {
        "id": "zB4sVJ-PEJQC",
        "colab_type": "text"
      },
      "cell_type": "markdown",
      "source": [
        "#### Import Data"
      ]
    },
    {
      "metadata": {
        "id": "eZs-dW5OEJ0k",
        "colab_type": "code",
        "colab": {
          "base_uri": "https://localhost:8080/",
          "height": 68
        },
        "outputId": "57ad8895-283b-4aca-a613-12a0a7057642"
      },
      "cell_type": "code",
      "source": [
        "train_generator  = train_datagen.flow_from_directory(train_dir,\n",
        "                                       target_size = (224, 224),\n",
        "                                       batch_size = 64,\n",
        "                                       class_mode =  \"categorical\")\n",
        "\n",
        "validation_generator = test_datagen.flow_from_directory(\n",
        "                                        val_dir,\n",
        "                                        target_size= (224, 224),\n",
        "                                        batch_size=64,\n",
        "                                        class_mode= \"categorical\")\n",
        "\n",
        "test_generator = test_datagen.flow_from_directory(test_dir,\n",
        "                                target_size= (224, 224),\n",
        "                                batch_size=64,\n",
        "                                class_mode= \"categorical\")"
      ],
      "execution_count": 35,
      "outputs": [
        {
          "output_type": "stream",
          "text": [
            "Found 23000 images belonging to 2 classes.\n",
            "Found 2000 images belonging to 2 classes.\n",
            "Found 0 images belonging to 0 classes.\n"
          ],
          "name": "stdout"
        }
      ]
    },
    {
      "metadata": {
        "id": "OYz60Ci0WDER",
        "colab_type": "text"
      },
      "cell_type": "markdown",
      "source": [
        "####  Pre- Trained  Model MobileNetV2 "
      ]
    },
    {
      "metadata": {
        "id": "m337MaN6XaDF",
        "colab_type": "code",
        "colab": {}
      },
      "cell_type": "code",
      "source": [
        "mobile =MobileNetV2(include_top=False, weights= 'imagenet', input_shape=(224,224,3))"
      ],
      "execution_count": 0,
      "outputs": []
    },
    {
      "metadata": {
        "id": "EX-Uuv087c5R",
        "colab_type": "code",
        "colab": {}
      },
      "cell_type": "code",
      "source": [
        "# Model \n",
        "x = mobile.output\n",
        "x= GlobalAveragePooling2D()(x)\n",
        "x= BatchNormalization()(x)\n",
        "x= Dense(1024,activation='relu')(x)\n",
        "x=BatchNormalization()(x)\n",
        "x= Dropout(0.5)(x)\n",
        "y_pred= Dense(2, activation='softmax')(x)\n"
      ],
      "execution_count": 0,
      "outputs": []
    },
    {
      "metadata": {
        "id": "Gm_9X6k4XaKc",
        "colab_type": "code",
        "colab": {}
      },
      "cell_type": "code",
      "source": [
        "model= Model(inputs= mobile.input, outputs=y_pred)\n",
        "model.summary()"
      ],
      "execution_count": 0,
      "outputs": []
    },
    {
      "metadata": {
        "id": "jNIGcH-GDZgk",
        "colab_type": "text"
      },
      "cell_type": "markdown",
      "source": [
        "#### Fine-tuning"
      ]
    },
    {
      "metadata": {
        "id": "wECQVjfbfaq8",
        "colab_type": "code",
        "colab": {}
      },
      "cell_type": "code",
      "source": [
        "feature_vector_layer=len(mobile.layers) # 155\n",
        "\n",
        "# Unfreeze this layers \n",
        "for layers in model.layers[:feature_vector_layer]:\n",
        "    layers.trainable=False\n",
        "    \n",
        "# Train these layers\n",
        "for layers in model.layers[feature_vector_layer:]:\n",
        "    layers.trainable=True"
      ],
      "execution_count": 0,
      "outputs": []
    },
    {
      "metadata": {
        "id": "0jXLZXcvNJus",
        "colab_type": "text"
      },
      "cell_type": "markdown",
      "source": [
        "#### Trainig"
      ]
    },
    {
      "metadata": {
        "id": "kzxBGHm9NJzk",
        "colab_type": "code",
        "colab": {}
      },
      "cell_type": "code",
      "source": [
        "model.compile(loss='categorical_crossentropy',\n",
        "              optimizer='nadam',\n",
        "              metrics=['accuracy'])"
      ],
      "execution_count": 0,
      "outputs": []
    },
    {
      "metadata": {
        "id": "-qNBl3DqE5p7",
        "colab_type": "code",
        "colab": {}
      },
      "cell_type": "code",
      "source": [
        "# Hyperparameters\n",
        "batch_size=64\n",
        "num_classes=2\n",
        "epochs=3\n",
        "n_train_samples=6000\n",
        "n_val_samples=1000\n",
        "n_test_samples=200"
      ],
      "execution_count": 0,
      "outputs": []
    },
    {
      "metadata": {
        "id": "LOMM52F5FnTt",
        "colab_type": "code",
        "colab": {}
      },
      "cell_type": "code",
      "source": [
        ""
      ],
      "execution_count": 0,
      "outputs": []
    },
    {
      "metadata": {
        "id": "aLfAAFq6NJ48",
        "colab_type": "code",
        "colab": {
          "base_uri": "https://localhost:8080/",
          "height": 221
        },
        "outputId": "272b9bd9-4e4a-44c8-d37e-5c913b0a42ef"
      },
      "cell_type": "code",
      "source": [
        "checkpoint = ModelCheckpoint(filepath = 'dogscats_xception.h5',\n",
        "                            verbose = 1,\n",
        "                            save_best_only = True,\n",
        "                            monitor = 'val_acc')\n",
        "\n",
        "early = EarlyStopping(monitor='val_acc', min_delta = 0, patience =5,verbose=1, mode ='auto')\n",
        "\n",
        "training = model.fit_generator(\n",
        "        train_generator,\n",
        "        steps_per_epoch = n_train_samples // batch_size,\n",
        "        epochs= epochs,\n",
        "        validation_data=validation_generator,\n",
        "        validation_steps = n_val_samples // batch_size,\n",
        "        callbacks = [checkpoint,early])"
      ],
      "execution_count": 57,
      "outputs": [
        {
          "output_type": "stream",
          "text": [
            "Epoch 1/3\n",
            "92/93 [============================>.] - ETA: 0s - loss: 0.2576 - acc: 0.9351\n",
            "Epoch 00001: val_acc improved from -inf to 0.95208, saving model to dogscats_xception.h5\n",
            "93/93 [==============================] - 134s 1s/step - loss: 0.2591 - acc: 0.9348 - val_loss: 0.1362 - val_acc: 0.9521\n",
            "Epoch 2/3\n",
            "92/93 [============================>.] - ETA: 0s - loss: 0.1451 - acc: 0.9509\n",
            "Epoch 00002: val_acc improved from 0.95208 to 0.96042, saving model to dogscats_xception.h5\n",
            "93/93 [==============================] - 83s 897ms/step - loss: 0.1447 - acc: 0.9509 - val_loss: 0.1531 - val_acc: 0.9604\n",
            "Epoch 3/3\n",
            "92/93 [============================>.] - ETA: 0s - loss: 0.1235 - acc: 0.9565\n",
            "Epoch 00003: val_acc did not improve from 0.96042\n",
            "93/93 [==============================] - 89s 956ms/step - loss: 0.1234 - acc: 0.9563 - val_loss: 0.1822 - val_acc: 0.9521\n"
          ],
          "name": "stdout"
        }
      ]
    },
    {
      "metadata": {
        "id": "UbIdjhb5NJ-s",
        "colab_type": "code",
        "colab": {}
      },
      "cell_type": "code",
      "source": [
        "def plot_model_training(model_history):\n",
        "    fig, axs = plt.subplots(1,2,figsize=(15,5))\n",
        "    # summarize history for accuracy\n",
        "    axs[0].plot(range(1,len(model_history.history['acc'])+1),model_history.history['acc'])\n",
        "    axs[0].plot(range(1,len(model_history.history['val_acc'])+1),model_history.history['val_acc'])\n",
        "    axs[0].set_title('Model Accuracy')\n",
        "    axs[0].set_ylabel('Accuracy')\n",
        "    axs[0].set_xlabel('Epoch')\n",
        "    axs[0].set_xticks(np.arange(1,len(model_history.history['acc'])+1),len(model_history.history['acc'])/10)\n",
        "    axs[0].legend(['train', 'val'], loc='best')\n",
        "    # summarize history for loss\n",
        "    axs[1].plot(range(1,len(model_history.history['loss'])+1),model_history.history['loss'])\n",
        "    axs[1].plot(range(1,len(model_history.history['val_loss'])+1),model_history.history['val_loss'])\n",
        "    axs[1].set_title('Model Loss')\n",
        "    axs[1].set_ylabel('Loss')\n",
        "    axs[1].set_xlabel('Epoch')\n",
        "    axs[1].set_xticks(np.arange(1,len(model_history.history['loss'])+1),len(model_history.history['loss'])/10)\n",
        "    axs[1].legend(['train', 'val'], loc='best')\n",
        "    plt.show()"
      ],
      "execution_count": 0,
      "outputs": []
    },
    {
      "metadata": {
        "id": "QaR0bADRNKKi",
        "colab_type": "code",
        "colab": {
          "base_uri": "https://localhost:8080/",
          "height": 349
        },
        "outputId": "131badb9-f609-4adc-a511-3ec7210d6b6e"
      },
      "cell_type": "code",
      "source": [
        "plot_model_training(training)"
      ],
      "execution_count": 62,
      "outputs": [
        {
          "output_type": "display_data",
          "data": {
            "image/png": "[encoded data removed]",
            "text/plain": [
              "<matplotlib.figure.Figure at 0x7f7a96d98940>"
            ]
          },
          "metadata": {
            "tags": []
          }
        }
      ]
    }
  ]
}