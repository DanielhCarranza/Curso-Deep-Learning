{
  "nbformat": 4,
  "nbformat_minor": 0,
  "metadata": {
    "colab": {
      "name": "Redes Neuronales Convolucionales.ipynb",
      "version": "0.3.2",
      "provenance": [],
      "collapsed_sections": []
    },
    "kernelspec": {
      "name": "python3",
      "display_name": "Python 3"
    },
    "accelerator": "GPU"
  },
  "cells": [
    {
      "metadata": {
        "id": "FodiMVaGAQiE",
        "colab_type": "text"
      },
      "cell_type": "markdown",
      "source": [
        "# Redes Neuronales Convolucionales \n",
        "![alt text](https://cdn-images-1.medium.com/max/1600/1*NQQiyYqJJj4PSYAeWvxutg.png)\n",
        " \n",
        " "
      ]
    },
    {
      "metadata": {
        "id": "LGz9r5lTAY3T",
        "colab_type": "code",
        "colab": {}
      },
      "cell_type": "code",
      "source": [
        "import tensorflow as tf\n",
        "import numpy as np \n",
        "import matplotlib.pyplot as plt \n",
        "import itertools\n",
        "\n",
        "% matplotlib inline"
      ],
      "execution_count": 0,
      "outputs": []
    },
    {
      "metadata": {
        "id": "mBywZU65OyRX",
        "colab_type": "code",
        "colab": {}
      },
      "cell_type": "code",
      "source": [
        "\n",
        "# habilitar eager execution\n",
        "tf.enable_eager_execution()"
      ],
      "execution_count": 0,
      "outputs": []
    },
    {
      "metadata": {
        "id": "eK1ONTuVBWZO",
        "colab_type": "text"
      },
      "cell_type": "markdown",
      "source": [
        "## Importar Datos\n",
        "Dataset MNIST de digitos"
      ]
    },
    {
      "metadata": {
        "id": "Fy8PRJUpAY7w",
        "colab_type": "code",
        "colab": {}
      },
      "cell_type": "code",
      "source": [
        "class DataLoader():\n",
        "    \"\"\"Load data MNIST \"\"\"\n",
        "    def __init__(self):\n",
        "      \n",
        "        # Download data\n",
        "        (self.X_train, self.y_train),(self.X_test,self.y_test)= tf.keras.datasets.mnist.load_data()\n",
        "        \n",
        "        # Preprocessing\n",
        "        self.X_train = self.X_train.reshape(-1, 28, 28, 1).astype(np.float32)/255.0 # Debe ser de la forma [batch, H, W, num_canales]\n",
        "        self.X_test  = self.X_test.reshape(-1, 28, 28, 1).astype(np.float32)/255.0\n",
        "        self.y_train=self.y_train.astype(np.int32) \n",
        "        self.y_test=self.y_test.astype(np.int32)\n",
        "        \n",
        "    def get_batch(self,batch_size):\n",
        "        # Muestreo aleatorio de los datos de la forma [0, stop, size]\n",
        "        index=np.random.randint(0, self.X_train.shape[0], batch_size)\n",
        "        return self.X_train[index,:], self.y_train[index]"
      ],
      "execution_count": 0,
      "outputs": []
    },
    {
      "metadata": {
        "id": "w3gwgMI6AY_1",
        "colab_type": "code",
        "colab": {
          "base_uri": "https://localhost:8080/",
          "height": 68
        },
        "outputId": "1ad87fba-12ed-4537-fec7-f2c151e230c1"
      },
      "cell_type": "code",
      "source": [
        "data_loader=DataLoader()\n"
      ],
      "execution_count": 4,
      "outputs": [
        {
          "output_type": "stream",
          "text": [
            "Downloading data from https://storage.googleapis.com/tensorflow/tf-keras-datasets/mnist.npz\n",
            "11493376/11490434 [==============================] - 0s 0us/step\n"
          ],
          "name": "stdout"
        },
        {
          "output_type": "execute_result",
          "data": {
            "text/plain": [
              "(60000, 28, 28, 1)"
            ]
          },
          "metadata": {
            "tags": []
          },
          "execution_count": 4
        }
      ]
    },
    {
      "metadata": {
        "id": "JTkSXQD3AZEF",
        "colab_type": "text"
      },
      "cell_type": "markdown",
      "source": [
        "## Modelo de Red Neuronal Convolucional"
      ]
    },
    {
      "metadata": {
        "id": "LYL_2JnXAZIY",
        "colab_type": "code",
        "colab": {}
      },
      "cell_type": "code",
      "source": [
        "class CNN(tf.keras.Model):\n",
        "  \"\"\" Simple Convolutional Neural Network\"\"\"\n",
        "  \n",
        "  # Definir la estructura\n",
        "  def __init__(self):\n",
        "    super().__init__()\n",
        "    \n",
        "    # Arquitectura del modelo\n",
        "    # Convolucion 1\n",
        "    self.conv1=tf.keras.layers.Conv2D(\n",
        "              filters=32,\n",
        "              kernel_size=[5,5],\n",
        "              padding='same',\n",
        "              activation=tf.nn.relu)\n",
        "    \n",
        "    # Maxpooling\n",
        "    self.pool1=tf.keras.layers.MaxPool2D(pool_size=[2,2], strides=2)\n",
        "    \n",
        "    # Convolucion 2\n",
        "    self.conv2=tf.keras.layers.Conv2D(\n",
        "        filters=64,\n",
        "        kernel_size=[5,5],\n",
        "        padding='same',\n",
        "        activation=tf.nn.relu)\n",
        "    \n",
        "    # MaxPooling\n",
        "    self.pool2=tf.keras.layers.MaxPool2D(pool_size=[2,2], strides=2)\n",
        "    \n",
        "    # Flatten vector\n",
        "    self.flatten=tf.keras.layers.Flatten()\n",
        "    \n",
        "    # Fully Connected Neural Network\n",
        "    self.dense1=tf.keras.layers.Dense(units=1024, activation=tf.nn.relu)\n",
        "    self.dense2 = tf.keras.layers.Dense(units=10)\n",
        "    \n",
        "  def call(self, inputs):\n",
        "    # inputs debe de ser de la forma [bs, H, W, num_channels]\n",
        "    x=self.conv1(inputs) # [batch_size, 28,28, 32]\n",
        "    x=self.pool1(x)   # [bs,14, 14, 32]\n",
        "    x=self.conv2(x)   # [bs,14, 14, 64]\n",
        "    x=self.pool2(x)   # [bs, 7,  7, 64]\n",
        "    # Feature Vector\n",
        "    x=self.flatten(x) # [bs, 7*7*64]\n",
        "    # Fully Connected Neural Network\n",
        "    x=self.dense1(x)  # [bs, 1024]\n",
        "    x=self.dense2(x)  # [bs, 10 ]\n",
        "    return x\n",
        "\n",
        "  def predict(self,inputs):\n",
        "    y_pred=self(inputs)\n",
        "    return tf.argmax(y_pred, axis=-1)\n",
        "\n",
        "  def evaluate(self, X_test, y_test):\n",
        "    y_pred= self.predict(X_test).numpy()\n",
        "    total_test_samples=y_test.shape[0]\n",
        "    print(\"Validation Accuracy: %f \" % (sum(y_pred==data_loader.y_test)/total_test_samples))"
      ],
      "execution_count": 0,
      "outputs": []
    },
    {
      "metadata": {
        "id": "FyrpwdmtAZNh",
        "colab_type": "code",
        "colab": {}
      },
      "cell_type": "code",
      "source": [
        "modelo=CNN()"
      ],
      "execution_count": 0,
      "outputs": []
    },
    {
      "metadata": {
        "id": "8LOCXuqaAZSQ",
        "colab_type": "code",
        "colab": {}
      },
      "cell_type": "code",
      "source": [
        "# Hyperparametros\n",
        "epochs=1000\n",
        "batch_size=64\n",
        "learning_rate=0.001\n"
      ],
      "execution_count": 0,
      "outputs": []
    },
    {
      "metadata": {
        "id": "7G2IjmKeKEn7",
        "colab_type": "code",
        "colab": {}
      },
      "cell_type": "code",
      "source": [
        "# Adam Optimizer\n",
        "optimizer=tf.train.AdamOptimizer(learning_rate)"
      ],
      "execution_count": 0,
      "outputs": []
    },
    {
      "metadata": {
        "id": "AE65i8ieKOrx",
        "colab_type": "text"
      },
      "cell_type": "markdown",
      "source": [
        "### Entrenar nuestro modelo "
      ]
    },
    {
      "metadata": {
        "id": "GAXDcN05KO15",
        "colab_type": "code",
        "colab": {
          "base_uri": "https://localhost:8080/",
          "height": 187
        },
        "outputId": "55ee9840-f78c-4490-b4ac-f8c5867f6446"
      },
      "cell_type": "code",
      "source": [
        "for epoch in range(epochs):\n",
        "  # Datos de entrenamientp\n",
        "  X,y=data_loader.get_batch(batch_size)\n",
        "  \n",
        "  with tf.GradientTape() as tape:\n",
        "    # forward prop\n",
        "    y_pred=modelo(tf.convert_to_tensor(X))\n",
        "    \n",
        "    # loss function\n",
        "    loss= tf.losses.sparse_softmax_cross_entropy(labels=y, logits=y_pred)\n",
        "    if epoch%100==0:\n",
        "      print(f'epoch: {epoch}, loss: {loss.numpy()}')\n",
        "   \n",
        "  # Backprop \n",
        "  grads= tape.gradient(loss, modelo.variables)\n",
        "  \n",
        "  # update rule (dW1, W1)\n",
        "  optimizer.apply_gradients(grads_and_vars=zip(grads,modelo.variables))\n",
        "  "
      ],
      "execution_count": 16,
      "outputs": [
        {
          "output_type": "stream",
          "text": [
            "epoch: 0, loss: 2.331900119781494\n",
            "epoch: 100, loss: 0.10993383824825287\n",
            "epoch: 200, loss: 0.11217467486858368\n",
            "epoch: 300, loss: 0.02523372694849968\n",
            "epoch: 400, loss: 0.037473782896995544\n",
            "epoch: 500, loss: 0.07544918358325958\n",
            "epoch: 600, loss: 0.02657720074057579\n",
            "epoch: 700, loss: 0.01928395964205265\n",
            "epoch: 800, loss: 0.1736569106578827\n",
            "epoch: 900, loss: 0.062235888093709946\n"
          ],
          "name": "stdout"
        }
      ]
    },
    {
      "metadata": {
        "id": "tXyp_y9Vy1B4",
        "colab_type": "text"
      },
      "cell_type": "markdown",
      "source": [
        "### Evaluacion "
      ]
    },
    {
      "metadata": {
        "id": "bxmKP8uvKO6_",
        "colab_type": "code",
        "colab": {
          "base_uri": "https://localhost:8080/",
          "height": 34
        },
        "outputId": "90f4d068-5717-4961-bb3e-25c080698043"
      },
      "cell_type": "code",
      "source": [
        "modelo.evaluate(data_loader.X_test, data_loader.y_test)"
      ],
      "execution_count": 17,
      "outputs": [
        {
          "output_type": "stream",
          "text": [
            "Validation Accuracy: 0.985600 \n"
          ],
          "name": "stdout"
        }
      ]
    },
    {
      "metadata": {
        "id": "MMa-TQN6KPAc",
        "colab_type": "text"
      },
      "cell_type": "markdown",
      "source": [
        "### Confusion matrix"
      ]
    },
    {
      "metadata": {
        "id": "wrZ83GJKeKML",
        "colab_type": "code",
        "colab": {}
      },
      "cell_type": "code",
      "source": [
        "# Inferencia\n",
        "y_pred= modelo.predict(data_loader.X_test).numpy() \n",
        "\n",
        "# Confusion Matrix\n",
        "confMatrix=tf.confusion_matrix(data_loader.y_test, y_pred).numpy()"
      ],
      "execution_count": 0,
      "outputs": []
    },
    {
      "metadata": {
        "id": "yBTmGF7NeKR5",
        "colab_type": "code",
        "colab": {}
      },
      "cell_type": "code",
      "source": [
        "def plot_confusion_matrix(cm, classes,\n",
        "                          normalize=False,\n",
        "                          title='Confusion matrix',\n",
        "                          cmap=plt.cm.Blues):\n",
        "    \"\"\"\n",
        "    This function prints and plots the confusion matrix.\n",
        "    Normalization can be applied by setting `normalize=True`.\n",
        "    \"\"\"\n",
        "    accuracy = np.trace(cm) / float(np.sum(cm))\n",
        "    misclass = 1 - accuracy\n",
        "    \n",
        "    if normalize:\n",
        "        cm = cm.astype('float') / cm.sum(axis=1)[:, np.newaxis]\n",
        "        print(\"Normalized confusion matrix\")\n",
        "    else:\n",
        "        print('Confusion matrix, without normalization')\n",
        "\n",
        "\n",
        "    plt.imshow(cm, interpolation='nearest', cmap=cmap)\n",
        "    plt.title(title)\n",
        "    plt.colorbar()\n",
        "    tick_marks = np.arange(len(classes))\n",
        "    plt.xticks(tick_marks, classes, rotation=45)\n",
        "    plt.yticks(tick_marks, classes)\n",
        "\n",
        "    fmt = '.2f' if normalize else 'd'\n",
        "    thresh = cm.max() / 2.\n",
        "    for i, j in itertools.product(range(cm.shape[0]), range(cm.shape[1])):\n",
        "        plt.text(j, i, format(cm[i, j], fmt),\n",
        "                 horizontalalignment=\"center\",\n",
        "                 color=\"white\" if cm[i, j] > thresh else \"black\")\n",
        "\n",
        "    plt.ylabel('True label')\n",
        "    plt.xlabel('Predicted label\\n accuracy={:0.4f}; misclass={:0.4f}'.format(accuracy, misclass))\n",
        "    plt.tight_layout()"
      ],
      "execution_count": 0,
      "outputs": []
    },
    {
      "metadata": {
        "id": "tcy2LAdUeKW4",
        "colab_type": "code",
        "colab": {
          "base_uri": "https://localhost:8080/",
          "height": 314
        },
        "outputId": "0baea392-2041-41a1-84c4-9b82582fe006"
      },
      "cell_type": "code",
      "source": [
        "np.set_printoptions(precision=2)\n",
        "class_names= np.array([0,1,2,3,4,5,6,7,8,9])\n",
        "\n",
        "# Plot non-normalized confusion matrix\n",
        "plt.figure()\n",
        "plot_confusion_matrix(confMatrix, classes=class_names,\n",
        "                      title='Confusion matrix, without normalization')\n",
        "\n",
        "plt.show()"
      ],
      "execution_count": 21,
      "outputs": [
        {
          "output_type": "stream",
          "text": [
            "Confusion matrix, without normalization\n"
          ],
          "name": "stdout"
        },
        {
          "output_type": "display_data",
          "data": {
            "image/png": "[encoded data removed]",
            "text/plain": [
              "<matplotlib.figure.Figure at 0x7fa81927fe10>"
            ]
          },
          "metadata": {
            "tags": []
          }
        }
      ]
    },
    {
      "metadata": {
        "id": "dZPEb94eeKcF",
        "colab_type": "code",
        "colab": {
          "base_uri": "https://localhost:8080/",
          "height": 314
        },
        "outputId": "95be50c5-eedc-4a3a-94d4-35ef195e9ddd"
      },
      "cell_type": "code",
      "source": [
        "# Plot normalized confusion matrix\n",
        "plt.figure()\n",
        "plot_confusion_matrix(confMatrix, classes=class_names, normalize=True,\n",
        "                      title='Normalized confusion matrix')\n",
        "\n",
        "plt.show()"
      ],
      "execution_count": 22,
      "outputs": [
        {
          "output_type": "stream",
          "text": [
            "Normalized confusion matrix\n"
          ],
          "name": "stdout"
        },
        {
          "output_type": "display_data",
          "data": {
            "image/png": "[encoded data removed]",
            "text/plain": [
              "<matplotlib.figure.Figure at 0x7fa81927fa20>"
            ]
          },
          "metadata": {
            "tags": []
          }
        }
      ]
    }
  ]
}