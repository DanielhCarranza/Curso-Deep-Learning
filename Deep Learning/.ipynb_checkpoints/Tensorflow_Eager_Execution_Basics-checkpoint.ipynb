{
 "cells": [
  {
   "cell_type": "markdown",
   "metadata": {
    "colab_type": "text",
    "id": "d4ROjzIUsCcE"
   },
   "source": [
    "# Tensorflow Eager Execution Basics"
   ]
  },
  {
   "cell_type": "code",
   "execution_count": null,
   "metadata": {
    "colab": {},
    "colab_type": "code",
    "id": "OaO8dhJDsUwB"
   },
   "outputs": [],
   "source": [
    "import tensorflow as tf\n",
    "import numpy as np\n",
    "import matplotlib.pyplot as plt\n",
    "\n",
    "tf.enable_eager_execution()\n",
    "tfe=tf.contrib.eager"
   ]
  },
  {
   "cell_type": "code",
   "execution_count": 2,
   "metadata": {
    "colab": {
     "base_uri": "https://localhost:8080/",
     "height": 51
    },
    "colab_type": "code",
    "id": "EKgssEwjsU13",
    "outputId": "a14e7a77-b5f2-456a-f353-794a10fef952"
   },
   "outputs": [
    {
     "name": "stdout",
     "output_type": "stream",
     "text": [
      "tf.Tensor(3, shape=(), dtype=int32)\n",
      "tf.Tensor([ 7  9 11 13 15], shape=(5,), dtype=int32)\n"
     ]
    }
   ],
   "source": [
    "# Add\n",
    "\n",
    "print(tf.add(1,2))\n",
    "print(tf.add([1,2,3,4,5],[6,7,8,9,10]))"
   ]
  },
  {
   "cell_type": "code",
   "execution_count": 3,
   "metadata": {
    "colab": {
     "base_uri": "https://localhost:8080/",
     "height": 51
    },
    "colab_type": "code",
    "id": "9UE65qhMsU60",
    "outputId": "22fd0092-1e0b-434e-99bc-8b8b672d7710"
   },
   "outputs": [
    {
     "name": "stdout",
     "output_type": "stream",
     "text": [
      "Square:  tf.Tensor(16, shape=(), dtype=int32)\n",
      "Reduce sum:  tf.Tensor(15, shape=(), dtype=int32)\n"
     ]
    }
   ],
   "source": [
    "# operations\n",
    "print(\"Square: \",tf.square(4))\n",
    "print(\"Reduce sum: \",tf.reduce_sum([1,2,3,4,5]))"
   ]
  },
  {
   "cell_type": "code",
   "execution_count": 4,
   "metadata": {
    "colab": {
     "base_uri": "https://localhost:8080/",
     "height": 34
    },
    "colab_type": "code",
    "id": "3sjpzDtnsU_2",
    "outputId": "1f0b7427-7e62-444c-a862-528020de9402"
   },
   "outputs": [
    {
     "name": "stdout",
     "output_type": "stream",
     "text": [
      "tf.Tensor(b'aGVsbG8gd29ybGQ', shape=(), dtype=string)\n"
     ]
    }
   ],
   "source": [
    "# Encode a string\n",
    "print(tf.encode_base64(\"hello world\"))"
   ]
  },
  {
   "cell_type": "code",
   "execution_count": 6,
   "metadata": {
    "colab": {
     "base_uri": "https://localhost:8080/",
     "height": 68
    },
    "colab_type": "code",
    "id": "fQ7iRnZ9sVE8",
    "outputId": "8e16ffbf-8671-4e74-952e-9f4a4c9d5867"
   },
   "outputs": [
    {
     "name": "stdout",
     "output_type": "stream",
     "text": [
      "tf.Tensor([[2 3]], shape=(1, 2), dtype=int32)\n",
      "(1, 2)\n",
      "<dtype: 'int32'>\n"
     ]
    }
   ],
   "source": [
    "# Matmul\n",
    "x=tf.matmul([[1]],[[2,3]])\n",
    "print(x)\n",
    "print(x.shape)\n",
    "print(x.dtype)"
   ]
  },
  {
   "cell_type": "markdown",
   "metadata": {
    "colab_type": "text",
    "id": "P6kvktbEsVJ4"
   },
   "source": [
    "### GPU accelaration"
   ]
  },
  {
   "cell_type": "code",
   "execution_count": 7,
   "metadata": {
    "colab": {
     "base_uri": "https://localhost:8080/",
     "height": 85
    },
    "colab_type": "code",
    "id": "K35fvxmwsVPA",
    "outputId": "5d58a2f4-0494-41b4-9b47-f861364731b0"
   },
   "outputs": [
    {
     "name": "stdout",
     "output_type": "stream",
     "text": [
      "GPU avaliable?\n",
      "True\n",
      "Is the Tensor on GPU:0\n",
      "True\n"
     ]
    }
   ],
   "source": [
    "x=tf.random_uniform([3,3])\n",
    "\n",
    "print(\"GPU avaliable?\")\n",
    "print(tf.test.is_gpu_available())\n",
    "\n",
    "print(\"Is the Tensor on GPU:0\")\n",
    "print(x.device.endswith(\"GPU:0\"))"
   ]
  },
  {
   "cell_type": "code",
   "execution_count": 9,
   "metadata": {
    "colab": {
     "base_uri": "https://localhost:8080/",
     "height": 34
    },
    "colab_type": "code",
    "id": "rYTwWOhXvs4q",
    "outputId": "9e2df850-c302-4e51-88a2-f9abb01a459a"
   },
   "outputs": [
    {
     "name": "stdout",
     "output_type": "stream",
     "text": [
      "Device:  /job:localhost/replica:0/task:0/device:GPU:0\n"
     ]
    }
   ],
   "source": [
    "# show the location of the tensor\n",
    "print(\"Device: \",x.device)"
   ]
  },
  {
   "cell_type": "markdown",
   "metadata": {
    "colab_type": "text",
    "id": "cfQAc5Uwvs_U"
   },
   "source": [
    "Explicit device placement"
   ]
  },
  {
   "cell_type": "code",
   "execution_count": 13,
   "metadata": {
    "colab": {
     "base_uri": "https://localhost:8080/",
     "height": 51
    },
    "colab_type": "code",
    "id": "5P7IJSmKvtFo",
    "outputId": "f0547dc1-2824-4e51-f895-264f78d14908"
   },
   "outputs": [
    {
     "name": "stdout",
     "output_type": "stream",
     "text": [
      "ON CPU:0\n",
      "100 loops, best of 3: 26.7 ms per loop\n"
     ]
    }
   ],
   "source": [
    "def time_matmul(x):\n",
    "  %timeit tf.matmul(x,x)\n",
    "  \n",
    "\n",
    "  \n",
    "# Force  execution on CPU\n",
    "print(\"ON CPU:0\")\n",
    "with tf.device('CPU:0'):\n",
    "    x=tf.random_uniform([1000,1000])\n",
    "    assert x.device.endswith(\"CPU:0\")\n",
    "    time_matmul(x)\n",
    "  \n",
    "  \n",
    "  \n",
    "  \n",
    "  "
   ]
  },
  {
   "cell_type": "code",
   "execution_count": 14,
   "metadata": {
    "colab": {
     "base_uri": "https://localhost:8080/",
     "height": 51
    },
    "colab_type": "code",
    "id": "pgv9L6IkxNNs",
    "outputId": "f589a6a9-d027-407a-8d1a-fa839f97f86b"
   },
   "outputs": [
    {
     "name": "stdout",
     "output_type": "stream",
     "text": [
      "ON GPU:0\n",
      "1000 loops, best of 3: 1.11 ms per loop\n"
     ]
    }
   ],
   "source": [
    "# Force execution on GPU\n",
    "print('ON GPU:0')\n",
    "if tf.test.is_gpu_available():\n",
    "  with tf.device(\"GPU:0\"):\n",
    "    x=tf.random_uniform([1000,1000])\n",
    "    assert x.device.endswith('GPU:0')\n",
    "    time_matmul(x)"
   ]
  },
  {
   "cell_type": "markdown",
   "metadata": {
    "colab_type": "text",
    "id": "1jDVqN2yyTpZ"
   },
   "source": [
    "## Datsets API\n",
    "We don't need to use iterators objects for tf eager execution "
   ]
  },
  {
   "cell_type": "code",
   "execution_count": null,
   "metadata": {
    "colab": {},
    "colab_type": "code",
    "id": "UZjEeZQvyTu-"
   },
   "outputs": [],
   "source": [
    "ds_tensors=tf.data.Dataset.from_tensor_slices([1,2,3,4,5,6])\n",
    "\n",
    "\n",
    "import tempfile\n",
    "# Create a CSV\n",
    "_,filename=tempfile.mkstemp()\n",
    "\n",
    "with open(filename,'w') as f:\n",
    "     f.write(\"\"\"Line 1\n",
    "     Line 2\n",
    "     Line 3\"\"\")\n",
    "    \n",
    "ds_file=tf.data.TextLineDataset(filename)"
   ]
  },
  {
   "cell_type": "markdown",
   "metadata": {
    "colab_type": "text",
    "id": "25nQ7Mb_yT0Q"
   },
   "source": [
    "**Apply Transformations**"
   ]
  },
  {
   "cell_type": "code",
   "execution_count": null,
   "metadata": {
    "colab": {},
    "colab_type": "code",
    "id": "BgF2J0W2yT6A"
   },
   "outputs": [],
   "source": [
    "# Data tensor\n",
    "ds_tensors=ds_tensors.map(tf.square).shuffle(2).batch(2)\n",
    "\n",
    "#  File\n",
    "ds_file=ds_file.batch(2)"
   ]
  },
  {
   "cell_type": "markdown",
   "metadata": {
    "colab_type": "text",
    "id": "1syc4mcy0g45"
   },
   "source": [
    "**Iterate**"
   ]
  },
  {
   "cell_type": "code",
   "execution_count": 19,
   "metadata": {
    "colab": {
     "base_uri": "https://localhost:8080/",
     "height": 153
    },
    "colab_type": "code",
    "id": "joO1QWcO0g9a",
    "outputId": "5dba5e34-b4c0-4789-8dd1-c3deb7550666"
   },
   "outputs": [
    {
     "name": "stdout",
     "output_type": "stream",
     "text": [
      "Elements os ds_Tensors: \n",
      "tf.Tensor([1 4], shape=(2,), dtype=int32)\n",
      "tf.Tensor([ 9 25], shape=(2,), dtype=int32)\n",
      "tf.Tensor([36 16], shape=(2,), dtype=int32)\n",
      "\n",
      " Elements in ds_file: \n",
      "tf.Tensor([b'Line 1' b'     Line 2'], shape=(2,), dtype=string)\n",
      "tf.Tensor([b'     Line 3'], shape=(1,), dtype=string)\n"
     ]
    }
   ],
   "source": [
    "print('Elements os ds_Tensors: ')\n",
    "for x in ds_tensors:\n",
    "    print(x)\n",
    "    \n",
    "print(\"\\n Elements in ds_file: \")\n",
    "for x in ds_file:\n",
    "    print(x)"
   ]
  },
  {
   "cell_type": "markdown",
   "metadata": {
    "colab_type": "text",
    "id": "PtV0aysr0hCn"
   },
   "source": [
    "# Automatic differentiation and gradient tape"
   ]
  },
  {
   "cell_type": "code",
   "execution_count": null,
   "metadata": {
    "colab": {},
    "colab_type": "code",
    "id": "79kKq5Wz1cOS"
   },
   "outputs": [],
   "source": [
    "# SETUP\n",
    "tfe=tf.contrib.eager"
   ]
  },
  {
   "cell_type": "markdown",
   "metadata": {
    "colab_type": "text",
    "id": "l1hTXquf1cTF"
   },
   "source": [
    "### Derivatives of a function\n",
    "TensorFlow provides APIs for automatic differentiation - computing the derivative of a function. The way that more closely mimics the math is to encapsulate the computation in a Python function, say f, and use tfe.gradients_function to create a function that computes the derivatives of f with respect to its arguments"
   ]
  },
  {
   "cell_type": "code",
   "execution_count": null,
   "metadata": {
    "colab": {},
    "colab_type": "code",
    "id": "1xqaxwRC1cXI"
   },
   "outputs": [],
   "source": [
    "from math import pi\n",
    "import numpy as np\n",
    "\n",
    "# Create a function of the operations\n",
    "def f(x):\n",
    "  return tf.square(tf.sin(x))\n",
    "\n",
    "assert f(pi/2).numpy()==1.0\n",
    "\n",
    "grad_f=tfe.gradients_function(f)\n",
    "assert tf.abs(grad_f(pi/2)[0]).numpy() <1e-7"
   ]
  },
  {
   "cell_type": "code",
   "execution_count": 10,
   "metadata": {
    "colab": {
     "base_uri": "https://localhost:8080/",
     "height": 34
    },
    "colab_type": "code",
    "id": "H1qz38WH1cbl",
    "outputId": "e5810d61-6f6d-4d3b-e259-adfbc753c5e2"
   },
   "outputs": [
    {
     "name": "stdout",
     "output_type": "stream",
     "text": [
      "Value:  -8.742278e-08\n"
     ]
    }
   ],
   "source": [
    "print(\"Value: \",grad_f(pi/2)[0].numpy())"
   ]
  },
  {
   "cell_type": "markdown",
   "metadata": {
    "colab_type": "text",
    "id": "FMzmo1uA1cf3"
   },
   "source": [
    "**Higher Order Gradients**"
   ]
  },
  {
   "cell_type": "code",
   "execution_count": 11,
   "metadata": {
    "colab": {
     "base_uri": "https://localhost:8080/",
     "height": 347
    },
    "colab_type": "code",
    "id": "9sUqPEFf1clD",
    "outputId": "68e11bdc-3923-4749-f7e7-1b869450e885"
   },
   "outputs": [
    {
     "data": {
      "image/png": "[encoded data removed]",
      "text/plain": [
       "<matplotlib.figure.Figure at 0x7f850e265550>"
      ]
     },
     "metadata": {
      "tags": []
     },
     "output_type": "display_data"
    }
   ],
   "source": [
    "def grad(f):\n",
    "  return lambda x:tfe.gradients_function(f)(x)[0]\n",
    "\n",
    "x=tf.lin_space(-2*pi,2*pi,100)\n",
    "\n",
    "import matplotlib.pyplot as plt \n",
    "\n",
    "plt.plot(x, f(x), label=\"f\")\n",
    "plt.plot(x, grad(f)(x), label=\"first derivative\")\n",
    "plt.plot(x, grad(grad(f))(x), label=\"second derivative\")\n",
    "plt.plot(x, grad(grad(grad(f)))(x), label=\"third derivative\")\n",
    "plt.legend()\n",
    "plt.show()"
   ]
  },
  {
   "cell_type": "markdown",
   "metadata": {
    "colab_type": "text",
    "id": "MTfus3WY1ctt"
   },
   "source": [
    "### Gradient Tapes\n",
    "Every differentiable TensorFlow operation has an associated gradient function. For example, the gradient function of tf.square(x) would be a function that returns 2.0 * x. To compute the gradient of a user-defined function (like f(x) in the example above), TensorFlow first \"records\" all the operations applied to compute the output of the function. We call this record a \"tape\". It then uses that tape and the gradients functions associated with each primitive operation to compute the gradients of the user-defined function using reverse mode differentiation."
   ]
  },
  {
   "cell_type": "code",
   "execution_count": 15,
   "metadata": {
    "colab": {
     "base_uri": "https://localhost:8080/",
     "height": 51
    },
    "colab_type": "code",
    "id": "6GwAcASv1cyx",
    "outputId": "820e1673-19bb-4f3e-a553-2b7dfebaf1d3"
   },
   "outputs": [
    {
     "name": "stdout",
     "output_type": "stream",
     "text": [
      "tf.Tensor(9, shape=(), dtype=int32)\n",
      "tf.Tensor(6.0, shape=(), dtype=float32)\n"
     ]
    }
   ],
   "source": [
    "def f(x,y):\n",
    "  output=1\n",
    "  for i in range(int(y)):\n",
    "      output=tf.multiply(output,x)\n",
    "  \n",
    "  return output\n",
    "  \n",
    "  \n",
    "def grad(x,y):\n",
    "    return tfe.gradients_function(f)(x,y)[0]\n",
    "  \n",
    "print(f(3.0, 2))\n",
    "print(grad(3.0,2))\n"
   ]
  },
  {
   "cell_type": "markdown",
   "metadata": {
    "colab_type": "text",
    "id": "yRYWy6cAV1iQ"
   },
   "source": [
    "\n",
    "At times it may be inconvenient to encapsulate computation of interest into a function. For example, if you want the gradient of the output with respect to intermediate values computed in the function. In such cases, the slightly more verbose but explicit `tf.GradientTape` context is useful. All computation inside the context of a tf.GradientTape is \"recorded\"."
   ]
  },
  {
   "cell_type": "code",
   "execution_count": 25,
   "metadata": {
    "colab": {
     "base_uri": "https://localhost:8080/",
     "height": 102
    },
    "colab_type": "code",
    "id": "qwUpzUyVV1oo",
    "outputId": "58e6a9a8-6ed7-4b5f-b1f0-e65c2563d7ff"
   },
   "outputs": [
    {
     "name": "stdout",
     "output_type": "stream",
     "text": [
      "Derivative of Z with respect to y tf.Tensor(8.0, shape=(), dtype=float32)\n",
      "\n",
      " dz/dx:  tf.Tensor(\n",
      "[[8. 8.]\n",
      " [8. 8.]], shape=(2, 2), dtype=float32)\n"
     ]
    }
   ],
   "source": [
    "x=tf.ones((2,2))\n",
    "\n",
    "with tf.GradientTape(persistent=True) as t:\n",
    "    t.watch(x)\n",
    "    y=tf.reduce_sum(x)\n",
    "    z=tf.multiply(y,y)\n",
    "\n",
    "    \n",
    "# Compute the derivative of Z with respect to y\n",
    "\n",
    "dz_dy=t.gradient(z,y)\n",
    "print(\"Derivative of Z with respect to y\",dz_dy)\n",
    "assert dz_dy.numpy()==8.0\n",
    "\n",
    "# compute the derivative of Z with respect to x\n",
    "dz_dx=t.gradient(z,x)\n",
    "print(\"\\n dz/dx: \",dz_dx)\n",
    "assert dz_dx[0][0].numpy()==8.0\n"
   ]
  },
  {
   "cell_type": "markdown",
   "metadata": {
    "colab_type": "text",
    "id": "MsnmSwngV1wR"
   },
   "source": [
    "**High Order Gradients**"
   ]
  },
  {
   "cell_type": "code",
   "execution_count": 27,
   "metadata": {
    "colab": {
     "base_uri": "https://localhost:8080/",
     "height": 51
    },
    "colab_type": "code",
    "id": "gFLMo8Y8V11k",
    "outputId": "13a63ee6-1b1b-4d22-b191-e764dc9193af"
   },
   "outputs": [
    {
     "name": "stdout",
     "output_type": "stream",
     "text": [
      "dy_dx:  tf.Tensor(3.0, shape=(), dtype=float32)\n",
      "d2y_dx2:  tf.Tensor(6.0, shape=(), dtype=float32)\n"
     ]
    }
   ],
   "source": [
    "x=tf.constant(1.0)\n",
    "\n",
    "\n",
    "with tf.GradientTape() as t:\n",
    "    with tf.GradientTape() as t2:\n",
    "        # Record the second computation of X\n",
    "        t2.watch(x)\n",
    "        y=x**3\n",
    "    # compute the gradient insede 't ' context \n",
    "    dy_dx=t2.gradient(y,x)\n",
    "d2y_dx2=t.gradient(dy_dx,x)\n",
    "\n",
    "print(\"dy_dx: \", dy_dx)\n",
    "print(\"d2y_dx2: \", d2y_dx2)\n",
    "\n",
    "assert dy_dx.numpy()==3.0\n",
    "assert d2y_dx2.numpy()==6.0\n"
   ]
  },
  {
   "cell_type": "markdown",
   "metadata": {
    "colab_type": "text",
    "id": "f-kV0w0aV1-M"
   },
   "source": [
    "# Custom training: basics"
   ]
  },
  {
   "cell_type": "markdown",
   "metadata": {
    "colab_type": "text",
    "id": "juyEhoMX1c4Z"
   },
   "source": [
    "## Variables\n",
    "TensorFlow, however, has stateful operations built in, and these are often more pleasant to use than low-level Python representations of your state. To represent weights in a model, for example, it's often convenient and efficient to use TensorFlow variables.\n",
    "\n",
    "A Variable is an object which stores a value and, when used in a TensorFlow computation, will implicitly read from this stored value. There are operations (`tf.assign_sub, tf.scatter_update`, etc) which manipulate the value stored in a TensorFlow variable."
   ]
  },
  {
   "cell_type": "code",
   "execution_count": 28,
   "metadata": {
    "colab": {
     "base_uri": "https://localhost:8080/",
     "height": 204
    },
    "colab_type": "code",
    "id": "7Dzq7jds9wLq",
    "outputId": "c46c3ec6-2578-4f91-c75d-b0cf7de8f25e"
   },
   "outputs": [
    {
     "name": "stdout",
     "output_type": "stream",
     "text": [
      "tf.Tensor(\n",
      "[[2. 2. 2. 2. 2. 2. 2. 2. 2. 2.]\n",
      " [2. 2. 2. 2. 2. 2. 2. 2. 2. 2.]\n",
      " [2. 2. 2. 2. 2. 2. 2. 2. 2. 2.]\n",
      " [2. 2. 2. 2. 2. 2. 2. 2. 2. 2.]\n",
      " [2. 2. 2. 2. 2. 2. 2. 2. 2. 2.]\n",
      " [2. 2. 2. 2. 2. 2. 2. 2. 2. 2.]\n",
      " [2. 2. 2. 2. 2. 2. 2. 2. 2. 2.]\n",
      " [2. 2. 2. 2. 2. 2. 2. 2. 2. 2.]\n",
      " [2. 2. 2. 2. 2. 2. 2. 2. 2. 2.]\n",
      " [2. 2. 2. 2. 2. 2. 2. 2. 2. 2.]], shape=(10, 10), dtype=float32)\n"
     ]
    }
   ],
   "source": [
    "x=tf.zeros([10,10])\n",
    "x+=2\n",
    "\n",
    "print(x)"
   ]
  },
  {
   "cell_type": "code",
   "execution_count": 33,
   "metadata": {
    "colab": {
     "base_uri": "https://localhost:8080/",
     "height": 51
    },
    "colab_type": "code",
    "id": "by6BhEPY9wP9",
    "outputId": "8f427d77-1ecb-489f-d1a0-dc0cd86b08d0"
   },
   "outputs": [
    {
     "name": "stdout",
     "output_type": "stream",
     "text": [
      "Original v:  1.0\n",
      "Assign 3.0 to v:  3.0\n"
     ]
    }
   ],
   "source": [
    "v= tfe.Variable(1.0)\n",
    "assert v.numpy()==1.0\n",
    "print(\"Original v: \",v.numpy())\n",
    "\n",
    "v.assign(3.0)\n",
    "print(\"Assign 3.0 to v: \",v.numpy())\n",
    "\n"
   ]
  },
  {
   "cell_type": "markdown",
   "metadata": {
    "colab_type": "text",
    "id": "b8uzXf9t9wUs"
   },
   "source": [
    "## Fitting a model"
   ]
  },
  {
   "cell_type": "code",
   "execution_count": 16,
   "metadata": {
    "colab": {
     "base_uri": "https://localhost:8080/",
     "height": 34
    },
    "colab_type": "code",
    "id": "N2xw1Q5R9wZb",
    "outputId": "46f07f03-f505-4ff3-8d09-3f6de96d55d8"
   },
   "outputs": [
    {
     "name": "stdout",
     "output_type": "stream",
     "text": [
      "15.0\n"
     ]
    }
   ],
   "source": [
    "class Model(object):\n",
    "    \n",
    "    def __init__(self):\n",
    "        \n",
    "        self.W=tfe.Variable(5.0)\n",
    "        self.b=tfe.Variable(0.0)\n",
    "        \n",
    "    def __call__(self,x):\n",
    "        \n",
    "        return self.W*x + self.b\n",
    "      \n",
    "model=Model()\n",
    "print(model(3.0).numpy())\n",
    "assert model(3.0).numpy()==15.0"
   ]
  },
  {
   "cell_type": "code",
   "execution_count": null,
   "metadata": {
    "colab": {},
    "colab_type": "code",
    "id": "6kJGzLteIhno"
   },
   "outputs": [],
   "source": []
  },
  {
   "cell_type": "markdown",
   "metadata": {
    "colab_type": "text",
    "id": "EJhA24loCXVh"
   },
   "source": [
    "Loss function"
   ]
  },
  {
   "cell_type": "code",
   "execution_count": null,
   "metadata": {
    "colab": {},
    "colab_type": "code",
    "id": "HhKXsZSz9wf7"
   },
   "outputs": [],
   "source": [
    "def loss(a,y):\n",
    "    # Mean Square loss\n",
    "    loss=tf.reduce_mean(tf.square(a-y))\n",
    "    return loss"
   ]
  },
  {
   "cell_type": "code",
   "execution_count": null,
   "metadata": {
    "colab": {},
    "colab_type": "code",
    "id": "wMTwymxm9xAs"
   },
   "outputs": [],
   "source": [
    "# Training Data\n",
    "trueW=3.0\n",
    "trueb=2.0\n",
    "\n",
    "num_examples=1000\n",
    "\n",
    "inputs=tf.random_normal(shape=[num_examples])\n",
    "noise=tf.random_normal(shape=[num_examples])\n",
    "outputs=inputs*trueW+ trueb + noise"
   ]
  },
  {
   "cell_type": "code",
   "execution_count": 17,
   "metadata": {
    "colab": {
     "base_uri": "https://localhost:8080/",
     "height": 381
    },
    "colab_type": "code",
    "id": "O-qmiwCQ9xJV",
    "outputId": "5d65faf1-5180-46f3-cb00-a072e9ed47ac"
   },
   "outputs": [
    {
     "data": {
      "image/png": "[encoded data removed]",
      "text/plain": [
       "<matplotlib.figure.Figure at 0x7f90e539c358>"
      ]
     },
     "metadata": {
      "tags": []
     },
     "output_type": "display_data"
    },
    {
     "name": "stdout",
     "output_type": "stream",
     "text": [
      "Current loss: \n",
      "8639.361\n"
     ]
    }
   ],
   "source": [
    "\n",
    "\n",
    "plt.scatter(inputs, outputs, c='b')\n",
    "plt.scatter(inputs, model(inputs), c='r')\n",
    "\n",
    "plt.show()\n",
    "\n",
    "print('Current loss: '),\n",
    "print(loss(model(inputs), outputs).numpy())"
   ]
  },
  {
   "cell_type": "markdown",
   "metadata": {
    "colab_type": "text",
    "id": "_9tixDw79xQc"
   },
   "source": [
    "## Training loop"
   ]
  },
  {
   "cell_type": "code",
   "execution_count": null,
   "metadata": {
    "colab": {},
    "colab_type": "code",
    "id": "n9zDs1rVDdpy"
   },
   "outputs": [],
   "source": [
    "def train (model, inputs,outputs,learning_rate):\n",
    "    \"\"\" Gradient Descent optimizer \"\"\"\n",
    "    with tf.GradientTape() as t:\n",
    "        current_loss=loss(model(inputs),outputs)\n",
    "    # compute the gradient outside the Gradient Tape    \n",
    "    dW,db=t.gradient(current_loss, [model.W, model.b])\n",
    "    # update rule\n",
    "    model.W.assign_sub(learning_rate*dW)\n",
    "    model.b.assign_sub(learning_rate*db)"
   ]
  },
  {
   "cell_type": "code",
   "execution_count": null,
   "metadata": {
    "colab": {},
    "colab_type": "code",
    "id": "9TIkj6bAKgZQ"
   },
   "outputs": [],
   "source": [
    "def train(model, inputs, outputs, learning_rate):\n",
    "  with tf.GradientTape() as t:\n",
    "    current_loss = loss(model(inputs), outputs)\n",
    "  dW, db = t.gradient(current_loss, [model.W, model.b])\n",
    "  model.W.assign_sub(learning_rate * dW)\n",
    "  model.b.assign_sub(learning_rate * db)"
   ]
  },
  {
   "cell_type": "code",
   "execution_count": 32,
   "metadata": {
    "colab": {
     "base_uri": "https://localhost:8080/",
     "height": 517
    },
    "colab_type": "code",
    "id": "fVcWJv09DduW",
    "outputId": "d7f55c58-a67e-46f1-9c9d-e3ea0bcb5468"
   },
   "outputs": [
    {
     "name": "stdout",
     "output_type": "stream",
     "text": [
      "Epoch  0: W= 5.00 b=0.00, loss= 8.63936 \n",
      "Epoch  1: W= 4.63 b=0.39, loss= 6.02706 \n",
      "Epoch  2: W= 4.32 b=0.70, loss= 4.30505 \n",
      "Epoch  3: W= 4.08 b=0.95, loss= 3.16985 \n",
      "Epoch  4: W= 3.87 b=1.16, loss= 2.42145 \n",
      "Epoch  5: W= 3.71 b=1.32, loss= 1.92804 \n",
      "Epoch  6: W= 3.57 b=1.46, loss= 1.60272 \n",
      "Epoch  7: W= 3.47 b=1.56, loss= 1.38821 \n",
      "Epoch  8: W= 3.38 b=1.65, loss= 1.24677 \n",
      "Epoch  9: W= 3.30 b=1.72, loss= 1.15350 \n"
     ]
    },
    {
     "data": {
      "image/png": "[encoded data removed]",
      "text/plain": [
       "<matplotlib.figure.Figure at 0x7f90e551e080>"
      ]
     },
     "metadata": {
      "tags": []
     },
     "output_type": "display_data"
    }
   ],
   "source": [
    "model = Model()\n",
    "\n",
    "# history of Ws, bs\n",
    "Ws,bs=[],[]\n",
    "\n",
    "epochs=range(10)\n",
    "\n",
    "for epoch in epochs:\n",
    "    Ws.append(model.W.numpy())\n",
    "    bs.append(model.b.numpy())\n",
    "    current_loss=loss(model(inputs),outputs)\n",
    "    \n",
    "    train(model,inputs,outputs, learning_rate=0.1)\n",
    "    print(\"Epoch %2d: W= %1.2f b=%1.2f, loss= %2.5f \" %(epoch, Ws[-1], bs[-1], current_loss))\n",
    "    \n",
    "    \n",
    "plt.plot(epochs, Ws, 'r',\n",
    "         epochs, bs, 'b')\n",
    "plt.plot([trueW] * len(epochs), 'r--',\n",
    "         [trueb] * len(epochs), 'b--')\n",
    "plt.legend(['W', 'b', 'true W', 'true_b'])\n",
    "plt.show()"
   ]
  },
  {
   "cell_type": "code",
   "execution_count": null,
   "metadata": {
    "colab": {},
    "colab_type": "code",
    "id": "2LzouN2EDdy9"
   },
   "outputs": [],
   "source": [
    "model.W.assign_sub"
   ]
  },
  {
   "cell_type": "code",
   "execution_count": null,
   "metadata": {
    "colab": {},
    "colab_type": "code",
    "id": "IEmbF8zSDd3s"
   },
   "outputs": [],
   "source": []
  },
  {
   "cell_type": "markdown",
   "metadata": {
    "colab_type": "text",
    "id": "W2Kbxiq-Dd8f"
   },
   "source": [
    "# Custom Layers"
   ]
  },
  {
   "cell_type": "code",
   "execution_count": null,
   "metadata": {
    "colab": {},
    "colab_type": "code",
    "id": "ubWtKdU7MV5p"
   },
   "outputs": [],
   "source": [
    "layer= tf.keras.layers.Dense(10, input_shape=(None,5))"
   ]
  },
  {
   "cell_type": "code",
   "execution_count": 35,
   "metadata": {
    "colab": {
     "base_uri": "https://localhost:8080/",
     "height": 204
    },
    "colab_type": "code",
    "id": "FZ5OsicRMV-0",
    "outputId": "05ba0dc0-5204-4b90-98b8-c55c75255868"
   },
   "outputs": [
    {
     "data": {
      "text/plain": [
       "<tf.Tensor: id=2559, shape=(10, 10), dtype=float32, numpy=\n",
       "array([[0., 0., 0., 0., 0., 0., 0., 0., 0., 0.],\n",
       "       [0., 0., 0., 0., 0., 0., 0., 0., 0., 0.],\n",
       "       [0., 0., 0., 0., 0., 0., 0., 0., 0., 0.],\n",
       "       [0., 0., 0., 0., 0., 0., 0., 0., 0., 0.],\n",
       "       [0., 0., 0., 0., 0., 0., 0., 0., 0., 0.],\n",
       "       [0., 0., 0., 0., 0., 0., 0., 0., 0., 0.],\n",
       "       [0., 0., 0., 0., 0., 0., 0., 0., 0., 0.],\n",
       "       [0., 0., 0., 0., 0., 0., 0., 0., 0., 0.],\n",
       "       [0., 0., 0., 0., 0., 0., 0., 0., 0., 0.],\n",
       "       [0., 0., 0., 0., 0., 0., 0., 0., 0., 0.]], dtype=float32)>"
      ]
     },
     "execution_count": 35,
     "metadata": {
      "tags": []
     },
     "output_type": "execute_result"
    }
   ],
   "source": [
    "layer(tf.zeros([10,5]))"
   ]
  },
  {
   "cell_type": "code",
   "execution_count": 36,
   "metadata": {
    "colab": {
     "base_uri": "https://localhost:8080/",
     "height": 258
    },
    "colab_type": "code",
    "id": "vdN2HH9xU8gQ",
    "outputId": "4446dbd9-be75-4d6e-97dd-f9563fca8b03"
   },
   "outputs": [
    {
     "data": {
      "text/plain": [
       "[<tf.Variable 'dense_1/kernel:0' shape=(5, 10) dtype=float32, numpy=\n",
       " array([[-0.32335466, -0.04652661, -0.2294738 , -0.03265989,  0.10552812,\n",
       "         -0.0588361 , -0.50648284,  0.40539736,  0.07949179, -0.6200976 ],\n",
       "        [-0.01890504,  0.36584252,  0.59080595, -0.3556608 , -0.518607  ,\n",
       "          0.61111695,  0.3106528 , -0.30859542, -0.18911493, -0.07746881],\n",
       "        [ 0.30171293, -0.0522486 ,  0.524636  , -0.2638044 , -0.03667599,\n",
       "         -0.06413513, -0.57257354, -0.29257798, -0.11131555, -0.5294789 ],\n",
       "        [ 0.5993894 ,  0.48667735,  0.49677664,  0.0266307 ,  0.16942275,\n",
       "         -0.5023005 , -0.56170523, -0.3044677 , -0.31300572, -0.06941682],\n",
       "        [ 0.48530072, -0.49543494,  0.41260523,  0.3167804 ,  0.09553802,\n",
       "         -0.4144342 , -0.46393055, -0.15369862,  0.3561839 ,  0.4906444 ]],\n",
       "       dtype=float32)>,\n",
       " <tf.Variable 'dense_1/bias:0' shape=(10,) dtype=float32, numpy=array([0., 0., 0., 0., 0., 0., 0., 0., 0., 0.], dtype=float32)>]"
      ]
     },
     "execution_count": 36,
     "metadata": {
      "tags": []
     },
     "output_type": "execute_result"
    }
   ],
   "source": [
    "layer.variables"
   ]
  },
  {
   "cell_type": "code",
   "execution_count": 37,
   "metadata": {
    "colab": {
     "base_uri": "https://localhost:8080/",
     "height": 258
    },
    "colab_type": "code",
    "id": "K1AaKD3pU8lm",
    "outputId": "5bd1499c-fc8b-411b-9016-9aeb1250fed5"
   },
   "outputs": [
    {
     "data": {
      "text/plain": [
       "(<tf.Variable 'dense_1/kernel:0' shape=(5, 10) dtype=float32, numpy=\n",
       " array([[-0.32335466, -0.04652661, -0.2294738 , -0.03265989,  0.10552812,\n",
       "         -0.0588361 , -0.50648284,  0.40539736,  0.07949179, -0.6200976 ],\n",
       "        [-0.01890504,  0.36584252,  0.59080595, -0.3556608 , -0.518607  ,\n",
       "          0.61111695,  0.3106528 , -0.30859542, -0.18911493, -0.07746881],\n",
       "        [ 0.30171293, -0.0522486 ,  0.524636  , -0.2638044 , -0.03667599,\n",
       "         -0.06413513, -0.57257354, -0.29257798, -0.11131555, -0.5294789 ],\n",
       "        [ 0.5993894 ,  0.48667735,  0.49677664,  0.0266307 ,  0.16942275,\n",
       "         -0.5023005 , -0.56170523, -0.3044677 , -0.31300572, -0.06941682],\n",
       "        [ 0.48530072, -0.49543494,  0.41260523,  0.3167804 ,  0.09553802,\n",
       "         -0.4144342 , -0.46393055, -0.15369862,  0.3561839 ,  0.4906444 ]],\n",
       "       dtype=float32)>,\n",
       " <tf.Variable 'dense_1/bias:0' shape=(10,) dtype=float32, numpy=array([0., 0., 0., 0., 0., 0., 0., 0., 0., 0.], dtype=float32)>)"
      ]
     },
     "execution_count": 37,
     "metadata": {
      "tags": []
     },
     "output_type": "execute_result"
    }
   ],
   "source": [
    "layer.kernel, layer.bias"
   ]
  },
  {
   "cell_type": "markdown",
   "metadata": {
    "colab_type": "text",
    "id": "MvVEeV6tU8qr"
   },
   "source": [
    "Note that you don't have to wait until build is called to create your variables, you can also create them in __init__. However, the advantage of creating them in build is that it enables late variable creation based on the shape of the inputs the layer will operate on. On the other hand, creating variables in __init__ would mean that shapes required to create the variables will need to be explicitly specified"
   ]
  },
  {
   "cell_type": "code",
   "execution_count": null,
   "metadata": {
    "colab": {},
    "colab_type": "code",
    "id": "LnuLfxCoVrKi"
   },
   "outputs": [],
   "source": [
    "class MyDenseLayer(tf.keras.layers.Layer):\n",
    "    \n",
    "    def __init__(self, num_outputs):\n",
    "       \n",
    "        super().__init__()\n",
    "        self.num_outputs=num_outputs\n",
    "        \n",
    "    def build(self, input_shape):\n",
    "        self.kernel= self.add_variable(\"kernel\", shape=[input_shape[-1].value, self.num_outputs])\n",
    "        \n",
    "    # Foward propagation\n",
    "    def call(self,input):\n",
    "        return tf.matmul(input, self.kernel)\n",
    "      "
   ]
  },
  {
   "cell_type": "code",
   "execution_count": 68,
   "metadata": {
    "colab": {
     "base_uri": "https://localhost:8080/",
     "height": 408
    },
    "colab_type": "code",
    "id": "cNJ_WbfPVrQD",
    "outputId": "5f9e27ca-84ab-4e26-aa87-233210b819f4"
   },
   "outputs": [
    {
     "name": "stdout",
     "output_type": "stream",
     "text": [
      "tf.Tensor(\n",
      "[[0. 0. 0. 0. 0. 0. 0. 0. 0. 0.]\n",
      " [0. 0. 0. 0. 0. 0. 0. 0. 0. 0.]\n",
      " [0. 0. 0. 0. 0. 0. 0. 0. 0. 0.]\n",
      " [0. 0. 0. 0. 0. 0. 0. 0. 0. 0.]\n",
      " [0. 0. 0. 0. 0. 0. 0. 0. 0. 0.]\n",
      " [0. 0. 0. 0. 0. 0. 0. 0. 0. 0.]\n",
      " [0. 0. 0. 0. 0. 0. 0. 0. 0. 0.]\n",
      " [0. 0. 0. 0. 0. 0. 0. 0. 0. 0.]\n",
      " [0. 0. 0. 0. 0. 0. 0. 0. 0. 0.]\n",
      " [0. 0. 0. 0. 0. 0. 0. 0. 0. 0.]], shape=(10, 10), dtype=float32)\n",
      "[<tf.Variable 'my_dense_layer_11/kernel:0' shape=(5, 10) dtype=float32, numpy=\n",
      "array([[-0.0172922 , -0.45778665, -0.6293152 , -0.26397103, -0.28449088,\n",
      "         0.62161213,  0.28239417,  0.6144714 ,  0.5846793 ,  0.21921939],\n",
      "       [-0.30939326,  0.55636865, -0.5195499 , -0.267683  , -0.37389088,\n",
      "         0.30395716, -0.29991752, -0.04537982,  0.1545313 , -0.02679163],\n",
      "       [-0.31626955,  0.14159554,  0.09708017, -0.3544649 , -0.23986632,\n",
      "        -0.05083132, -0.5126718 ,  0.10064077,  0.13281298,  0.17780888],\n",
      "       [-0.3870952 , -0.28136864,  0.10561591,  0.00975984, -0.08241004,\n",
      "        -0.11872292, -0.11262232,  0.09796244, -0.13879114,  0.28755867],\n",
      "       [-0.5441169 ,  0.2365529 ,  0.01456517, -0.36754915, -0.24372819,\n",
      "        -0.32944956,  0.6244715 , -0.11456203, -0.14283064, -0.17555913]],\n",
      "      dtype=float32)>]\n"
     ]
    }
   ],
   "source": [
    "layer=MyDenseLayer(10)\n",
    "print(layer(tf.zeros([10,5])))\n",
    "print(layer.variables)"
   ]
  },
  {
   "cell_type": "markdown",
   "metadata": {
    "colab_type": "text",
    "id": "chQkadz2VrUr"
   },
   "source": [
    "## Model composing layers"
   ]
  },
  {
   "cell_type": "code",
   "execution_count": null,
   "metadata": {
    "colab": {},
    "colab_type": "code",
    "id": "1PHyVFGMVrZl"
   },
   "outputs": [],
   "source": [
    "class ResnetIdentityBlock(tf.keras.Model):\n",
    "  \n",
    "  def __init__(self, kernel_size, filters):\n",
    "    super().__init__()\n",
    "    # Filters\n",
    "    filters1,filters2,filters3=filters\n",
    "    \n",
    "    # Define architecture\n",
    "    self.conv2a=tf.keras.layers.Conv2D(filters1,(1,1))\n",
    "    self.bn2a=tf.keras.layers.BatchNormalization()\n",
    "    \n",
    "    self.conv2b=tf.keras.layers.Conv2D(filters2,kernel_size,padding='same')\n",
    "    self.bn2b=tf.keras.layers.BatchNormalization()\n",
    "    \n",
    "    self.conv2c=tf.keras.layers.Conv2D(filters3,(1,1))\n",
    "    self.bn2c=tf.keras.layers.BatchNormalization()\n",
    "    \n",
    "  # Foward Propagation \n",
    "  def call(self,input_tensor,training=False):\n",
    "    # block 1\n",
    "    x= self.conv2a(input_tensor)\n",
    "    x=self.bn2a(x,training=training)\n",
    "    x=tf.nn.relu(x)\n",
    "    \n",
    "    # Block 2\n",
    "    x=self.conv2b(x)\n",
    "    x=self.bn2b(x,training=training)\n",
    "    x=tf.nn.relu(x)\n",
    "    \n",
    "    # Block 3\n",
    "    x=self.conv2c(x)\n",
    "    x=self.bn2c(x,training=training)\n",
    "    \n",
    "    # Residual op\n",
    "    x += input_tensor\n",
    "    return tf.nn.relu(x)"
   ]
  },
  {
   "cell_type": "code",
   "execution_count": 70,
   "metadata": {
    "colab": {
     "base_uri": "https://localhost:8080/",
     "height": 190
    },
    "colab_type": "code",
    "id": "pVZrBGu5Vrec",
    "outputId": "0aee7632-57bd-446c-d6e3-00a3502603b6"
   },
   "outputs": [
    {
     "name": "stdout",
     "output_type": "stream",
     "text": [
      "tf.Tensor(\n",
      "[[[[0. 0. 0.]\n",
      "   [0. 0. 0.]\n",
      "   [0. 0. 0.]]\n",
      "\n",
      "  [[0. 0. 0.]\n",
      "   [0. 0. 0.]\n",
      "   [0. 0. 0.]]]], shape=(1, 2, 3, 3), dtype=float32)\n",
      "['resnet_identity_block/conv2d/kernel:0', 'resnet_identity_block/conv2d/bias:0', 'resnet_identity_block/batch_normalization/gamma:0', 'resnet_identity_block/batch_normalization/beta:0', 'resnet_identity_block/conv2d_1/kernel:0', 'resnet_identity_block/conv2d_1/bias:0', 'resnet_identity_block/batch_normalization_1/gamma:0', 'resnet_identity_block/batch_normalization_1/beta:0', 'resnet_identity_block/conv2d_2/kernel:0', 'resnet_identity_block/conv2d_2/bias:0', 'resnet_identity_block/batch_normalization_2/gamma:0', 'resnet_identity_block/batch_normalization_2/beta:0', 'resnet_identity_block/batch_normalization/moving_mean:0', 'resnet_identity_block/batch_normalization/moving_variance:0', 'resnet_identity_block/batch_normalization_1/moving_mean:0', 'resnet_identity_block/batch_normalization_1/moving_variance:0', 'resnet_identity_block/batch_normalization_2/moving_mean:0', 'resnet_identity_block/batch_normalization_2/moving_variance:0']\n"
     ]
    }
   ],
   "source": [
    "block=ResnetIdentityBlock(1,[1,2,3])\n",
    "print(block(tf.zeros([1,2,3,3])))\n",
    "print([x.name for x in block.variables])"
   ]
  },
  {
   "cell_type": "code",
   "execution_count": null,
   "metadata": {
    "colab": {},
    "colab_type": "code",
    "id": "jam8LWyWVrjN"
   },
   "outputs": [],
   "source": []
  },
  {
   "cell_type": "code",
   "execution_count": null,
   "metadata": {
    "colab": {},
    "colab_type": "code",
    "id": "mZwkSlSOVrny"
   },
   "outputs": [],
   "source": []
  },
  {
   "cell_type": "code",
   "execution_count": null,
   "metadata": {
    "colab": {},
    "colab_type": "code",
    "id": "oCLDRDdLVrsh"
   },
   "outputs": [],
   "source": []
  },
  {
   "cell_type": "code",
   "execution_count": null,
   "metadata": {
    "colab": {},
    "colab_type": "code",
    "id": "_RzrgT30Vryv"
   },
   "outputs": [],
   "source": []
  }
 ],
 "metadata": {
  "accelerator": "GPU",
  "colab": {
   "collapsed_sections": [
    "P6kvktbEsVJ4",
    "1jDVqN2yyTpZ",
    "PtV0aysr0hCn",
    "l1hTXquf1cTF",
    "MTfus3WY1ctt",
    "juyEhoMX1c4Z",
    "b8uzXf9t9wUs",
    "_9tixDw79xQc"
   ],
   "name": "Tensorflow Eager Execution Basics.ipynb",
   "provenance": [],
   "version": "0.3.2"
  },
  "kernelspec": {
   "display_name": "Python 3",
   "language": "python",
   "name": "python3"
  },
  "language_info": {
   "codemirror_mode": {
    "name": "ipython",
    "version": 3
   },
   "file_extension": ".py",
   "mimetype": "text/x-python",
   "name": "python",
   "nbconvert_exporter": "python",
   "pygments_lexer": "ipython3",
   "version": "3.6.6"
  }
 },
 "nbformat": 4,
 "nbformat_minor": 2
}
