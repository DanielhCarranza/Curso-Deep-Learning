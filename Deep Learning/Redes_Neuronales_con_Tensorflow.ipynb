{
 "cells": [
  {
   "cell_type": "markdown",
   "metadata": {
    "colab_type": "text",
    "id": "fuE8lm59nRSU"
   },
   "source": [
    "# Redes Neuronales Multicapa con Tensorflow \n",
    "Aqui aprenderemos a como utilizar el modo de Eager Execution o de computacion de graficas dinamica de tensorflow para hacer clasificacion y regresion "
   ]
  },
  {
   "cell_type": "code",
   "execution_count": null,
   "metadata": {
    "colab": {},
    "colab_type": "code",
    "id": "0Nq1npaNnRSW"
   },
   "outputs": [],
   "source": [
    "import numpy as np\n",
    "import matplotlib.pyplot as plt\n",
    "import tensorflow as tf \n",
    "\n",
    "% matplotlib inline "
   ]
  },
  {
   "cell_type": "code",
   "execution_count": null,
   "metadata": {
    "colab": {},
    "colab_type": "code",
    "id": "BJCMy8LxnRSe"
   },
   "outputs": [],
   "source": [
    "# Habilitar eager execution mode\n",
    "tf.enable_eager_execution()"
   ]
  },
  {
   "cell_type": "markdown",
   "metadata": {
    "colab_type": "text",
    "id": "gin2mf5KnRSi"
   },
   "source": [
    "## Modelos en Tensorflow"
   ]
  },
  {
   "cell_type": "code",
   "execution_count": null,
   "metadata": {
    "colab": {},
    "colab_type": "code",
    "id": "KkQ9Qt9QnRSj"
   },
   "outputs": [],
   "source": [
    "# Estructura para un modelo en Tensorflow y Keras\n",
    "class Modelo(tf.keras.Model):\n",
    "  \n",
    "    def  __init__(self):\n",
    "        super().__init()\n",
    "        # Estructura de la Red Neuronal \n",
    "        \n",
    "    # Forward Propagation\n",
    "    def call(self, inputs):\n",
    "        # Modelo\n",
    "        return outputs\n",
    "      \n",
    "    # Inferencia  \n",
    "    def predict(self,inputs):\n",
    "      output= self(inputs)\n",
    "      return output"
   ]
  },
  {
   "cell_type": "markdown",
   "metadata": {
    "colab_type": "text",
    "id": "PVKoqz--nRSm"
   },
   "source": [
    "## Regresion Lineal "
   ]
  },
  {
   "cell_type": "code",
   "execution_count": null,
   "metadata": {
    "colab": {},
    "colab_type": "code",
    "id": "5xVw7wRTnRSo"
   },
   "outputs": [],
   "source": [
    "class Linear(tf.keras.Model):\n",
    "    \"\"\"Linear Regresion \"\"\"\n",
    "    def __init__(self):\n",
    "        super().__init__() # Se usa para que la clase herede los atributos de la superclase\n",
    "        # Estructura  \n",
    "        # linear Transformation y= WX + b | kernel se refiere a los weights en tf\n",
    "        self.dense= tf.keras.layers.Dense(units=1, kernel_initializer=tf.zeros_initializer( ), bias_initializer=tf.zeros_initializer())\\\n",
    "        \n",
    "    # Forward Propagation | invocacion del modelo con el metodo call \n",
    "    def call(self,inputs):\n",
    "        output=self.dense(inputs)\n",
    "        return output\n",
    "    \n",
    "    def predict(self,inputs):\n",
    "        # Inference\n",
    "        pred= self(inputs)\n",
    "        return pred"
   ]
  },
  {
   "cell_type": "code",
   "execution_count": null,
   "metadata": {
    "colab": {},
    "colab_type": "code",
    "id": "m5VJkxGvnRSt"
   },
   "outputs": [],
   "source": [
    "modelo=Linear()"
   ]
  },
  {
   "cell_type": "markdown",
   "metadata": {
    "colab_type": "text",
    "id": "bIbnWPAuX8fh"
   },
   "source": [
    "### Datos"
   ]
  },
  {
   "cell_type": "code",
   "execution_count": null,
   "metadata": {
    "colab": {},
    "colab_type": "code",
    "id": "j8G2J8mLnRSy"
   },
   "outputs": [],
   "source": [
    "X = tf.constant([[2.0,5.0,3.0],[7.0,5.0,8.0]])\n",
    "# [batch, 3]\n",
    "y= tf.constant([[10.0],[20.0]])"
   ]
  },
  {
   "cell_type": "code",
   "execution_count": null,
   "metadata": {
    "colab": {
     "base_uri": "https://localhost:8080/",
     "height": 1717
    },
    "colab_type": "code",
    "id": "nSaKptRjnRS1",
    "outputId": "0aea3a5b-4a3a-4f11-ba80-505d1e6c1660"
   },
   "outputs": [
    {
     "name": "stdout",
     "output_type": "stream",
     "text": [
      "Batch : 0,  loss: 250.0\n",
      "Batch : 1,  loss: 123.26494598388672\n",
      "Batch : 2,  loss: 60.78007125854492\n",
      "Batch : 3,  loss: 29.972370147705078\n",
      "Batch : 4,  loss: 14.782464981079102\n",
      "Batch : 5,  loss: 7.292658805847168\n",
      "Batch : 6,  loss: 3.5993192195892334\n",
      "Batch : 7,  loss: 1.77783203125\n",
      "Batch : 8,  loss: 0.8793041706085205\n",
      "Batch : 9,  loss: 0.4358898401260376\n",
      "Batch : 10,  loss: 0.21692103147506714\n",
      "Batch : 11,  loss: 0.1086622104048729\n",
      "Batch : 12,  loss: 0.05503081530332565\n",
      "Batch : 13,  loss: 0.028370710089802742\n",
      "Batch : 14,  loss: 0.015041744336485863\n",
      "Batch : 15,  loss: 0.008312713354825974\n",
      "Batch : 16,  loss: 0.004860876593738794\n",
      "Batch : 17,  loss: 0.003044913522899151\n",
      "Batch : 18,  loss: 0.0020524722058326006\n",
      "Batch : 19,  loss: 0.0014807602856308222\n",
      "Batch : 20,  loss: 0.0011286851949989796\n",
      "Batch : 21,  loss: 0.0008955242810770869\n",
      "Batch : 22,  loss: 0.0007297615520656109\n",
      "Batch : 23,  loss: 0.0006049213698133826\n",
      "Batch : 24,  loss: 0.0005066969897598028\n",
      "Batch : 25,  loss: 0.00042709417175501585\n",
      "Batch : 26,  loss: 0.0003612781874835491\n",
      "Batch : 27,  loss: 0.0003063259646296501\n",
      "Batch : 28,  loss: 0.0002600247098598629\n",
      "Batch : 29,  loss: 0.00022089926642365754\n",
      "Batch : 30,  loss: 0.00018772311159409583\n",
      "Batch : 31,  loss: 0.00015960363089106977\n",
      "Batch : 32,  loss: 0.00013569107977673411\n",
      "Batch : 33,  loss: 0.00011537029786268249\n",
      "Batch : 34,  loss: 9.809958282858133e-05\n",
      "Batch : 35,  loss: 8.343416993739083e-05\n",
      "Batch : 36,  loss: 7.094503962434828e-05\n",
      "Batch : 37,  loss: 6.0316357121337205e-05\n",
      "Batch : 38,  loss: 5.129281635163352e-05\n",
      "Batch : 39,  loss: 4.363059997558594e-05\n",
      "Batch : 40,  loss: 3.709408701979555e-05\n",
      "Batch : 41,  loss: 3.154156729578972e-05\n",
      "Batch : 42,  loss: 2.6822277504834346e-05\n",
      "Batch : 43,  loss: 2.2815602278569713e-05\n",
      "Batch : 44,  loss: 1.939460707944818e-05\n",
      "Batch : 45,  loss: 1.6498235709150322e-05\n",
      "Batch : 46,  loss: 1.4026652934262529e-05\n",
      "Batch : 47,  loss: 1.1924803402507678e-05\n",
      "Batch : 48,  loss: 1.0143105100723915e-05\n",
      "Batch : 49,  loss: 8.621858796686865e-06\n",
      "Batch : 50,  loss: 7.331738743232563e-06\n",
      "Batch : 51,  loss: 6.238888090592809e-06\n",
      "Batch : 52,  loss: 5.3008884606242646e-06\n",
      "Batch : 53,  loss: 4.510621238296153e-06\n",
      "Batch : 54,  loss: 3.8311850403260905e-06\n",
      "Batch : 55,  loss: 3.2592251955065876e-06\n",
      "Batch : 56,  loss: 2.7735604817280546e-06\n",
      "Batch : 57,  loss: 2.360193320782855e-06\n",
      "Batch : 58,  loss: 2.0059615053469315e-06\n",
      "Batch : 59,  loss: 1.7068655324692372e-06\n",
      "Batch : 60,  loss: 1.449613137083361e-06\n",
      "Batch : 61,  loss: 1.2343971320660785e-06\n",
      "Batch : 62,  loss: 1.0478693184268195e-06\n",
      "Batch : 63,  loss: 8.91059244167991e-07\n",
      "Batch : 64,  loss: 7.597304829687346e-07\n",
      "Batch : 65,  loss: 6.445516191888601e-07\n",
      "Batch : 66,  loss: 5.486308509716764e-07\n",
      "Batch : 67,  loss: 4.6627246774733067e-07\n",
      "Batch : 68,  loss: 3.972854756284505e-07\n",
      "Batch : 69,  loss: 3.3744618122000247e-07\n",
      "Batch : 70,  loss: 2.862379915313795e-07\n",
      "Batch : 71,  loss: 2.4463815861963667e-07\n",
      "Batch : 72,  loss: 2.063247848127503e-07\n",
      "Batch : 73,  loss: 1.762327883625403e-07\n",
      "Batch : 74,  loss: 1.495009200880304e-07\n",
      "Batch : 75,  loss: 1.275025169888977e-07\n",
      "Batch : 76,  loss: 1.084772520698607e-07\n",
      "Batch : 77,  loss: 9.204995876643807e-08\n",
      "Batch : 78,  loss: 7.834205462131649e-08\n",
      "Batch : 79,  loss: 6.63312675897032e-08\n",
      "Batch : 80,  loss: 5.6492353905923665e-08\n",
      "Batch : 81,  loss: 4.820185495191254e-08\n",
      "Batch : 82,  loss: 4.084768079337664e-08\n",
      "Batch : 83,  loss: 3.496097633615136e-08\n",
      "Batch : 84,  loss: 2.9768216336378828e-08\n",
      "Batch : 85,  loss: 2.4972905521281064e-08\n",
      "Batch : 86,  loss: 2.148271960322745e-08\n",
      "Batch : 87,  loss: 1.8106675270246342e-08\n",
      "Batch : 88,  loss: 1.5594196156598628e-08\n",
      "Batch : 89,  loss: 1.3294993550516665e-08\n",
      "Batch : 90,  loss: 1.127637005993165e-08\n",
      "Batch : 91,  loss: 9.560608305037022e-09\n",
      "Batch : 92,  loss: 8.07676769909449e-09\n",
      "Batch : 93,  loss: 6.928985385457054e-09\n",
      "Batch : 94,  loss: 5.868059815838933e-09\n",
      "Batch : 95,  loss: 4.980392986908555e-09\n",
      "Batch : 96,  loss: 4.1695784602779895e-09\n",
      "Batch : 97,  loss: 3.565673978300765e-09\n",
      "Batch : 98,  loss: 3.079549060203135e-09\n",
      "Batch : 99,  loss: 2.5684130378067493e-09\n"
     ]
    }
   ],
   "source": [
    "# Optimizador\n",
    "optimizer=tf.train.GradientDescentOptimizer(learning_rate=0.01)\n",
    "\n",
    "# Gradient Descent or Training\n",
    "for i in  range(100):\n",
    "    # Gradient Tape para hacer un track de las operaciones y asi obtener los gradientes\n",
    "    with tf.GradientTape() as tape:\n",
    "        # Forward prop \n",
    "        y_pred=modelo(X)\n",
    "        # loss function\n",
    "        loss =tf.reduce_mean(tf.square(y_pred-y))\n",
    "        print(f'Batch : {i},  loss: {loss.numpy()}')\n",
    "        \n",
    "    # Gradients  \n",
    "    grads= tape.gradient(loss, modelo.variables)\n",
    "    # tupla con los weights y gradientes p.e. (W1, dW1)   \n",
    "    optimizer.apply_gradients(grads_and_vars=zip(grads,modelo.variables))\n",
    "    "
   ]
  },
  {
   "cell_type": "code",
   "execution_count": null,
   "metadata": {
    "colab": {
     "base_uri": "https://localhost:8080/",
     "height": 68
    },
    "colab_type": "code",
    "id": "xlkVn5J-nRS5",
    "outputId": "c5a017ed-9bf8-4f6f-ae6f-09e450ab58af"
   },
   "outputs": [
    {
     "data": {
      "text/plain": [
       "<tf.Tensor: id=2428, shape=(2, 1), dtype=float32, numpy=\n",
       "array([[ 9.999941],\n",
       "       [20.00003 ]], dtype=float32)>"
      ]
     },
     "execution_count": 8,
     "metadata": {
      "tags": []
     },
     "output_type": "execute_result"
    }
   ],
   "source": [
    "modelo.predict(tf.constant([[2.0,5.0,3.0],[7.0,5.0,8.0]]))"
   ]
  },
  {
   "cell_type": "markdown",
   "metadata": {
    "colab_type": "text",
    "id": "ZW-Et3aqnRS-"
   },
   "source": [
    "## Clasificacion en Tensorflow \n",
    "The dataset contains 60,000 examples for training and 10,000 examples for testing. The digits have been size-normalized and centered in a fixed-size image (28x28 pixels) with values from 0 to 1. For simplicity, each image has been flattened and converted to a 1-D numpy array of 784 features (28*28).\n",
    "![alt text](https://camo.githubusercontent.com/b06741b45df8ffe29c7de999ab2ec4ff6b2965ba/687474703a2f2f6e657572616c6e6574776f726b73616e64646565706c6561726e696e672e636f6d2f696d616765732f6d6e6973745f3130305f6469676974732e706e67)"
   ]
  },
  {
   "cell_type": "code",
   "execution_count": null,
   "metadata": {
    "colab": {
     "base_uri": "https://localhost:8080/",
     "height": 282
    },
    "colab_type": "code",
    "id": "xFqijfH6nRTB",
    "outputId": "aadac419-faed-4b75-e209-fc367d2cf466"
   },
   "outputs": [
    {
     "data": {
      "text/plain": [
       "<matplotlib.image.AxesImage at 0x7f5bbcab89b0>"
      ]
     },
     "execution_count": 20,
     "metadata": {
      "tags": []
     },
     "output_type": "execute_result"
    },
    {
     "data": {
      "image/png": "[encoded data removed]",
      "text/plain": [
       "<matplotlib.figure.Figure at 0x7f5bbcb45e80>"
      ]
     },
     "metadata": {
      "tags": []
     },
     "output_type": "display_data"
    }
   ],
   "source": [
    "(X_train, y_train),(X_test,y_test)= tf.keras.datasets.mnist.load_data()\n",
    "x= X_train.astype(np.float32)/255.0\n",
    "plt.imshow(x[1,:,:])"
   ]
  },
  {
   "cell_type": "code",
   "execution_count": null,
   "metadata": {
    "colab": {},
    "colab_type": "code",
    "id": "YFx8IzssnRTE"
   },
   "outputs": [],
   "source": [
    "class DataLoader():\n",
    "    \"\"\"Load data MNIST \"\"\"\n",
    "    def __init__(self):\n",
    "        # Download data\n",
    "        (self.X_train, self.y_train),(self.X_test,self.y_test)= tf.keras.datasets.mnist.load_data()\n",
    "        # Preprocessing\n",
    "        self.X_train = self.X_train.reshape(-1, 28*28).astype(np.float32)/255.0 # Debe ser de la forma [batch, num_caracteristicas]\n",
    "        self.X_test = self.X_test.reshape(-1, 28*28).astype(np.float32)/255.0\n",
    "        self.y_train=self.y_train.astype(np.int32)\n",
    "        self.y_test=self.y_test.astype(np.int32)\n",
    "        \n",
    "    def get_batch(self,batch_size):\n",
    "        # Muestreo aleatorio de los datos de la forma [0, stop, size]\n",
    "        index=np.random.randint(0, self.X_train.shape[0], batch_size)\n",
    "        return self.X_train[index,:], self.y_train[index]"
   ]
  },
  {
   "cell_type": "markdown",
   "metadata": {
    "colab_type": "text",
    "id": "pCZeGuvxnRTH"
   },
   "source": [
    "### Modelo de Clasificacion\n",
    "![alt text](https://www.researchgate.net/profile/Martin_Musiol/publication/308414212/figure/fig1/AS:409040078295040@1474534162122/A-general-model-of-a-deep-neural-network-It-consists-of-an-input-layer-some-here-two.png)"
   ]
  },
  {
   "cell_type": "code",
   "execution_count": null,
   "metadata": {
    "colab": {},
    "colab_type": "code",
    "id": "4RkMOldZnRTJ"
   },
   "outputs": [],
   "source": [
    "from tensorflow.keras.layers import Dense"
   ]
  },
  {
   "cell_type": "code",
   "execution_count": null,
   "metadata": {
    "colab": {},
    "colab_type": "code",
    "id": "4K2Jhm5wnRTM"
   },
   "outputs": [],
   "source": [
    "class NeuralNet(tf.keras.Model):\n",
    "  \n",
    "    \"\"\" Neural Network for classification\"\"\"\n",
    "    def __init__(self):\n",
    "        super(NeuralNet, self).__init__()\n",
    "        # Definir la estructura\n",
    "        self.dense1 = Dense(units=100, activation=tf.nn.relu)\n",
    "        # Feature vector\n",
    "        self.dense2 = Dense(units=10) \n",
    "        \n",
    "    def call(self, inputs):\n",
    "        layer1=self.dense1(inputs) # procesar [bacth, num_features]\n",
    "        output=self.dense2(layer1)\n",
    "        return output\n",
    "    \n",
    "    def predict(self, inputs):\n",
    "        # retorna el indice con el maximo valor \n",
    "        return tf.argmax(self(inputs), axis=-1)\n",
    "      \n",
    "    def evaluate(self, X_test, y_test):\n",
    "        y_pred= self.predict(X_test).numpy()\n",
    "        total_test_samples=y_test.shape[0]\n",
    "        print(\"Validation Accuracy: %f \" % (sum(y_pred==data_loader.y_test)/total_test_samples))\n",
    "        "
   ]
  },
  {
   "cell_type": "code",
   "execution_count": null,
   "metadata": {
    "colab": {},
    "colab_type": "code",
    "id": "mW00BOaTnRTQ"
   },
   "outputs": [],
   "source": [
    "# hyperparametrs\n",
    "batch_size=64\n",
    "epochs= 10000\n",
    "learning_rate=0.001\n"
   ]
  },
  {
   "cell_type": "code",
   "execution_count": null,
   "metadata": {
    "colab": {},
    "colab_type": "code",
    "id": "q9vJBrOvnRTT"
   },
   "outputs": [],
   "source": [
    "data_loader=DataLoader()\n",
    "modelo=NeuralNet()\n",
    "optimizer=tf.train.AdamOptimizer(learning_rate=learning_rate)"
   ]
  },
  {
   "cell_type": "markdown",
   "metadata": {
    "colab_type": "text",
    "id": "jgsyVR3ZnRTW"
   },
   "source": [
    "### Training"
   ]
  },
  {
   "cell_type": "code",
   "execution_count": 96,
   "metadata": {
    "colab": {
     "base_uri": "https://localhost:8080/",
     "height": 187
    },
    "colab_type": "code",
    "id": "JTZofKcInRTY",
    "outputId": "b8f6b15e-5649-4dd8-9635-105a5e136075"
   },
   "outputs": [
    {
     "name": "stdout",
     "output_type": "stream",
     "text": [
      "epoch: 0, loss: 0.01820523850619793\n",
      "epoch: 500, loss: 0.013088256120681763\n",
      "epoch: 1000, loss: 0.08652612566947937\n",
      "epoch: 1500, loss: 0.05689244717359543\n",
      "epoch: 2000, loss: 0.011914856731891632\n",
      "epoch: 2500, loss: 0.03463459014892578\n",
      "epoch: 3000, loss: 0.004508263431489468\n",
      "epoch: 3500, loss: 0.023471778258681297\n",
      "epoch: 4000, loss: 0.007177773397415876\n",
      "epoch: 4500, loss: 0.023210730403661728\n"
     ]
    }
   ],
   "source": [
    "for epoch in range(epochs):\n",
    "    # Datos muestreados\n",
    "    X,y = data_loader.get_batch(batch_size)\n",
    "    \n",
    "    \n",
    "    with tf.GradientTape() as tape:\n",
    "        # Forward prop\n",
    "        y_pred=modelo(tf.convert_to_tensor(X))\n",
    "        # Loss function\n",
    "        loss= tf.losses.sparse_softmax_cross_entropy(labels=y, logits=y_pred)\n",
    "        if epoch%500==0:\n",
    "          print(f'epoch: {epoch}, loss: {loss.numpy()}')\n",
    "    \n",
    "    # Backprop para obtener gradientes\n",
    "    grads=tape.gradient(loss, modelo.variables)\n",
    "    # Update rule para encontrar los parametros y minimizar el error\n",
    "    optimizer.apply_gradients(grads_and_vars=zip(grads,modelo.variables))"
   ]
  },
  {
   "cell_type": "markdown",
   "metadata": {
    "colab_type": "text",
    "id": "R-w4uH26WN6w"
   },
   "source": [
    "### Evaluation "
   ]
  },
  {
   "cell_type": "code",
   "execution_count": 91,
   "metadata": {
    "colab": {
     "base_uri": "https://localhost:8080/",
     "height": 34
    },
    "colab_type": "code",
    "id": "KMSbI6bwU_je",
    "outputId": "47dc661b-f8d0-42e2-9f8c-f9bfc2737f65"
   },
   "outputs": [
    {
     "name": "stdout",
     "output_type": "stream",
     "text": [
      "Validation Accuracy: 0.973900 \n"
     ]
    }
   ],
   "source": [
    "modelo.evaluate(data_loader.X_test, data_loader.y_test)"
   ]
  },
  {
   "cell_type": "markdown",
   "metadata": {
    "colab_type": "text",
    "id": "Kk5RYiX91_JU"
   },
   "source": [
    "#### Confusion Matrix"
   ]
  },
  {
   "cell_type": "code",
   "execution_count": null,
   "metadata": {
    "colab": {},
    "colab_type": "code",
    "id": "sgjTRIB0nRTi"
   },
   "outputs": [],
   "source": [
    "# Inferencia\n",
    "y_pred= modelo.predict(data_loader.X_test).numpy()\n",
    "\n",
    "# Confusion Matrix\n",
    "confMatrix=tf.confusion_matrix(data_loader.y_test, y_pred).numpy()\n",
    "\n"
   ]
  },
  {
   "cell_type": "code",
   "execution_count": null,
   "metadata": {
    "colab": {},
    "colab_type": "code",
    "id": "XM__wvy33It_"
   },
   "outputs": [],
   "source": [
    "import itertools"
   ]
  },
  {
   "cell_type": "code",
   "execution_count": null,
   "metadata": {
    "colab": {},
    "colab_type": "code",
    "id": "YWISQ97TziUJ"
   },
   "outputs": [],
   "source": [
    "def plot_confusion_matrix(cm, classes,\n",
    "                          normalize=False,\n",
    "                          title='Confusion matrix',\n",
    "                          cmap=plt.cm.Blues):\n",
    "    \"\"\"\n",
    "    This function prints and plots the confusion matrix.\n",
    "    Normalization can be applied by setting `normalize=True`.\n",
    "    \"\"\"\n",
    "    accuracy = np.trace(cm) / float(np.sum(cm))\n",
    "    misclass = 1 - accuracy\n",
    "    \n",
    "    if normalize:\n",
    "        cm = cm.astype('float') / cm.sum(axis=1)[:, np.newaxis]\n",
    "        print(\"Normalized confusion matrix\")\n",
    "    else:\n",
    "        print('Confusion matrix, without normalization')\n",
    "\n",
    "\n",
    "    plt.imshow(cm, interpolation='nearest', cmap=cmap)\n",
    "    plt.title(title)\n",
    "    plt.colorbar()\n",
    "    tick_marks = np.arange(len(classes))\n",
    "    plt.xticks(tick_marks, classes, rotation=45)\n",
    "    plt.yticks(tick_marks, classes)\n",
    "\n",
    "    fmt = '.2f' if normalize else 'd'\n",
    "    thresh = cm.max() / 2.\n",
    "    for i, j in itertools.product(range(cm.shape[0]), range(cm.shape[1])):\n",
    "        plt.text(j, i, format(cm[i, j], fmt),\n",
    "                 horizontalalignment=\"center\",\n",
    "                 color=\"white\" if cm[i, j] > thresh else \"black\")\n",
    "\n",
    "    plt.ylabel('True label')\n",
    "    plt.xlabel('Predicted label\\n accuracy={:0.4f}; misclass={:0.4f}'.format(accuracy, misclass))\n",
    "    plt.tight_layout()"
   ]
  },
  {
   "cell_type": "code",
   "execution_count": 94,
   "metadata": {
    "colab": {
     "base_uri": "https://localhost:8080/",
     "height": 314
    },
    "colab_type": "code",
    "id": "lP_9fsf43KdR",
    "outputId": "b5dd3c94-1719-4154-8165-a51e7093421f"
   },
   "outputs": [
    {
     "name": "stdout",
     "output_type": "stream",
     "text": [
      "Confusion matrix, without normalization\n"
     ]
    },
    {
     "data": {
      "image/png": "[encoded data removed]",
      "text/plain": [
       "<matplotlib.figure.Figure at 0x7f663b2acc18>"
      ]
     },
     "metadata": {
      "tags": []
     },
     "output_type": "display_data"
    }
   ],
   "source": [
    "np.set_printoptions(precision=2)\n",
    "class_names= np.array([0,1,2,3,4,5,6,7,8,9])\n",
    "\n",
    "# Plot non-normalized confusion matrix\n",
    "plt.figure()\n",
    "plot_confusion_matrix(confMatrix, classes=class_names,\n",
    "                      title='Confusion matrix, without normalization')\n",
    "\n",
    "plt.show()"
   ]
  },
  {
   "cell_type": "code",
   "execution_count": 95,
   "metadata": {
    "colab": {
     "base_uri": "https://localhost:8080/",
     "height": 314
    },
    "colab_type": "code",
    "id": "R9ojix9K5MNj",
    "outputId": "dbeb615b-543b-4300-976a-06e320de1c23"
   },
   "outputs": [
    {
     "name": "stdout",
     "output_type": "stream",
     "text": [
      "Normalized confusion matrix\n"
     ]
    },
    {
     "data": {
      "image/png": "[encoded data removed]",
      "text/plain": [
       "<matplotlib.figure.Figure at 0x7f663b2ac908>"
      ]
     },
     "metadata": {
      "tags": []
     },
     "output_type": "display_data"
    }
   ],
   "source": [
    "# Plot normalized confusion matrix\n",
    "plt.figure()\n",
    "plot_confusion_matrix(confMatrix, classes=class_names, normalize=True,\n",
    "                      title='Normalized confusion matrix')\n",
    "\n",
    "plt.show()"
   ]
  },
  {
   "cell_type": "code",
   "execution_count": null,
   "metadata": {
    "colab": {},
    "colab_type": "code",
    "id": "ulfwCPpl5QeF"
   },
   "outputs": [],
   "source": []
  }
 ],
 "metadata": {
  "accelerator": "GPU",
  "colab": {
   "collapsed_sections": [],
   "name": "Redes_Neuronales_con_Tensorflow.ipynb",
   "provenance": [],
   "toc_visible": true,
   "version": "0.3.2"
  },
  "kernelspec": {
   "display_name": "Python 3",
   "language": "python",
   "name": "python3"
  },
  "language_info": {
   "codemirror_mode": {
    "name": "ipython",
    "version": 3
   },
   "file_extension": ".py",
   "mimetype": "text/x-python",
   "name": "python",
   "nbconvert_exporter": "python",
   "pygments_lexer": "ipython3",
   "version": "3.6.7"
  }
 },
 "nbformat": 4,
 "nbformat_minor": 2
}
