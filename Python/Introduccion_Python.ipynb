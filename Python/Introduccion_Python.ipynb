{
  "nbformat": 4,
  "nbformat_minor": 0,
  "metadata": {
    "colab": {
      "name": "Introduccion_Python.ipynb",
      "version": "0.3.2",
      "provenance": [],
      "collapsed_sections": [
        "UXiDqral-Guo",
        "wVtyH-RV-Gu6",
        "XCaiO_qj-Gv2",
        "ZdBDXVUj-GwM",
        "Jl-bYRK2-GwT",
        "YfnysiSh-Gwc",
        "g7U71ANl-Gwh",
        "VCQZp_6j-Gww",
        "0lD8QxA9-Gw1",
        "pWeCWC1a-Gw3",
        "rl_kammO-GxF"
      ]
    },
    "kernelspec": {
      "display_name": "Python 3",
      "language": "python",
      "name": "python3"
    }
  },
  "cells": [
    {
      "metadata": {
        "id": "AAnzGcJA-GtQ",
        "colab_type": "text"
      },
      "cell_type": "markdown",
      "source": [
        "# Introduccion a Python \n",
        "\n",
        "Python es un lenguage interprete, interactivo que te permite hacer operaciones vectorizadas de forma muy simple\n",
        "* Es uno de los lenguages mas utilizados en la industria de Data Science, Big Data, Inteligencia Artificial, Desarrollo Web, Juegos, Microprocesadores(Raspberry Pi, Intel Edison) \n",
        "* Es un lenguage dinamico y orientado a objetos\n",
        "\n",
        "Aqui estan algunos recursos que pueden utilizar para aprender Python\n",
        "* [Python 3 Tutorial](https://docs.python.org/3/tutorial/)\n",
        "* [Python 2](http://ricardoduarte.github.io/python-for-developers/)\n",
        "* [Python numerical computation tutorial](http://cs231n.github.io/python-numpy-tutorial/)\n",
        "* [Curso en Code Academy](https://www.codecademy.com/catalog/language/python)\n",
        "* [Python Fundamentals](https://pythonprogramming.net/python-fundamental-tutorials/)\n",
        "* [Curso interactivo de Python](http://interactivepython.org/runestone/static/thinkcspy/index.html)\n",
        "* [Python for Data Analysis](https://www.safaribooksonline.com/library/view/python-for-data/9781449323592/ch04.html)\n",
        "* [Python programming for everybody](https://www.coursera.org/learn/python)\n",
        "* [Introduccion a python - Microsoft](https://www.edx.org/course/introduction-python-fundamentals-microsoft-dev274x-1)\n",
        "* [Python for Data Science](https://www.edx.org/course/python-for-data-science)\n",
        "* [Python Hardvard 01](https://www.youtube.com/watch?v=n_8zxTH7SvA)\n",
        "* [Python Hardvard 02](https://www.youtube.com/watch?v=icOod04jYww)\n",
        "* [Python retos y ejercicios](https://www.kaggle.com/colinmorris/learn-python-challenge-day-1)\n",
        "* Pueden descargar la app \"Learn Python\"\n",
        "* Descarguen la app de Datacamp para Python for Data Science\n",
        "\n",
        "\n",
        " "
      ]
    },
    {
      "metadata": {
        "id": "qnBchV14-GtR",
        "colab_type": "code",
        "colab": {},
        "outputId": "b5db99a7-ddd2-425b-be69-2d320b8934f9"
      },
      "cell_type": "code",
      "source": [
        "a=5+8\n",
        "print(a)"
      ],
      "execution_count": 0,
      "outputs": [
        {
          "output_type": "stream",
          "text": [
            "13\n"
          ],
          "name": "stdout"
        }
      ]
    },
    {
      "metadata": {
        "id": "Z05GdgBg-GtX",
        "colab_type": "code",
        "colab": {},
        "outputId": "7d0122e5-b10c-4b9c-9a1c-9cd68431f78b"
      },
      "cell_type": "code",
      "source": [
        "resta=5-8\n",
        "print(resta)"
      ],
      "execution_count": 0,
      "outputs": [
        {
          "output_type": "stream",
          "text": [
            "-3\n"
          ],
          "name": "stdout"
        }
      ]
    },
    {
      "metadata": {
        "id": "s69XsdD8-Gtb",
        "colab_type": "code",
        "colab": {},
        "outputId": "d16be865-600b-4f74-9ce2-e20aea05f535"
      },
      "cell_type": "code",
      "source": [
        "mul=5*655\n",
        "print(mul)"
      ],
      "execution_count": 0,
      "outputs": [
        {
          "output_type": "stream",
          "text": [
            "3275\n"
          ],
          "name": "stdout"
        }
      ]
    },
    {
      "metadata": {
        "id": "EgUU8gr5-Gte",
        "colab_type": "code",
        "colab": {},
        "outputId": "d45b8088-32ee-4944-deb1-620b97349158"
      },
      "cell_type": "code",
      "source": [
        "d=15/92\n",
        "print(d)"
      ],
      "execution_count": 0,
      "outputs": [
        {
          "output_type": "stream",
          "text": [
            "0.16304347826086957\n"
          ],
          "name": "stdout"
        }
      ]
    },
    {
      "metadata": {
        "id": "_EVc-OmJ-Gth",
        "colab_type": "code",
        "colab": {},
        "outputId": "c4fdf1db-e98f-4a35-edce-349697ce9ef2"
      },
      "cell_type": "code",
      "source": [
        "string='Hola que hace'\n",
        "print(string)"
      ],
      "execution_count": 0,
      "outputs": [
        {
          "output_type": "stream",
          "text": [
            "Hola que hace\n"
          ],
          "name": "stdout"
        }
      ]
    },
    {
      "metadata": {
        "id": "C_DLz44d-Gtk",
        "colab_type": "code",
        "colab": {},
        "outputId": "10e9369a-0e06-4f06-add8-d686b6e87cbe"
      },
      "cell_type": "code",
      "source": [
        "cadena=\"Que show\"\n",
        "print(cadena)"
      ],
      "execution_count": 0,
      "outputs": [
        {
          "output_type": "stream",
          "text": [
            "Que show\n"
          ],
          "name": "stdout"
        }
      ]
    },
    {
      "metadata": {
        "id": "z3vETu_L-Gtn",
        "colab_type": "code",
        "colab": {},
        "outputId": "558cd123-8277-4f3a-c2ef-d8ea73b8973d"
      },
      "cell_type": "code",
      "source": [
        "2**2"
      ],
      "execution_count": 0,
      "outputs": [
        {
          "output_type": "execute_result",
          "data": {
            "text/plain": [
              "4"
            ]
          },
          "metadata": {
            "tags": []
          },
          "execution_count": 17
        }
      ]
    },
    {
      "metadata": {
        "id": "MaY3vpQm-Gtq",
        "colab_type": "code",
        "colab": {}
      },
      "cell_type": "code",
      "source": [
        "bool=True\n",
        "fal=False"
      ],
      "execution_count": 0,
      "outputs": []
    },
    {
      "metadata": {
        "id": "lxxdA4cT-Gtt",
        "colab_type": "code",
        "colab": {},
        "outputId": "6bd598ae-4fda-45aa-ba17-f055a48dc52d"
      },
      "cell_type": "code",
      "source": [
        "modulo=13%3\n",
        "modulo"
      ],
      "execution_count": 0,
      "outputs": [
        {
          "output_type": "execute_result",
          "data": {
            "text/plain": [
              "1"
            ]
          },
          "metadata": {
            "tags": []
          },
          "execution_count": 20
        }
      ]
    },
    {
      "metadata": {
        "id": "N-0T3MeI-Gtw",
        "colab_type": "code",
        "colab": {},
        "outputId": "b4bc3bee-50ff-43dc-a552-3208083e5904"
      },
      "cell_type": "code",
      "source": [
        "type(cadena)"
      ],
      "execution_count": 0,
      "outputs": [
        {
          "output_type": "execute_result",
          "data": {
            "text/plain": [
              "str"
            ]
          },
          "metadata": {
            "tags": []
          },
          "execution_count": 24
        }
      ]
    },
    {
      "metadata": {
        "id": "cx63NBir-Gtz",
        "colab_type": "code",
        "colab": {},
        "outputId": "97e603ee-61a7-4a62-be68-31d5d397a334"
      },
      "cell_type": "code",
      "source": [
        "num_cadena=str(a)\n",
        "num_cadena"
      ],
      "execution_count": 0,
      "outputs": [
        {
          "output_type": "execute_result",
          "data": {
            "text/plain": [
              "'13'"
            ]
          },
          "metadata": {
            "tags": []
          },
          "execution_count": 26
        }
      ]
    },
    {
      "metadata": {
        "id": "BxAtyqQH-Gt5",
        "colab_type": "code",
        "colab": {},
        "outputId": "925d6373-909b-41f8-e850-7291b065d65b"
      },
      "cell_type": "code",
      "source": [
        "float(num_cadena)"
      ],
      "execution_count": 0,
      "outputs": [
        {
          "output_type": "execute_result",
          "data": {
            "text/plain": [
              "13.0"
            ]
          },
          "metadata": {
            "tags": []
          },
          "execution_count": 27
        }
      ]
    },
    {
      "metadata": {
        "id": "l8FXrRhv-Gt8",
        "colab_type": "code",
        "colab": {},
        "outputId": "124d4085-977e-4628-d9bb-6d009ecd1000"
      },
      "cell_type": "code",
      "source": [
        "hola= 'Hola '\n",
        "nombre= ' People'\n",
        "z= hola + nombre\n",
        "print(z)"
      ],
      "execution_count": 0,
      "outputs": [
        {
          "output_type": "stream",
          "text": [
            "Hola  People\n"
          ],
          "name": "stdout"
        }
      ]
    },
    {
      "metadata": {
        "id": "7nX7ycls-Gt_",
        "colab_type": "code",
        "colab": {},
        "outputId": "f5b90535-5a95-405f-d793-1021439c96e1"
      },
      "cell_type": "code",
      "source": [
        "print(hola + str(a))"
      ],
      "execution_count": 0,
      "outputs": [
        {
          "output_type": "stream",
          "text": [
            "Hola 13\n"
          ],
          "name": "stdout"
        }
      ]
    },
    {
      "metadata": {
        "id": "3MLqtb2u-GuD",
        "colab_type": "code",
        "colab": {},
        "outputId": "653da887-0fad-4314-f7d3-6ac3434df6cc"
      },
      "cell_type": "code",
      "source": [
        "2 == 1"
      ],
      "execution_count": 0,
      "outputs": [
        {
          "output_type": "execute_result",
          "data": {
            "text/plain": [
              "False"
            ]
          },
          "metadata": {
            "tags": []
          },
          "execution_count": 33
        }
      ]
    },
    {
      "metadata": {
        "id": "yQWD5XIq-GuI",
        "colab_type": "code",
        "colab": {},
        "outputId": "a17cd002-0ae0-4cce-fbed-368b145e02b7"
      },
      "cell_type": "code",
      "source": [
        "2!=2"
      ],
      "execution_count": 0,
      "outputs": [
        {
          "output_type": "execute_result",
          "data": {
            "text/plain": [
              "False"
            ]
          },
          "metadata": {
            "tags": []
          },
          "execution_count": 34
        }
      ]
    },
    {
      "metadata": {
        "id": "Png6rkE8-GuL",
        "colab_type": "code",
        "colab": {},
        "outputId": "bf9d60e4-3210-45e9-d63c-b734f453c740"
      },
      "cell_type": "code",
      "source": [
        "3>=5"
      ],
      "execution_count": 0,
      "outputs": [
        {
          "output_type": "execute_result",
          "data": {
            "text/plain": [
              "False"
            ]
          },
          "metadata": {
            "tags": []
          },
          "execution_count": 35
        }
      ]
    },
    {
      "metadata": {
        "id": "C8kFVVmM-GuP",
        "colab_type": "code",
        "colab": {},
        "outputId": "7f6ed627-c9ee-4ace-ce31-14914d86ce9a"
      },
      "cell_type": "code",
      "source": [
        "5<=8"
      ],
      "execution_count": 0,
      "outputs": [
        {
          "output_type": "execute_result",
          "data": {
            "text/plain": [
              "True"
            ]
          },
          "metadata": {
            "tags": []
          },
          "execution_count": 36
        }
      ]
    },
    {
      "metadata": {
        "id": "9JHZQa4o-GuS",
        "colab_type": "code",
        "colab": {},
        "outputId": "febec3ff-9fb4-4695-ea6f-54679f2cd454"
      },
      "cell_type": "code",
      "source": [
        "\"Hola\"!= 'hola'"
      ],
      "execution_count": 0,
      "outputs": [
        {
          "output_type": "execute_result",
          "data": {
            "text/plain": [
              "True"
            ]
          },
          "metadata": {
            "tags": []
          },
          "execution_count": 37
        }
      ]
    },
    {
      "metadata": {
        "id": "aBPZ-1SR-GuU",
        "colab_type": "code",
        "colab": {},
        "outputId": "5b5ac9fb-f1ea-4a4c-d43c-782f2d653129"
      },
      "cell_type": "code",
      "source": [
        "x= 18.0\n",
        "y= 14.0\n",
        "\n",
        "print(x>y and y<=18)\n"
      ],
      "execution_count": 0,
      "outputs": [
        {
          "output_type": "stream",
          "text": [
            "True\n"
          ],
          "name": "stdout"
        }
      ]
    },
    {
      "metadata": {
        "id": "zG1vA2W6-GuY",
        "colab_type": "code",
        "colab": {},
        "outputId": "25a66ed1-90ee-41c6-e480-a004188adb26"
      },
      "cell_type": "code",
      "source": [
        "r=8\n",
        "t=9\n",
        "not(not(r<3) and  not(t>14 or t>10))"
      ],
      "execution_count": 0,
      "outputs": [
        {
          "output_type": "execute_result",
          "data": {
            "text/plain": [
              "False"
            ]
          },
          "metadata": {
            "tags": []
          },
          "execution_count": 40
        }
      ]
    },
    {
      "metadata": {
        "id": "LWE8Sy5M-Gub",
        "colab_type": "text"
      },
      "cell_type": "markdown",
      "source": [
        "## Listas "
      ]
    },
    {
      "metadata": {
        "id": "QGcpbAqj-Guc",
        "colab_type": "code",
        "colab": {},
        "outputId": "0811a5b3-75ac-4af8-ac10-23edc5e9aeeb"
      },
      "cell_type": "code",
      "source": [
        "lista= [0,2,3,5]\n",
        "lista[1:3]"
      ],
      "execution_count": 0,
      "outputs": [
        {
          "output_type": "execute_result",
          "data": {
            "text/plain": [
              "[2, 3]"
            ]
          },
          "metadata": {
            "tags": []
          },
          "execution_count": 45
        }
      ]
    },
    {
      "metadata": {
        "id": "CbdK_qtT-Guf",
        "colab_type": "code",
        "colab": {},
        "outputId": "9eee1b67-1740-4973-ce2b-eb7e193bfd46"
      },
      "cell_type": "code",
      "source": [
        "x=15\n",
        "y=515\n",
        "z=51581\n",
        "l='fakjbnfjkfa'\n",
        "lista2=[x,y,z,l]\n",
        "lista2"
      ],
      "execution_count": 0,
      "outputs": [
        {
          "output_type": "execute_result",
          "data": {
            "text/plain": [
              "[15, 515, 51581, 'fakjbnfjkfa']"
            ]
          },
          "metadata": {
            "tags": []
          },
          "execution_count": 48
        }
      ]
    },
    {
      "metadata": {
        "id": "QZVPm_Fw-Gul",
        "colab_type": "code",
        "colab": {},
        "outputId": "f3a8bc05-067a-4149-a82f-3402797b38f8"
      },
      "cell_type": "code",
      "source": [
        "area=[ 1.68,1.55,2.00,1.9]\n",
        "area.append(1.8)\n",
        "area.append('hola que hace')\n",
        "#print(area)\n",
        "area"
      ],
      "execution_count": 0,
      "outputs": [
        {
          "output_type": "execute_result",
          "data": {
            "text/plain": [
              "[1.68, 1.55, 2.0, 1.9, 1.8, 'hola que hace']"
            ]
          },
          "metadata": {
            "tags": []
          },
          "execution_count": 4
        }
      ]
    },
    {
      "metadata": {
        "id": "UXiDqral-Guo",
        "colab_type": "text"
      },
      "cell_type": "markdown",
      "source": [
        "### slicing"
      ]
    },
    {
      "metadata": {
        "id": "rcMFHxvI-Gup",
        "colab_type": "code",
        "colab": {},
        "outputId": "79f16337-10d8-4125-b026-64a27d110536"
      },
      "cell_type": "code",
      "source": [
        "x=['a','b','c','d']\n",
        "x[:2]\n",
        "# del(x[1])\n"
      ],
      "execution_count": 0,
      "outputs": [
        {
          "output_type": "execute_result",
          "data": {
            "text/plain": [
              "['a', 'b']"
            ]
          },
          "metadata": {
            "tags": []
          },
          "execution_count": 6
        }
      ]
    },
    {
      "metadata": {
        "id": "d5HRdNgr-Gut",
        "colab_type": "code",
        "colab": {},
        "outputId": "71ff535d-d2a2-40fd-f5af-cc04280a36eb"
      },
      "cell_type": "code",
      "source": [
        "x[2:]"
      ],
      "execution_count": 0,
      "outputs": [
        {
          "output_type": "execute_result",
          "data": {
            "text/plain": [
              "['c', 'd']"
            ]
          },
          "metadata": {
            "tags": []
          },
          "execution_count": 51
        }
      ]
    },
    {
      "metadata": {
        "id": "exINRMoW-Guw",
        "colab_type": "code",
        "colab": {},
        "outputId": "e457cbf8-de0d-4ec1-f872-84291322535d"
      },
      "cell_type": "code",
      "source": [
        "matriz= [ [1],[2],[3]] \n",
        "matriz"
      ],
      "execution_count": 0,
      "outputs": [
        {
          "output_type": "execute_result",
          "data": {
            "text/plain": [
              "[[1], [2], [3]]"
            ]
          },
          "metadata": {
            "tags": []
          },
          "execution_count": 56
        }
      ]
    },
    {
      "metadata": {
        "id": "jNNCrC2v-Gu3",
        "colab_type": "code",
        "colab": {},
        "outputId": "0efb641c-ea10-4803-e3cb-626d05bafc44"
      },
      "cell_type": "code",
      "source": [
        "x = [[\"a\", \"b\", \"c\"],\n",
        "     [\"d\", \"e\", \"f\"],\n",
        "     [\"g\", \"h\", \"i\"]]\n",
        "x[2][2]"
      ],
      "execution_count": 0,
      "outputs": [
        {
          "output_type": "execute_result",
          "data": {
            "text/plain": [
              "'i'"
            ]
          },
          "metadata": {
            "tags": []
          },
          "execution_count": 14
        }
      ]
    },
    {
      "metadata": {
        "id": "wVtyH-RV-Gu6",
        "colab_type": "text"
      },
      "cell_type": "markdown",
      "source": [
        "## Dictionaries"
      ]
    },
    {
      "metadata": {
        "id": "mJRv0FR1-Gu7",
        "colab_type": "code",
        "colab": {},
        "outputId": "5e84669c-5cbf-4f77-cdca-02b72d752d03"
      },
      "cell_type": "code",
      "source": [
        "my_di={'usa':'wha','españa':15000}\n",
        "my_di"
      ],
      "execution_count": 0,
      "outputs": [
        {
          "output_type": "execute_result",
          "data": {
            "text/plain": [
              "{'españa': 15000, 'usa': 'wha'}"
            ]
          },
          "metadata": {
            "tags": []
          },
          "execution_count": 61
        }
      ]
    },
    {
      "metadata": {
        "id": "AQ2O5JQw-Gu9",
        "colab_type": "code",
        "colab": {},
        "outputId": "07061a90-98c3-4b8d-c976-232e134dff6a"
      },
      "cell_type": "code",
      "source": [
        "casa={\"cuarto\":'cama',1:'uno'}\n",
        "print(casa)"
      ],
      "execution_count": 0,
      "outputs": [
        {
          "output_type": "stream",
          "text": [
            "{'cuarto': 'cama', 1: 'uno'}\n"
          ],
          "name": "stdout"
        }
      ]
    },
    {
      "metadata": {
        "id": "dzDPWIzk-GvC",
        "colab_type": "code",
        "colab": {},
        "outputId": "318f0c8f-bb20-4253-fb2a-dfb275abd798"
      },
      "cell_type": "code",
      "source": [
        "my_di.keys()"
      ],
      "execution_count": 0,
      "outputs": [
        {
          "output_type": "execute_result",
          "data": {
            "text/plain": [
              "dict_keys(['usa', 'españa'])"
            ]
          },
          "metadata": {
            "tags": []
          },
          "execution_count": 62
        }
      ]
    },
    {
      "metadata": {
        "id": "cv2ZLI8r-GvG",
        "colab_type": "code",
        "colab": {}
      },
      "cell_type": "code",
      "source": [
        "europe = {'spain':'madrid', 'france':'paris', 'germany':'berlin'}"
      ],
      "execution_count": 0,
      "outputs": []
    },
    {
      "metadata": {
        "id": "tI-KicTv-GvJ",
        "colab_type": "code",
        "colab": {},
        "outputId": "8bd24b55-e7eb-4119-ec48-8599444c767b"
      },
      "cell_type": "code",
      "source": [
        "europe.keys()"
      ],
      "execution_count": 0,
      "outputs": [
        {
          "output_type": "execute_result",
          "data": {
            "text/plain": [
              "dict_keys(['spain', 'france', 'germany'])"
            ]
          },
          "metadata": {
            "tags": []
          },
          "execution_count": 17
        }
      ]
    },
    {
      "metadata": {
        "id": "qwIjKaxQ-GvP",
        "colab_type": "code",
        "colab": {},
        "outputId": "ceed63cf-71a6-4192-8446-5b7b47fe9160"
      },
      "cell_type": "code",
      "source": [
        "europe['spain']"
      ],
      "execution_count": 0,
      "outputs": [
        {
          "output_type": "execute_result",
          "data": {
            "text/plain": [
              "'madrid'"
            ]
          },
          "metadata": {
            "tags": []
          },
          "execution_count": 65
        }
      ]
    },
    {
      "metadata": {
        "id": "yUUmtXrQ-GvS",
        "colab_type": "code",
        "colab": {}
      },
      "cell_type": "code",
      "source": [
        "my_dict = {\n",
        "   \"key1\":\"value1\",\n",
        "   \"key2\":\"value2\",\n",
        "}"
      ],
      "execution_count": 0,
      "outputs": []
    },
    {
      "metadata": {
        "id": "y-xy6YhV-GvT",
        "colab_type": "text"
      },
      "cell_type": "markdown",
      "source": [
        "## Sentencias de control"
      ]
    },
    {
      "metadata": {
        "id": "6fq7B5Um-GvU",
        "colab_type": "code",
        "colab": {}
      },
      "cell_type": "code",
      "source": [
        "x=int(input('Ingresar numero:' ))"
      ],
      "execution_count": 0,
      "outputs": []
    },
    {
      "metadata": {
        "id": "srs1ct-P-GvX",
        "colab_type": "code",
        "colab": {},
        "outputId": "33cd28d2-eb1c-4e1f-acf5-0d40c5936800"
      },
      "cell_type": "code",
      "source": [
        "if x>0:\n",
        "    print('es mayor que cero')\n",
        "    \n",
        "elif x==0:\n",
        "    print('igual a cero')\n",
        "else:\n",
        "    print('menor que cero ')"
      ],
      "execution_count": 0,
      "outputs": [
        {
          "output_type": "stream",
          "text": [
            "es mayor que cero\n"
          ],
          "name": "stdout"
        }
      ]
    },
    {
      "metadata": {
        "id": "I39_d3Vl-Gvb",
        "colab_type": "text"
      },
      "cell_type": "markdown",
      "source": [
        "### Loops "
      ]
    },
    {
      "metadata": {
        "id": "pQqPcbtUBZwF",
        "colab_type": "text"
      },
      "cell_type": "markdown",
      "source": [
        "#### For loops "
      ]
    },
    {
      "metadata": {
        "id": "NMbga34c-Gvb",
        "colab_type": "code",
        "colab": {
          "base_uri": "https://localhost:8080/",
          "height": 83
        },
        "outputId": "adc030f6-d082-4bfd-e6af-4eec41f6e4c2"
      },
      "cell_type": "code",
      "source": [
        "palabras = ['Hola', 'que ', 'hace','!']\n",
        "\n",
        "for i in palabras:\n",
        "  print(i)\n",
        "  \n",
        "   \n"
      ],
      "execution_count": 0,
      "outputs": [
        {
          "output_type": "stream",
          "text": [
            "Hola\n",
            "que \n",
            "hace\n",
            "!\n"
          ],
          "name": "stdout"
        }
      ]
    },
    {
      "metadata": {
        "id": "c5UZH9E1-Gvl",
        "colab_type": "code",
        "colab": {},
        "outputId": "7d8e25e7-96e2-46d3-cc58-95d916ddcf26"
      },
      "cell_type": "code",
      "source": [
        "len(palabras)"
      ],
      "execution_count": 0,
      "outputs": [
        {
          "output_type": "execute_result",
          "data": {
            "text/plain": [
              "4"
            ]
          },
          "metadata": {
            "tags": []
          },
          "execution_count": 33
        }
      ]
    },
    {
      "metadata": {
        "id": "oomgKL-0-Gvn",
        "colab_type": "code",
        "colab": {},
        "outputId": "9e470144-ea78-472d-ec40-f67be71c0d38"
      },
      "cell_type": "code",
      "source": [
        "x = [[\"a\", \"b\", \"c\"],\n",
        "     [\"d\", \"e\", \"f\"],\n",
        "     [\"g\", \"h\", \"i\"]]\n",
        "\n",
        "for j in x[:]:\n",
        "    print(j)\n"
      ],
      "execution_count": 0,
      "outputs": [
        {
          "output_type": "stream",
          "text": [
            "['a', 'b', 'c']\n",
            "['d', 'e', 'f']\n",
            "['g', 'h', 'i']\n"
          ],
          "name": "stdout"
        }
      ]
    },
    {
      "metadata": {
        "id": "m04nQwgG-Gvp",
        "colab_type": "code",
        "colab": {
          "base_uri": "https://localhost:8080/",
          "height": 33
        },
        "outputId": "b1ae8a1e-4bc0-477a-fe69-6462ff2335a5"
      },
      "cell_type": "code",
      "source": [
        "palabras.insert(0,'palabra')\n",
        "print(palabras)"
      ],
      "execution_count": 0,
      "outputs": [
        {
          "output_type": "stream",
          "text": [
            "['palabra', 'Hola', 'que ', 'hace', '!']\n"
          ],
          "name": "stdout"
        }
      ]
    },
    {
      "metadata": {
        "id": "5lJ3zTPa-Gvr",
        "colab_type": "code",
        "colab": {},
        "outputId": "6f25a24b-885a-43e2-81b2-1218f0e1bd57"
      },
      "cell_type": "code",
      "source": [
        "for i in range(2,5):\n",
        "    print(i)"
      ],
      "execution_count": 0,
      "outputs": [
        {
          "output_type": "stream",
          "text": [
            "2\n",
            "3\n",
            "4\n"
          ],
          "name": "stdout"
        }
      ]
    },
    {
      "metadata": {
        "id": "GUUEd8bM-Gvt",
        "colab_type": "code",
        "colab": {},
        "outputId": "c0d2db9d-df8f-44d2-98c4-585850b3241d"
      },
      "cell_type": "code",
      "source": [
        "numeros=list(range(10))\n",
        "print(numeros)"
      ],
      "execution_count": 0,
      "outputs": [
        {
          "output_type": "stream",
          "text": [
            "[0, 1, 2, 3, 4, 5, 6, 7, 8, 9]\n"
          ],
          "name": "stdout"
        }
      ]
    },
    {
      "metadata": {
        "id": "pi_7b9SG-Gvw",
        "colab_type": "code",
        "colab": {
          "base_uri": "https://localhost:8080/",
          "height": 83
        },
        "outputId": "38e852db-4d49-4933-de1e-1e0f76688740"
      },
      "cell_type": "code",
      "source": [
        "nombres=['Juan', 'Jose', 'Maria','Chona']\n",
        "for indice in range(0,len(nombres)):\n",
        "    print(indice,nombres[indice])"
      ],
      "execution_count": 0,
      "outputs": [
        {
          "output_type": "stream",
          "text": [
            "0 Juan\n",
            "1 Jose\n",
            "2 Maria\n",
            "3 Chona\n"
          ],
          "name": "stdout"
        }
      ]
    },
    {
      "metadata": {
        "id": "yw1caRAM-Gvz",
        "colab_type": "code",
        "colab": {
          "base_uri": "https://localhost:8080/",
          "height": 83
        },
        "outputId": "c80ce19d-2c32-4848-e22e-a6dac4838e99"
      },
      "cell_type": "code",
      "source": [
        "for num in enumerate(nombres):\n",
        "    print(num)"
      ],
      "execution_count": 0,
      "outputs": [
        {
          "output_type": "stream",
          "text": [
            "(0, 'Juan')\n",
            "(1, 'Jose')\n",
            "(2, 'Maria')\n",
            "(3, 'Chona')\n"
          ],
          "name": "stdout"
        }
      ]
    },
    {
      "metadata": {
        "id": "rYSHV5V0-Gv0",
        "colab_type": "code",
        "colab": {},
        "outputId": "5a4c0e87-3bab-4798-a5c4-40da4efed043"
      },
      "cell_type": "code",
      "source": [
        "numeros=list(range(10))\n",
        "numeros.reverse()\n",
        "numeros\n",
        "\n"
      ],
      "execution_count": 0,
      "outputs": [
        {
          "output_type": "execute_result",
          "data": {
            "text/plain": [
              "[9, 8, 7, 6, 5, 4, 3, 2, 1, 0]"
            ]
          },
          "metadata": {
            "tags": []
          },
          "execution_count": 23
        }
      ]
    },
    {
      "metadata": {
        "id": "g_olyzgGFjvg",
        "colab_type": "code",
        "colab": {
          "base_uri": "https://localhost:8080/",
          "height": 83
        },
        "outputId": "a914d937-0205-4480-b566-d423a8733368"
      },
      "cell_type": "code",
      "source": [
        "for n in range(2, 10):\n",
        "    for x in range(2, n):\n",
        "         if n % x == 0:\n",
        "             #print(n, 'igual', x, '*', n//x)\n",
        "             break # rompe con el loop \n",
        "    else:\n",
        "         \n",
        "        print(n, 'es un numero primo')"
      ],
      "execution_count": 0,
      "outputs": [
        {
          "output_type": "stream",
          "text": [
            "2 es un numero primo\n",
            "3 es un numero primo\n",
            "5 es un numero primo\n",
            "7 es un numero primo\n"
          ],
          "name": "stdout"
        }
      ]
    },
    {
      "metadata": {
        "id": "z2nTV50DGvOq",
        "colab_type": "code",
        "colab": {
          "base_uri": "https://localhost:8080/",
          "height": 150
        },
        "outputId": "da56254f-1b5c-4a57-bedc-e9b79bd40a73"
      },
      "cell_type": "code",
      "source": [
        "for num in range(2, 10):\n",
        "    if num % 2 == 0:\n",
        "        print(\"Numero par\", num)\n",
        "        continue # te permite continuar con el ciclo\n",
        "    print(\"Impar\", num)"
      ],
      "execution_count": 0,
      "outputs": [
        {
          "output_type": "stream",
          "text": [
            "Numero par 2\n",
            "Impar 3\n",
            "Numero par 4\n",
            "Impar 5\n",
            "Numero par 6\n",
            "Impar 7\n",
            "Numero par 8\n",
            "Impar 9\n"
          ],
          "name": "stdout"
        }
      ]
    },
    {
      "metadata": {
        "id": "RsG0JhLcBUfd",
        "colab_type": "text"
      },
      "cell_type": "markdown",
      "source": [
        "#### While loops"
      ]
    },
    {
      "metadata": {
        "id": "KugXxbEtHNGV",
        "colab_type": "code",
        "colab": {
          "base_uri": "https://localhost:8080/",
          "height": 180
        },
        "outputId": "41b9273b-3667-4e21-b96e-dde13c294d08"
      },
      "cell_type": "code",
      "source": [
        "while True:\n",
        "  pass # no hace nada hasta que lo interumpas ---> Ctrl + C "
      ],
      "execution_count": 0,
      "outputs": [
        {
          "output_type": "error",
          "ename": "KeyboardInterrupt",
          "evalue": "ignored",
          "traceback": [
            "\u001b[0;31m---------------------------------------------------------------------------\u001b[0m",
            "\u001b[0;31mKeyboardInterrupt\u001b[0m                         Traceback (most recent call last)",
            "\u001b[0;32m<ipython-input-36-648a2bab0435>\u001b[0m in \u001b[0;36m<module>\u001b[0;34m()\u001b[0m\n\u001b[1;32m      1\u001b[0m \u001b[0;32mwhile\u001b[0m \u001b[0;32mTrue\u001b[0m\u001b[0;34m:\u001b[0m\u001b[0;34m\u001b[0m\u001b[0m\n\u001b[0;32m----> 2\u001b[0;31m   \u001b[0;32mpass\u001b[0m\u001b[0;34m\u001b[0m\u001b[0m\n\u001b[0m",
            "\u001b[0;31mKeyboardInterrupt\u001b[0m: "
          ]
        }
      ]
    },
    {
      "metadata": {
        "id": "S5a2xuceBf-8",
        "colab_type": "code",
        "colab": {
          "base_uri": "https://localhost:8080/",
          "height": 33
        },
        "outputId": "8be763be-0d14-46ca-9872-d3d990b0e13b"
      },
      "cell_type": "code",
      "source": [
        "#  Ejercicio Serie de Fibonacci\n",
        "\n",
        "# Asignamineto multiple de variables \n",
        "a, b = 0, 1\n",
        "\n",
        "# Ciclo\n",
        "while b < 1000:\n",
        "    print(b, end=',')\n",
        "    a, b = b, a+b\n"
      ],
      "execution_count": 0,
      "outputs": [
        {
          "output_type": "stream",
          "text": [
            "1,1,2,3,5,8,13,21,34,55,89,144,233,377,610,987,"
          ],
          "name": "stdout"
        }
      ]
    },
    {
      "metadata": {
        "id": "sAa5RA5KBgE4",
        "colab_type": "code",
        "colab": {}
      },
      "cell_type": "code",
      "source": [
        "# Do-while\n",
        "\n",
        "i = 1\n",
        "\n",
        "while True:\n",
        "    print(i)\n",
        "    i = i + 1\n",
        "    if(i > 3):\n",
        "        break\n"
      ],
      "execution_count": 0,
      "outputs": []
    },
    {
      "metadata": {
        "id": "oXKcJYl2BggZ",
        "colab_type": "code",
        "colab": {}
      },
      "cell_type": "code",
      "source": [
        ""
      ],
      "execution_count": 0,
      "outputs": []
    },
    {
      "metadata": {
        "id": "WkmRfhtIJkp8",
        "colab_type": "text"
      },
      "cell_type": "markdown",
      "source": [
        "### Funciones "
      ]
    },
    {
      "metadata": {
        "id": "VqUFUq0kJoLU",
        "colab_type": "code",
        "colab": {}
      },
      "cell_type": "code",
      "source": [
        "def nombre_funcion(argumento1, arg2,arg3=5, arg4='Hola'):\n",
        "  pass "
      ],
      "execution_count": 0,
      "outputs": []
    },
    {
      "metadata": {
        "id": "nXnmzaC6JoRC",
        "colab_type": "code",
        "colab": {}
      },
      "cell_type": "code",
      "source": [
        "def preguntar(pregunta, intentos=4, volver='Hazlo denuevo!'):\n",
        "    \n",
        "    while True:\n",
        "        ok = input(pregunta)\n",
        "        \n",
        "        if ok in (' s', ' si', ' sip',' sipirili'):\n",
        "          \n",
        "            return True\n",
        "        if ok in ('n', 'no', 'nop', 'nope'):\n",
        "            return False\n",
        "          \n",
        "        intentos -= 1\n",
        "        if intentos < 0:\n",
        "            raise ValueError('Respuiesta invalida')\n",
        "        print(volver)"
      ],
      "execution_count": 0,
      "outputs": []
    },
    {
      "metadata": {
        "id": "NEZPzm4uJoXx",
        "colab_type": "code",
        "colab": {
          "base_uri": "https://localhost:8080/",
          "height": 413
        },
        "outputId": "0410eab9-8734-4c79-b4c1-5894aa920260"
      },
      "cell_type": "code",
      "source": [
        "preguntar('Estas en el ith?')"
      ],
      "execution_count": 0,
      "outputs": [
        {
          "output_type": "stream",
          "text": [
            "Estas en el ith?re\n",
            "Hazlo denuevo!\n",
            "Estas en el ith?rvr\n",
            "Hazlo denuevo!\n",
            "Estas en el ith?dcsd\n",
            "Hazlo denuevo!\n",
            "Estas en el ith?cds\n",
            "Hazlo denuevo!\n",
            "Estas en el ith?few\n"
          ],
          "name": "stdout"
        },
        {
          "output_type": "error",
          "ename": "ValueError",
          "evalue": "ignored",
          "traceback": [
            "\u001b[0;31m---------------------------------------------------------------------------\u001b[0m",
            "\u001b[0;31mValueError\u001b[0m                                Traceback (most recent call last)",
            "\u001b[0;32m<ipython-input-41-bb4a72aa437d>\u001b[0m in \u001b[0;36m<module>\u001b[0;34m()\u001b[0m\n\u001b[0;32m----> 1\u001b[0;31m \u001b[0mpreguntar\u001b[0m\u001b[0;34m(\u001b[0m\u001b[0;34m'Estas en el ith?'\u001b[0m\u001b[0;34m)\u001b[0m\u001b[0;34m\u001b[0m\u001b[0m\n\u001b[0m",
            "\u001b[0;32m<ipython-input-37-5f77606098c1>\u001b[0m in \u001b[0;36mpreguntar\u001b[0;34m(respuesta, intentos, volver)\u001b[0m\n\u001b[1;32m     12\u001b[0m         \u001b[0mintentos\u001b[0m \u001b[0;34m-=\u001b[0m \u001b[0;36m1\u001b[0m\u001b[0;34m\u001b[0m\u001b[0m\n\u001b[1;32m     13\u001b[0m         \u001b[0;32mif\u001b[0m \u001b[0mintentos\u001b[0m \u001b[0;34m<\u001b[0m \u001b[0;36m0\u001b[0m\u001b[0;34m:\u001b[0m\u001b[0;34m\u001b[0m\u001b[0m\n\u001b[0;32m---> 14\u001b[0;31m             \u001b[0;32mraise\u001b[0m \u001b[0mValueError\u001b[0m\u001b[0;34m(\u001b[0m\u001b[0;34m'Respuiesta invalida'\u001b[0m\u001b[0;34m)\u001b[0m\u001b[0;34m\u001b[0m\u001b[0m\n\u001b[0m\u001b[1;32m     15\u001b[0m         \u001b[0mprint\u001b[0m\u001b[0;34m(\u001b[0m\u001b[0mvolver\u001b[0m\u001b[0;34m)\u001b[0m\u001b[0;34m\u001b[0m\u001b[0m\n",
            "\u001b[0;31mValueError\u001b[0m: Respuiesta invalida"
          ]
        }
      ]
    },
    {
      "metadata": {
        "id": "tQqqc6-WJod5",
        "colab_type": "code",
        "colab": {
          "base_uri": "https://localhost:8080/",
          "height": 66
        },
        "outputId": "298c4053-66be-4d76-d754-f28571d48702"
      },
      "cell_type": "code",
      "source": [
        "# Con *argv tu podras pasar multiples argumentos a tu funcion \n",
        "def multiples_argumentos(argumento1, *argv):\n",
        "    print(\"first normal arg:\", argumento1)\n",
        "    for arg in argv:\n",
        "        print( \"otro argumento con  *argv :\", arg)\n",
        "        \n",
        "multiples_argumentos('Hola','que','hace')"
      ],
      "execution_count": 0,
      "outputs": [
        {
          "output_type": "stream",
          "text": [
            "first normal arg: Hola\n",
            "otro argumento con  *argv : que\n",
            "otro argumento con  *argv : hace\n"
          ],
          "name": "stdout"
        }
      ]
    },
    {
      "metadata": {
        "id": "XCaiO_qj-Gv2",
        "colab_type": "text"
      },
      "cell_type": "markdown",
      "source": [
        "#### Ejercicio "
      ]
    },
    {
      "metadata": {
        "id": "_CJTj-sm-Gv3",
        "colab_type": "code",
        "colab": {}
      },
      "cell_type": "code",
      "source": [
        "def temperatura(centigrados):\n",
        "    #  Su Codigo\n",
        "    \n",
        "    return farenheit"
      ],
      "execution_count": 0,
      "outputs": []
    },
    {
      "metadata": {
        "id": "EpXpqQRK-Gv4",
        "colab_type": "code",
        "colab": {}
      },
      "cell_type": "code",
      "source": [
        "def cuadrado(x):\n",
        "    return x**2"
      ],
      "execution_count": 0,
      "outputs": []
    },
    {
      "metadata": {
        "id": "TeTh6jNT-Gv-",
        "colab_type": "code",
        "colab": {},
        "outputId": "d63ca930-ee73-42c9-b67d-060097414011"
      },
      "cell_type": "code",
      "source": [
        "cuadrado(2)"
      ],
      "execution_count": 0,
      "outputs": [
        {
          "output_type": "execute_result",
          "data": {
            "text/plain": [
              "4"
            ]
          },
          "metadata": {
            "tags": []
          },
          "execution_count": 31
        }
      ]
    },
    {
      "metadata": {
        "id": "gwLCFnmx-GwA",
        "colab_type": "code",
        "colab": {}
      },
      "cell_type": "code",
      "source": [
        "def suma(x,y,t,z):\n",
        "    suma=x+y+z+t\n",
        "    return suma"
      ],
      "execution_count": 0,
      "outputs": []
    },
    {
      "metadata": {
        "id": "H05abCOA-GwB",
        "colab_type": "code",
        "colab": {},
        "outputId": "7b3d3769-a273-47f5-9224-0dca350d569c"
      },
      "cell_type": "code",
      "source": [
        "suma(1,2,3,4)"
      ],
      "execution_count": 0,
      "outputs": [
        {
          "output_type": "execute_result",
          "data": {
            "text/plain": [
              "10"
            ]
          },
          "metadata": {
            "tags": []
          },
          "execution_count": 35
        }
      ]
    },
    {
      "metadata": {
        "id": "qZP0fbBV-GwE",
        "colab_type": "code",
        "colab": {}
      },
      "cell_type": "code",
      "source": [
        "def agregar(a,L=[]):\n",
        "    L.append(a)\n",
        "    return L"
      ],
      "execution_count": 0,
      "outputs": []
    },
    {
      "metadata": {
        "id": "YKiHI6ox-GwE",
        "colab_type": "code",
        "colab": {},
        "outputId": "1542ab2f-d49d-4b95-af66-448e1b0cf3a9"
      },
      "cell_type": "code",
      "source": [
        "agregar(3)"
      ],
      "execution_count": 0,
      "outputs": [
        {
          "output_type": "execute_result",
          "data": {
            "text/plain": [
              "[2, 2, 3, 2, 3, 3]"
            ]
          },
          "metadata": {
            "tags": []
          },
          "execution_count": 40
        }
      ]
    },
    {
      "metadata": {
        "id": "WWB5UWiy-GwG",
        "colab_type": "text"
      },
      "cell_type": "markdown",
      "source": [
        "hacer una funcion que acepte una lista de numeros y returne el curadrado de los numeros \n"
      ]
    },
    {
      "metadata": {
        "id": "jGQTGZyA-GwG",
        "colab_type": "code",
        "colab": {},
        "outputId": "f85e85e3-7d8b-431a-84c3-703c7743aba5"
      },
      "cell_type": "code",
      "source": [
        "lista=list(range(5))\n",
        "lista"
      ],
      "execution_count": 0,
      "outputs": [
        {
          "output_type": "execute_result",
          "data": {
            "text/plain": [
              "[0, 1, 2, 3, 4]"
            ]
          },
          "metadata": {
            "tags": []
          },
          "execution_count": 52
        }
      ]
    },
    {
      "metadata": {
        "id": "xAkHaK3m-GwI",
        "colab_type": "code",
        "colab": {}
      },
      "cell_type": "code",
      "source": [
        "def cuadrados(lista):\n",
        "    # Pista pueden utilizar un \n",
        "    # Su  codigo\n",
        "    cuad=[]\n",
        "    for i in lista:\n",
        "        cuad.append(lista[i]**2)\n",
        "    \n",
        "    return cuad"
      ],
      "execution_count": 0,
      "outputs": []
    },
    {
      "metadata": {
        "id": "wf-Zmjr7-GwK",
        "colab_type": "code",
        "colab": {},
        "outputId": "94753749-1d51-4dc1-b7dd-055f5bea14c2"
      },
      "cell_type": "code",
      "source": [
        "cuadrados(lista)"
      ],
      "execution_count": 0,
      "outputs": [
        {
          "output_type": "execute_result",
          "data": {
            "text/plain": [
              "[0, 1, 4, 9, 16]"
            ]
          },
          "metadata": {
            "tags": []
          },
          "execution_count": 55
        }
      ]
    },
    {
      "metadata": {
        "id": "ZdBDXVUj-GwM",
        "colab_type": "text"
      },
      "cell_type": "markdown",
      "source": [
        "### List Comprehension"
      ]
    },
    {
      "metadata": {
        "id": "3m9uvlqx-GwM",
        "colab_type": "code",
        "colab": {}
      },
      "cell_type": "code",
      "source": [
        "def cuad_pares(lista):\n",
        "    squares =[ x**2 for x in lista if x %2 ==0]\n",
        "    return squares"
      ],
      "execution_count": 0,
      "outputs": []
    },
    {
      "metadata": {
        "id": "D87ddFNu-GwO",
        "colab_type": "code",
        "colab": {},
        "outputId": "a5fa18d8-f080-474a-dc7a-50555643da46"
      },
      "cell_type": "code",
      "source": [
        "cuad_pares(list(range(5)))\n"
      ],
      "execution_count": 0,
      "outputs": [
        {
          "output_type": "execute_result",
          "data": {
            "text/plain": [
              "[0, 4, 16]"
            ]
          },
          "metadata": {
            "tags": []
          },
          "execution_count": 62
        }
      ]
    },
    {
      "metadata": {
        "id": "Jl-bYRK2-GwT",
        "colab_type": "text"
      },
      "cell_type": "markdown",
      "source": [
        "#### Ejercicio\n",
        "crear una funcion que tenga como argumento  una lista de strings y retorne los strings mayor a 5 letras"
      ]
    },
    {
      "metadata": {
        "id": "1g0AbX-2-GwT",
        "colab_type": "code",
        "colab": {}
      },
      "cell_type": "code",
      "source": [
        "def largo_cadena(lista):\n",
        "    #len(lista,string)\n",
        "    \n",
        "    return lista _mayor_5"
      ],
      "execution_count": 0,
      "outputs": []
    },
    {
      "metadata": {
        "id": "oGkvpJEi-GwV",
        "colab_type": "code",
        "colab": {}
      },
      "cell_type": "code",
      "source": [
        "cadena=['hola','hello']\n",
        "#len(cadena)\n",
        "cadena.append('que hace')"
      ],
      "execution_count": 0,
      "outputs": []
    },
    {
      "metadata": {
        "id": "5iMjiqXM-GwX",
        "colab_type": "code",
        "colab": {},
        "outputId": "2d6e9f8e-24e0-4a80-a720-fed09ba15a77"
      },
      "cell_type": "code",
      "source": [
        "nombres=['h','mike','dfsjbjbjbd']\n",
        "for i  in nombres:\n",
        "    print(len(i)>5)"
      ],
      "execution_count": 0,
      "outputs": [
        {
          "output_type": "stream",
          "text": [
            "False\n",
            "False\n",
            "True\n"
          ],
          "name": "stdout"
        }
      ]
    },
    {
      "metadata": {
        "id": "YfnysiSh-Gwc",
        "colab_type": "text"
      },
      "cell_type": "markdown",
      "source": [
        "### Dict comprehensions"
      ]
    },
    {
      "metadata": {
        "id": "VgotZ1c8-Gwd",
        "colab_type": "code",
        "colab": {},
        "outputId": "0eb39a3b-d57c-4fa6-a2f1-3a561d44ab7e"
      },
      "cell_type": "code",
      "source": [
        "numero=list(range(5))\n",
        "dict_comp={x:x**2 for x in numero if x %2==0}\n",
        "dict_comp"
      ],
      "execution_count": 0,
      "outputs": [
        {
          "output_type": "execute_result",
          "data": {
            "text/plain": [
              "{0: 0, 2: 4, 4: 16}"
            ]
          },
          "metadata": {
            "tags": []
          },
          "execution_count": 6
        }
      ]
    },
    {
      "metadata": {
        "id": "g7U71ANl-Gwh",
        "colab_type": "text"
      },
      "cell_type": "markdown",
      "source": [
        "#### ejercicio\n",
        "Hagan una funcion que tome un nunmero y te diga si un numero es positivo negativo o cero y par o impar"
      ]
    },
    {
      "metadata": {
        "id": "TOz7E7fq-Gwi",
        "colab_type": "text"
      },
      "cell_type": "markdown",
      "source": [
        ""
      ]
    },
    {
      "metadata": {
        "id": "y4eJocrQ-Gwi",
        "colab_type": "code",
        "colab": {},
        "outputId": "4ad6f52c-643f-48fb-e358-fbefbc87418a"
      },
      "cell_type": "code",
      "source": [
        "dicionario={1:'Jose',:'Daniel'}\n",
        "dicionario"
      ],
      "execution_count": 0,
      "outputs": [
        {
          "output_type": "execute_result",
          "data": {
            "text/plain": [
              "{'key': 'valor', 'key2': 56}"
            ]
          },
          "metadata": {
            "tags": []
          },
          "execution_count": 9
        }
      ]
    },
    {
      "metadata": {
        "id": "siNEiPRs-Gwm",
        "colab_type": "code",
        "colab": {}
      },
      "cell_type": "code",
      "source": [
        "lista_integrantes=['jose','manuel','petra']\n",
        "nuevo_miembro={nuevo:len(nuevo) for nuevo in lista_integrantes}"
      ],
      "execution_count": 0,
      "outputs": []
    },
    {
      "metadata": {
        "id": "OP5itdEb-Gwt",
        "colab_type": "code",
        "colab": {},
        "outputId": "37055f24-2555-4c9d-b224-62120a8b027b"
      },
      "cell_type": "code",
      "source": [
        "nuevo_miembro"
      ],
      "execution_count": 0,
      "outputs": [
        {
          "output_type": "execute_result",
          "data": {
            "text/plain": [
              "{'jose': 4, 'manuel': 6, 'petra': 5}"
            ]
          },
          "metadata": {
            "tags": []
          },
          "execution_count": 13
        }
      ]
    },
    {
      "metadata": {
        "id": "VCQZp_6j-Gww",
        "colab_type": "text"
      },
      "cell_type": "markdown",
      "source": [
        "### Union"
      ]
    },
    {
      "metadata": {
        "id": "e8H2wro2-Gwx",
        "colab_type": "code",
        "colab": {},
        "outputId": "5e22542a-36e1-44aa-818d-5c383be247ce"
      },
      "cell_type": "code",
      "source": [
        "lista1=['hola','como','estas']\n",
        "lista2=['al ','frega','zo']\n",
        "union=zip(lista1,lista2)\n",
        "print(list(union))\n",
        "dict(lista)"
      ],
      "execution_count": 0,
      "outputs": [
        {
          "output_type": "stream",
          "text": [
            "[('hola', 'al '), ('como', 'frega'), ('estas', 'zo')]\n"
          ],
          "name": "stdout"
        }
      ]
    },
    {
      "metadata": {
        "id": "0lD8QxA9-Gw1",
        "colab_type": "text"
      },
      "cell_type": "markdown",
      "source": [
        "#### Ejercicio\n",
        "Crear una funcion que tome dos listas como argumento y returne la union"
      ]
    },
    {
      "metadata": {
        "id": "lIa7S8aF-Gw1",
        "colab_type": "code",
        "colab": {}
      },
      "cell_type": "code",
      "source": [
        "def union(lista1,lista2):\n",
        "    return uniones "
      ],
      "execution_count": 0,
      "outputs": []
    },
    {
      "metadata": {
        "id": "pWeCWC1a-Gw3",
        "colab_type": "text"
      },
      "cell_type": "markdown",
      "source": [
        "### Funciones lambda"
      ]
    },
    {
      "metadata": {
        "id": "FSuFgGpS-Gw3",
        "colab_type": "code",
        "colab": {},
        "outputId": "67f85e43-f7aa-497a-e5d2-80c9ca91c8d7"
      },
      "cell_type": "code",
      "source": [
        "num=[1,2,3,4,5]\n",
        "funcion=lambda x:x**2\n",
        "elevar=map(funcion,num)\n",
        "list(elevar)"
      ],
      "execution_count": 0,
      "outputs": [
        {
          "output_type": "execute_result",
          "data": {
            "text/plain": [
              "[1, 4, 9, 16, 25]"
            ]
          },
          "metadata": {
            "tags": []
          },
          "execution_count": 31
        }
      ]
    },
    {
      "metadata": {
        "id": "L8laFm_R-Gw6",
        "colab_type": "code",
        "colab": {},
        "outputId": "51ffac19-5cf8-4883-e5ae-9d65438b967a"
      },
      "cell_type": "code",
      "source": [
        "sumar=lambda x,y:x+y\n",
        "sumar(3,2)"
      ],
      "execution_count": 0,
      "outputs": [
        {
          "output_type": "execute_result",
          "data": {
            "text/plain": [
              "5"
            ]
          },
          "metadata": {
            "tags": []
          },
          "execution_count": 33
        }
      ]
    },
    {
      "metadata": {
        "id": "zvhWKG25-Gw_",
        "colab_type": "code",
        "colab": {}
      },
      "cell_type": "code",
      "source": [
        "lista_integrantes=['jose','manuel','petra']\n",
        "filtro=filter(lambda integrante:len(integrante)>5,lista_integrantes)"
      ],
      "execution_count": 0,
      "outputs": []
    },
    {
      "metadata": {
        "id": "SO7Vy1xx-GxE",
        "colab_type": "code",
        "colab": {},
        "outputId": "2eea5263-c8f6-4ec4-9f38-aeaedf9a6bb5"
      },
      "cell_type": "code",
      "source": [
        "list(filtro)"
      ],
      "execution_count": 0,
      "outputs": [
        {
          "output_type": "execute_result",
          "data": {
            "text/plain": [
              "['manuel']"
            ]
          },
          "metadata": {
            "tags": []
          },
          "execution_count": 38
        }
      ]
    },
    {
      "metadata": {
        "id": "rl_kammO-GxF",
        "colab_type": "text"
      },
      "cell_type": "markdown",
      "source": [
        "### Sets\n",
        "un conjunto de datos no ordenados"
      ]
    },
    {
      "metadata": {
        "id": "figDt0I2-GxG",
        "colab_type": "code",
        "colab": {},
        "outputId": "72dbd33e-3d8f-4d4f-b1f7-491f4524691f"
      },
      "cell_type": "code",
      "source": [
        "animales={'gato','perro','elefante','caballo'}\n",
        "print('gato' in animales)"
      ],
      "execution_count": 0,
      "outputs": [
        {
          "output_type": "stream",
          "text": [
            "True\n"
          ],
          "name": "stdout"
        }
      ]
    },
    {
      "metadata": {
        "id": "fCn-Dz9o-GxH",
        "colab_type": "code",
        "colab": {},
        "outputId": "dccab7b4-32ce-421f-e5fe-0ebfc660e508"
      },
      "cell_type": "code",
      "source": [
        "for idx, valor in enumerate(animales):\n",
        "    print('%d:%s'% (idx+1,valor))"
      ],
      "execution_count": 0,
      "outputs": [
        {
          "output_type": "stream",
          "text": [
            "1:caballo\n",
            "2:perro\n",
            "3:gato\n",
            "4:elefante\n"
          ],
          "name": "stdout"
        }
      ]
    },
    {
      "metadata": {
        "id": "C7wmgqY3-GxK",
        "colab_type": "code",
        "colab": {}
      },
      "cell_type": "code",
      "source": [
        ""
      ],
      "execution_count": 0,
      "outputs": []
    },
    {
      "metadata": {
        "id": "9CEZgiPh-GxL",
        "colab_type": "code",
        "colab": {}
      },
      "cell_type": "code",
      "source": [
        ""
      ],
      "execution_count": 0,
      "outputs": []
    }
  ]
}