{
  "nbformat": 4,
  "nbformat_minor": 0,
  "metadata": {
    "colab": {
      "name": "Signals Processing for ML.ipynb",
      "provenance": [],
      "collapsed_sections": [
        "o2TwXDz_p90k",
        "xxPdz7bbZfBw"
      ],
      "include_colab_link": true
    },
    "kernelspec": {
      "name": "python3",
      "display_name": "Python 3"
    }
  },
  "cells": [
    {
      "cell_type": "markdown",
      "metadata": {
        "id": "view-in-github",
        "colab_type": "text"
      },
      "source": [
        "<a href=\"https://colab.research.google.com/github/DanielhCarranza/Curso-Deep-Learning/blob/master/Signals_Processing_for_ML.ipynb\" target=\"_parent\"><img src=\"https://colab.research.google.com/assets/colab-badge.svg\" alt=\"Open In Colab\"/></a>"
      ]
    },
    {
      "cell_type": "markdown",
      "metadata": {
        "id": "Neuuo2YGsGb5"
      },
      "source": [
        "# Signal processing for ML"
      ]
    },
    {
      "cell_type": "markdown",
      "metadata": {
        "id": "sl5V-EWcUNWK"
      },
      "source": [
        "## Fast Fourier Transform\n",
        "Fourier analysis is a method for expressing a function as a sum of periodic components, and for recovering the signal from those components. When both the function and its Fourier transform are replaced with discretized counterparts, it is called the discrete Fourier transform (DFT). The DFT has become a mainstay of numerical computing in part because of a very fast algorithm for computing it, called the Fast Fourier Transform (FFT)"
      ]
    },
    {
      "cell_type": "code",
      "metadata": {
        "id": "pnYEzShUZesP"
      },
      "source": [
        "from scipy.fftpack import fft , ifft, ifftshift\n",
        "\n",
        "import numpy as np\n",
        "import pandas as pd\n",
        "import matplotlib.pyplot as plt\n",
        "\n",
        "\n",
        "from sklearn.preprocessing import StandardScaler, LabelEncoder\n",
        "from sklearn.model_selection import train_test_split\n",
        "from sklearn.metrics import accuracy_score\n",
        "from sklearn.decomposition import PCA\n",
        "from sklearn.manifold import TSNE\n",
        "\n",
        "\n",
        "from lightgbm import LGBMClassifier\n",
        "from collections import Counter\n",
        "\n",
        "\n",
        "% matplotlib inline"
      ],
      "execution_count": null,
      "outputs": []
    },
    {
      "cell_type": "code",
      "metadata": {
        "id": "oAiEfinuZew2"
      },
      "source": [
        "help(fft)"
      ],
      "execution_count": null,
      "outputs": []
    },
    {
      "cell_type": "markdown",
      "metadata": {
        "id": "IYRTFOXhiumO"
      },
      "source": [
        "The real part of the complex value corresponds with the magnitude, and the imaginary part with the phase of the signal. Since we are only interested in the magnitude of the amplitudes, we use `np.abs()`` to take the real part of the frequency spectrum."
      ]
    },
    {
      "cell_type": "code",
      "metadata": {
        "id": "JeroOJnaZe1B"
      },
      "source": [
        "def get_Fast_Fourier_Transform(X, T:int, N:int, Fs:int=None):\n",
        "    \"\"\" Fast Fourier Transform \n",
        "    Args:\n",
        "      X: function or signal: array\n",
        "      T: period = 1/Fs\n",
        "      N: Number of sample points\n",
        "      Fs: sampling frequency\n",
        "    Rerturn\n",
        "    frequency_values \n",
        "    fft_values: vector of complex valued frequencies\n",
        "    \"\"\"\n",
        "    if Fs != None:\n",
        "      T=1/Fs\n",
        "      \n",
        "    frequency_values= np.linspace(0,1.0/(2.0*T), N//2) # we divide by 2, because of Nyquist \n",
        "    fft_values_ =fft(X)\n",
        "    fft_values= 2.0/N * np.abs(fft_values_[0:N//2]) # after N//2 the values really doesn't matter \n",
        "    \n",
        "    return frequency_values, fft_values\n",
        "        "
      ],
      "execution_count": null,
      "outputs": []
    },
    {
      "cell_type": "code",
      "metadata": {
        "id": "uC0rVFfShjX-"
      },
      "source": [
        "t_n = 10 \n",
        "N = 1000\n",
        "T = t_n / N \n",
        "f_s = 1/T # 100hz sampling frequency"
      ],
      "execution_count": null,
      "outputs": []
    },
    {
      "cell_type": "code",
      "metadata": {
        "id": "M2PZMo7VZe5J"
      },
      "source": [
        "x=np.linspace(0.0, N*T, N)\n",
        "X =np.sin(25.0 * 2.0*np.pi*x) + 0.5*np.sin(40.0 * 2.0*np.pi*x)\n",
        "\n",
        "frequency_values, fft_values= get_Fast_Fourier_Transform(X, T, N)    "
      ],
      "execution_count": null,
      "outputs": []
    },
    {
      "cell_type": "code",
      "metadata": {
        "id": "05C0fswtZe9c",
        "colab": {
          "base_uri": "https://localhost:8080/",
          "height": 302
        },
        "outputId": "b012e7bb-feae-43ba-ac87-c40a29bc54e2"
      },
      "source": [
        "plt.plot(frequency_values, fft_values, linestyle='-', color='blue')\n",
        "plt.xlabel('Frequency [Hz]', fontsize=16)\n",
        "plt.ylabel('Amplitude', fontsize=16)\n",
        "plt.title(\"Frequency domain of the signal\", fontsize=16)\n",
        "plt.show()"
      ],
      "execution_count": null,
      "outputs": [
        {
          "output_type": "display_data",
          "data": {
            "image/png": "[encoded data removed]",
            "text/plain": [
              "<Figure size 432x288 with 1 Axes>"
            ]
          },
          "metadata": {
            "tags": []
          }
        }
      ]
    },
    {
      "cell_type": "markdown",
      "metadata": {
        "id": "o2TwXDz_p90k"
      },
      "source": [
        "## Auto-correlation of a Signal\n",
        "The auto-correlation function calculates the correlation of a signal with a time-delayed version of itself. The idea behind it is that if a signal contain a pattern which repeats itself after a time-period of $\\tau$ seconds, there will be a high correlation between the signal and a $\\tau$ sec delayed version of the signal."
      ]
    },
    {
      "cell_type": "code",
      "metadata": {
        "id": "bJLkx0ZJp96n"
      },
      "source": [
        "def autocorr(x):\n",
        "    result = np.correlate(x, x, mode='full')\n",
        "    return result[len(result)//2:] "
      ],
      "execution_count": null,
      "outputs": []
    },
    {
      "cell_type": "code",
      "metadata": {
        "id": "LyVZlNl1p9_S"
      },
      "source": [
        "def get_autocorr_values(y_values, T, N):\n",
        "    autocorr_values = autocorr(y_values)\n",
        "    x_values = np.array([T * i for i in range(0, N)])\n",
        "    return x_values, autocorr_values"
      ],
      "execution_count": null,
      "outputs": []
    },
    {
      "cell_type": "code",
      "metadata": {
        "id": "o4IUuN38p-Ec"
      },
      "source": [
        "t_values, autocorr_values = get_autocorr_values(X, T, N)\n",
        " "
      ],
      "execution_count": null,
      "outputs": []
    },
    {
      "cell_type": "code",
      "metadata": {
        "id": "jjPtNgWOsRYg"
      },
      "source": [
        "# def autocorrelation(x):\n",
        "#     xp = ifftshift((x - np.average(x))/np.std(x))\n",
        "#     n, = xp.shape\n",
        "#     xp = np.r_[xp[:n//2], np.zeros_like(xp), xp[n//2:]]\n",
        "#     f = fft(xp)\n",
        "#     p = np.absolute(f)**2\n",
        "#     pi = ifft(p)\n",
        "#     return np.real(pi)[:n//2]/(np.arange(n//2)[::-1]+n//2)\n",
        "# autocorr_values= autocorrelation(X)"
      ],
      "execution_count": null,
      "outputs": []
    },
    {
      "cell_type": "code",
      "metadata": {
        "id": "18ruO21rqp1O",
        "colab": {
          "base_uri": "https://localhost:8080/",
          "height": 296
        },
        "outputId": "90c67fc4-d26a-4602-c954-c435db76ae68"
      },
      "source": [
        "plt.plot(t_values, autocorr_values, linestyle='-', color='blue')\n",
        "plt.xlabel('time delay [s]')\n",
        "plt.ylabel('Autocorrelation amplitude')\n"
      ],
      "execution_count": null,
      "outputs": [
        {
          "output_type": "execute_result",
          "data": {
            "text/plain": [
              "Text(0, 0.5, 'Autocorrelation amplitude')"
            ]
          },
          "metadata": {
            "tags": []
          },
          "execution_count": 50
        },
        {
          "output_type": "display_data",
          "data": {
            "image/png": "[encoded data removed]",
            "text/plain": [
              "<Figure size 432x288 with 1 Axes>"
            ]
          },
          "metadata": {
            "tags": []
          }
        }
      ]
    },
    {
      "cell_type": "markdown",
      "metadata": {
        "id": "xxPdz7bbZfBw"
      },
      "source": [
        "## Power Spectral Density \n",
        "Power **spectral density function** (PSD) shows the strength of the variations(energy) as a function of frequency. In other words, it shows at which frequencies variations are strong and at which frequencies variations are weak. The unit of PSD is energy per frequency(width) and you can obtain energy within a specific frequency range by integrating PSD within that frequency range. Computation of PSD is done directly by the method called FFT or computing autocorrelation function\n",
        "\n",
        "\n",
        "Similar to the FFT, it describes the frequency spectrum of a signal. But in addition to the FFT it also takes the power distribution at each frequency (bin) into account. Generally speaking the locations of the peaks in the frequency spectrum will be the same as in the FFT-case, but the height and width of the peaks will differ. The surface below the peaks corresponds with the power distribution at that frequency.\n",
        "\n",
        "*Note:* \n",
        "Power Spectral Density is the Fourier Transform of the autocorrelation function of a signal. First compute the auto correlation function and then compute its Fourier Transform"
      ]
    },
    {
      "cell_type": "code",
      "metadata": {
        "id": "ZtHgnnNoZfGU"
      },
      "source": [
        "from scipy.signal import welch"
      ],
      "execution_count": null,
      "outputs": []
    },
    {
      "cell_type": "code",
      "metadata": {
        "id": "bTPpw-brZfK2"
      },
      "source": [
        "help(welch)"
      ],
      "execution_count": null,
      "outputs": []
    },
    {
      "cell_type": "code",
      "metadata": {
        "id": "O1lcMMavZfT-"
      },
      "source": [
        "\n",
        "t_n = 10\n",
        "N = 1000\n",
        "T = t_n / N\n",
        "f_s = 1/T\n",
        " \n",
        "x=np.linspace(0.0, N*T, N)\n",
        "X =np.sin(25.0 * 2.0*np.pi*x) + 0.5*np.sin(40.0 * 2.0*np.pi*x)\n"
      ],
      "execution_count": null,
      "outputs": []
    },
    {
      "cell_type": "code",
      "metadata": {
        "id": "TjAgrxNYZfYl"
      },
      "source": [
        "f_values, psd_values = welch(X, fs=f_s)\n",
        "\n"
      ],
      "execution_count": null,
      "outputs": []
    },
    {
      "cell_type": "code",
      "metadata": {
        "id": "higMJlQPZfdJ",
        "colab": {
          "base_uri": "https://localhost:8080/",
          "height": 279
        },
        "outputId": "b7fe7151-466b-4c56-fce8-b2ab6cca00ac"
      },
      "source": [
        "plt.plot(f_values, psd_values, linestyle='-', color='blue')\n",
        "plt.xlabel('Frequency [Hz]')\n",
        "plt.ylabel('PSD [V**2 / Hz]')\n",
        "plt.show()"
      ],
      "execution_count": null,
      "outputs": [
        {
          "output_type": "display_data",
          "data": {
            "image/png": "[encoded data removed]",
            "text/plain": [
              "<Figure size 432x288 with 1 Axes>"
            ]
          },
          "metadata": {
            "tags": []
          }
        }
      ]
    },
    {
      "cell_type": "markdown",
      "metadata": {
        "id": "cLU8N0mSZfhk"
      },
      "source": [
        "## Statistical parameter estimation and feature extraction\n",
        "\n",
        "\n",
        "We can calculate the FFT, PSD and the auto-correlation of each signal and use the x and y coordinates of the peaks as input for our classifier.\n",
        "\n",
        "![alt text](http://ataspinar.com/wp-content/uploads/2018/01/signal_to_matrix2-1024x638.png)"
      ]
    },
    {
      "cell_type": "code",
      "metadata": {
        "id": "jrGiTYgnZfl2"
      },
      "source": [
        ""
      ],
      "execution_count": null,
      "outputs": []
    },
    {
      "cell_type": "markdown",
      "metadata": {
        "id": "KiZizdQf4k6T"
      },
      "source": [
        "### Dataset Human Activity Recognition with Smartphones\n",
        "This dataset contains measurements done by 30 people between the ages of 19 to 48. The measurements are done with a smartphone placed on the waist while doing one of the following six activities:\n",
        "\n",
        "* walking,\n",
        "* walking upstairs,\n",
        "* walking downstairs,\n",
        "* sitting,\n",
        "* standing or\n",
        "* laying.\n",
        "\n",
        "The measurements are done at a constant rate of 50 Hz. After filtering out the noise, the signals are cut in fixed-width windows of 2.56 sec with an overlap of 1.28 sec. Each signal will therefore have 50 x 2.56 = 128 samples in total.\n",
        "\n",
        "The smartphone measures three-axial linear body acceleration, three-axial linear total acceleration and three-axial angular velocity. So per measurement, the total signal consists of nine components\n",
        "\n",
        "The sensor acceleration signal, which has gravitational and body motion components, was separated using a Butterworth low-pass filter into body acceleration and gravity. The gravitational force is assumed to have only low frequency components, therefore a filter with 0.3 Hz cutoff frequency was used.\n"
      ]
    },
    {
      "cell_type": "code",
      "metadata": {
        "id": "Dq0A_QGmRB70",
        "colab": {
          "base_uri": "https://localhost:8080/",
          "height": 70
        },
        "outputId": "26b0eb88-afdb-4dde-8aff-468ee3436d05"
      },
      "source": [
        "# upload your kaggle json file\n",
        "!mkdir -p ~/.kaggle\n",
        "!cp kaggle.json ~/.kaggle/\n",
        "! chmod 600 /root/.kaggle/kaggle.json\n",
        "\n",
        "# download dataset \n",
        "# ! kaggle datasets download -d uciml/human-activity-recognition-with-smartphones\n",
        "! unzip human-activity-recognition-with-smartphones.zip"
      ],
      "execution_count": null,
      "outputs": [
        {
          "output_type": "stream",
          "text": [
            "Archive:  human-activity-recognition-with-smartphones.zip\n",
            "  inflating: test.csv                \n",
            "  inflating: train.csv               \n"
          ],
          "name": "stdout"
        }
      ]
    },
    {
      "cell_type": "code",
      "metadata": {
        "id": "5RfTHqvX3sRv"
      },
      "source": [
        "import numpy as np\n",
        "import pandas as pd\n",
        "import matplotlib.pyplot as plt\n",
        "\n",
        "\n",
        "from sklearn.preprocessing import StandardScaler, LabelEncoder\n",
        "from sklearn.model_selection import train_test_split\n",
        "from sklearn.metrics import accuracy_score\n",
        "from sklearn.decomposition import PCA\n",
        "from sklearn.manifold import TSNE\n",
        "\n",
        "\n",
        "from lightgbm import LGBMClassifier\n",
        "from collections import Counter\n"
      ],
      "execution_count": null,
      "outputs": []
    },
    {
      "cell_type": "code",
      "metadata": {
        "id": "AjnowfE4Zfqf"
      },
      "source": [
        "train=pd.read_csv('train.csv')\n",
        "test= pd.read_csv('test.csv')\n"
      ],
      "execution_count": null,
      "outputs": []
    },
    {
      "cell_type": "code",
      "metadata": {
        "id": "X2AMxrD0ZfvA",
        "colab": {
          "base_uri": "https://localhost:8080/",
          "height": 270
        },
        "outputId": "f0502c4e-9663-450e-ac36-0aeb043a7ef6"
      },
      "source": [
        "train.head()"
      ],
      "execution_count": null,
      "outputs": [
        {
          "output_type": "execute_result",
          "data": {
            "text/html": [
              "<div>\n",
              "<style scoped>\n",
              "    .dataframe tbody tr th:only-of-type {\n",
              "        vertical-align: middle;\n",
              "    }\n",
              "\n",
              "    .dataframe tbody tr th {\n",
              "        vertical-align: top;\n",
              "    }\n",
              "\n",
              "    .dataframe thead th {\n",
              "        text-align: right;\n",
              "    }\n",
              "</style>\n",
              "<table border=\"1\" class=\"dataframe\">\n",
              "  <thead>\n",
              "    <tr style=\"text-align: right;\">\n",
              "      <th></th>\n",
              "      <th>tBodyAcc-mean()-X</th>\n",
              "      <th>tBodyAcc-mean()-Y</th>\n",
              "      <th>tBodyAcc-mean()-Z</th>\n",
              "      <th>tBodyAcc-std()-X</th>\n",
              "      <th>tBodyAcc-std()-Y</th>\n",
              "      <th>tBodyAcc-std()-Z</th>\n",
              "      <th>tBodyAcc-mad()-X</th>\n",
              "      <th>tBodyAcc-mad()-Y</th>\n",
              "      <th>tBodyAcc-mad()-Z</th>\n",
              "      <th>tBodyAcc-max()-X</th>\n",
              "      <th>...</th>\n",
              "      <th>fBodyBodyGyroJerkMag-kurtosis()</th>\n",
              "      <th>angle(tBodyAccMean,gravity)</th>\n",
              "      <th>angle(tBodyAccJerkMean),gravityMean)</th>\n",
              "      <th>angle(tBodyGyroMean,gravityMean)</th>\n",
              "      <th>angle(tBodyGyroJerkMean,gravityMean)</th>\n",
              "      <th>angle(X,gravityMean)</th>\n",
              "      <th>angle(Y,gravityMean)</th>\n",
              "      <th>angle(Z,gravityMean)</th>\n",
              "      <th>subject</th>\n",
              "      <th>Activity</th>\n",
              "    </tr>\n",
              "  </thead>\n",
              "  <tbody>\n",
              "    <tr>\n",
              "      <th>0</th>\n",
              "      <td>0.288585</td>\n",
              "      <td>-0.020294</td>\n",
              "      <td>-0.132905</td>\n",
              "      <td>-0.995279</td>\n",
              "      <td>-0.983111</td>\n",
              "      <td>-0.913526</td>\n",
              "      <td>-0.995112</td>\n",
              "      <td>-0.983185</td>\n",
              "      <td>-0.923527</td>\n",
              "      <td>-0.934724</td>\n",
              "      <td>...</td>\n",
              "      <td>-0.710304</td>\n",
              "      <td>-0.112754</td>\n",
              "      <td>0.030400</td>\n",
              "      <td>-0.464761</td>\n",
              "      <td>-0.018446</td>\n",
              "      <td>-0.841247</td>\n",
              "      <td>0.179941</td>\n",
              "      <td>-0.058627</td>\n",
              "      <td>1</td>\n",
              "      <td>STANDING</td>\n",
              "    </tr>\n",
              "    <tr>\n",
              "      <th>1</th>\n",
              "      <td>0.278419</td>\n",
              "      <td>-0.016411</td>\n",
              "      <td>-0.123520</td>\n",
              "      <td>-0.998245</td>\n",
              "      <td>-0.975300</td>\n",
              "      <td>-0.960322</td>\n",
              "      <td>-0.998807</td>\n",
              "      <td>-0.974914</td>\n",
              "      <td>-0.957686</td>\n",
              "      <td>-0.943068</td>\n",
              "      <td>...</td>\n",
              "      <td>-0.861499</td>\n",
              "      <td>0.053477</td>\n",
              "      <td>-0.007435</td>\n",
              "      <td>-0.732626</td>\n",
              "      <td>0.703511</td>\n",
              "      <td>-0.844788</td>\n",
              "      <td>0.180289</td>\n",
              "      <td>-0.054317</td>\n",
              "      <td>1</td>\n",
              "      <td>STANDING</td>\n",
              "    </tr>\n",
              "    <tr>\n",
              "      <th>2</th>\n",
              "      <td>0.279653</td>\n",
              "      <td>-0.019467</td>\n",
              "      <td>-0.113462</td>\n",
              "      <td>-0.995380</td>\n",
              "      <td>-0.967187</td>\n",
              "      <td>-0.978944</td>\n",
              "      <td>-0.996520</td>\n",
              "      <td>-0.963668</td>\n",
              "      <td>-0.977469</td>\n",
              "      <td>-0.938692</td>\n",
              "      <td>...</td>\n",
              "      <td>-0.760104</td>\n",
              "      <td>-0.118559</td>\n",
              "      <td>0.177899</td>\n",
              "      <td>0.100699</td>\n",
              "      <td>0.808529</td>\n",
              "      <td>-0.848933</td>\n",
              "      <td>0.180637</td>\n",
              "      <td>-0.049118</td>\n",
              "      <td>1</td>\n",
              "      <td>STANDING</td>\n",
              "    </tr>\n",
              "    <tr>\n",
              "      <th>3</th>\n",
              "      <td>0.279174</td>\n",
              "      <td>-0.026201</td>\n",
              "      <td>-0.123283</td>\n",
              "      <td>-0.996091</td>\n",
              "      <td>-0.983403</td>\n",
              "      <td>-0.990675</td>\n",
              "      <td>-0.997099</td>\n",
              "      <td>-0.982750</td>\n",
              "      <td>-0.989302</td>\n",
              "      <td>-0.938692</td>\n",
              "      <td>...</td>\n",
              "      <td>-0.482845</td>\n",
              "      <td>-0.036788</td>\n",
              "      <td>-0.012892</td>\n",
              "      <td>0.640011</td>\n",
              "      <td>-0.485366</td>\n",
              "      <td>-0.848649</td>\n",
              "      <td>0.181935</td>\n",
              "      <td>-0.047663</td>\n",
              "      <td>1</td>\n",
              "      <td>STANDING</td>\n",
              "    </tr>\n",
              "    <tr>\n",
              "      <th>4</th>\n",
              "      <td>0.276629</td>\n",
              "      <td>-0.016570</td>\n",
              "      <td>-0.115362</td>\n",
              "      <td>-0.998139</td>\n",
              "      <td>-0.980817</td>\n",
              "      <td>-0.990482</td>\n",
              "      <td>-0.998321</td>\n",
              "      <td>-0.979672</td>\n",
              "      <td>-0.990441</td>\n",
              "      <td>-0.942469</td>\n",
              "      <td>...</td>\n",
              "      <td>-0.699205</td>\n",
              "      <td>0.123320</td>\n",
              "      <td>0.122542</td>\n",
              "      <td>0.693578</td>\n",
              "      <td>-0.615971</td>\n",
              "      <td>-0.847865</td>\n",
              "      <td>0.185151</td>\n",
              "      <td>-0.043892</td>\n",
              "      <td>1</td>\n",
              "      <td>STANDING</td>\n",
              "    </tr>\n",
              "  </tbody>\n",
              "</table>\n",
              "<p>5 rows × 563 columns</p>\n",
              "</div>"
            ],
            "text/plain": [
              "   tBodyAcc-mean()-X  tBodyAcc-mean()-Y  tBodyAcc-mean()-Z  tBodyAcc-std()-X  \\\n",
              "0           0.288585          -0.020294          -0.132905         -0.995279   \n",
              "1           0.278419          -0.016411          -0.123520         -0.998245   \n",
              "2           0.279653          -0.019467          -0.113462         -0.995380   \n",
              "3           0.279174          -0.026201          -0.123283         -0.996091   \n",
              "4           0.276629          -0.016570          -0.115362         -0.998139   \n",
              "\n",
              "   tBodyAcc-std()-Y  tBodyAcc-std()-Z  tBodyAcc-mad()-X  tBodyAcc-mad()-Y  \\\n",
              "0         -0.983111         -0.913526         -0.995112         -0.983185   \n",
              "1         -0.975300         -0.960322         -0.998807         -0.974914   \n",
              "2         -0.967187         -0.978944         -0.996520         -0.963668   \n",
              "3         -0.983403         -0.990675         -0.997099         -0.982750   \n",
              "4         -0.980817         -0.990482         -0.998321         -0.979672   \n",
              "\n",
              "   tBodyAcc-mad()-Z  tBodyAcc-max()-X    ...     \\\n",
              "0         -0.923527         -0.934724    ...      \n",
              "1         -0.957686         -0.943068    ...      \n",
              "2         -0.977469         -0.938692    ...      \n",
              "3         -0.989302         -0.938692    ...      \n",
              "4         -0.990441         -0.942469    ...      \n",
              "\n",
              "   fBodyBodyGyroJerkMag-kurtosis()  angle(tBodyAccMean,gravity)  \\\n",
              "0                        -0.710304                    -0.112754   \n",
              "1                        -0.861499                     0.053477   \n",
              "2                        -0.760104                    -0.118559   \n",
              "3                        -0.482845                    -0.036788   \n",
              "4                        -0.699205                     0.123320   \n",
              "\n",
              "   angle(tBodyAccJerkMean),gravityMean)  angle(tBodyGyroMean,gravityMean)  \\\n",
              "0                              0.030400                         -0.464761   \n",
              "1                             -0.007435                         -0.732626   \n",
              "2                              0.177899                          0.100699   \n",
              "3                             -0.012892                          0.640011   \n",
              "4                              0.122542                          0.693578   \n",
              "\n",
              "   angle(tBodyGyroJerkMean,gravityMean)  angle(X,gravityMean)  \\\n",
              "0                             -0.018446             -0.841247   \n",
              "1                              0.703511             -0.844788   \n",
              "2                              0.808529             -0.848933   \n",
              "3                             -0.485366             -0.848649   \n",
              "4                             -0.615971             -0.847865   \n",
              "\n",
              "   angle(Y,gravityMean)  angle(Z,gravityMean)  subject  Activity  \n",
              "0              0.179941             -0.058627        1  STANDING  \n",
              "1              0.180289             -0.054317        1  STANDING  \n",
              "2              0.180637             -0.049118        1  STANDING  \n",
              "3              0.181935             -0.047663        1  STANDING  \n",
              "4              0.185151             -0.043892        1  STANDING  \n",
              "\n",
              "[5 rows x 563 columns]"
            ]
          },
          "metadata": {
            "tags": []
          },
          "execution_count": 58
        }
      ]
    },
    {
      "cell_type": "code",
      "metadata": {
        "id": "b-jrcrUDEE-m"
      },
      "source": [
        "labels= train.iloc[:,-1]\n",
        "train=  train.iloc[:,:-2]\n",
        "test_labels= test.iloc[:,-1]\n",
        "test=  test.iloc[:,:-2]\n"
      ],
      "execution_count": null,
      "outputs": []
    },
    {
      "cell_type": "code",
      "metadata": {
        "id": "EmljOTip6aSb",
        "colab": {
          "base_uri": "https://localhost:8080/",
          "height": 365
        },
        "outputId": "ea38ea6d-5cff-4edc-9d4b-d0fbecd5bc46"
      },
      "source": [
        "t=np.arange(0,len(train.iloc[:,0]),1)\n",
        "plt.plot(t,train.iloc[:,0])"
      ],
      "execution_count": null,
      "outputs": [
        {
          "output_type": "execute_result",
          "data": {
            "text/plain": [
              "[<matplotlib.lines.Line2D at 0x7f9a38deb7f0>]"
            ]
          },
          "metadata": {
            "tags": []
          },
          "execution_count": 17
        },
        {
          "output_type": "display_data",
          "data": {
            "image/png": "[encoded data removed]",
            "text/plain": [
              "<Figure size 576x396 with 1 Axes>"
            ]
          },
          "metadata": {
            "tags": []
          }
        }
      ]
    },
    {
      "cell_type": "code",
      "metadata": {
        "id": "JxkMzmQcZfzw",
        "colab": {
          "base_uri": "https://localhost:8080/",
          "height": 153
        },
        "outputId": "aae4367f-da94-4efd-d181-5eef2746a7d8"
      },
      "source": [
        "print(f'Activities {set(labels)} ')\n",
        "labels.value_counts()"
      ],
      "execution_count": null,
      "outputs": [
        {
          "output_type": "stream",
          "text": [
            "Activities {'LAYING', 'WALKING_UPSTAIRS', 'SITTING', 'STANDING', 'WALKING', 'WALKING_DOWNSTAIRS'} \n"
          ],
          "name": "stdout"
        },
        {
          "output_type": "execute_result",
          "data": {
            "text/plain": [
              "LAYING                1407\n",
              "STANDING              1374\n",
              "SITTING               1286\n",
              "WALKING               1226\n",
              "WALKING_UPSTAIRS      1073\n",
              "WALKING_DOWNSTAIRS     986\n",
              "Name: Activity, dtype: int64"
            ]
          },
          "metadata": {
            "tags": []
          },
          "execution_count": 94
        }
      ]
    },
    {
      "cell_type": "code",
      "metadata": {
        "id": "cNlri3mIZf4T",
        "colab": {
          "base_uri": "https://localhost:8080/",
          "height": 607
        },
        "outputId": "fcbaa32c-9df9-4b6f-cce9-3c1fc3bc1e5b"
      },
      "source": [
        "pd.DataFrame.from_dict(Counter([col.split('-')[0].split('(')[0] for col in train.columns]), orient='index').rename(columns={0:'count'}).sort_values('count', ascending=False)"
      ],
      "execution_count": null,
      "outputs": [
        {
          "output_type": "execute_result",
          "data": {
            "text/html": [
              "<div>\n",
              "<style scoped>\n",
              "    .dataframe tbody tr th:only-of-type {\n",
              "        vertical-align: middle;\n",
              "    }\n",
              "\n",
              "    .dataframe tbody tr th {\n",
              "        vertical-align: top;\n",
              "    }\n",
              "\n",
              "    .dataframe thead th {\n",
              "        text-align: right;\n",
              "    }\n",
              "</style>\n",
              "<table border=\"1\" class=\"dataframe\">\n",
              "  <thead>\n",
              "    <tr style=\"text-align: right;\">\n",
              "      <th></th>\n",
              "      <th>count</th>\n",
              "    </tr>\n",
              "  </thead>\n",
              "  <tbody>\n",
              "    <tr>\n",
              "      <th>fBodyGyro</th>\n",
              "      <td>79</td>\n",
              "    </tr>\n",
              "    <tr>\n",
              "      <th>fBodyAcc</th>\n",
              "      <td>79</td>\n",
              "    </tr>\n",
              "    <tr>\n",
              "      <th>fBodyAccJerk</th>\n",
              "      <td>79</td>\n",
              "    </tr>\n",
              "    <tr>\n",
              "      <th>tBodyAcc</th>\n",
              "      <td>40</td>\n",
              "    </tr>\n",
              "    <tr>\n",
              "      <th>tBodyAccJerk</th>\n",
              "      <td>40</td>\n",
              "    </tr>\n",
              "    <tr>\n",
              "      <th>tBodyGyro</th>\n",
              "      <td>40</td>\n",
              "    </tr>\n",
              "    <tr>\n",
              "      <th>tBodyGyroJerk</th>\n",
              "      <td>40</td>\n",
              "    </tr>\n",
              "    <tr>\n",
              "      <th>tGravityAcc</th>\n",
              "      <td>40</td>\n",
              "    </tr>\n",
              "    <tr>\n",
              "      <th>fBodyBodyGyroJerkMag</th>\n",
              "      <td>13</td>\n",
              "    </tr>\n",
              "    <tr>\n",
              "      <th>fBodyBodyGyroMag</th>\n",
              "      <td>13</td>\n",
              "    </tr>\n",
              "    <tr>\n",
              "      <th>fBodyBodyAccJerkMag</th>\n",
              "      <td>13</td>\n",
              "    </tr>\n",
              "    <tr>\n",
              "      <th>fBodyAccMag</th>\n",
              "      <td>13</td>\n",
              "    </tr>\n",
              "    <tr>\n",
              "      <th>tBodyGyroJerkMag</th>\n",
              "      <td>13</td>\n",
              "    </tr>\n",
              "    <tr>\n",
              "      <th>tBodyGyroMag</th>\n",
              "      <td>13</td>\n",
              "    </tr>\n",
              "    <tr>\n",
              "      <th>tBodyAccJerkMag</th>\n",
              "      <td>13</td>\n",
              "    </tr>\n",
              "    <tr>\n",
              "      <th>tGravityAccMag</th>\n",
              "      <td>13</td>\n",
              "    </tr>\n",
              "    <tr>\n",
              "      <th>tBodyAccMag</th>\n",
              "      <td>13</td>\n",
              "    </tr>\n",
              "    <tr>\n",
              "      <th>angle</th>\n",
              "      <td>7</td>\n",
              "    </tr>\n",
              "  </tbody>\n",
              "</table>\n",
              "</div>"
            ],
            "text/plain": [
              "                      count\n",
              "fBodyGyro                79\n",
              "fBodyAcc                 79\n",
              "fBodyAccJerk             79\n",
              "tBodyAcc                 40\n",
              "tBodyAccJerk             40\n",
              "tBodyGyro                40\n",
              "tBodyGyroJerk            40\n",
              "tGravityAcc              40\n",
              "fBodyBodyGyroJerkMag     13\n",
              "fBodyBodyGyroMag         13\n",
              "fBodyBodyAccJerkMag      13\n",
              "fBodyAccMag              13\n",
              "tBodyGyroJerkMag         13\n",
              "tBodyGyroMag             13\n",
              "tBodyAccJerkMag          13\n",
              "tGravityAccMag           13\n",
              "tBodyAccMag              13\n",
              "angle                     7"
            ]
          },
          "metadata": {
            "tags": []
          },
          "execution_count": 95
        }
      ]
    },
    {
      "cell_type": "markdown",
      "metadata": {
        "id": "MsuF0BGnDKpV"
      },
      "source": [
        "### Model without preproccessing"
      ]
    },
    {
      "cell_type": "code",
      "metadata": {
        "id": "zr6zEjbgZf9P"
      },
      "source": [
        "from sklearn.ensemble import RandomForestClassifier\n",
        "from sklearn.metrics import classification_report\n",
        " \n",
        "\n",
        "clf = RandomForestClassifier(n_estimators=1000)\n",
        "clf.fit(train, labels)\n",
        "\n"
      ],
      "execution_count": null,
      "outputs": []
    },
    {
      "cell_type": "code",
      "metadata": {
        "id": "sG0pVbG6Z3d5"
      },
      "source": [
        "sensor=np.expand_dims(X_test.iloc[0,:],axis=0)\n",
        "predecir_sensor= modelo.predict(sensor)"
      ],
      "execution_count": null,
      "outputs": []
    },
    {
      "cell_type": "code",
      "metadata": {
        "id": "Yk12igyYaMXz"
      },
      "source": [
        "\n",
        "pred = modelo.predict(X_test)\n",
        "print(classification_report(y_test, pred))"
      ],
      "execution_count": null,
      "outputs": []
    },
    {
      "cell_type": "code",
      "metadata": {
        "id": "eLWHXmk8LezC"
      },
      "source": [
        "\n",
        "print(\"Accuracy on training set is : {:.4f}\".format(clf.score(train, labels)))\n",
        "print(\"Accuracy on test set is : {:.4f}\".format(clf.score(test, test_labels)))\n",
        "Y_test_pred = clf.predict(test)\n",
        "print(classification_report(test_labels, Y_test_pred))"
      ],
      "execution_count": null,
      "outputs": []
    },
    {
      "cell_type": "markdown",
      "metadata": {
        "id": "VVrdpuGDGu10"
      },
      "source": [
        "### Model  with Principal Component Analysis"
      ]
    },
    {
      "cell_type": "code",
      "metadata": {
        "id": "nL_aSIeFKH9N"
      },
      "source": [
        "train=pd.read_csv('train.csv')\n",
        "test= pd.read_csv('test.csv')\n",
        "\n",
        "data = pd.concat([train, test], axis=0).reset_index(drop=True)"
      ],
      "execution_count": null,
      "outputs": []
    },
    {
      "cell_type": "code",
      "metadata": {
        "id": "-UJmGZkaGBOd"
      },
      "source": [
        "pca_data = data.iloc[:,:-2].copy()\n",
        "labels = data.iloc[:,-1]\n",
        "\n",
        "# Scale data\n",
        "scl = StandardScaler()\n",
        "pca_data = scl.fit_transform(pca_data)\n",
        "\n",
        "# Reduce dimensions (speed up)\n",
        "pca = PCA(n_components=0.9, random_state=3)\n",
        "pca_data = pca.fit_transform(pca_data)\n",
        "\n",
        "\n",
        "# Encode labels \n",
        "enc = LabelEncoder()\n",
        "label_encoded = enc.fit_transform(labels)\n",
        "\n",
        "# Split the data\n",
        "X_train, X_test, y_train, y_test = train_test_split(pca_data, label_encoded, random_state=3)\n"
      ],
      "execution_count": null,
      "outputs": []
    },
    {
      "cell_type": "markdown",
      "metadata": {
        "id": "HPxNLN14NZXr"
      },
      "source": [
        "#### LGBM Classifier with PCA"
      ]
    },
    {
      "cell_type": "code",
      "metadata": {
        "id": "3aiQSFfoZgC1"
      },
      "source": [
        "# Create the model\n",
        "lgbm = LGBMClassifier(n_estimators=500, random_state=3)\n",
        "lgbm = lgbm.fit(X_train, y_train)"
      ],
      "execution_count": null,
      "outputs": []
    },
    {
      "cell_type": "code",
      "metadata": {
        "id": "87HqcYBEFo5d",
        "colab": {
          "base_uri": "https://localhost:8080/",
          "height": 272
        },
        "outputId": "a3f3a22a-ed9b-4bfc-c10a-8fecbceeca19"
      },
      "source": [
        "y_pred=lgbm.predict(X_test)\n",
        "score = accuracy_score(y_true=y_test, y_pred=y_pred)\n",
        "print('Accuracy on testset:\\t{:.4f}\\n'.format(score))\n",
        "print(classification_report(y_test, y_pred))"
      ],
      "execution_count": null,
      "outputs": [
        {
          "output_type": "stream",
          "text": [
            "Accuracy on testset:\t0.9553\n",
            "\n",
            "              precision    recall  f1-score   support\n",
            "\n",
            "           0       0.99      0.99      0.99       502\n",
            "           1       0.92      0.87      0.89       443\n",
            "           2       0.89      0.93      0.91       457\n",
            "           3       0.99      0.98      0.99       446\n",
            "           4       0.98      0.97      0.98       343\n",
            "           5       0.96      0.98      0.97       384\n",
            "\n",
            "   micro avg       0.96      0.96      0.96      2575\n",
            "   macro avg       0.96      0.96      0.96      2575\n",
            "weighted avg       0.96      0.96      0.96      2575\n",
            "\n"
          ],
          "name": "stdout"
        }
      ]
    },
    {
      "cell_type": "markdown",
      "metadata": {
        "id": "cU5VxcC9NDCu"
      },
      "source": [
        "#### Random Forest Classifier with PCA"
      ]
    },
    {
      "cell_type": "code",
      "metadata": {
        "id": "uWDpRQXEFo-U",
        "colab": {
          "base_uri": "https://localhost:8080/",
          "height": 272
        },
        "outputId": "c565751d-91c7-4f81-9546-147ed10f5e97"
      },
      "source": [
        "clf = RandomForestClassifier(n_estimators=1000)\n",
        "clf.fit(X_train, y_train)\n",
        "print(\"Accuracy on training set is : {:.4f}\".format(clf.score(X_train, y_train)))\n",
        "print(\"Accuracy on test set is : {:.4f}\".format(clf.score(X_test, y_test)))\n",
        "Y_test_pred = clf.predict(X_test)\n",
        "print(classification_report(y_test, Y_test_pred))"
      ],
      "execution_count": null,
      "outputs": [
        {
          "output_type": "stream",
          "text": [
            "Accuracy on training set is : 1.0000\n",
            "Accuracy on test set is : 0.9429\n",
            "              precision    recall  f1-score   support\n",
            "\n",
            "           0       0.98      0.99      0.99       502\n",
            "           1       0.93      0.83      0.88       443\n",
            "           2       0.87      0.94      0.90       457\n",
            "           3       0.97      0.98      0.97       446\n",
            "           4       0.96      0.95      0.95       343\n",
            "           5       0.96      0.97      0.96       384\n",
            "\n",
            "   micro avg       0.94      0.94      0.94      2575\n",
            "   macro avg       0.94      0.94      0.94      2575\n",
            "weighted avg       0.94      0.94      0.94      2575\n",
            "\n"
          ],
          "name": "stdout"
        }
      ]
    },
    {
      "cell_type": "code",
      "metadata": {
        "id": "cDV1OKWzFpEx"
      },
      "source": [
        ""
      ],
      "execution_count": null,
      "outputs": []
    },
    {
      "cell_type": "code",
      "metadata": {
        "id": "584ZvK8xFpKd"
      },
      "source": [
        ""
      ],
      "execution_count": null,
      "outputs": []
    },
    {
      "cell_type": "code",
      "metadata": {
        "id": "hULdSffihjXH"
      },
      "source": [
        ""
      ],
      "execution_count": null,
      "outputs": []
    }
  ]
}