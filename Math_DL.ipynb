{
  "nbformat": 4,
  "nbformat_minor": 0,
  "metadata": {
    "colab": {
      "name": "Math_DL.ipynb",
      "version": "0.3.2",
      "provenance": [],
      "collapsed_sections": []
    },
    "kernelspec": {
      "name": "python3",
      "display_name": "Python 3"
    },
    "accelerator": "GPU"
  },
  "cells": [
    {
      "metadata": {
        "id": "JkJtjjQyiseV",
        "colab_type": "text"
      },
      "cell_type": "markdown",
      "source": [
        "# Fundamentos Matematicos para Deep Learning\n",
        "\n",
        "## Introduccion\n",
        "\n",
        "Es muy importante entender los fundamentos matematicos del DL ya que eso te permitira construir, conocer, entender e implementar los algoritmos de DL. Parte de los fundamentos que se veran se basan en este capitulo de libro:  [linear algebra chapter from the Deep Learning Book](http://www.deeplearningbook.org/contents/linear_algebra.html) by Goodfellow et al.. \n"
      ]
    },
    {
      "metadata": {
        "id": "pFPBvuzuixVJ",
        "colab_type": "code",
        "colab": {}
      },
      "cell_type": "code",
      "source": [
        "import numpy as np\n",
        "import pandas as pd \n",
        "import matplotlib.pyplot as plt\n",
        "import seaborn as sns\n",
        "\n"
      ],
      "execution_count": 0,
      "outputs": []
    },
    {
      "metadata": {
        "id": "SiQPV-gzixhA",
        "colab_type": "text"
      },
      "cell_type": "markdown",
      "source": [
        "## Scalars, Vectors, Matrices and Tensors\n",
        "\n",
        "Primero empezaremos por definir algunos conceptos:\n",
        "\n",
        "![Difference between a scalar, a vector, a matrix and a tensor](https://hadrienj.github.io/assets/images/2.1/scalar-vector-matrix-tensor.png)\n",
        "Difference between a scalar, a vector, a matrix and a tensor\n",
        "\n",
        "- A scalar is a single number\n",
        "- A vector is an array of numbers.\n",
        "\n",
        "$$\n",
        "{x} =\\begin{bmatrix}\n",
        "    x_1 \\\\\\\\\n",
        "    x_2 \\\\\\\\\n",
        "    \\cdots \\\\\\\\\n",
        "    x_n\n",
        "\\end{bmatrix}\n",
        "$$\n",
        "\n",
        "- A matrix is a 2-D array\n",
        "\n",
        "$$\n",
        "{A}=\n",
        "\\begin{bmatrix}\n",
        "    A_{1,1} & A_{1,2} & \\cdots & A_{1,n} \\\\\\\\\n",
        "    A_{2,1} & A_{2,2} & \\cdots & A_{2,n} \\\\\\\\\n",
        "    \\cdots & \\cdots & \\cdots & \\cdots \\\\\\\\\n",
        "    A_{m,1} & A_{m,2} & \\cdots & A_{m,n}\n",
        "\\end{bmatrix}\n",
        "$$\n",
        "\n",
        "- A tensor is a $n$-dimensional array with $n>2$\n",
        "\n",
        "We will follow the conventions used in the [Deep Learning Book](http://www.deeplearningbook.org/):\n",
        "\n",
        "- scalars are written in lowercase and italics. For instance: $n$\n",
        "- vectors are written in lowercase, italics and bold type. For instance: ${x}$\n",
        "- matrices are written in uppercase, italics and bold. For instance: ${X}$\n"
      ]
    },
    {
      "metadata": {
        "id": "UHnMKxxOixlp",
        "colab_type": "code",
        "colab": {
          "base_uri": "https://localhost:8080/",
          "height": 35
        },
        "outputId": "610245da-7180-4b56-9fe5-5175c4c8dc9a"
      },
      "cell_type": "code",
      "source": [
        "# Vector de 1D\n",
        "x = np.array([1, 2, 3, 4])\n",
        "x"
      ],
      "execution_count": 5,
      "outputs": [
        {
          "output_type": "execute_result",
          "data": {
            "text/plain": [
              "array([1, 2, 3, 4])"
            ]
          },
          "metadata": {
            "tags": []
          },
          "execution_count": 5
        }
      ]
    },
    {
      "metadata": {
        "id": "lL4ye4slixqH",
        "colab_type": "code",
        "colab": {
          "base_uri": "https://localhost:8080/",
          "height": 35
        },
        "outputId": "46d972e9-5fff-407e-df19-36ed6b53fb68"
      },
      "cell_type": "code",
      "source": [
        "# Dimensiones del vector\n",
        "x.shape"
      ],
      "execution_count": 6,
      "outputs": [
        {
          "output_type": "execute_result",
          "data": {
            "text/plain": [
              "(4,)"
            ]
          },
          "metadata": {
            "tags": []
          },
          "execution_count": 6
        }
      ]
    },
    {
      "metadata": {
        "id": "_ikHKO_gixue",
        "colab_type": "code",
        "colab": {
          "base_uri": "https://localhost:8080/",
          "height": 104
        },
        "outputId": "f8ca48fe-52e8-4c15-be17-9b3a1811ea54"
      },
      "cell_type": "code",
      "source": [
        "# Matriz de 2D\n",
        "A = np.array([[1, 2], \n",
        "              [3, 4], \n",
        "              [5, 6]])\n",
        "print(A)\n",
        "print(\"Dimensiones:  \")\n",
        "print(A.shape)"
      ],
      "execution_count": 18,
      "outputs": [
        {
          "output_type": "stream",
          "text": [
            "[[1 2]\n",
            " [3 4]\n",
            " [5 6]]\n",
            "Dimensiones:  \n",
            "(3, 2)\n"
          ],
          "name": "stdout"
        }
      ]
    },
    {
      "metadata": {
        "id": "U215relkixy9",
        "colab_type": "text"
      },
      "cell_type": "markdown",
      "source": [
        "##  Multiplying Matrices and Vectors\n",
        "\n",
        "The standard way to multiply matrices is not to multiply each element of one with each elements of the other (this is the element-wise product) but to calculate the sum of the products between rows and columns. The matrix product, also called **dot product**, is calculated as following:\n",
        "\n",
        "![alt text](https://hadrienj.github.io/assets/images/2.2/dot-product.png)\n",
        "\n",
        "<em>The dot product between a matrix and a vector</em>\n",
        "\n",
        "$$\n",
        "C_{i,j} = A_{i,k}B_{k,j} = \\sum_{k}A_{i,k}B_{k,j}\n",
        "$$\n",
        "\n",
        "The number of columns of the first matrix must be equal to the number of rows of the second matrix. Thus, if the dimensions, or the shape of the first matrix, is ($m \\times n$) the second matrix need to be of shape ($n \\times x$). The resulting matrix will have the shape ($m \\times x$).\n",
        "\n",
        "Matrix multiplication is :\n",
        "* Distributive:   ${A}({B}+{C}) = {AB}+{AC}$\n",
        "* Assosiative: $ ({A}{B})C = A({B}{C})$ \n",
        "* Not commutative ${AB} \\neq {BA}$"
      ]
    },
    {
      "metadata": {
        "id": "ITAXwX4Zo6s2",
        "colab_type": "code",
        "colab": {
          "base_uri": "https://localhost:8080/",
          "height": 69
        },
        "outputId": "021ea5a7-fe56-4048-9b3a-cb7e62ed2dad"
      },
      "cell_type": "code",
      "source": [
        "A = np.array([[1, 2, 3], \n",
        "              [4, 5, 6], \n",
        "              [7, 8, 9], \n",
        "              [10, 11, 12]])\n",
        "\n",
        "B = np.array([[2, 7], \n",
        "              [1, 2], \n",
        "              [3, 6]])\n",
        "\n",
        "print(\"A shape: \",A.shape)\n",
        "print(\"B shape: \",B.shape)\n",
        "\n",
        "# Dot product\n",
        "C= A @ B \n",
        "\n",
        "print(\"C shape: \", C.shape)\n"
      ],
      "execution_count": 7,
      "outputs": [
        {
          "output_type": "stream",
          "text": [
            "A shape:  (4, 3)\n",
            "B shape:  (3, 2)\n",
            "C shape:  (4, 2)\n"
          ],
          "name": "stdout"
        }
      ]
    },
    {
      "metadata": {
        "id": "aG0ypxfDo6yJ",
        "colab_type": "text"
      },
      "cell_type": "markdown",
      "source": [
        "## System of linear equations\n",
        "\n",
        "This is an important part of why linear algebra can be very useful to solve variety of problems. Here we will see that it can be use to represent system of equations.\n",
        "\n",
        "A system of equations is a set of multiple equations (at least 1). For instance we could have:\n",
        "\n",
        "$$\n",
        "\\begin{cases}\n",
        "y = 2x + 1 \\\\\\\\\n",
        "y = \\frac{7}{2}x +3\n",
        "\\end{cases}\n",
        "$$\n",
        "\n",
        "A system of equations is defined by its number of equations and its number of unknowns. In our example above, the system has 2 equations and 2 unknowns ($x$ and $y$). In addition we call this a system of **linear** equations because each equations is linear. It is easy to see that in 2 dimensions: we will have one straight line per equation and the dimensions are the unknowns. Here is the plot of the first one:\n",
        "\n",
        "![alt text](https://hadrienj.github.io/assets/images/2.2/plot-linear-equation.png)\n",
        "\n",
        "## Using matrices to describe the system\n",
        "\n",
        "Matrices can be used to describe a system of linear equations of the form ${Ax}={b}$. Here is such a system:\n",
        "\n",
        "$$\n",
        "A_{1,1}x_1 + A_{1,2}x_2 + A_{1,n}x_n = b_1 \\\\\\\\\n",
        "A_{2,1}x_1 + A_{2,2}x_2 + A_{2,n}x_n = b_2 \\\\\\\\\n",
        "\\cdots \\\\\\\\\n",
        "A_{m,1}x_1 + A_{m,2}x_2 + A_{m,n}x_n = b_n\n",
        "$$\n",
        "\n",
        "The unknowns (what we want to find to solve the system) are the variables $x_1$ and $x_2$ corresponding to the previous variables $x$ and $y$. It is exactly the same form as with the last example but with all the variables on the same side. $y = 2x + 1$ becomes $-2x + y = 1$ with $x$ corresponding to $x_1$ and $y$ corresponding to $x_2$. We will have $n$ unknowns and $m$ equations.\n",
        "\n",
        "The variables are named $x_1, x_2, \\cdots, x_n$ by convention because we will see that it can be summarised in the vector ${x}$.\n",
        "\n",
        "### Left hand side\n",
        "\n",
        "The left hand term can considered as the product of a matrix ${A}$ containing weights for each variable ($n$ columns) and each equation ($m$ rows):\n",
        "\n",
        "$$\n",
        "{A}=\n",
        "\\begin{bmatrix}\n",
        "    A_{1,1} & A_{1,2} & \\cdots & A_{1,n} \\\\\\\\\n",
        "    A_{2,1} & A_{2,2} & \\cdots & A_{2,n} \\\\\\\\\n",
        "    \\cdots & \\cdots & \\cdots & \\cdots \\\\\\\\\n",
        "    A_{m,1} & A_{m,2} & \\cdots & A_{m,n}\n",
        "\\end{bmatrix}\n",
        "$$\n",
        "\n",
        "with a vector ${x}$ containing the $n$ unknowns\n",
        "\n",
        "$$\n",
        "{x}=\n",
        "\\begin{bmatrix}\n",
        "    x_1 \\\\\\\\\n",
        "    x_2 \\\\\\\\\n",
        "    \\cdots \\\\\\\\\n",
        "    x_n\n",
        "\\end{bmatrix}\n",
        "$$\n",
        "\n",
        "The dot product of ${A}$ and ${x}$ gives a set of equations. Here is a simple example:\n",
        "\n",
        "![alt text](https://hadrienj.github.io/assets/images/2.2/system-linear-equations-matrix-form.png)\n",
        "<em>Matrix form of a system of linear equations</em>\n",
        "\n",
        "We have a set of two equations with two unknowns. So the number of rows of ${A}$ gives the number of equations and the number of columns gives the number of unknowns.\n",
        "\n",
        "### Both sides\n",
        "\n",
        "The equation system can be wrote like that:\n",
        "\n",
        "$$\n",
        "\\begin{bmatrix}\n",
        "    A_{1,1} & A_{1,2} & \\cdots & A_{1,n} \\\\\\\\\n",
        "    A_{2,1} & A_{2,2} & \\cdots & A_{2,n} \\\\\\\\\n",
        "    \\cdots & \\cdots & \\cdots & \\cdots \\\\\\\\\n",
        "    A_{m,1} & A_{m,2} & \\cdots & A_{m,n}\n",
        "\\end{bmatrix}\n",
        "\\times\n",
        "\\begin{bmatrix}\n",
        "    x_1 \\\\\\\\\n",
        "    x_2 \\\\\\\\\n",
        "    \\cdots \\\\\\\\\n",
        "    x_n\n",
        "\\end{bmatrix}\n",
        "=\n",
        "\\begin{bmatrix}\n",
        "    b_1 \\\\\\\\\n",
        "    b_2 \\\\\\\\\n",
        "    \\cdots \\\\\\\\\n",
        "    b_m\n",
        "\\end{bmatrix}\n",
        "$$\n",
        "\n",
        "Or simply:\n",
        "\n",
        "$${Ax}={b}$$\n"
      ]
    },
    {
      "metadata": {
        "id": "FngA2u5c13fn",
        "colab_type": "code",
        "colab": {}
      },
      "cell_type": "code",
      "source": [
        ""
      ],
      "execution_count": 0,
      "outputs": []
    },
    {
      "metadata": {
        "id": "Kdiv3mNF13XN",
        "colab_type": "text"
      },
      "cell_type": "markdown",
      "source": [
        "## Identity matrices\n",
        "\n",
        "The identity matrix ${I}_n$ is a special matrix of shape ($n \\times n$) that is filled with $0$ except the diagonal that is filled with 1.\n"
      ]
    },
    {
      "metadata": {
        "id": "BiolUY6lo62z",
        "colab_type": "code",
        "colab": {
          "base_uri": "https://localhost:8080/",
          "height": 69
        },
        "outputId": "4a443b4c-14f3-4bfa-9ecc-ee8b9dcbe646"
      },
      "cell_type": "code",
      "source": [
        "np.eye(3) "
      ],
      "execution_count": 11,
      "outputs": [
        {
          "output_type": "execute_result",
          "data": {
            "text/plain": [
              "array([[1., 0., 0.],\n",
              "       [0., 1., 0.],\n",
              "       [0., 0., 1.]])"
            ]
          },
          "metadata": {
            "tags": []
          },
          "execution_count": 11
        }
      ]
    },
    {
      "metadata": {
        "id": "rPCeNdsvo67U",
        "colab_type": "text"
      },
      "cell_type": "markdown",
      "source": [
        "## Inverse Matrices\n",
        "\n",
        "The matrix inverse of ${A}$ is denoted ${A}^{-1}$. It is the matrix that results in the identity matrix when it is multiplied by ${A}$:\n",
        "\n",
        "$${A}^{-1}{A}={I}_n$$\n",
        "\n",
        "This means that if we apply a linear transformation to the space with ${A}$, it is possible to go back with ${A}^{-1}$. It provides a way to cancel the transformation.\n",
        "\n",
        "### Example :\n",
        "\n",
        "$$\n",
        "{A}=\\begin{bmatrix}\n",
        "    3 & 0 & 2 \\\\\\\\\n",
        "    2 & 0 & -2 \\\\\\\\\n",
        "    0 & 1 & 1\n",
        "\\end{bmatrix}\n",
        "$$\n",
        "\n",
        "For this example, we will use the Numpy function `linalg.inv()` to calculate the inverse of ${A}$. Let's start by creating ${A}$:"
      ]
    },
    {
      "metadata": {
        "id": "Te6VPJrQo7AA",
        "colab_type": "code",
        "colab": {
          "base_uri": "https://localhost:8080/",
          "height": 69
        },
        "outputId": "d510eb18-cad6-4a46-9cfd-13f5bcabe921"
      },
      "cell_type": "code",
      "source": [
        "A = np.array([[3, 0, 2], [2, 0, -2], [0, 1, 1]])\n",
        "A"
      ],
      "execution_count": 12,
      "outputs": [
        {
          "output_type": "execute_result",
          "data": {
            "text/plain": [
              "array([[ 3,  0,  2],\n",
              "       [ 2,  0, -2],\n",
              "       [ 0,  1,  1]])"
            ]
          },
          "metadata": {
            "tags": []
          },
          "execution_count": 12
        }
      ]
    },
    {
      "metadata": {
        "id": "mal8t_7mo7E1",
        "colab_type": "code",
        "colab": {
          "base_uri": "https://localhost:8080/",
          "height": 69
        },
        "outputId": "56015253-d323-4dc3-c6de-1d7c9e42a936"
      },
      "cell_type": "code",
      "source": [
        "A_inv = np.linalg.inv(A)\n",
        "A_inv"
      ],
      "execution_count": 13,
      "outputs": [
        {
          "output_type": "execute_result",
          "data": {
            "text/plain": [
              "array([[ 0.2,  0.2,  0. ],\n",
              "       [-0.2,  0.3,  1. ],\n",
              "       [ 0.2, -0.3, -0. ]])"
            ]
          },
          "metadata": {
            "tags": []
          },
          "execution_count": 13
        }
      ]
    },
    {
      "metadata": {
        "id": "ZU_pBufmo7Jr",
        "colab_type": "code",
        "colab": {
          "base_uri": "https://localhost:8080/",
          "height": 69
        },
        "outputId": "1b349cdd-4175-4e5d-f433-10dcd15e362d"
      },
      "cell_type": "code",
      "source": [
        "np.set_printoptions(suppress=True) # avoid inaccurate floating values\n",
        "A_bis = A_inv.dot(A)\n",
        "A_bis"
      ],
      "execution_count": 15,
      "outputs": [
        {
          "output_type": "execute_result",
          "data": {
            "text/plain": [
              "array([[ 1.,  0., -0.],\n",
              "       [ 0.,  1.,  0.],\n",
              "       [ 0.,  0.,  1.]])"
            ]
          },
          "metadata": {
            "tags": []
          },
          "execution_count": 15
        }
      ]
    },
    {
      "metadata": {
        "id": "ILfHuPxoo7Os",
        "colab_type": "text"
      },
      "cell_type": "markdown",
      "source": [
        "## Sovling a system of linear equations\n",
        "\n",
        "\n",
        "The inverse matrix can be used to solve the equation ${Ax}={b}$ by adding it to each term:\n",
        "\n",
        "$${A}^{-1}{Ax}={A}^{-1}{b}$$\n",
        "\n",
        "Since we know by definition that ${A}^{-1}{A}={I}$, we have:\n",
        "\n",
        "$${I}_n{x}={A}^{-1}{b}$$\n",
        "\n",
        "We saw that a vector is not changed when multiplied by the identity matrix. So we can write:\n",
        "\n",
        "$${x}={A}^{-1}{b}$$\n",
        "\n",
        "This is great! We can solve a set of linear equation just by computing the inverse of ${A}$ and apply this matrix to the vector of results ${b}$!\n",
        "\n",
        "### Example :\n",
        "\n",
        "We will take a simple solvable example:\n",
        "\n",
        "$$\n",
        "\\begin{cases}\n",
        "y = 2x \\\\\\\\\n",
        "y = -x +3\n",
        "\\end{cases}\n",
        "$$\n",
        ":\n",
        "\n",
        "$$\n",
        "\\begin{cases}\n",
        "A_{1,1}x_1 + A_{1,2}x_2 = b_1 \\\\\\\\\n",
        "A_{2,1}x_1 + A_{2,2}x_2= b_2\n",
        "\\end{cases}\n",
        "$$\n",
        "\n",
        "Here, $x_1$ corresponds to $x$ and $x_2$ corresponds to $y$. So we have:\n",
        "\n",
        "$$\n",
        "\\begin{cases}\n",
        "2x_1 - x_2 = 0 \\\\\\\\\n",
        "x_1 + x_2= 3\n",
        "\\end{cases}\n",
        "$$\n",
        "\n",
        "Our matrix ${A}$ of weights is:\n",
        "\n",
        "$$\n",
        "{A}=\n",
        "\\begin{bmatrix}\n",
        "    2 & -1 \\\\\\\\\n",
        "    1 & 1\n",
        "\\end{bmatrix}\n",
        "$$\n",
        "\n",
        "And the vector ${b}$ containing the solutions of individual equations is:\n",
        "\n",
        "$$\n",
        "{b}=\n",
        "\\begin{bmatrix}\n",
        "    0 \\\\\\\\\n",
        "    3\n",
        "\\end{bmatrix}\n",
        "$$\n",
        "\n",
        "Under the matrix form, our systems becomes:\n",
        "\n",
        "$$\n",
        "\\begin{bmatrix}\n",
        "    2 & -1 \\\\\\\\\n",
        "    1 & 1\n",
        "\\end{bmatrix}\n",
        "\\begin{bmatrix}\n",
        "    x_1 \\\\\\\\\n",
        "    x_2\n",
        "\\end{bmatrix}=\n",
        "\\begin{bmatrix}\n",
        "    0 \\\\\\\\\n",
        "    3\n",
        "\\end{bmatrix}\n",
        "$$\n",
        "\n",
        "Let's find the inverse of ${A}$:\n"
      ]
    },
    {
      "metadata": {
        "id": "M2K8LZfZo7To",
        "colab_type": "code",
        "colab": {
          "base_uri": "https://localhost:8080/",
          "height": 52
        },
        "outputId": "30de1303-a74d-49eb-c505-17662cbd5fdb"
      },
      "cell_type": "code",
      "source": [
        "A = np.array([[2, -1], \n",
        "              [1, 1]])\n",
        "A"
      ],
      "execution_count": 16,
      "outputs": [
        {
          "output_type": "execute_result",
          "data": {
            "text/plain": [
              "array([[ 2, -1],\n",
              "       [ 1,  1]])"
            ]
          },
          "metadata": {
            "tags": []
          },
          "execution_count": 16
        }
      ]
    },
    {
      "metadata": {
        "id": "lD3jybqAo7Y_",
        "colab_type": "code",
        "colab": {
          "base_uri": "https://localhost:8080/",
          "height": 52
        },
        "outputId": "773702c0-26ad-4420-90a8-d85edbc0ab89"
      },
      "cell_type": "code",
      "source": [
        "A_inv = np.linalg.inv(A)\n",
        "A_inv"
      ],
      "execution_count": 17,
      "outputs": [
        {
          "output_type": "execute_result",
          "data": {
            "text/plain": [
              "array([[ 0.33333333,  0.33333333],\n",
              "       [-0.33333333,  0.66666667]])"
            ]
          },
          "metadata": {
            "tags": []
          },
          "execution_count": 17
        }
      ]
    },
    {
      "metadata": {
        "id": "jAG8lfqP46JR",
        "colab_type": "code",
        "colab": {}
      },
      "cell_type": "code",
      "source": [
        "b = np.array([[0], [3]])"
      ],
      "execution_count": 0,
      "outputs": []
    },
    {
      "metadata": {
        "id": "WiSc_ERE4_nN",
        "colab_type": "text"
      },
      "cell_type": "markdown",
      "source": [
        "Formula: \n",
        "$${x}={A}^{-1}{b}$$\n"
      ]
    },
    {
      "metadata": {
        "id": "aflNW9h746Og",
        "colab_type": "code",
        "colab": {
          "base_uri": "https://localhost:8080/",
          "height": 52
        },
        "outputId": "bb350b44-e319-488a-fd15-a698e047bfe8"
      },
      "cell_type": "code",
      "source": [
        "x = A_inv.dot(b)\n",
        "x"
      ],
      "execution_count": 19,
      "outputs": [
        {
          "output_type": "execute_result",
          "data": {
            "text/plain": [
              "array([[1.],\n",
              "       [2.]])"
            ]
          },
          "metadata": {
            "tags": []
          },
          "execution_count": 19
        }
      ]
    },
    {
      "metadata": {
        "id": "ckqj4erC46TE",
        "colab_type": "code",
        "colab": {
          "base_uri": "https://localhost:8080/",
          "height": 351
        },
        "outputId": "bb96c1ca-91f1-4069-a8bb-2552611d3201"
      },
      "cell_type": "code",
      "source": [
        "x = np.arange(-10, 10)\n",
        "y = 2*x\n",
        "y1 = -x + 3\n",
        "\n",
        "plt.figure()\n",
        "plt.plot(x, y)\n",
        "plt.plot(x, y1)\n",
        "plt.xlim(0, 3)\n",
        "plt.ylim(0, 3)\n",
        "# draw axes\n",
        "plt.axvline(x=0, color='grey')\n",
        "plt.axhline(y=0, color='grey')\n",
        "plt.show()"
      ],
      "execution_count": 20,
      "outputs": [
        {
          "output_type": "display_data",
          "data": {
            "image/png": "[encoded data removed]",
            "text/plain": [
              "<matplotlib.figure.Figure at 0x7fa5dec69518>"
            ]
          },
          "metadata": {
            "tags": []
          }
        }
      ]
    },
    {
      "metadata": {
        "id": "VAPelWBA46Xz",
        "colab_type": "text"
      },
      "cell_type": "markdown",
      "source": [
        "## Linear combination\n",
        "\n",
        "Before going to the column figure, we need to talk about linear combination. The linear combination of 2 vectors corresponds to their weighted sum.\n",
        "\n",
        "### Example \n",
        "\n",
        "Let's take two vectors\n",
        "\n",
        "$$\n",
        "\\vec{u}=\n",
        "\\begin{bmatrix}\n",
        "    1 \\\\\\\\\n",
        "    3\n",
        "\\end{bmatrix}\n",
        "$$\n",
        "\n",
        "and\n",
        "\n",
        "$$\n",
        "\\vec{v}=\n",
        "\\begin{bmatrix}\n",
        "    2 \\\\\\\\\n",
        "    1\n",
        "\\end{bmatrix}\n",
        "$$\n",
        "\n",
        "These two vectors have 2 dimensions and thus contain coordinates in 2-D.\n",
        "\n",
        "\n",
        "The linear combination of $\\vec{u}$ and $\\vec{v}$ is\n",
        "\n",
        "$$\n",
        "a\\vec{u}+b\\vec{v}= a\n",
        "\\begin{bmatrix}\n",
        "    1 \\\\\\\\\n",
        "    3\n",
        "\\end{bmatrix} + b\\begin{bmatrix}\n",
        "    2 \\\\\\\\\n",
        "    1\n",
        "\\end{bmatrix}\n",
        "$$\n",
        "\n",
        "with $a$ and $b$ the weights of the vectors.\n",
        "\n",
        "Graphically, the vectors are added to reach a specific point in space. For example if $a=2$ and $b=1$:\n",
        "\n",
        "$$\n",
        "2\\vec{u}+\\vec{v}= 2\n",
        "\\begin{bmatrix}\n",
        "    1 \\\\\\\\\n",
        "    3\n",
        "\\end{bmatrix} +\n",
        "\\begin{bmatrix}\n",
        "    2 \\\\\\\\\n",
        "    1\n",
        "\\end{bmatrix} =\n",
        "\\begin{bmatrix}\n",
        "    2 \\cdot 1 + 2 \\\\\\\\\n",
        "    2 \\cdot 3 + 1\n",
        "\\end{bmatrix} =\n",
        "\\begin{bmatrix}\n",
        "    4 \\\\\\\\\n",
        "    7\n",
        "\\end{bmatrix}\n",
        "$$\n",
        "\n",
        "The sum of $\\vec{u}$ and $\\vec{v}$ is a vector that will reach the point of corrdinates $(4, 7)$. It takes a set of coordinates and an array of colors as input and plot the corresponding vectors. So let's plot $\\vec{u}$ and $\\vec{v}$:"
      ]
    },
    {
      "metadata": {
        "id": "Avaa0hrm46cv",
        "colab_type": "code",
        "colab": {}
      },
      "cell_type": "code",
      "source": [
        "def plotVectors(vecs, cols, alpha=1):\n",
        "    \"\"\"\n",
        "    Plot set of vectors.\n",
        "\n",
        "    Parameters\n",
        "    ----------\n",
        "    vecs : array-like\n",
        "        Coordinates of the vectors to plot. Each vectors is in an array. For\n",
        "        instance: [[1, 3], [2, 2]] can be used to plot 2 vectors.\n",
        "    cols : array-like\n",
        "        Colors of the vectors. For instance: ['red', 'blue'] will display the\n",
        "        first vector in red and the second in blue.\n",
        "    alpha : float\n",
        "        Opacity of vectors\n",
        "\n",
        "    Returns:\n",
        "\n",
        "    fig : instance of matplotlib.figure.Figure\n",
        "        The figure of the vectors\n",
        "    \"\"\"\n",
        "    plt.figure()\n",
        "    plt.axvline(x=0, color='#A9A9A9', zorder=0)\n",
        "    plt.axhline(y=0, color='#A9A9A9', zorder=0)\n",
        "\n",
        "    for i in range(len(vecs)):\n",
        "        x = np.concatenate([[0,0],vecs[i]])\n",
        "        plt.quiver([x[0]],\n",
        "                   [x[1]],\n",
        "                   [x[2]],\n",
        "                   [x[3]],\n",
        "                   angles='xy', scale_units='xy', scale=1, color=cols[i],\n",
        "                  alpha=alpha)"
      ],
      "execution_count": 0,
      "outputs": []
    },
    {
      "metadata": {
        "id": "-vu6kyBm46hL",
        "colab_type": "code",
        "colab": {
          "base_uri": "https://localhost:8080/",
          "height": 369
        },
        "outputId": "676dc52f-9a7e-41f6-aad5-804766e62025"
      },
      "cell_type": "code",
      "source": [
        "orange = '#FF9A13'\n",
        "blue = '#1190FF'\n",
        "plotVectors([[1, 3], [2, 1]], [orange, blue])\n",
        "plt.xlim(0, 5)\n",
        "plt.ylim(0, 5)"
      ],
      "execution_count": 22,
      "outputs": [
        {
          "output_type": "execute_result",
          "data": {
            "text/plain": [
              "(0, 5)"
            ]
          },
          "metadata": {
            "tags": []
          },
          "execution_count": 22
        },
        {
          "output_type": "display_data",
          "data": {
            "image/png": "[encoded data removed]",
            "text/plain": [
              "<matplotlib.figure.Figure at 0x7fa5dc3e8048>"
            ]
          },
          "metadata": {
            "tags": []
          }
        }
      ]
    },
    {
      "metadata": {
        "id": "Pjwk7pfM46mM",
        "colab_type": "code",
        "colab": {
          "base_uri": "https://localhost:8080/",
          "height": 351
        },
        "outputId": "e118c31e-d4ba-4db7-96d7-fe821901e770"
      },
      "cell_type": "code",
      "source": [
        "# Weigths of the vectors\n",
        "a = 2\n",
        "b = 1\n",
        "# Start and end coordinates of the vectors\n",
        "u = [0,0,1,3]\n",
        "v = [2,6,2,1]\n",
        "\n",
        "plt.quiver([u[0], a*u[0], b*v[0]],\n",
        "           [u[1], a*u[1], b*v[1]],\n",
        "           [u[2], a*u[2], b*v[2]],\n",
        "           [u[3], a*u[3], b*v[3]],\n",
        "           angles='xy', scale_units='xy', scale=1, color=[orange, orange, blue])\n",
        "plt.xlim(-1, 8)\n",
        "plt.ylim(-1, 8)\n",
        "# Draw axes\n",
        "plt.axvline(x=0, color='#A9A9A9')\n",
        "plt.axhline(y=0, color='#A9A9A9')\n",
        "plt.scatter(4,7,marker='x',s=50)\n",
        "# Draw the name of the vectors\n",
        "plt.text(-0.5, 2, r'$\\vec{u}$', color=orange, size=18)\n",
        "plt.text(0.5, 4.5, r'$\\vec{u}$', color=orange, size=18)\n",
        "plt.text(2.5, 7, r'$\\vec{v}$', color=blue, size=18)\n",
        "plt.show()"
      ],
      "execution_count": 23,
      "outputs": [
        {
          "output_type": "display_data",
          "data": {
            "image/png": "[encoded data removed]",
            "text/plain": [
              "<matplotlib.figure.Figure at 0x7fa5dc324358>"
            ]
          },
          "metadata": {
            "tags": []
          }
        }
      ]
    },
    {
      "metadata": {
        "id": "kpBGxvkb46rC",
        "colab_type": "text"
      },
      "cell_type": "markdown",
      "source": [
        "### Example: \n",
        "\n",
        "$m=2$, $n=2$: 2 equations and 2 variables\n",
        "\n",
        "$$\n",
        "A_{1,1}x_1 + A_{1,2}x_2 = b_1\\\\\\\\\n",
        "A_{2,1}x_1 + A_{2,2}x_2 = b_2\n",
        "$$\n",
        "\n",
        "$$\n",
        "\\begin{cases}\n",
        "y = \\frac{1}{2}x+1\\\\\\\\\n",
        "y = -x + 4\n",
        "\\end{cases}\n",
        "\\Leftrightarrow\n",
        "\\begin{cases}\n",
        "\\frac{1}{2}x-y = -1\\\\\\\\\n",
        "x+y=4\n",
        "\\end{cases}\n",
        "$$\n",
        "\n",
        "So here is the matrix ${A}$:\n",
        "\n",
        "$$\n",
        "{A}=\n",
        "\\begin{bmatrix}\n",
        "    \\frac{1}{2} & -1 \\\\\\\\\n",
        "    1 & 1\n",
        "\\end{bmatrix}\n",
        "$$\n",
        "\n",
        "The column figure gives us:\n",
        "\n",
        "$$\n",
        "x\n",
        "\\begin{bmatrix}\n",
        "    \\frac{1}{2} \\\\\\\\\n",
        "    1\n",
        "\\end{bmatrix}\n",
        "+\n",
        "y\n",
        "\\begin{bmatrix}\n",
        "    -1 \\\\\\\\\n",
        "    1\n",
        "\\end{bmatrix}\n",
        "=\n",
        "\\begin{bmatrix}\n",
        "    -1 \\\\\\\\\n",
        "    4\n",
        "\\end{bmatrix}\n",
        "$$\n",
        "\n",
        "The goal is to find the value of the weights ($x$ and $y$) for which the linear combination of the vector\n",
        "\n",
        "$$\n",
        "\\begin{bmatrix}\n",
        "    \\frac{1}{2} \\\\\\\\\n",
        "    1\n",
        "\\end{bmatrix}\n",
        "$$\n",
        "\n",
        "and\n",
        "\n",
        "$$\n",
        "\\begin{bmatrix}\n",
        "    -1 \\\\\\\\\n",
        "    1\n",
        "\\end{bmatrix}\n",
        "$$\n",
        "\n",
        "gives the vector \n",
        "\n",
        "$$\n",
        "\\begin{bmatrix}\n",
        "    -1 \\\\\\\\\n",
        "    4\n",
        "\\end{bmatrix}\n",
        "$$\n",
        "\n",
        "We will solve the system graphically by plotting the equations and looking for their intersection:"
      ]
    },
    {
      "metadata": {
        "id": "HvGJ3dfA46wK",
        "colab_type": "code",
        "colab": {
          "base_uri": "https://localhost:8080/",
          "height": 351
        },
        "outputId": "bb8533c6-0d2b-461f-d67f-d2f47d9caa90"
      },
      "cell_type": "code",
      "source": [
        "x = np.arange(-10, 10)\n",
        "y = 0.5*x + 1\n",
        "\n",
        "y1 = -x + 4\n",
        "\n",
        "\n",
        "plt.figure()\n",
        "plt.plot(x, y)\n",
        "plt.plot(x, y1)\n",
        "plt.xlim(-2, 10)\n",
        "plt.ylim(-2, 10)\n",
        "# draw axes\n",
        "plt.axvline(x=0, color='#A9A9A9')\n",
        "plt.axhline(y=0, color='#A9A9A9')\n",
        "plt.show()\n"
      ],
      "execution_count": 24,
      "outputs": [
        {
          "output_type": "display_data",
          "data": {
            "image/png": "[encoded data removed]",
            "text/plain": [
              "<matplotlib.figure.Figure at 0x7fa5dc2b3c50>"
            ]
          },
          "metadata": {
            "tags": []
          }
        }
      ]
    },
    {
      "metadata": {
        "id": "PSubNYdy_3T8",
        "colab_type": "text"
      },
      "cell_type": "markdown",
      "source": [
        "We can see that the solution (the intersection of the lines representing our two equations) is $x=2$ and $y=2$. This means that the linear combination is the following:\n",
        "\n",
        "$$\n",
        "2\n",
        "\\begin{bmatrix}\n",
        "    \\frac{1}{2} \\\\\\\\\n",
        "    1\n",
        "\\end{bmatrix}\n",
        "+\n",
        "2\n",
        "\\begin{bmatrix}\n",
        "    -1 \\\\\\\\\n",
        "    1\n",
        "\\end{bmatrix}\n",
        "=\n",
        "\\begin{bmatrix}\n",
        "    -1 \\\\\\\\\n",
        "    4\n",
        "\\end{bmatrix}\n",
        "$$\n",
        "\n",
        "Let's say that \n",
        "\n",
        "$$\n",
        "\\vec{u}=\n",
        "\\begin{bmatrix}\n",
        "    \\frac{1}{2} \\\\\\\\\n",
        "    1\n",
        "\\end{bmatrix}\n",
        "$$\n",
        "\n",
        "and\n",
        "\n",
        "$$\n",
        "\\vec{v}=\n",
        "\\begin{bmatrix}\n",
        "    -1 \\\\\\\\\n",
        "    1\n",
        "\\end{bmatrix}\n",
        "$$\n",
        "\n",
        "To talk in term of the column figure we can reach the point of coordinates $(-1, 4)$ if we add two times the vector $\\vec{u}$ and two times the vector $\\vec{v}$. Let's check that:"
      ]
    },
    {
      "metadata": {
        "id": "i6rFix5q_3Zl",
        "colab_type": "code",
        "colab": {
          "base_uri": "https://localhost:8080/",
          "height": 347
        },
        "outputId": "964848af-9817-4828-c0bc-f6b76b04de2e"
      },
      "cell_type": "code",
      "source": [
        "u = [0,0,0.5,1]\n",
        "u_bis = [u[2],u[3],u[2],u[3]]\n",
        "v = [2*u[2],2*u[3],-1,1]\n",
        "v_bis = [2*u[2]-1,2*u[3]+1,v[2],v[3]]\n",
        "\n",
        "plt.quiver([u[0], u_bis[0], v[0], v_bis[0]],\n",
        "           [u[1], u_bis[1], v[1], v_bis[1]],\n",
        "           [u[2], u_bis[2], v[2], v_bis[2]],\n",
        "           [u[3], u_bis[3], v[3], v_bis[3]],\n",
        "           angles='xy', scale_units='xy', scale=1, color=[blue, blue, orange, orange])\n",
        "# plt.rc('text', usetex=True)\n",
        "plt.xlim(-1.5, 2)\n",
        "plt.ylim(-0.5, 4.5)\n",
        "# draw axes\n",
        "plt.axvline(x=0, color='#A9A9A9')\n",
        "plt.axhline(y=0, color='#A9A9A9')\n",
        "plt.scatter(-1,4,marker='x',s=50)\n",
        "plt.text(0, 0.5, r'$\\vec{u}$', color=blue, size=18)\n",
        "plt.text(0.5, 1.5, r'$\\vec{u}$', color=blue, size=18)\n",
        "plt.text(0.5, 2.7, r'$\\vec{v}$', color=orange, size=18)\n",
        "plt.text(-0.8, 3, r'$\\vec{v}$', color=orange, size=18)\n",
        "plt.show()"
      ],
      "execution_count": 25,
      "outputs": [
        {
          "output_type": "display_data",
          "data": {
            "image/png": "[encoded data removed]",
            "text/plain": [
              "<matplotlib.figure.Figure at 0x7fa5dc2ef898>"
            ]
          },
          "metadata": {
            "tags": []
          }
        }
      ]
    },
    {
      "metadata": {
        "id": "GNObuZLw_3em",
        "colab_type": "text"
      },
      "cell_type": "markdown",
      "source": [
        "## Norms\n",
        "We will see an important concept for machine learning and deep learning. The norm is what is generally used to evaluate the error of a model. For instance it is used to calculate the error between the output of a neural network and what is expected (the actual label or value). You can think of the norm as the length of a vector.\n",
        "\n",
        "Norms are any functions that are characterized by the following properties:\n",
        "\n",
        "1- Norms are non-negative values. If you think of the norms as a length, you easily see why it can't be negative.\n",
        "\n",
        "2- Norms are $0$ if and only if the vector is a zero vector\n",
        "\n",
        "3- Norms respect the triangle inequity. See bellow.\n",
        "\n",
        "4-   The norm of a vector multiplied by a scalar is equal to the absolute value of this scalar multiplied by the norm of the vector.  $\n",
        "\\lVert{{k} \\cdot {v}}\\lVert  =  |{{k}}| \\cdot \\lVert{{v}}\\lVert$\n",
        "\n",
        "It is usually written with two horizontal bars: $\\lVert{{x}}\\lVert$\n",
        "\n",
        "### The triangle inequity\n",
        "\n",
        "The norm of the sum of some vectors is less than or equal the sum of the norms of these vectors.\n",
        "\n",
        "$$\n",
        "\\lVert{u+v}\\lVert  \\leq  \\lVert{{u}}\\lVert+\\lVert{{v}}\\lVert\n",
        "$$\n",
        "\n",
        "### Example \n",
        "\n",
        "$$\n",
        "{u}=\n",
        "\\begin{bmatrix}\n",
        "    1 & 6\n",
        "\\end{bmatrix}\n",
        "$$\n",
        "\n",
        "and\n",
        "\n",
        "$$\n",
        "{v}=\n",
        "\\begin{bmatrix}\n",
        "    4 & 2\n",
        "\\end{bmatrix}\n",
        "$$\n",
        "\n",
        "$$\n",
        "\\lVert{{u}+{v}}\\lVert = \\sqrt{(1+4)^2+(6+2)^2} = \\sqrt{89} \\approx 9.43\n",
        "$$\n",
        "\n",
        "$$\n",
        "\\lVert{{u}}\\lVert+\\lVert{{v}}\\lVert = \\sqrt{1^2+6^2}+\\sqrt{4^2+2^2} = \\sqrt{37}+\\sqrt{20} \\approx 10.55\n",
        "$$"
      ]
    },
    {
      "metadata": {
        "id": "P38uJnvK_3jw",
        "colab_type": "code",
        "colab": {
          "base_uri": "https://localhost:8080/",
          "height": 35
        },
        "outputId": "3ee06746-a4c2-4452-8da7-8bc4eb90d148"
      },
      "cell_type": "code",
      "source": [
        "u = np.array([1, 6])\n",
        "v = np.array([4, 2])\n",
        "u+v"
      ],
      "execution_count": 3,
      "outputs": [
        {
          "output_type": "execute_result",
          "data": {
            "text/plain": [
              "array([5, 8])"
            ]
          },
          "metadata": {
            "tags": []
          },
          "execution_count": 3
        }
      ]
    },
    {
      "metadata": {
        "id": "OWr8_Cns_3ot",
        "colab_type": "code",
        "colab": {
          "base_uri": "https://localhost:8080/",
          "height": 35
        },
        "outputId": "d9566e10-8b44-4a8c-a948-27382d97037b"
      },
      "cell_type": "code",
      "source": [
        "np.linalg.norm(u+v)"
      ],
      "execution_count": 4,
      "outputs": [
        {
          "output_type": "execute_result",
          "data": {
            "text/plain": [
              "9.433981132056603"
            ]
          },
          "metadata": {
            "tags": []
          },
          "execution_count": 4
        }
      ]
    },
    {
      "metadata": {
        "id": "bdd4qtDf_3tb",
        "colab_type": "code",
        "colab": {
          "base_uri": "https://localhost:8080/",
          "height": 35
        },
        "outputId": "87064944-56a2-48a6-924d-275512d67711"
      },
      "cell_type": "code",
      "source": [
        "np.linalg.norm(u)+np.linalg.norm(v)"
      ],
      "execution_count": 5,
      "outputs": [
        {
          "output_type": "execute_result",
          "data": {
            "text/plain": [
              "10.554898485297798"
            ]
          },
          "metadata": {
            "tags": []
          },
          "execution_count": 5
        }
      ]
    },
    {
      "metadata": {
        "id": "RCw-mX2V_3yd",
        "colab_type": "code",
        "colab": {
          "base_uri": "https://localhost:8080/",
          "height": 347
        },
        "outputId": "eea44026-0181-4bf9-e3d3-fe145870f94e"
      },
      "cell_type": "code",
      "source": [
        "u = [0,0,1,6]\n",
        "v = [0,0,4,2]\n",
        "u_bis = [1,6,v[2],v[3]]\n",
        "w = [0,0,5,8]\n",
        "plt.quiver([u[0], u_bis[0], w[0]],\n",
        "           [u[1], u_bis[1], w[1]],\n",
        "           [u[2], u_bis[2], w[2]],\n",
        "           [u[3], u_bis[3], w[3]],\n",
        "           angles='xy', scale_units='xy', scale=1, color=sns.color_palette())\n",
        "# plt.rc('text', usetex=True)\n",
        "plt.xlim(-2, 6)\n",
        "plt.ylim(-2, 9)\n",
        "plt.axvline(x=0, color='grey')\n",
        "plt.axhline(y=0, color='grey')\n",
        "\n",
        "plt.text(-1, 3.5, r'$||\\vec{u}||$', color=sns.color_palette()[0], size=20)\n",
        "plt.text(2.5, 7.5, r'$||\\vec{v}||$', color=sns.color_palette()[1], size=20)\n",
        "plt.text(2, 2, r'$||\\vec{u}+\\vec{v}||$', color=sns.color_palette()[2], size=20)\n",
        "\n",
        "plt.show()"
      ],
      "execution_count": 11,
      "outputs": [
        {
          "output_type": "display_data",
          "data": {
            "image/png": "[encoded data removed]",
            "text/plain": [
              "<matplotlib.figure.Figure at 0x7f9ac3870e48>"
            ]
          },
          "metadata": {
            "tags": []
          }
        }
      ]
    },
    {
      "metadata": {
        "id": "7RBFMlXk_330",
        "colab_type": "text"
      },
      "cell_type": "markdown",
      "source": [
        "### P-norms: general rules\n",
        "\n",
        "Here is the recipe to get the $p$-norm of a vector:\n",
        "\n",
        "1. Calculate the absolute value of each element\n",
        "2. Take the power $p$ of these absolute values\n",
        "3. Sum all these powered absolute values\n",
        "4. Take the power $\\frac{1}{p}$ of this result\n",
        "\n",
        "This is more condensly expressed with the formula:\n",
        "\n",
        "$$\n",
        "\\lVert{{x}}_p\\lVert=(\\sum_i|{x}_i|^p)^{1/p}\n",
        "$$\n",
        "\n",
        "This will be clear with examples using these widely used $p$-norms.\n",
        "\n",
        "#### The $L^0$ norm\n",
        "\n",
        "All positive values will get you a $1$ if you calculate its power $0$ except $0$ that will get you another $0$. Therefore this norm corresponds to the number of non-zero elements in the vector. It is not really a norm because if you multiply the vector by $\\alpha$, this number is the same (rule 4 above).\n",
        "\n",
        "#### The $L^1$ norm\n",
        "\n",
        "$p=1$ so this norm is simply the sum of the absolute values:\n",
        "\n",
        "$$\n",
        "\\lVert{{x}}_1\\lVert=\\sum_{i} |{x}_i|\n",
        "$$\n",
        "![](https://hadrienj.github.io/assets/images/2.5/l1-norm.png)\n",
        "\n",
        "#### The Euclidean norm ($L^2$ norm)\n",
        "\n",
        "The Euclidean norm is the $p$-norm with $p=2$. This may be the more used norm with the squared $L^2$ norm.\n",
        "\n",
        "$$\n",
        "\\lVert{{x}}_2\\lVert=(\\sum_i {x}_i^2)^{1/2}\\Leftrightarrow \\sqrt{\\sum_i {x}_i^2}\n",
        "$$\n",
        "\n",
        "![](https://hadrienj.github.io/assets/images/2.5/l2-norm.png)\n",
        "\n",
        "#### The squared Euclidean norm (squared $L^2$ norm)\n",
        "\n",
        "$$\n",
        "\\sum_i|{x}_i|^2\n",
        "$$\n",
        "![](https://hadrienj.github.io/assets/images/2.5/squared-L2-norm1.png)\n",
        "\n",
        "The squared $L^2$ norm is convenient because it removes the square root and we end up with the simple sum of every squared values of the vector. \n",
        "\n",
        "The squared Euclidean norm is widely used in machine learning partly because it can be calculated with the vector operation ${x}^\\text{T}{x}$.\n"
      ]
    },
    {
      "metadata": {
        "id": "crWFQEaZ_39g",
        "colab_type": "code",
        "colab": {}
      },
      "cell_type": "code",
      "source": [
        ""
      ],
      "execution_count": 0,
      "outputs": []
    },
    {
      "metadata": {
        "id": "fTbI6EzPO8uG",
        "colab_type": "text"
      },
      "cell_type": "markdown",
      "source": [
        "## Eigendecomposition\n",
        "\n",
        "We will start with getting some ideas on eigenvectors and eigenvalues. We will develop on the idea that a matrix can be seen as a linear transformation and that applying a matrix on its eigenvectors gives new vectors with the same direction. Then we will see how to express quadratic equations into the matrix form. We will see that the eigendecomposition of the matrix corresponding to a quadratic equation can be used to find the minimum and maximum of this function. As a bonus, we will also see how to visualize linear transformations in Python\n",
        "\n",
        "The eigendecomposition is one form of matrix decomposition. Decomposing a matrix means that we want to find a product of matrices that is equal to the initial matrix. In the case of the eigendecomposition, we decompose the initial matrix into the product of its eigenvectors and eigenvalues. Before all, let’s see what are eigenvectors and eigenvalues.\n",
        "\n",
        "### Matrices as linear transformations\n",
        "You can think of matrices as linear transformations. Some matrices will rotate your space, others will rescale it etc. So when we apply a matrix to a vector, we end up with a transformed version of the vector. When we say that we ‘apply’ the matrix to the vector it means that we calculate the dot product of the matrix with the vector. We will start with a basic example of this kind of transformation.\n",
        "\n"
      ]
    },
    {
      "metadata": {
        "id": "tRO16Ao8O8zw",
        "colab_type": "code",
        "colab": {}
      },
      "cell_type": "code",
      "source": [
        "A = np.array([[-1, 3], [2, -2]]) \n",
        "v = np.array([[2], [1]])"
      ],
      "execution_count": 0,
      "outputs": []
    },
    {
      "metadata": {
        "id": "-YjFK5RrO84r",
        "colab_type": "code",
        "colab": {
          "base_uri": "https://localhost:8080/",
          "height": 368
        },
        "outputId": "6603388d-dc2f-4aea-eede-6d581b45134f"
      },
      "cell_type": "code",
      "source": [
        "plotVectors([v.flatten()], cols=['#1190FF'])\n",
        "plt.ylim(-1, 4)\n",
        "plt.xlim(-1, 4)"
      ],
      "execution_count": 6,
      "outputs": [
        {
          "output_type": "execute_result",
          "data": {
            "text/plain": [
              "(-1, 4)"
            ]
          },
          "metadata": {
            "tags": []
          },
          "execution_count": 6
        },
        {
          "output_type": "display_data",
          "data": {
            "image/png": "[encoded data removed]",
            "text/plain": [
              "<matplotlib.figure.Figure at 0x7f2d8a71e6d8>"
            ]
          },
          "metadata": {
            "tags": []
          }
        }
      ]
    },
    {
      "metadata": {
        "id": "gbrWPzEhO89j",
        "colab_type": "code",
        "colab": {
          "base_uri": "https://localhost:8080/",
          "height": 402
        },
        "outputId": "c5fafb17-ec72-4458-8701-0bee2bc73689"
      },
      "cell_type": "code",
      "source": [
        "# Now, we will apply the matrix A to this vector and plot the old vector (light blue) and the new one (orange)\n",
        "Av = A.dot(v)\n",
        "print(Av)\n",
        "plotVectors([v.flatten(), Av.flatten()], cols=['#1190FF', '#FF9A13'])\n",
        "plt.ylim(-1, 4)\n",
        "plt.xlim(-1, 4)"
      ],
      "execution_count": 8,
      "outputs": [
        {
          "output_type": "stream",
          "text": [
            "[[1]\n",
            " [2]]\n"
          ],
          "name": "stdout"
        },
        {
          "output_type": "execute_result",
          "data": {
            "text/plain": [
              "(-1, 4)"
            ]
          },
          "metadata": {
            "tags": []
          },
          "execution_count": 8
        },
        {
          "output_type": "display_data",
          "data": {
            "image/png": "[encoded data removed]",
            "text/plain": [
              "<matplotlib.figure.Figure at 0x7f2d8a711b38>"
            ]
          },
          "metadata": {
            "tags": []
          }
        }
      ]
    },
    {
      "metadata": {
        "id": "-zcIsXYoP8GL",
        "colab_type": "code",
        "colab": {}
      },
      "cell_type": "code",
      "source": [
        ""
      ],
      "execution_count": 0,
      "outputs": []
    },
    {
      "metadata": {
        "id": "eC8bGOkcP8OL",
        "colab_type": "code",
        "colab": {}
      },
      "cell_type": "code",
      "source": [
        ""
      ],
      "execution_count": 0,
      "outputs": []
    },
    {
      "metadata": {
        "id": "xXKIJaKIP8Tw",
        "colab_type": "code",
        "colab": {}
      },
      "cell_type": "code",
      "source": [
        ""
      ],
      "execution_count": 0,
      "outputs": []
    },
    {
      "metadata": {
        "id": "XZ1Ln1XWP8Y4",
        "colab_type": "code",
        "colab": {}
      },
      "cell_type": "code",
      "source": [
        ""
      ],
      "execution_count": 0,
      "outputs": []
    },
    {
      "metadata": {
        "id": "aNVsfB0YP8eT",
        "colab_type": "code",
        "colab": {}
      },
      "cell_type": "code",
      "source": [
        ""
      ],
      "execution_count": 0,
      "outputs": []
    }
  ]
}