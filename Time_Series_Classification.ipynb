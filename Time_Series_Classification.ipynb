{
  "nbformat": 4,
  "nbformat_minor": 0,
  "metadata": {
    "colab": {
      "name": "Time Series Classification.ipynb",
      "provenance": [],
      "collapsed_sections": [],
      "include_colab_link": true
    },
    "kernelspec": {
      "name": "python3",
      "display_name": "Python 3"
    }
  },
  "cells": [
    {
      "cell_type": "markdown",
      "metadata": {
        "id": "view-in-github",
        "colab_type": "text"
      },
      "source": [
        "<a href=\"https://colab.research.google.com/github/DanielhCarranza/Curso-Deep-Learning/blob/master/Time_Series_Classification.ipynb\" target=\"_parent\"><img src=\"https://colab.research.google.com/assets/colab-badge.svg\" alt=\"Open In Colab\"/></a>"
      ]
    },
    {
      "cell_type": "markdown",
      "metadata": {
        "id": "WRS_q0ntm-qD"
      },
      "source": [
        "#  Time Series Classification\n",
        "\n",
        "Classifying time series data? Is that really possible? What could potentially be the use of doing that? These are just some of the questions you must have had when you read the title of this article. And it’s only fair – I had the exact same thoughts when I first came across this concept!\n",
        "\n",
        "The time series data most of us are exposed to deals primarily with generating forecasts. Whether that’s predicting the demand or sales of a product, the count of passengers in an airline or the closing price of a particular stock, we are used to leveraging tried and tested time series techniques for forecasting requirements.\n",
        "![alt text](https://s3-ap-south-1.amazonaws.com/av-blog-media/wp-content/uploads/2019/01/time-series-.jpg)\n",
        "\n",
        "\n",
        "But as the amount of data being generated increases exponentially, so does the opportunity to experiment with new ideas and algorithms. Working with complex time series datasets is still a niche field, and it’s always helpful to expand your repertoire to include new ideas.\n",
        "\n",
        "And that is what I aim to do in the article by introducing you to the novel concept of time series classification. We will first understand what this topic means and it’s applications in the industry. But we won’t stop at the theory part – we’ll get our hands dirty by working on a time series dataset and performing binary time series classification. Learning by doing – this will help you understand the concept in a practical manner as well.\n",
        "\n",
        "If you have not worked on a time series problem before, I highly recommend first starting with some basic forecasting. You can go through the below article for starters:\n",
        "\n",
        "\n",
        "references:\n",
        " * [Time Series Classification](https://www.analyticsvidhya.com/blog/2019/01/introduction-time-series-classification/)\n",
        " \n",
        " * [Time Series Datasets](http://www.timeseriesclassification.com/dataset.php)"
      ]
    },
    {
      "cell_type": "code",
      "metadata": {
        "id": "YvC2sRwVuBuP"
      },
      "source": [
        "! wget https://archive.ics.uci.edu/ml/machine-learning-databases/00348/MovementAAL.zip\n",
        "! unzip MovementAAL.zip"
      ],
      "execution_count": null,
      "outputs": []
    },
    {
      "cell_type": "code",
      "metadata": {
        "id": "bo78YWF6uOdE"
      },
      "source": [
        "import pandas as pd\n",
        "import numpy as np\n",
        "import matplotlib.pyplot as plt\n",
        "import os\n",
        "\n",
        "from keras.preprocessing import sequence\n",
        "import tensorflow as tf\n",
        "from keras.models import Sequential\n",
        "from keras.layers import Dense\n",
        "from keras.layers import LSTM\n",
        "\n",
        "from keras.optimizers import Adam\n",
        "from keras.models import load_model\n",
        "from keras.callbacks import ModelCheckpoint"
      ],
      "execution_count": null,
      "outputs": []
    },
    {
      "cell_type": "markdown",
      "metadata": {
        "id": "eEzFNX5-nhch"
      },
      "source": [
        "## Setting up the Problem Statement\n",
        "We will be working on the ‘Indoor User Movement Prediction‘ problem. In this challenge, multiple motion sensors are placed in different rooms and the goal is to identify whether an individual has moved across rooms, based on the frequency data captured from these motion sensors.\n",
        "\n",
        "There are four motion sensors (A1, A2, A3, A4) placed across two rooms. Have a look at the below image which illustrates where the sensors are positioned in each room. The setup in these two rooms was created in 3 different pairs of rooms (group1, group2, group3).\n",
        "\n",
        "![alt text](https://s3-ap-south-1.amazonaws.com/av-blog-media/wp-content/uploads/2018/12/MovementAAL.jpg)\n",
        "\n",
        "A person can move along any of the six pre-defined paths shown in the above image. If a person walks on path 2, 3, 4 or 6, he moves within the room. On the other hand, if a person follows path 1 or path 5, we can say that the person has moved between the rooms.\n",
        "\n",
        "The sensor reading can be used to identify the position of a person at a given point in time. As the person moves in the room or across rooms, the reading in the sensor changes. This change can be used to identify the path of the person.\n",
        "\n",
        "[Dataset](https://archive.ics.uci.edu/ml/datasets/Indoor+User+Movement+Prediction+from+RSS+data)"
      ]
    },
    {
      "cell_type": "code",
      "metadata": {
        "id": "J5PTK51AuOid"
      },
      "source": [
        "dataset_group=pd.read_csv('groups/MovementAAL_DatasetGroup.csv', header=0)\n",
        "dataset_group.head()\n",
        "groups=dataset_group.values[:,1]"
      ],
      "execution_count": null,
      "outputs": []
    },
    {
      "cell_type": "code",
      "metadata": {
        "id": "0kR3ZgzSuOnf",
        "colab": {
          "base_uri": "https://localhost:8080/",
          "height": 204
        },
        "outputId": "79cc4804-c355-45f5-c0ed-38eea3b6e2c2"
      },
      "source": [
        "paths= pd.read_csv('groups/MovementAAL_Paths.csv')\n",
        "paths.head()"
      ],
      "execution_count": null,
      "outputs": [
        {
          "output_type": "execute_result",
          "data": {
            "text/html": [
              "<div>\n",
              "<style scoped>\n",
              "    .dataframe tbody tr th:only-of-type {\n",
              "        vertical-align: middle;\n",
              "    }\n",
              "\n",
              "    .dataframe tbody tr th {\n",
              "        vertical-align: top;\n",
              "    }\n",
              "\n",
              "    .dataframe thead th {\n",
              "        text-align: right;\n",
              "    }\n",
              "</style>\n",
              "<table border=\"1\" class=\"dataframe\">\n",
              "  <thead>\n",
              "    <tr style=\"text-align: right;\">\n",
              "      <th></th>\n",
              "      <th>#sequence_ID</th>\n",
              "      <th>path_ID</th>\n",
              "    </tr>\n",
              "  </thead>\n",
              "  <tbody>\n",
              "    <tr>\n",
              "      <th>0</th>\n",
              "      <td>1</td>\n",
              "      <td>1</td>\n",
              "    </tr>\n",
              "    <tr>\n",
              "      <th>1</th>\n",
              "      <td>2</td>\n",
              "      <td>1</td>\n",
              "    </tr>\n",
              "    <tr>\n",
              "      <th>2</th>\n",
              "      <td>3</td>\n",
              "      <td>1</td>\n",
              "    </tr>\n",
              "    <tr>\n",
              "      <th>3</th>\n",
              "      <td>4</td>\n",
              "      <td>1</td>\n",
              "    </tr>\n",
              "    <tr>\n",
              "      <th>4</th>\n",
              "      <td>5</td>\n",
              "      <td>1</td>\n",
              "    </tr>\n",
              "  </tbody>\n",
              "</table>\n",
              "</div>"
            ],
            "text/plain": [
              "   #sequence_ID   path_ID\n",
              "0             1         1\n",
              "1             2         1\n",
              "2             3         1\n",
              "3             4         1\n",
              "4             5         1"
            ]
          },
          "metadata": {
            "tags": []
          },
          "execution_count": 4
        }
      ]
    },
    {
      "cell_type": "code",
      "metadata": {
        "id": "dsuAh96luOsO",
        "colab": {
          "base_uri": "https://localhost:8080/",
          "height": 221
        },
        "outputId": "50324a65-7b53-4b8d-eddc-4dd331e6dfa8"
      },
      "source": [
        "df1=pd.read_csv('dataset/MovementAAL_RSS_1.csv')\n",
        "print(df1.shape)\n",
        "df1.head()"
      ],
      "execution_count": null,
      "outputs": [
        {
          "output_type": "stream",
          "text": [
            "(27, 4)\n"
          ],
          "name": "stdout"
        },
        {
          "output_type": "execute_result",
          "data": {
            "text/html": [
              "<div>\n",
              "<style scoped>\n",
              "    .dataframe tbody tr th:only-of-type {\n",
              "        vertical-align: middle;\n",
              "    }\n",
              "\n",
              "    .dataframe tbody tr th {\n",
              "        vertical-align: top;\n",
              "    }\n",
              "\n",
              "    .dataframe thead th {\n",
              "        text-align: right;\n",
              "    }\n",
              "</style>\n",
              "<table border=\"1\" class=\"dataframe\">\n",
              "  <thead>\n",
              "    <tr style=\"text-align: right;\">\n",
              "      <th></th>\n",
              "      <th>#RSS_anchor1</th>\n",
              "      <th>RSS_anchor2</th>\n",
              "      <th>RSS_anchor3</th>\n",
              "      <th>RSS_anchor4</th>\n",
              "    </tr>\n",
              "  </thead>\n",
              "  <tbody>\n",
              "    <tr>\n",
              "      <th>0</th>\n",
              "      <td>-0.90476</td>\n",
              "      <td>-0.48</td>\n",
              "      <td>0.28571</td>\n",
              "      <td>0.30</td>\n",
              "    </tr>\n",
              "    <tr>\n",
              "      <th>1</th>\n",
              "      <td>-0.57143</td>\n",
              "      <td>-0.32</td>\n",
              "      <td>0.14286</td>\n",
              "      <td>0.30</td>\n",
              "    </tr>\n",
              "    <tr>\n",
              "      <th>2</th>\n",
              "      <td>-0.38095</td>\n",
              "      <td>-0.28</td>\n",
              "      <td>-0.14286</td>\n",
              "      <td>0.35</td>\n",
              "    </tr>\n",
              "    <tr>\n",
              "      <th>3</th>\n",
              "      <td>-0.28571</td>\n",
              "      <td>-0.20</td>\n",
              "      <td>-0.47619</td>\n",
              "      <td>0.35</td>\n",
              "    </tr>\n",
              "    <tr>\n",
              "      <th>4</th>\n",
              "      <td>-0.14286</td>\n",
              "      <td>-0.20</td>\n",
              "      <td>0.14286</td>\n",
              "      <td>-0.20</td>\n",
              "    </tr>\n",
              "  </tbody>\n",
              "</table>\n",
              "</div>"
            ],
            "text/plain": [
              "   #RSS_anchor1   RSS_anchor2   RSS_anchor3   RSS_anchor4\n",
              "0      -0.90476         -0.48       0.28571          0.30\n",
              "1      -0.57143         -0.32       0.14286          0.30\n",
              "2      -0.38095         -0.28      -0.14286          0.35\n",
              "3      -0.28571         -0.20      -0.47619          0.35\n",
              "4      -0.14286         -0.20       0.14286         -0.20"
            ]
          },
          "metadata": {
            "tags": []
          },
          "execution_count": 5
        }
      ]
    },
    {
      "cell_type": "code",
      "metadata": {
        "id": "ADS6cTCzuOxG",
        "colab": {
          "base_uri": "https://localhost:8080/",
          "height": 102
        },
        "outputId": "79842b1c-d123-4378-d576-8fbe8832369c"
      },
      "source": [
        "files=os.listdir('dataset')\n",
        "files[:5]"
      ],
      "execution_count": null,
      "outputs": [
        {
          "output_type": "execute_result",
          "data": {
            "text/plain": [
              "['MovementAAL_RSS_141.csv',\n",
              " 'MovementAAL_RSS_139.csv',\n",
              " 'MovementAAL_RSS_102.csv',\n",
              " 'MovementAAL_RSS_66.csv',\n",
              " 'MovementAAL_RSS_252.csv']"
            ]
          },
          "metadata": {
            "tags": []
          },
          "execution_count": 6
        }
      ]
    },
    {
      "cell_type": "code",
      "metadata": {
        "id": "HRYtW949uO2F"
      },
      "source": [
        "targets=pd.read_csv('dataset/MovementAAL_target.csv')\n",
        "targets=targets.values[:,1]\n"
      ],
      "execution_count": null,
      "outputs": []
    },
    {
      "cell_type": "code",
      "metadata": {
        "id": "dmhcVhDZuO7E"
      },
      "source": [
        "path = 'dataset/MovementAAL_RSS_'\n",
        "sequences = list()\n",
        "for i in range(1,315):\n",
        "    file_path = path + str(i) + '.csv'\n",
        "    print(file_path)\n",
        "    df = pd.read_csv(file_path, header=0)\n",
        "    values = df.values\n",
        "    sequences.append(values)"
      ],
      "execution_count": null,
      "outputs": []
    },
    {
      "cell_type": "code",
      "metadata": {
        "id": "TXRNR44luO__",
        "colab": {
          "base_uri": "https://localhost:8080/",
          "height": 34
        },
        "outputId": "5a93cf10-3626-4737-f36c-c4e5d524e10f"
      },
      "source": [
        "len(sequences)"
      ],
      "execution_count": null,
      "outputs": [
        {
          "output_type": "execute_result",
          "data": {
            "text/plain": [
              "314"
            ]
          },
          "metadata": {
            "tags": []
          },
          "execution_count": 14
        }
      ]
    },
    {
      "cell_type": "code",
      "metadata": {
        "id": "NlbeO1OfuPFF"
      },
      "source": [
        ""
      ],
      "execution_count": null,
      "outputs": []
    },
    {
      "cell_type": "code",
      "metadata": {
        "id": "3GUhAiLeuPKx",
        "colab": {
          "base_uri": "https://localhost:8080/",
          "height": 170
        },
        "outputId": "202ed0c1-d994-41ed-c6b8-27382159bb2c"
      },
      "source": [
        "len_sequences = []\n",
        "for one_seq in sequences:\n",
        "    len_sequences.append(len(one_seq))\n",
        "pd.Series(len_sequences).describe()"
      ],
      "execution_count": null,
      "outputs": [
        {
          "output_type": "execute_result",
          "data": {
            "text/plain": [
              "count    314.000000\n",
              "mean      42.028662\n",
              "std       16.185303\n",
              "min       19.000000\n",
              "25%       26.000000\n",
              "50%       41.000000\n",
              "75%       56.000000\n",
              "max      129.000000\n",
              "dtype: float64"
            ]
          },
          "metadata": {
            "tags": []
          },
          "execution_count": 16
        }
      ]
    },
    {
      "cell_type": "code",
      "metadata": {
        "id": "rKxzT3O2kFB4",
        "colab": {
          "base_uri": "https://localhost:8080/",
          "height": 34
        },
        "outputId": "e64eea97-dff2-4109-d3ea-9e9f7970ec9e"
      },
      "source": [
        "#Padding the sequence with the values in last row to max length\n",
        "to_pad = 129\n",
        "new_seq = []\n",
        "for one_seq in sequences:\n",
        "    len_one_seq = len(one_seq)\n",
        "    last_val = one_seq[-1]\n",
        "    n = to_pad - len_one_seq\n",
        "   \n",
        "    to_concat = np.repeat(one_seq[-1], n).reshape(4, n).transpose()\n",
        "    new_one_seq = np.concatenate([one_seq, to_concat])\n",
        "    new_seq.append(new_one_seq)\n",
        "final_seq = np.stack(new_seq)\n",
        "\n",
        "#truncate the sequence to length 60\n",
        "from keras.preprocessing import sequence\n",
        "seq_len = 60\n",
        "final_seq=sequence.pad_sequences(final_seq, maxlen=seq_len, padding='post', dtype='float', truncating='post')"
      ],
      "execution_count": null,
      "outputs": [
        {
          "output_type": "stream",
          "text": [
            "Using TensorFlow backend.\n"
          ],
          "name": "stderr"
        }
      ]
    },
    {
      "cell_type": "code",
      "metadata": {
        "id": "BAwJwTK1kfle"
      },
      "source": [
        "train = [final_seq[i] for i in range(len(groups)) if (groups[i]==2)]\n",
        "validation = [final_seq[i] for i in range(len(groups)) if groups[i]==1]\n",
        "test = [final_seq[i] for i in range(len(groups)) if groups[i]==3]\n"
      ],
      "execution_count": null,
      "outputs": []
    },
    {
      "cell_type": "code",
      "metadata": {
        "id": "Mr7bkOM4ktBM"
      },
      "source": [
        "\n",
        "train_target = [targets[i] for i in range(len(groups)) if (groups[i]==2)]\n",
        "validation_target = [targets[i] for i in range(len(groups)) if groups[i]==1]\n",
        "test_target = [targets[i] for i in range(len(groups)) if groups[i]==3]"
      ],
      "execution_count": null,
      "outputs": []
    },
    {
      "cell_type": "code",
      "metadata": {
        "id": "67mlYkZnmBgc"
      },
      "source": [
        "train = np.array(train)\n",
        "validation = np.array(validation)\n",
        "test = np.array(test)\n",
        "\n",
        "train_target = np.array(train_target)\n",
        "train_target = (train_target+1)/2\n",
        "\n",
        "validation_target = np.array(validation_target)\n",
        "validation_target = (validation_target+1)/2\n",
        "\n",
        "test_target = np.array(test_target)\n",
        "test_target = (test_target+1)/2"
      ],
      "execution_count": null,
      "outputs": []
    },
    {
      "cell_type": "code",
      "metadata": {
        "id": "VVawzEpymBlR",
        "colab": {
          "base_uri": "https://localhost:8080/",
          "height": 34
        },
        "outputId": "24c9771f-1cdc-4743-ea24-a9804f5b9936"
      },
      "source": [
        "train.shape"
      ],
      "execution_count": null,
      "outputs": [
        {
          "output_type": "execute_result",
          "data": {
            "text/plain": [
              "(106, 60, 4)"
            ]
          },
          "metadata": {
            "tags": []
          },
          "execution_count": 30
        }
      ]
    },
    {
      "cell_type": "code",
      "metadata": {
        "id": "zzRjR2ULmBp4",
        "colab": {
          "base_uri": "https://localhost:8080/",
          "height": 88
        },
        "outputId": "4f04aa64-3338-4208-80b6-da24677ca169"
      },
      "source": [
        "model = Sequential()\n",
        "model.add(LSTM(256, input_shape=(seq_len, 4)))\n",
        "model.add(Dense(1, activation='sigmoid'))"
      ],
      "execution_count": null,
      "outputs": [
        {
          "output_type": "stream",
          "text": [
            "WARNING:tensorflow:From /usr/local/lib/python3.6/dist-packages/tensorflow/python/framework/op_def_library.py:263: colocate_with (from tensorflow.python.framework.ops) is deprecated and will be removed in a future version.\n",
            "Instructions for updating:\n",
            "Colocations handled automatically by placer.\n"
          ],
          "name": "stdout"
        }
      ]
    },
    {
      "cell_type": "code",
      "metadata": {
        "id": "GYjTpUCFmBuQ",
        "colab": {
          "base_uri": "https://localhost:8080/",
          "height": 204
        },
        "outputId": "c8d2e037-e4dd-461f-ebdf-0d0324a00cfa"
      },
      "source": [
        "model.summary()"
      ],
      "execution_count": null,
      "outputs": [
        {
          "output_type": "stream",
          "text": [
            "_________________________________________________________________\n",
            "Layer (type)                 Output Shape              Param #   \n",
            "=================================================================\n",
            "lstm_1 (LSTM)                (None, 256)               267264    \n",
            "_________________________________________________________________\n",
            "dense_1 (Dense)              (None, 1)                 257       \n",
            "=================================================================\n",
            "Total params: 267,521\n",
            "Trainable params: 267,521\n",
            "Non-trainable params: 0\n",
            "_________________________________________________________________\n"
          ],
          "name": "stdout"
        }
      ]
    },
    {
      "cell_type": "code",
      "metadata": {
        "id": "QFEidctYmByj",
        "colab": {
          "base_uri": "https://localhost:8080/",
          "height": 13722
        },
        "outputId": "aed7e4b7-6625-4ceb-84d0-111230a7df7e"
      },
      "source": [
        "adam = Adam(lr=0.001)\n",
        "chk = ModelCheckpoint('best_model.pkl', monitor='val_acc', save_best_only=True, mode='max', verbose=1)\n",
        "model.compile(loss='binary_crossentropy', optimizer=adam, metrics=['accuracy'])\n",
        "model.fit(train, train_target, epochs=200, batch_size=128, callbacks=[chk], validation_data=(validation,validation_target))"
      ],
      "execution_count": null,
      "outputs": [
        {
          "output_type": "stream",
          "text": [
            "WARNING:tensorflow:From /usr/local/lib/python3.6/dist-packages/tensorflow/python/ops/math_ops.py:3066: to_int32 (from tensorflow.python.ops.math_ops) is deprecated and will be removed in a future version.\n",
            "Instructions for updating:\n",
            "Use tf.cast instead.\n",
            "Train on 106 samples, validate on 104 samples\n",
            "Epoch 1/200\n",
            "106/106 [==============================] - 2s 17ms/step - loss: 0.6878 - acc: 0.6698 - val_loss: 0.6809 - val_acc: 0.6154\n",
            "\n",
            "Epoch 00001: val_acc improved from -inf to 0.61538, saving model to best_model.pkl\n",
            "Epoch 2/200\n",
            "106/106 [==============================] - 1s 5ms/step - loss: 0.6795 - acc: 0.5755 - val_loss: 0.6728 - val_acc: 0.6250\n",
            "\n",
            "Epoch 00002: val_acc improved from 0.61538 to 0.62500, saving model to best_model.pkl\n",
            "Epoch 3/200\n",
            "106/106 [==============================] - 1s 5ms/step - loss: 0.6708 - acc: 0.5755 - val_loss: 0.6640 - val_acc: 0.6154\n",
            "\n",
            "Epoch 00003: val_acc did not improve from 0.62500\n",
            "Epoch 4/200\n",
            "106/106 [==============================] - 1s 5ms/step - loss: 0.6603 - acc: 0.6038 - val_loss: 0.6557 - val_acc: 0.5769\n",
            "\n",
            "Epoch 00004: val_acc did not improve from 0.62500\n",
            "Epoch 5/200\n",
            "106/106 [==============================] - 1s 5ms/step - loss: 0.6488 - acc: 0.6226 - val_loss: 0.6477 - val_acc: 0.5673\n",
            "\n",
            "Epoch 00005: val_acc did not improve from 0.62500\n",
            "Epoch 6/200\n",
            "106/106 [==============================] - 1s 5ms/step - loss: 0.6337 - acc: 0.6226 - val_loss: 0.6437 - val_acc: 0.5769\n",
            "\n",
            "Epoch 00006: val_acc did not improve from 0.62500\n",
            "Epoch 7/200\n",
            "106/106 [==============================] - 1s 5ms/step - loss: 0.6113 - acc: 0.6792 - val_loss: 0.6661 - val_acc: 0.5865\n",
            "\n",
            "Epoch 00007: val_acc did not improve from 0.62500\n",
            "Epoch 8/200\n",
            "106/106 [==============================] - 1s 5ms/step - loss: 0.5699 - acc: 0.7453 - val_loss: 0.8667 - val_acc: 0.5673\n",
            "\n",
            "Epoch 00008: val_acc did not improve from 0.62500\n",
            "Epoch 9/200\n",
            "106/106 [==============================] - 1s 5ms/step - loss: 0.4804 - acc: 0.7830 - val_loss: 1.5991 - val_acc: 0.5769\n",
            "\n",
            "Epoch 00009: val_acc did not improve from 0.62500\n",
            "Epoch 10/200\n",
            "106/106 [==============================] - 1s 5ms/step - loss: 0.5281 - acc: 0.7925 - val_loss: 1.3376 - val_acc: 0.5481\n",
            "\n",
            "Epoch 00010: val_acc did not improve from 0.62500\n",
            "Epoch 11/200\n",
            "106/106 [==============================] - 1s 5ms/step - loss: 0.4353 - acc: 0.8208 - val_loss: 1.0364 - val_acc: 0.5769\n",
            "\n",
            "Epoch 00011: val_acc did not improve from 0.62500\n",
            "Epoch 12/200\n",
            "106/106 [==============================] - 1s 5ms/step - loss: 0.4536 - acc: 0.8302 - val_loss: 0.8927 - val_acc: 0.5769\n",
            "\n",
            "Epoch 00012: val_acc did not improve from 0.62500\n",
            "Epoch 13/200\n",
            "106/106 [==============================] - 1s 5ms/step - loss: 0.4713 - acc: 0.8019 - val_loss: 0.8460 - val_acc: 0.5673\n",
            "\n",
            "Epoch 00013: val_acc did not improve from 0.62500\n",
            "Epoch 14/200\n",
            "106/106 [==============================] - 1s 5ms/step - loss: 0.4643 - acc: 0.8208 - val_loss: 0.8692 - val_acc: 0.6058\n",
            "\n",
            "Epoch 00014: val_acc did not improve from 0.62500\n",
            "Epoch 15/200\n",
            "106/106 [==============================] - 1s 5ms/step - loss: 0.4402 - acc: 0.8113 - val_loss: 0.9660 - val_acc: 0.5962\n",
            "\n",
            "Epoch 00015: val_acc did not improve from 0.62500\n",
            "Epoch 16/200\n",
            "106/106 [==============================] - 1s 5ms/step - loss: 0.4074 - acc: 0.8113 - val_loss: 1.1115 - val_acc: 0.5865\n",
            "\n",
            "Epoch 00016: val_acc did not improve from 0.62500\n",
            "Epoch 17/200\n",
            "106/106 [==============================] - 1s 5ms/step - loss: 0.3970 - acc: 0.8396 - val_loss: 1.1932 - val_acc: 0.5673\n",
            "\n",
            "Epoch 00017: val_acc did not improve from 0.62500\n",
            "Epoch 18/200\n",
            "106/106 [==============================] - 1s 5ms/step - loss: 0.4057 - acc: 0.8302 - val_loss: 1.1416 - val_acc: 0.5481\n",
            "\n",
            "Epoch 00018: val_acc did not improve from 0.62500\n",
            "Epoch 19/200\n",
            "106/106 [==============================] - 1s 5ms/step - loss: 0.3861 - acc: 0.8302 - val_loss: 1.0360 - val_acc: 0.5481\n",
            "\n",
            "Epoch 00019: val_acc did not improve from 0.62500\n",
            "Epoch 20/200\n",
            "106/106 [==============================] - 1s 5ms/step - loss: 0.3792 - acc: 0.8491 - val_loss: 0.9661 - val_acc: 0.5481\n",
            "\n",
            "Epoch 00020: val_acc did not improve from 0.62500\n",
            "Epoch 21/200\n",
            "106/106 [==============================] - 1s 5ms/step - loss: 0.3607 - acc: 0.8679 - val_loss: 0.9427 - val_acc: 0.5481\n",
            "\n",
            "Epoch 00021: val_acc did not improve from 0.62500\n",
            "Epoch 22/200\n",
            "106/106 [==============================] - 1s 5ms/step - loss: 0.3341 - acc: 0.8679 - val_loss: 0.9515 - val_acc: 0.5673\n",
            "\n",
            "Epoch 00022: val_acc did not improve from 0.62500\n",
            "Epoch 23/200\n",
            "106/106 [==============================] - 1s 5ms/step - loss: 0.3312 - acc: 0.8585 - val_loss: 0.9661 - val_acc: 0.5577\n",
            "\n",
            "Epoch 00023: val_acc did not improve from 0.62500\n",
            "Epoch 24/200\n",
            "106/106 [==============================] - 1s 5ms/step - loss: 0.3128 - acc: 0.8774 - val_loss: 0.9793 - val_acc: 0.5481\n",
            "\n",
            "Epoch 00024: val_acc did not improve from 0.62500\n",
            "Epoch 25/200\n",
            "106/106 [==============================] - 1s 5ms/step - loss: 0.2950 - acc: 0.9151 - val_loss: 1.0037 - val_acc: 0.5385\n",
            "\n",
            "Epoch 00025: val_acc did not improve from 0.62500\n",
            "Epoch 26/200\n",
            "106/106 [==============================] - 1s 5ms/step - loss: 0.2970 - acc: 0.8962 - val_loss: 1.0004 - val_acc: 0.5481\n",
            "\n",
            "Epoch 00026: val_acc did not improve from 0.62500\n",
            "Epoch 27/200\n",
            "106/106 [==============================] - 1s 5ms/step - loss: 0.2882 - acc: 0.8868 - val_loss: 1.0145 - val_acc: 0.5577\n",
            "\n",
            "Epoch 00027: val_acc did not improve from 0.62500\n",
            "Epoch 28/200\n",
            "106/106 [==============================] - 1s 5ms/step - loss: 0.3004 - acc: 0.8868 - val_loss: 0.9290 - val_acc: 0.5673\n",
            "\n",
            "Epoch 00028: val_acc did not improve from 0.62500\n",
            "Epoch 29/200\n",
            "106/106 [==============================] - 1s 5ms/step - loss: 0.3519 - acc: 0.8491 - val_loss: 0.8832 - val_acc: 0.5769\n",
            "\n",
            "Epoch 00029: val_acc did not improve from 0.62500\n",
            "Epoch 30/200\n",
            "106/106 [==============================] - 1s 5ms/step - loss: 0.3735 - acc: 0.8679 - val_loss: 0.8739 - val_acc: 0.5769\n",
            "\n",
            "Epoch 00030: val_acc did not improve from 0.62500\n",
            "Epoch 31/200\n",
            "106/106 [==============================] - 1s 5ms/step - loss: 0.3140 - acc: 0.8962 - val_loss: 0.9085 - val_acc: 0.5769\n",
            "\n",
            "Epoch 00031: val_acc did not improve from 0.62500\n",
            "Epoch 32/200\n",
            "106/106 [==============================] - 1s 5ms/step - loss: 0.2691 - acc: 0.8868 - val_loss: 0.9839 - val_acc: 0.5769\n",
            "\n",
            "Epoch 00032: val_acc did not improve from 0.62500\n",
            "Epoch 33/200\n",
            "106/106 [==============================] - 1s 5ms/step - loss: 0.3514 - acc: 0.8302 - val_loss: 1.0136 - val_acc: 0.5769\n",
            "\n",
            "Epoch 00033: val_acc did not improve from 0.62500\n",
            "Epoch 34/200\n",
            "106/106 [==============================] - 1s 5ms/step - loss: 0.2608 - acc: 0.8962 - val_loss: 1.0715 - val_acc: 0.5673\n",
            "\n",
            "Epoch 00034: val_acc did not improve from 0.62500\n",
            "Epoch 35/200\n",
            "106/106 [==============================] - 1s 5ms/step - loss: 0.2543 - acc: 0.9245 - val_loss: 1.2180 - val_acc: 0.5673\n",
            "\n",
            "Epoch 00035: val_acc did not improve from 0.62500\n",
            "Epoch 36/200\n",
            "106/106 [==============================] - 1s 5ms/step - loss: 0.2649 - acc: 0.8962 - val_loss: 1.4586 - val_acc: 0.5673\n",
            "\n",
            "Epoch 00036: val_acc did not improve from 0.62500\n",
            "Epoch 37/200\n",
            "106/106 [==============================] - 1s 5ms/step - loss: 0.2568 - acc: 0.8774 - val_loss: 1.7159 - val_acc: 0.5577\n",
            "\n",
            "Epoch 00037: val_acc did not improve from 0.62500\n",
            "Epoch 38/200\n",
            "106/106 [==============================] - 1s 5ms/step - loss: 0.2254 - acc: 0.9151 - val_loss: 1.8192 - val_acc: 0.5673\n",
            "\n",
            "Epoch 00038: val_acc did not improve from 0.62500\n",
            "Epoch 39/200\n",
            "106/106 [==============================] - 1s 5ms/step - loss: 0.2188 - acc: 0.9057 - val_loss: 1.6437 - val_acc: 0.5962\n",
            "\n",
            "Epoch 00039: val_acc did not improve from 0.62500\n",
            "Epoch 40/200\n",
            "106/106 [==============================] - 1s 5ms/step - loss: 0.2135 - acc: 0.8868 - val_loss: 1.4054 - val_acc: 0.5962\n",
            "\n",
            "Epoch 00040: val_acc did not improve from 0.62500\n",
            "Epoch 41/200\n",
            "106/106 [==============================] - 1s 5ms/step - loss: 0.1908 - acc: 0.9151 - val_loss: 1.2655 - val_acc: 0.5865\n",
            "\n",
            "Epoch 00041: val_acc did not improve from 0.62500\n",
            "Epoch 42/200\n",
            "106/106 [==============================] - 1s 5ms/step - loss: 0.1810 - acc: 0.9434 - val_loss: 1.2274 - val_acc: 0.5962\n",
            "\n",
            "Epoch 00042: val_acc did not improve from 0.62500\n",
            "Epoch 43/200\n",
            "106/106 [==============================] - 1s 5ms/step - loss: 0.1893 - acc: 0.9434 - val_loss: 1.2614 - val_acc: 0.6058\n",
            "\n",
            "Epoch 00043: val_acc did not improve from 0.62500\n",
            "Epoch 44/200\n",
            "106/106 [==============================] - 1s 5ms/step - loss: 0.1836 - acc: 0.9528 - val_loss: 1.3652 - val_acc: 0.6058\n",
            "\n",
            "Epoch 00044: val_acc did not improve from 0.62500\n",
            "Epoch 45/200\n",
            "106/106 [==============================] - 1s 5ms/step - loss: 0.1719 - acc: 0.9434 - val_loss: 1.4534 - val_acc: 0.6058\n",
            "\n",
            "Epoch 00045: val_acc did not improve from 0.62500\n",
            "Epoch 46/200\n",
            "106/106 [==============================] - 1s 5ms/step - loss: 0.1558 - acc: 0.9340 - val_loss: 1.5718 - val_acc: 0.6154\n",
            "\n",
            "Epoch 00046: val_acc did not improve from 0.62500\n",
            "Epoch 47/200\n",
            "106/106 [==============================] - 1s 5ms/step - loss: 0.1640 - acc: 0.9340 - val_loss: 1.6793 - val_acc: 0.6058\n",
            "\n",
            "Epoch 00047: val_acc did not improve from 0.62500\n",
            "Epoch 48/200\n",
            "106/106 [==============================] - 1s 5ms/step - loss: 0.1548 - acc: 0.9340 - val_loss: 1.7537 - val_acc: 0.5962\n",
            "\n",
            "Epoch 00048: val_acc did not improve from 0.62500\n",
            "Epoch 49/200\n",
            "106/106 [==============================] - 1s 5ms/step - loss: 0.1421 - acc: 0.9340 - val_loss: 1.7826 - val_acc: 0.6154\n",
            "\n",
            "Epoch 00049: val_acc did not improve from 0.62500\n",
            "Epoch 50/200\n",
            "106/106 [==============================] - 1s 5ms/step - loss: 0.1327 - acc: 0.9434 - val_loss: 1.8201 - val_acc: 0.6250\n",
            "\n",
            "Epoch 00050: val_acc did not improve from 0.62500\n",
            "Epoch 51/200\n",
            "106/106 [==============================] - 1s 5ms/step - loss: 0.1196 - acc: 0.9528 - val_loss: 1.9085 - val_acc: 0.6058\n",
            "\n",
            "Epoch 00051: val_acc did not improve from 0.62500\n",
            "Epoch 52/200\n",
            "106/106 [==============================] - 1s 5ms/step - loss: 0.1111 - acc: 0.9434 - val_loss: 2.0515 - val_acc: 0.6058\n",
            "\n",
            "Epoch 00052: val_acc did not improve from 0.62500\n",
            "Epoch 53/200\n",
            "106/106 [==============================] - 1s 5ms/step - loss: 0.1104 - acc: 0.9434 - val_loss: 2.1207 - val_acc: 0.6346\n",
            "\n",
            "Epoch 00053: val_acc improved from 0.62500 to 0.63462, saving model to best_model.pkl\n",
            "Epoch 54/200\n",
            "106/106 [==============================] - 1s 5ms/step - loss: 0.1202 - acc: 0.9434 - val_loss: 2.5301 - val_acc: 0.6058\n",
            "\n",
            "Epoch 00054: val_acc did not improve from 0.63462\n",
            "Epoch 55/200\n",
            "106/106 [==============================] - 1s 5ms/step - loss: 0.1692 - acc: 0.9245 - val_loss: 2.0789 - val_acc: 0.6154\n",
            "\n",
            "Epoch 00055: val_acc did not improve from 0.63462\n",
            "Epoch 56/200\n",
            "106/106 [==============================] - 1s 5ms/step - loss: 0.0915 - acc: 0.9623 - val_loss: 1.8455 - val_acc: 0.6250\n",
            "\n",
            "Epoch 00056: val_acc did not improve from 0.63462\n",
            "Epoch 57/200\n",
            "106/106 [==============================] - 1s 5ms/step - loss: 0.1785 - acc: 0.9340 - val_loss: 1.5885 - val_acc: 0.6250\n",
            "\n",
            "Epoch 00057: val_acc did not improve from 0.63462\n",
            "Epoch 58/200\n",
            "106/106 [==============================] - 1s 5ms/step - loss: 0.1773 - acc: 0.9340 - val_loss: 1.5802 - val_acc: 0.5962\n",
            "\n",
            "Epoch 00058: val_acc did not improve from 0.63462\n",
            "Epoch 59/200\n",
            "106/106 [==============================] - 1s 5ms/step - loss: 0.1903 - acc: 0.9245 - val_loss: 1.4277 - val_acc: 0.6154\n",
            "\n",
            "Epoch 00059: val_acc did not improve from 0.63462\n",
            "Epoch 60/200\n",
            "106/106 [==============================] - 1s 5ms/step - loss: 0.1882 - acc: 0.9245 - val_loss: 1.2615 - val_acc: 0.6250\n",
            "\n",
            "Epoch 00060: val_acc did not improve from 0.63462\n",
            "Epoch 61/200\n",
            "106/106 [==============================] - 1s 5ms/step - loss: 0.1886 - acc: 0.9245 - val_loss: 1.2091 - val_acc: 0.6442\n",
            "\n",
            "Epoch 00061: val_acc improved from 0.63462 to 0.64423, saving model to best_model.pkl\n",
            "Epoch 62/200\n",
            "106/106 [==============================] - 1s 5ms/step - loss: 0.1757 - acc: 0.9434 - val_loss: 1.1389 - val_acc: 0.6346\n",
            "\n",
            "Epoch 00062: val_acc did not improve from 0.64423\n",
            "Epoch 63/200\n",
            "106/106 [==============================] - 1s 5ms/step - loss: 0.1681 - acc: 0.9434 - val_loss: 1.1374 - val_acc: 0.6250\n",
            "\n",
            "Epoch 00063: val_acc did not improve from 0.64423\n",
            "Epoch 64/200\n",
            "106/106 [==============================] - 1s 5ms/step - loss: 0.1637 - acc: 0.9623 - val_loss: 1.2931 - val_acc: 0.6250\n",
            "\n",
            "Epoch 00064: val_acc did not improve from 0.64423\n",
            "Epoch 65/200\n",
            "106/106 [==============================] - 1s 5ms/step - loss: 0.1409 - acc: 0.9717 - val_loss: 1.5352 - val_acc: 0.6250\n",
            "\n",
            "Epoch 00065: val_acc did not improve from 0.64423\n",
            "Epoch 66/200\n",
            "106/106 [==============================] - 1s 5ms/step - loss: 0.1240 - acc: 0.9717 - val_loss: 1.7300 - val_acc: 0.6346\n",
            "\n",
            "Epoch 00066: val_acc did not improve from 0.64423\n",
            "Epoch 67/200\n",
            "106/106 [==============================] - 1s 5ms/step - loss: 0.1208 - acc: 0.9717 - val_loss: 1.8433 - val_acc: 0.6250\n",
            "\n",
            "Epoch 00067: val_acc did not improve from 0.64423\n",
            "Epoch 68/200\n",
            "106/106 [==============================] - 1s 5ms/step - loss: 0.1090 - acc: 0.9717 - val_loss: 1.8186 - val_acc: 0.6346\n",
            "\n",
            "Epoch 00068: val_acc did not improve from 0.64423\n",
            "Epoch 69/200\n",
            "106/106 [==============================] - 1s 5ms/step - loss: 0.0996 - acc: 0.9811 - val_loss: 1.4436 - val_acc: 0.6731\n",
            "\n",
            "Epoch 00069: val_acc improved from 0.64423 to 0.67308, saving model to best_model.pkl\n",
            "Epoch 70/200\n",
            "106/106 [==============================] - 1s 5ms/step - loss: 0.0958 - acc: 0.9811 - val_loss: 1.2072 - val_acc: 0.7308\n",
            "\n",
            "Epoch 00070: val_acc improved from 0.67308 to 0.73077, saving model to best_model.pkl\n",
            "Epoch 71/200\n",
            "106/106 [==============================] - 1s 5ms/step - loss: 0.1312 - acc: 0.9528 - val_loss: 2.1396 - val_acc: 0.6346\n",
            "\n",
            "Epoch 00071: val_acc did not improve from 0.73077\n",
            "Epoch 72/200\n",
            "106/106 [==============================] - 1s 5ms/step - loss: 0.3873 - acc: 0.9151 - val_loss: 2.4758 - val_acc: 0.5192\n",
            "\n",
            "Epoch 00072: val_acc did not improve from 0.73077\n",
            "Epoch 73/200\n",
            "106/106 [==============================] - 1s 5ms/step - loss: 0.5834 - acc: 0.8396 - val_loss: 2.5333 - val_acc: 0.5000\n",
            "\n",
            "Epoch 00073: val_acc did not improve from 0.73077\n",
            "Epoch 74/200\n",
            "106/106 [==============================] - 1s 5ms/step - loss: 0.6530 - acc: 0.8302 - val_loss: 2.4349 - val_acc: 0.5000\n",
            "\n",
            "Epoch 00074: val_acc did not improve from 0.73077\n",
            "Epoch 75/200\n",
            "106/106 [==============================] - 1s 5ms/step - loss: 0.5879 - acc: 0.8019 - val_loss: 1.9229 - val_acc: 0.5000\n",
            "\n",
            "Epoch 00075: val_acc did not improve from 0.73077\n",
            "Epoch 76/200\n",
            "106/106 [==============================] - 1s 5ms/step - loss: 0.6982 - acc: 0.7736 - val_loss: 1.4084 - val_acc: 0.5385\n",
            "\n",
            "Epoch 00076: val_acc did not improve from 0.73077\n",
            "Epoch 77/200\n",
            "106/106 [==============================] - 1s 5ms/step - loss: 0.7442 - acc: 0.7547 - val_loss: 1.0711 - val_acc: 0.5769\n",
            "\n",
            "Epoch 00077: val_acc did not improve from 0.73077\n",
            "Epoch 78/200\n",
            "106/106 [==============================] - 1s 5ms/step - loss: 0.7495 - acc: 0.7453 - val_loss: 0.9519 - val_acc: 0.6154\n",
            "\n",
            "Epoch 00078: val_acc did not improve from 0.73077\n",
            "Epoch 79/200\n",
            "106/106 [==============================] - 1s 5ms/step - loss: 0.7567 - acc: 0.6981 - val_loss: 0.9094 - val_acc: 0.6250\n",
            "\n",
            "Epoch 00079: val_acc did not improve from 0.73077\n",
            "Epoch 80/200\n",
            "106/106 [==============================] - 1s 5ms/step - loss: 0.6076 - acc: 0.7358 - val_loss: 0.7337 - val_acc: 0.6731\n",
            "\n",
            "Epoch 00080: val_acc did not improve from 0.73077\n",
            "Epoch 81/200\n",
            "106/106 [==============================] - 1s 5ms/step - loss: 0.6027 - acc: 0.7547 - val_loss: 0.6341 - val_acc: 0.7308\n",
            "\n",
            "Epoch 00081: val_acc did not improve from 0.73077\n",
            "Epoch 82/200\n",
            "106/106 [==============================] - 1s 5ms/step - loss: 0.7659 - acc: 0.6698 - val_loss: 0.6286 - val_acc: 0.7308\n",
            "\n",
            "Epoch 00082: val_acc did not improve from 0.73077\n",
            "Epoch 83/200\n",
            "106/106 [==============================] - 1s 5ms/step - loss: 0.6227 - acc: 0.7075 - val_loss: 0.8015 - val_acc: 0.6250\n",
            "\n",
            "Epoch 00083: val_acc did not improve from 0.73077\n",
            "Epoch 84/200\n",
            "106/106 [==============================] - 1s 5ms/step - loss: 0.4824 - acc: 0.8019 - val_loss: 0.9093 - val_acc: 0.6058\n",
            "\n",
            "Epoch 00084: val_acc did not improve from 0.73077\n",
            "Epoch 85/200\n",
            "106/106 [==============================] - 1s 5ms/step - loss: 0.4318 - acc: 0.8208 - val_loss: 1.0010 - val_acc: 0.6154\n",
            "\n",
            "Epoch 00085: val_acc did not improve from 0.73077\n",
            "Epoch 86/200\n",
            "106/106 [==============================] - 1s 5ms/step - loss: 0.4632 - acc: 0.7736 - val_loss: 1.0833 - val_acc: 0.6250\n",
            "\n",
            "Epoch 00086: val_acc did not improve from 0.73077\n",
            "Epoch 87/200\n",
            "106/106 [==============================] - 1s 5ms/step - loss: 0.5415 - acc: 0.7170 - val_loss: 1.0491 - val_acc: 0.6058\n",
            "\n",
            "Epoch 00087: val_acc did not improve from 0.73077\n",
            "Epoch 88/200\n",
            "106/106 [==============================] - 1s 5ms/step - loss: 0.4742 - acc: 0.7736 - val_loss: 0.9949 - val_acc: 0.5769\n",
            "\n",
            "Epoch 00088: val_acc did not improve from 0.73077\n",
            "Epoch 89/200\n",
            "106/106 [==============================] - 1s 5ms/step - loss: 0.4326 - acc: 0.7830 - val_loss: 0.9508 - val_acc: 0.6058\n",
            "\n",
            "Epoch 00089: val_acc did not improve from 0.73077\n",
            "Epoch 90/200\n",
            "106/106 [==============================] - 1s 5ms/step - loss: 0.3990 - acc: 0.8208 - val_loss: 0.8636 - val_acc: 0.5962\n",
            "\n",
            "Epoch 00090: val_acc did not improve from 0.73077\n",
            "Epoch 91/200\n",
            "106/106 [==============================] - 1s 5ms/step - loss: 0.4229 - acc: 0.8019 - val_loss: 0.7525 - val_acc: 0.6538\n",
            "\n",
            "Epoch 00091: val_acc did not improve from 0.73077\n",
            "Epoch 92/200\n",
            "106/106 [==============================] - 1s 5ms/step - loss: 0.4094 - acc: 0.8113 - val_loss: 0.6644 - val_acc: 0.6731\n",
            "\n",
            "Epoch 00092: val_acc did not improve from 0.73077\n",
            "Epoch 93/200\n",
            "106/106 [==============================] - 1s 5ms/step - loss: 0.3610 - acc: 0.8491 - val_loss: 0.5616 - val_acc: 0.7212\n",
            "\n",
            "Epoch 00093: val_acc did not improve from 0.73077\n",
            "Epoch 94/200\n",
            "106/106 [==============================] - 1s 5ms/step - loss: 0.3511 - acc: 0.8585 - val_loss: 0.5404 - val_acc: 0.7500\n",
            "\n",
            "Epoch 00094: val_acc improved from 0.73077 to 0.75000, saving model to best_model.pkl\n",
            "Epoch 95/200\n",
            "106/106 [==============================] - 1s 5ms/step - loss: 0.4195 - acc: 0.8585 - val_loss: 0.7487 - val_acc: 0.7212\n",
            "\n",
            "Epoch 00095: val_acc did not improve from 0.75000\n",
            "Epoch 96/200\n",
            "106/106 [==============================] - 1s 5ms/step - loss: 0.3397 - acc: 0.8585 - val_loss: 0.9619 - val_acc: 0.6538\n",
            "\n",
            "Epoch 00096: val_acc did not improve from 0.75000\n",
            "Epoch 97/200\n",
            "106/106 [==============================] - 1s 5ms/step - loss: 0.3676 - acc: 0.8396 - val_loss: 0.8804 - val_acc: 0.6442\n",
            "\n",
            "Epoch 00097: val_acc did not improve from 0.75000\n",
            "Epoch 98/200\n",
            "106/106 [==============================] - 1s 5ms/step - loss: 0.3264 - acc: 0.8962 - val_loss: 0.8190 - val_acc: 0.6058\n",
            "\n",
            "Epoch 00098: val_acc did not improve from 0.75000\n",
            "Epoch 99/200\n",
            "106/106 [==============================] - 1s 5ms/step - loss: 0.3313 - acc: 0.8396 - val_loss: 0.8170 - val_acc: 0.5769\n",
            "\n",
            "Epoch 00099: val_acc did not improve from 0.75000\n",
            "Epoch 100/200\n",
            "106/106 [==============================] - 1s 5ms/step - loss: 0.3469 - acc: 0.8208 - val_loss: 0.8225 - val_acc: 0.5769\n",
            "\n",
            "Epoch 00100: val_acc did not improve from 0.75000\n",
            "Epoch 101/200\n",
            "106/106 [==============================] - 1s 5ms/step - loss: 0.3575 - acc: 0.8113 - val_loss: 0.7866 - val_acc: 0.5962\n",
            "\n",
            "Epoch 00101: val_acc did not improve from 0.75000\n",
            "Epoch 102/200\n",
            "106/106 [==============================] - 1s 5ms/step - loss: 0.4017 - acc: 0.8113 - val_loss: 0.7812 - val_acc: 0.6058\n",
            "\n",
            "Epoch 00102: val_acc did not improve from 0.75000\n",
            "Epoch 103/200\n",
            "106/106 [==============================] - 1s 5ms/step - loss: 0.3829 - acc: 0.8113 - val_loss: 0.7646 - val_acc: 0.6346\n",
            "\n",
            "Epoch 00103: val_acc did not improve from 0.75000\n",
            "Epoch 104/200\n",
            "106/106 [==============================] - 1s 5ms/step - loss: 0.3656 - acc: 0.8396 - val_loss: 0.7134 - val_acc: 0.6827\n",
            "\n",
            "Epoch 00104: val_acc did not improve from 0.75000\n",
            "Epoch 105/200\n",
            "106/106 [==============================] - 1s 5ms/step - loss: 0.3573 - acc: 0.8585 - val_loss: 0.7808 - val_acc: 0.7019\n",
            "\n",
            "Epoch 00105: val_acc did not improve from 0.75000\n",
            "Epoch 106/200\n",
            "106/106 [==============================] - 1s 5ms/step - loss: 0.3479 - acc: 0.9151 - val_loss: 0.8690 - val_acc: 0.6731\n",
            "\n",
            "Epoch 00106: val_acc did not improve from 0.75000\n",
            "Epoch 107/200\n",
            "106/106 [==============================] - 1s 5ms/step - loss: 0.3451 - acc: 0.9057 - val_loss: 0.9995 - val_acc: 0.6731\n",
            "\n",
            "Epoch 00107: val_acc did not improve from 0.75000\n",
            "Epoch 108/200\n",
            "106/106 [==============================] - 1s 5ms/step - loss: 0.3435 - acc: 0.8962 - val_loss: 1.0633 - val_acc: 0.6538\n",
            "\n",
            "Epoch 00108: val_acc did not improve from 0.75000\n",
            "Epoch 109/200\n",
            "106/106 [==============================] - 1s 5ms/step - loss: 0.3398 - acc: 0.8962 - val_loss: 1.0319 - val_acc: 0.6442\n",
            "\n",
            "Epoch 00109: val_acc did not improve from 0.75000\n",
            "Epoch 110/200\n",
            "106/106 [==============================] - 1s 5ms/step - loss: 0.3108 - acc: 0.9151 - val_loss: 1.0193 - val_acc: 0.6538\n",
            "\n",
            "Epoch 00110: val_acc did not improve from 0.75000\n",
            "Epoch 111/200\n",
            "106/106 [==============================] - 1s 5ms/step - loss: 0.2899 - acc: 0.9057 - val_loss: 1.0200 - val_acc: 0.6250\n",
            "\n",
            "Epoch 00111: val_acc did not improve from 0.75000\n",
            "Epoch 112/200\n",
            "106/106 [==============================] - 1s 5ms/step - loss: 0.2867 - acc: 0.8868 - val_loss: 1.0284 - val_acc: 0.6154\n",
            "\n",
            "Epoch 00112: val_acc did not improve from 0.75000\n",
            "Epoch 113/200\n",
            "106/106 [==============================] - 1s 5ms/step - loss: 0.2933 - acc: 0.8774 - val_loss: 1.0387 - val_acc: 0.6154\n",
            "\n",
            "Epoch 00113: val_acc did not improve from 0.75000\n",
            "Epoch 114/200\n",
            "106/106 [==============================] - 1s 5ms/step - loss: 0.2943 - acc: 0.8868 - val_loss: 1.0733 - val_acc: 0.6250\n",
            "\n",
            "Epoch 00114: val_acc did not improve from 0.75000\n",
            "Epoch 115/200\n",
            "106/106 [==============================] - 1s 5ms/step - loss: 0.2867 - acc: 0.8868 - val_loss: 1.0848 - val_acc: 0.6250\n",
            "\n",
            "Epoch 00115: val_acc did not improve from 0.75000\n",
            "Epoch 116/200\n",
            "106/106 [==============================] - 1s 5ms/step - loss: 0.2648 - acc: 0.9151 - val_loss: 1.1156 - val_acc: 0.6250\n",
            "\n",
            "Epoch 00116: val_acc did not improve from 0.75000\n",
            "Epoch 117/200\n",
            "106/106 [==============================] - 1s 5ms/step - loss: 0.2578 - acc: 0.9245 - val_loss: 1.2157 - val_acc: 0.6058\n",
            "\n",
            "Epoch 00117: val_acc did not improve from 0.75000\n",
            "Epoch 118/200\n",
            "106/106 [==============================] - 1s 5ms/step - loss: 0.2524 - acc: 0.9151 - val_loss: 1.2708 - val_acc: 0.6250\n",
            "\n",
            "Epoch 00118: val_acc did not improve from 0.75000\n",
            "Epoch 119/200\n",
            "106/106 [==============================] - 1s 5ms/step - loss: 0.2916 - acc: 0.9057 - val_loss: 1.1799 - val_acc: 0.6250\n",
            "\n",
            "Epoch 00119: val_acc did not improve from 0.75000\n",
            "Epoch 120/200\n",
            "106/106 [==============================] - 1s 5ms/step - loss: 0.2160 - acc: 0.9340 - val_loss: 1.2139 - val_acc: 0.6058\n",
            "\n",
            "Epoch 00120: val_acc did not improve from 0.75000\n",
            "Epoch 121/200\n",
            "106/106 [==============================] - 1s 5ms/step - loss: 0.2475 - acc: 0.9057 - val_loss: 1.2486 - val_acc: 0.6058\n",
            "\n",
            "Epoch 00121: val_acc did not improve from 0.75000\n",
            "Epoch 122/200\n",
            "106/106 [==============================] - 1s 5ms/step - loss: 0.2688 - acc: 0.8774 - val_loss: 1.3064 - val_acc: 0.6058\n",
            "\n",
            "Epoch 00122: val_acc did not improve from 0.75000\n",
            "Epoch 123/200\n",
            "106/106 [==============================] - 1s 5ms/step - loss: 0.3032 - acc: 0.8679 - val_loss: 1.2313 - val_acc: 0.6250\n",
            "\n",
            "Epoch 00123: val_acc did not improve from 0.75000\n",
            "Epoch 124/200\n",
            "106/106 [==============================] - 1s 5ms/step - loss: 0.2867 - acc: 0.8774 - val_loss: 1.3099 - val_acc: 0.6058\n",
            "\n",
            "Epoch 00124: val_acc did not improve from 0.75000\n",
            "Epoch 125/200\n",
            "106/106 [==============================] - 1s 5ms/step - loss: 0.2451 - acc: 0.9151 - val_loss: 1.2855 - val_acc: 0.6346\n",
            "\n",
            "Epoch 00125: val_acc did not improve from 0.75000\n",
            "Epoch 126/200\n",
            "106/106 [==============================] - 1s 5ms/step - loss: 0.2299 - acc: 0.9057 - val_loss: 1.3254 - val_acc: 0.6250\n",
            "\n",
            "Epoch 00126: val_acc did not improve from 0.75000\n",
            "Epoch 127/200\n",
            "106/106 [==============================] - 1s 5ms/step - loss: 0.2746 - acc: 0.8962 - val_loss: 1.4489 - val_acc: 0.6058\n",
            "\n",
            "Epoch 00127: val_acc did not improve from 0.75000\n",
            "Epoch 128/200\n",
            "106/106 [==============================] - 1s 5ms/step - loss: 0.2643 - acc: 0.8962 - val_loss: 1.4599 - val_acc: 0.6154\n",
            "\n",
            "Epoch 00128: val_acc did not improve from 0.75000\n",
            "Epoch 129/200\n",
            "106/106 [==============================] - 1s 5ms/step - loss: 0.3594 - acc: 0.8774 - val_loss: 1.5113 - val_acc: 0.6154\n",
            "\n",
            "Epoch 00129: val_acc did not improve from 0.75000\n",
            "Epoch 130/200\n",
            "106/106 [==============================] - 1s 5ms/step - loss: 0.3800 - acc: 0.8774 - val_loss: 1.5402 - val_acc: 0.6058\n",
            "\n",
            "Epoch 00130: val_acc did not improve from 0.75000\n",
            "Epoch 131/200\n",
            "106/106 [==============================] - 1s 5ms/step - loss: 0.4261 - acc: 0.8491 - val_loss: 1.5229 - val_acc: 0.6250\n",
            "\n",
            "Epoch 00131: val_acc did not improve from 0.75000\n",
            "Epoch 132/200\n",
            "106/106 [==============================] - 1s 5ms/step - loss: 0.3797 - acc: 0.8491 - val_loss: 1.3826 - val_acc: 0.6058\n",
            "\n",
            "Epoch 00132: val_acc did not improve from 0.75000\n",
            "Epoch 133/200\n",
            "106/106 [==============================] - 1s 5ms/step - loss: 0.3792 - acc: 0.8585 - val_loss: 1.1908 - val_acc: 0.6250\n",
            "\n",
            "Epoch 00133: val_acc did not improve from 0.75000\n",
            "Epoch 134/200\n",
            "106/106 [==============================] - 1s 5ms/step - loss: 0.3669 - acc: 0.8585 - val_loss: 1.0648 - val_acc: 0.6250\n",
            "\n",
            "Epoch 00134: val_acc did not improve from 0.75000\n",
            "Epoch 135/200\n",
            "106/106 [==============================] - 1s 5ms/step - loss: 0.3077 - acc: 0.8774 - val_loss: 1.0844 - val_acc: 0.5962\n",
            "\n",
            "Epoch 00135: val_acc did not improve from 0.75000\n",
            "Epoch 136/200\n",
            "106/106 [==============================] - 1s 5ms/step - loss: 0.3719 - acc: 0.8113 - val_loss: 0.9586 - val_acc: 0.6250\n",
            "\n",
            "Epoch 00136: val_acc did not improve from 0.75000\n",
            "Epoch 137/200\n",
            "106/106 [==============================] - 1s 5ms/step - loss: 0.3892 - acc: 0.8113 - val_loss: 0.8951 - val_acc: 0.6346\n",
            "\n",
            "Epoch 00137: val_acc did not improve from 0.75000\n",
            "Epoch 138/200\n",
            "106/106 [==============================] - 1s 5ms/step - loss: 0.3895 - acc: 0.8113 - val_loss: 0.8708 - val_acc: 0.6346\n",
            "\n",
            "Epoch 00138: val_acc did not improve from 0.75000\n",
            "Epoch 139/200\n",
            "106/106 [==============================] - 1s 5ms/step - loss: 0.3915 - acc: 0.8113 - val_loss: 0.8869 - val_acc: 0.6346\n",
            "\n",
            "Epoch 00139: val_acc did not improve from 0.75000\n",
            "Epoch 140/200\n",
            "106/106 [==============================] - 1s 5ms/step - loss: 0.4076 - acc: 0.8019 - val_loss: 0.8577 - val_acc: 0.6442\n",
            "\n",
            "Epoch 00140: val_acc did not improve from 0.75000\n",
            "Epoch 141/200\n",
            "106/106 [==============================] - 1s 5ms/step - loss: 0.4088 - acc: 0.8019 - val_loss: 0.8613 - val_acc: 0.6442\n",
            "\n",
            "Epoch 00141: val_acc did not improve from 0.75000\n",
            "Epoch 142/200\n",
            "106/106 [==============================] - 1s 5ms/step - loss: 0.4084 - acc: 0.8019 - val_loss: 0.8601 - val_acc: 0.6442\n",
            "\n",
            "Epoch 00142: val_acc did not improve from 0.75000\n",
            "Epoch 143/200\n",
            "106/106 [==============================] - 1s 5ms/step - loss: 0.4232 - acc: 0.7925 - val_loss: 0.8523 - val_acc: 0.6442\n",
            "\n",
            "Epoch 00143: val_acc did not improve from 0.75000\n",
            "Epoch 144/200\n",
            "106/106 [==============================] - 1s 5ms/step - loss: 0.4271 - acc: 0.7830 - val_loss: 0.9747 - val_acc: 0.6346\n",
            "\n",
            "Epoch 00144: val_acc did not improve from 0.75000\n",
            "Epoch 145/200\n",
            "106/106 [==============================] - 1s 5ms/step - loss: 0.4801 - acc: 0.7358 - val_loss: 1.0921 - val_acc: 0.6442\n",
            "\n",
            "Epoch 00145: val_acc did not improve from 0.75000\n",
            "Epoch 146/200\n",
            "106/106 [==============================] - 1s 5ms/step - loss: 0.5548 - acc: 0.6792 - val_loss: 1.2058 - val_acc: 0.6442\n",
            "\n",
            "Epoch 00146: val_acc did not improve from 0.75000\n",
            "Epoch 147/200\n",
            "106/106 [==============================] - 1s 5ms/step - loss: 0.6257 - acc: 0.6604 - val_loss: 1.1504 - val_acc: 0.6538\n",
            "\n",
            "Epoch 00147: val_acc did not improve from 0.75000\n",
            "Epoch 148/200\n",
            "106/106 [==============================] - 1s 5ms/step - loss: 0.6334 - acc: 0.6604 - val_loss: 1.1244 - val_acc: 0.6346\n",
            "\n",
            "Epoch 00148: val_acc did not improve from 0.75000\n",
            "Epoch 149/200\n",
            "106/106 [==============================] - 1s 5ms/step - loss: 0.6441 - acc: 0.6226 - val_loss: 0.9727 - val_acc: 0.6442\n",
            "\n",
            "Epoch 00149: val_acc did not improve from 0.75000\n",
            "Epoch 150/200\n",
            "106/106 [==============================] - 1s 5ms/step - loss: 0.5959 - acc: 0.6415 - val_loss: 0.8943 - val_acc: 0.6346\n",
            "\n",
            "Epoch 00150: val_acc did not improve from 0.75000\n",
            "Epoch 151/200\n",
            "106/106 [==============================] - 1s 5ms/step - loss: 0.5676 - acc: 0.6604 - val_loss: 0.8202 - val_acc: 0.6346\n",
            "\n",
            "Epoch 00151: val_acc did not improve from 0.75000\n",
            "Epoch 152/200\n",
            "106/106 [==============================] - 1s 5ms/step - loss: 0.5662 - acc: 0.6509 - val_loss: 0.7576 - val_acc: 0.5769\n",
            "\n",
            "Epoch 00152: val_acc did not improve from 0.75000\n",
            "Epoch 153/200\n",
            "106/106 [==============================] - 1s 5ms/step - loss: 0.5415 - acc: 0.7925 - val_loss: 0.7162 - val_acc: 0.6154\n",
            "\n",
            "Epoch 00153: val_acc did not improve from 0.75000\n",
            "Epoch 154/200\n",
            "106/106 [==============================] - 1s 5ms/step - loss: 0.5364 - acc: 0.7453 - val_loss: 0.6798 - val_acc: 0.6250\n",
            "\n",
            "Epoch 00154: val_acc did not improve from 0.75000\n",
            "Epoch 155/200\n",
            "106/106 [==============================] - 1s 5ms/step - loss: 0.5366 - acc: 0.7358 - val_loss: 0.6696 - val_acc: 0.6058\n",
            "\n",
            "Epoch 00155: val_acc did not improve from 0.75000\n",
            "Epoch 156/200\n",
            "106/106 [==============================] - 1s 5ms/step - loss: 0.5205 - acc: 0.7358 - val_loss: 0.6544 - val_acc: 0.6346\n",
            "\n",
            "Epoch 00156: val_acc did not improve from 0.75000\n",
            "Epoch 157/200\n",
            "106/106 [==============================] - 1s 5ms/step - loss: 0.5320 - acc: 0.7170 - val_loss: 0.6618 - val_acc: 0.5577\n",
            "\n",
            "Epoch 00157: val_acc did not improve from 0.75000\n",
            "Epoch 158/200\n",
            "106/106 [==============================] - 1s 5ms/step - loss: 0.5267 - acc: 0.7358 - val_loss: 0.6536 - val_acc: 0.5769\n",
            "\n",
            "Epoch 00158: val_acc did not improve from 0.75000\n",
            "Epoch 159/200\n",
            "106/106 [==============================] - 1s 5ms/step - loss: 0.5088 - acc: 0.7547 - val_loss: 0.6122 - val_acc: 0.6058\n",
            "\n",
            "Epoch 00159: val_acc did not improve from 0.75000\n",
            "Epoch 160/200\n",
            "106/106 [==============================] - 1s 5ms/step - loss: 0.5428 - acc: 0.6698 - val_loss: 0.6073 - val_acc: 0.6635\n",
            "\n",
            "Epoch 00160: val_acc did not improve from 0.75000\n",
            "Epoch 161/200\n",
            "106/106 [==============================] - 1s 5ms/step - loss: 0.5256 - acc: 0.6792 - val_loss: 0.6023 - val_acc: 0.6827\n",
            "\n",
            "Epoch 00161: val_acc did not improve from 0.75000\n",
            "Epoch 162/200\n",
            "106/106 [==============================] - 1s 5ms/step - loss: 0.5145 - acc: 0.6792 - val_loss: 0.5809 - val_acc: 0.6538\n",
            "\n",
            "Epoch 00162: val_acc did not improve from 0.75000\n",
            "Epoch 163/200\n",
            "106/106 [==============================] - 1s 5ms/step - loss: 0.5302 - acc: 0.7075 - val_loss: 0.5998 - val_acc: 0.6442\n",
            "\n",
            "Epoch 00163: val_acc did not improve from 0.75000\n",
            "Epoch 164/200\n",
            "106/106 [==============================] - 1s 5ms/step - loss: 0.5143 - acc: 0.8208 - val_loss: 0.6169 - val_acc: 0.5865\n",
            "\n",
            "Epoch 00164: val_acc did not improve from 0.75000\n",
            "Epoch 165/200\n",
            "106/106 [==============================] - 1s 5ms/step - loss: 0.5099 - acc: 0.7547 - val_loss: 0.6476 - val_acc: 0.5481\n",
            "\n",
            "Epoch 00165: val_acc did not improve from 0.75000\n",
            "Epoch 166/200\n",
            "106/106 [==============================] - 1s 5ms/step - loss: 0.5408 - acc: 0.7264 - val_loss: 0.6548 - val_acc: 0.5481\n",
            "\n",
            "Epoch 00166: val_acc did not improve from 0.75000\n",
            "Epoch 167/200\n",
            "106/106 [==============================] - 1s 5ms/step - loss: 0.5277 - acc: 0.7453 - val_loss: 0.6301 - val_acc: 0.6346\n",
            "\n",
            "Epoch 00167: val_acc did not improve from 0.75000\n",
            "Epoch 168/200\n",
            "106/106 [==============================] - 1s 5ms/step - loss: 0.5067 - acc: 0.7358 - val_loss: 0.6288 - val_acc: 0.5962\n",
            "\n",
            "Epoch 00168: val_acc did not improve from 0.75000\n",
            "Epoch 169/200\n",
            "106/106 [==============================] - 1s 5ms/step - loss: 0.5311 - acc: 0.6321 - val_loss: 0.6171 - val_acc: 0.5962\n",
            "\n",
            "Epoch 00169: val_acc did not improve from 0.75000\n",
            "Epoch 170/200\n",
            "106/106 [==============================] - 1s 5ms/step - loss: 0.5378 - acc: 0.6321 - val_loss: 0.6590 - val_acc: 0.6635\n",
            "\n",
            "Epoch 00170: val_acc did not improve from 0.75000\n",
            "Epoch 171/200\n",
            "106/106 [==============================] - 1s 5ms/step - loss: 0.4926 - acc: 0.7075 - val_loss: 0.6790 - val_acc: 0.6154\n",
            "\n",
            "Epoch 00171: val_acc did not improve from 0.75000\n",
            "Epoch 172/200\n",
            "106/106 [==============================] - 1s 5ms/step - loss: 0.4842 - acc: 0.7642 - val_loss: 0.7015 - val_acc: 0.5865\n",
            "\n",
            "Epoch 00172: val_acc did not improve from 0.75000\n",
            "Epoch 173/200\n",
            "106/106 [==============================] - 1s 5ms/step - loss: 0.4742 - acc: 0.7547 - val_loss: 0.6993 - val_acc: 0.6346\n",
            "\n",
            "Epoch 00173: val_acc did not improve from 0.75000\n",
            "Epoch 174/200\n",
            "106/106 [==============================] - 1s 5ms/step - loss: 0.4775 - acc: 0.7547 - val_loss: 0.6943 - val_acc: 0.6442\n",
            "\n",
            "Epoch 00174: val_acc did not improve from 0.75000\n",
            "Epoch 175/200\n",
            "106/106 [==============================] - 1s 5ms/step - loss: 0.4789 - acc: 0.7358 - val_loss: 0.7127 - val_acc: 0.6442\n",
            "\n",
            "Epoch 00175: val_acc did not improve from 0.75000\n",
            "Epoch 176/200\n",
            "106/106 [==============================] - 1s 5ms/step - loss: 0.4703 - acc: 0.7264 - val_loss: 0.8165 - val_acc: 0.5577\n",
            "\n",
            "Epoch 00176: val_acc did not improve from 0.75000\n",
            "Epoch 177/200\n",
            "106/106 [==============================] - 1s 5ms/step - loss: 0.4729 - acc: 0.7736 - val_loss: 0.8089 - val_acc: 0.5481\n",
            "\n",
            "Epoch 00177: val_acc did not improve from 0.75000\n",
            "Epoch 178/200\n",
            "106/106 [==============================] - 1s 5ms/step - loss: 0.4522 - acc: 0.7925 - val_loss: 0.7378 - val_acc: 0.6058\n",
            "\n",
            "Epoch 00178: val_acc did not improve from 0.75000\n",
            "Epoch 179/200\n",
            "106/106 [==============================] - 1s 5ms/step - loss: 0.4203 - acc: 0.8396 - val_loss: 0.7691 - val_acc: 0.5769\n",
            "\n",
            "Epoch 00179: val_acc did not improve from 0.75000\n",
            "Epoch 180/200\n",
            "106/106 [==============================] - 1s 5ms/step - loss: 0.4051 - acc: 0.8208 - val_loss: 0.8236 - val_acc: 0.5385\n",
            "\n",
            "Epoch 00180: val_acc did not improve from 0.75000\n",
            "Epoch 181/200\n",
            "106/106 [==============================] - 1s 5ms/step - loss: 0.3951 - acc: 0.8302 - val_loss: 0.8389 - val_acc: 0.5481\n",
            "\n",
            "Epoch 00181: val_acc did not improve from 0.75000\n",
            "Epoch 182/200\n",
            "106/106 [==============================] - 1s 5ms/step - loss: 0.3825 - acc: 0.8302 - val_loss: 0.8466 - val_acc: 0.5385\n",
            "\n",
            "Epoch 00182: val_acc did not improve from 0.75000\n",
            "Epoch 183/200\n",
            "106/106 [==============================] - 1s 5ms/step - loss: 0.3550 - acc: 0.8774 - val_loss: 0.8447 - val_acc: 0.5769\n",
            "\n",
            "Epoch 00183: val_acc did not improve from 0.75000\n",
            "Epoch 184/200\n",
            "106/106 [==============================] - 1s 5ms/step - loss: 0.3685 - acc: 0.8491 - val_loss: 0.8785 - val_acc: 0.5673\n",
            "\n",
            "Epoch 00184: val_acc did not improve from 0.75000\n",
            "Epoch 185/200\n",
            "106/106 [==============================] - 1s 5ms/step - loss: 0.5740 - acc: 0.6321 - val_loss: 0.8521 - val_acc: 0.5481\n",
            "\n",
            "Epoch 00185: val_acc did not improve from 0.75000\n",
            "Epoch 186/200\n",
            "106/106 [==============================] - 1s 5ms/step - loss: 0.5519 - acc: 0.6698 - val_loss: 0.8013 - val_acc: 0.5385\n",
            "\n",
            "Epoch 00186: val_acc did not improve from 0.75000\n",
            "Epoch 187/200\n",
            "106/106 [==============================] - 1s 5ms/step - loss: 0.3790 - acc: 0.8585 - val_loss: 0.7506 - val_acc: 0.6827\n",
            "\n",
            "Epoch 00187: val_acc did not improve from 0.75000\n",
            "Epoch 188/200\n",
            "106/106 [==============================] - 1s 5ms/step - loss: 0.5477 - acc: 0.7830 - val_loss: 0.7837 - val_acc: 0.6635\n",
            "\n",
            "Epoch 00188: val_acc did not improve from 0.75000\n",
            "Epoch 189/200\n",
            "106/106 [==============================] - 1s 5ms/step - loss: 0.5154 - acc: 0.7736 - val_loss: 0.8500 - val_acc: 0.5000\n",
            "\n",
            "Epoch 00189: val_acc did not improve from 0.75000\n",
            "Epoch 190/200\n",
            "106/106 [==============================] - 1s 5ms/step - loss: 0.4116 - acc: 0.8679 - val_loss: 0.8615 - val_acc: 0.5000\n",
            "\n",
            "Epoch 00190: val_acc did not improve from 0.75000\n",
            "Epoch 191/200\n",
            "106/106 [==============================] - 1s 5ms/step - loss: 0.4761 - acc: 0.8208 - val_loss: 0.8454 - val_acc: 0.5481\n",
            "\n",
            "Epoch 00191: val_acc did not improve from 0.75000\n",
            "Epoch 192/200\n",
            "106/106 [==============================] - 1s 5ms/step - loss: 0.4582 - acc: 0.8302 - val_loss: 0.8249 - val_acc: 0.5769\n",
            "\n",
            "Epoch 00192: val_acc did not improve from 0.75000\n",
            "Epoch 193/200\n",
            "106/106 [==============================] - 1s 5ms/step - loss: 0.4113 - acc: 0.8774 - val_loss: 0.8116 - val_acc: 0.5865\n",
            "\n",
            "Epoch 00193: val_acc did not improve from 0.75000\n",
            "Epoch 194/200\n",
            "106/106 [==============================] - 1s 5ms/step - loss: 0.4217 - acc: 0.8302 - val_loss: 0.8094 - val_acc: 0.5673\n",
            "\n",
            "Epoch 00194: val_acc did not improve from 0.75000\n",
            "Epoch 195/200\n",
            "106/106 [==============================] - 1s 5ms/step - loss: 0.4177 - acc: 0.8491 - val_loss: 0.8206 - val_acc: 0.5673\n",
            "\n",
            "Epoch 00195: val_acc did not improve from 0.75000\n",
            "Epoch 196/200\n",
            "106/106 [==============================] - 1s 5ms/step - loss: 0.4074 - acc: 0.8585 - val_loss: 0.8323 - val_acc: 0.5577\n",
            "\n",
            "Epoch 00196: val_acc did not improve from 0.75000\n",
            "Epoch 197/200\n",
            "106/106 [==============================] - 1s 5ms/step - loss: 0.3987 - acc: 0.8585 - val_loss: 0.8743 - val_acc: 0.5385\n",
            "\n",
            "Epoch 00197: val_acc did not improve from 0.75000\n",
            "Epoch 198/200\n",
            "106/106 [==============================] - 1s 5ms/step - loss: 0.3924 - acc: 0.8868 - val_loss: 0.8651 - val_acc: 0.5385\n",
            "\n",
            "Epoch 00198: val_acc did not improve from 0.75000\n",
            "Epoch 199/200\n",
            "106/106 [==============================] - 1s 5ms/step - loss: 0.3830 - acc: 0.8774 - val_loss: 0.8768 - val_acc: 0.5288\n",
            "\n",
            "Epoch 00199: val_acc did not improve from 0.75000\n",
            "Epoch 200/200\n",
            "106/106 [==============================] - 1s 5ms/step - loss: 0.3700 - acc: 0.8962 - val_loss: 0.9010 - val_acc: 0.5385\n",
            "\n",
            "Epoch 00200: val_acc did not improve from 0.75000\n"
          ],
          "name": "stdout"
        },
        {
          "output_type": "execute_result",
          "data": {
            "text/plain": [
              "<keras.callbacks.History at 0x7f317df70f98>"
            ]
          },
          "metadata": {
            "tags": []
          },
          "execution_count": 34
        }
      ]
    },
    {
      "cell_type": "code",
      "metadata": {
        "id": "vFouyCeSmB26",
        "colab": {
          "base_uri": "https://localhost:8080/",
          "height": 34
        },
        "outputId": "0c577ffc-7604-4de2-8fa0-5696d3e7a024"
      },
      "source": [
        "#loading the model and checking accuracy on the test data\n",
        "model = load_model('best_model.pkl')\n",
        "\n",
        "from sklearn.metrics import accuracy_score\n",
        "test_preds = model.predict_classes(test)\n",
        "accuracy_score(test_target, test_preds)"
      ],
      "execution_count": null,
      "outputs": [
        {
          "output_type": "execute_result",
          "data": {
            "text/plain": [
              "0.6730769230769231"
            ]
          },
          "metadata": {
            "tags": []
          },
          "execution_count": 35
        }
      ]
    },
    {
      "cell_type": "code",
      "metadata": {
        "id": "HrXZqETBGVVd"
      },
      "source": [
        ""
      ],
      "execution_count": null,
      "outputs": []
    },
    {
      "cell_type": "code",
      "metadata": {
        "id": "sqBMXobLGVc5"
      },
      "source": [
        ""
      ],
      "execution_count": null,
      "outputs": []
    },
    {
      "cell_type": "code",
      "metadata": {
        "id": "zfjhrFsJGVhn"
      },
      "source": [
        ""
      ],
      "execution_count": null,
      "outputs": []
    },
    {
      "cell_type": "code",
      "metadata": {
        "id": "7l52BYICGVms",
        "colab": {
          "base_uri": "https://localhost:8080/",
          "height": 119
        },
        "outputId": "23738831-66d4-4675-fe99-78a3b6124856"
      },
      "source": [
        "from keras.datasets import imdb\n",
        "from keras.preprocessing import sequence\n",
        "max_features = 10000\n",
        "max_len = 500\n",
        "print('Loading data...')\n",
        "(x_train, y_train), (x_test, y_test) = imdb.load_data(num_words=max_features)\n",
        "print(len(x_train), 'train sequences')\n",
        "print(len(x_test), 'test sequences')"
      ],
      "execution_count": null,
      "outputs": [
        {
          "output_type": "stream",
          "text": [
            "Using TensorFlow backend.\n"
          ],
          "name": "stderr"
        },
        {
          "output_type": "stream",
          "text": [
            "Loading data...\n",
            "Downloading data from https://s3.amazonaws.com/text-datasets/imdb.npz\n",
            "17465344/17464789 [==============================] - 0s 0us/step\n",
            "25000 train sequences\n",
            "25000 test sequences\n"
          ],
          "name": "stdout"
        }
      ]
    },
    {
      "cell_type": "code",
      "metadata": {
        "id": "lQtZR_SlGWRf",
        "colab": {
          "base_uri": "https://localhost:8080/",
          "height": 109
        },
        "outputId": "cbccdfde-6f72-4bdd-ebc7-5221ec95c212"
      },
      "source": [
        "import pandas as pd \n",
        "import numpy as np\n",
        "pd.DataFrame(x_train[0]).T"
      ],
      "execution_count": null,
      "outputs": [
        {
          "output_type": "execute_result",
          "data": {
            "text/html": [
              "<div>\n",
              "<style scoped>\n",
              "    .dataframe tbody tr th:only-of-type {\n",
              "        vertical-align: middle;\n",
              "    }\n",
              "\n",
              "    .dataframe tbody tr th {\n",
              "        vertical-align: top;\n",
              "    }\n",
              "\n",
              "    .dataframe thead th {\n",
              "        text-align: right;\n",
              "    }\n",
              "</style>\n",
              "<table border=\"1\" class=\"dataframe\">\n",
              "  <thead>\n",
              "    <tr style=\"text-align: right;\">\n",
              "      <th></th>\n",
              "      <th>0</th>\n",
              "      <th>1</th>\n",
              "      <th>2</th>\n",
              "      <th>3</th>\n",
              "      <th>4</th>\n",
              "      <th>5</th>\n",
              "      <th>6</th>\n",
              "      <th>7</th>\n",
              "      <th>8</th>\n",
              "      <th>9</th>\n",
              "      <th>...</th>\n",
              "      <th>208</th>\n",
              "      <th>209</th>\n",
              "      <th>210</th>\n",
              "      <th>211</th>\n",
              "      <th>212</th>\n",
              "      <th>213</th>\n",
              "      <th>214</th>\n",
              "      <th>215</th>\n",
              "      <th>216</th>\n",
              "      <th>217</th>\n",
              "    </tr>\n",
              "  </thead>\n",
              "  <tbody>\n",
              "    <tr>\n",
              "      <th>0</th>\n",
              "      <td>1</td>\n",
              "      <td>14</td>\n",
              "      <td>22</td>\n",
              "      <td>16</td>\n",
              "      <td>43</td>\n",
              "      <td>530</td>\n",
              "      <td>973</td>\n",
              "      <td>1622</td>\n",
              "      <td>1385</td>\n",
              "      <td>65</td>\n",
              "      <td>...</td>\n",
              "      <td>4472</td>\n",
              "      <td>113</td>\n",
              "      <td>103</td>\n",
              "      <td>32</td>\n",
              "      <td>15</td>\n",
              "      <td>16</td>\n",
              "      <td>5345</td>\n",
              "      <td>19</td>\n",
              "      <td>178</td>\n",
              "      <td>32</td>\n",
              "    </tr>\n",
              "  </tbody>\n",
              "</table>\n",
              "<p>1 rows × 218 columns</p>\n",
              "</div>"
            ],
            "text/plain": [
              "   0    1    2    3    4    5    6     7     8    9   ...    208  209  210  \\\n",
              "0    1   14   22   16   43  530  973  1622  1385   65 ...   4472  113  103   \n",
              "\n",
              "   211  212  213   214  215  216  217  \n",
              "0   32   15   16  5345   19  178   32  \n",
              "\n",
              "[1 rows x 218 columns]"
            ]
          },
          "metadata": {
            "tags": []
          },
          "execution_count": 12
        }
      ]
    },
    {
      "cell_type": "code",
      "metadata": {
        "id": "iRONHKokGc-l",
        "colab": {
          "base_uri": "https://localhost:8080/",
          "height": 68
        },
        "outputId": "06fcf1e1-3794-40dc-c382-b6c42573ab60"
      },
      "source": [
        "print('Pad sequences (samples x time)')\n",
        "x_train = sequence.pad_sequences(x_train, maxlen=max_len)\n",
        "x_test = sequence.pad_sequences(x_test, maxlen=max_len)\n",
        "print('x_train shape:', x_train.shape)\n",
        "print('x_test shape:', x_test.shape)"
      ],
      "execution_count": null,
      "outputs": [
        {
          "output_type": "stream",
          "text": [
            "Pad sequences (samples x time)\n",
            "x_train shape: (25000, 500)\n",
            "x_test shape: (25000, 500)\n"
          ],
          "name": "stdout"
        }
      ]
    },
    {
      "cell_type": "code",
      "metadata": {
        "id": "kzaHBvVdNYM8"
      },
      "source": [
        "sequence.pad_sequences?"
      ],
      "execution_count": null,
      "outputs": []
    },
    {
      "cell_type": "code",
      "metadata": {
        "id": "42mUblhlNZ22"
      },
      "source": [
        "from keras.models import Sequential\n",
        "from keras import layers\n",
        "from keras.optimizers import RMSprop\n",
        "\n",
        "\n",
        "\n",
        "model= Sequential()\n",
        "model.add(layers.Embedding(max_features, 128, input_length=max_len)) # Input-> [Bs, TimeSetp] --> Embedding ---> [Bs, TimeStep, Features]\n",
        "model.add(layers.Conv1D(32,7,activation='relu'))\n",
        "model.add(layers.MaxPooling1D(5))\n",
        "model.add(layers.Conv1D(32,7, activation='relu'))\n",
        "model.add(layers.GlobalAveragePooling1D())\n",
        "model.add(layers.Dense(1))"
      ],
      "execution_count": null,
      "outputs": []
    },
    {
      "cell_type": "code",
      "metadata": {
        "id": "GYRzJRg1QQlN",
        "colab": {
          "base_uri": "https://localhost:8080/",
          "height": 340
        },
        "outputId": "b5fae621-d047-4733-beb1-fe4411fb042b"
      },
      "source": [
        "model.summary()"
      ],
      "execution_count": null,
      "outputs": [
        {
          "output_type": "stream",
          "text": [
            "_________________________________________________________________\n",
            "Layer (type)                 Output Shape              Param #   \n",
            "=================================================================\n",
            "embedding_1 (Embedding)      (None, 500, 128)          1280000   \n",
            "_________________________________________________________________\n",
            "conv1d_1 (Conv1D)            (None, 494, 32)           28704     \n",
            "_________________________________________________________________\n",
            "max_pooling1d_1 (MaxPooling1 (None, 98, 32)            0         \n",
            "_________________________________________________________________\n",
            "conv1d_2 (Conv1D)            (None, 92, 32)            7200      \n",
            "_________________________________________________________________\n",
            "global_average_pooling1d_1 ( (None, 32)                0         \n",
            "_________________________________________________________________\n",
            "dense_1 (Dense)              (None, 1)                 33        \n",
            "=================================================================\n",
            "Total params: 1,315,937\n",
            "Trainable params: 1,315,937\n",
            "Non-trainable params: 0\n",
            "_________________________________________________________________\n"
          ],
          "name": "stdout"
        }
      ]
    },
    {
      "cell_type": "code",
      "metadata": {
        "id": "XW45Wrg0NpWX"
      },
      "source": [
        "model.compile(optimizer=RMSprop(lr=1e-4), loss='binary_crossentropy', metrics=['acc'])"
      ],
      "execution_count": null,
      "outputs": []
    },
    {
      "cell_type": "code",
      "metadata": {
        "id": "dOzi1VZ8UuRi",
        "colab": {
          "base_uri": "https://localhost:8080/",
          "height": 462
        },
        "outputId": "cb618365-4959-4a3a-afcb-f35518ac9216"
      },
      "source": [
        "model.fit(x_train,y_train, batch_size=128, epochs=10, validation_split=0.2)"
      ],
      "execution_count": null,
      "outputs": [
        {
          "output_type": "stream",
          "text": [
            "WARNING:tensorflow:From /usr/local/lib/python3.6/dist-packages/tensorflow/python/ops/math_ops.py:3066: to_int32 (from tensorflow.python.ops.math_ops) is deprecated and will be removed in a future version.\n",
            "Instructions for updating:\n",
            "Use tf.cast instead.\n",
            "Train on 20000 samples, validate on 5000 samples\n",
            "Epoch 1/10\n",
            "20000/20000 [==============================] - 79s 4ms/step - loss: 0.8780 - acc: 0.5261 - val_loss: 0.6822 - val_acc: 0.5932\n",
            "Epoch 2/10\n",
            "20000/20000 [==============================] - 79s 4ms/step - loss: 0.6656 - acc: 0.6604 - val_loss: 0.6374 - val_acc: 0.7442\n",
            "Epoch 3/10\n",
            "20000/20000 [==============================] - 78s 4ms/step - loss: 0.5851 - acc: 0.7647 - val_loss: 0.5369 - val_acc: 0.7704\n",
            "Epoch 4/10\n",
            "20000/20000 [==============================] - 78s 4ms/step - loss: 0.4757 - acc: 0.8288 - val_loss: 0.4694 - val_acc: 0.8316\n",
            "Epoch 5/10\n",
            "20000/20000 [==============================] - 78s 4ms/step - loss: 0.4147 - acc: 0.8441 - val_loss: 0.4582 - val_acc: 0.8238\n",
            "Epoch 6/10\n",
            "20000/20000 [==============================] - 78s 4ms/step - loss: 0.3714 - acc: 0.8393 - val_loss: 0.4525 - val_acc: 0.8156\n",
            "Epoch 7/10\n",
            "20000/20000 [==============================] - 78s 4ms/step - loss: 0.3484 - acc: 0.8220 - val_loss: 0.4515 - val_acc: 0.7938\n",
            "Epoch 8/10\n",
            "20000/20000 [==============================] - 78s 4ms/step - loss: 0.3339 - acc: 0.8042 - val_loss: 0.4698 - val_acc: 0.7664\n",
            "Epoch 9/10\n",
            "20000/20000 [==============================] - 78s 4ms/step - loss: 0.3155 - acc: 0.7781 - val_loss: 0.4746 - val_acc: 0.7422\n",
            "Epoch 10/10\n",
            "20000/20000 [==============================] - 78s 4ms/step - loss: 0.2980 - acc: 0.7595 - val_loss: 0.4974 - val_acc: 0.7242\n"
          ],
          "name": "stdout"
        },
        {
          "output_type": "execute_result",
          "data": {
            "text/plain": [
              "<keras.callbacks.History at 0x7fcf537e1048>"
            ]
          },
          "metadata": {
            "tags": []
          },
          "execution_count": 35
        }
      ]
    },
    {
      "cell_type": "code",
      "metadata": {
        "id": "EK7N35JBUulI"
      },
      "source": [
        ""
      ],
      "execution_count": null,
      "outputs": []
    },
    {
      "cell_type": "code",
      "metadata": {
        "id": "VpnSk6RiUuuI"
      },
      "source": [
        ""
      ],
      "execution_count": null,
      "outputs": []
    },
    {
      "cell_type": "code",
      "metadata": {
        "id": "4INoBYmPUuy-"
      },
      "source": [
        ""
      ],
      "execution_count": null,
      "outputs": []
    }
  ]
}