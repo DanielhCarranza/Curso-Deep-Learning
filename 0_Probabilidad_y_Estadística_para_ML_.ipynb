{
  "nbformat": 4,
  "nbformat_minor": 0,
  "metadata": {
    "colab": {
      "name": "0.- Probabilidad y Estadística para ML .ipynb",
      "version": "0.3.2",
      "provenance": []
    },
    "kernelspec": {
      "display_name": "Python 3",
      "language": "python",
      "name": "python3"
    }
  },
  "cells": [
    {
      "metadata": {
        "id": "xloPucG75-4N",
        "colab_type": "text"
      },
      "cell_type": "markdown",
      "source": [
        "# Probabilidad y Estadistica para Machine Learning \n",
        "Una de las bases fundamentales para entender los algoritmos de ML es la probabilidad y estadistica ya que te dan la intuicion para poder resolver los problemas.\n",
        "\n",
        "* [Probabilidad y Estadistica por Stanford](https://stanford.edu/~shervine/teaching/cs-229/refresher-probabilities-statistics)\n",
        "* [Estadistica para DL ](http://web.mit.edu/~csvoss/Public/usabo/stats_handout.pdf)\n",
        "* [Probability Cheatsheet](https://static1.squarespace.com/static/54bf3241e4b0f0d81bf7ff36/t/55e9494fe4b011aed10e48e5/1441352015658/probability_cheatsheet.pdf)\n",
        "* [Awesome Math](https://github.com/llSourcell/learn_math_fast)\n",
        "* [Statistics for ML practical book](ftp://ftp.cea.fr/pub/unati/people/educhesnay/pystatml/StatisticsMachineLearningPythonDraft.pdf)\n",
        "* [Probability Review](http://www.cs.toronto.edu/~urtasun/courses/CSC2515/Tutorial-ReviewProbability.pdf)\n",
        "\n",
        "## Analisis Exploratorio de los Datos \n",
        "El analisis exploratorio de datos es lo primero que haces antes de resolver un problema en Machine Learning ya que te permite conocer las variables, caracteristicas y singularidades de tus datos. \n",
        "\n"
      ]
    },
    {
      "metadata": {
        "id": "Tja1w4EH5-4N",
        "colab_type": "text"
      },
      "cell_type": "markdown",
      "source": [
        "datos=pd.read_csv('path\\nombre_archivo.csv')"
      ]
    },
    {
      "metadata": {
        "id": "pw1cGFfF5-4N",
        "colab_type": "code",
        "colab": {},
        "collapsed": true
      },
      "cell_type": "code",
      "source": [
        "import pandas as pd # Manejo de datos\n",
        "import numpy as np # computacion numerica\n",
        "import matplotlib.pyplot as plt # Visualizacion de datos\n",
        "import seaborn as sns # Visualizacion \n",
        "\n",
        "# Datos \n",
        "all_states=pd.read_csv('https://assets.datacamp.com/production/course_1549/datasets/2008_all_states.csv')\n",
        "df_swing=pd.read_csv('https://assets.datacamp.com/production/course_1549/datasets/2008_swing_states.csv')\n",
        "belmont=pd.read_csv('https://assets.datacamp.com/production/course_1549/datasets/belmont.csv')\n",
        "speed_of_light=pd.read_csv('https://assets.datacamp.com/production/course_1549/datasets/michelson_speed_of_light.csv')"
      ],
      "execution_count": 0,
      "outputs": []
    },
    {
      "metadata": {
        "id": "8nn-1-m35-4d",
        "colab_type": "code",
        "colab": {
          "base_uri": "https://localhost:8080/",
          "height": 204
        },
        "outputId": "e53907bf-eabc-4b97-a510-2c8b6d475c98"
      },
      "cell_type": "code",
      "source": [
        "df_swing.head()"
      ],
      "execution_count": 2,
      "outputs": [
        {
          "output_type": "execute_result",
          "data": {
            "text/html": [
              "<div>\n",
              "<style scoped>\n",
              "    .dataframe tbody tr th:only-of-type {\n",
              "        vertical-align: middle;\n",
              "    }\n",
              "\n",
              "    .dataframe tbody tr th {\n",
              "        vertical-align: top;\n",
              "    }\n",
              "\n",
              "    .dataframe thead th {\n",
              "        text-align: right;\n",
              "    }\n",
              "</style>\n",
              "<table border=\"1\" class=\"dataframe\">\n",
              "  <thead>\n",
              "    <tr style=\"text-align: right;\">\n",
              "      <th></th>\n",
              "      <th>state</th>\n",
              "      <th>county</th>\n",
              "      <th>total_votes</th>\n",
              "      <th>dem_votes</th>\n",
              "      <th>rep_votes</th>\n",
              "      <th>dem_share</th>\n",
              "    </tr>\n",
              "  </thead>\n",
              "  <tbody>\n",
              "    <tr>\n",
              "      <th>0</th>\n",
              "      <td>PA</td>\n",
              "      <td>Erie County</td>\n",
              "      <td>127691</td>\n",
              "      <td>75775</td>\n",
              "      <td>50351</td>\n",
              "      <td>60.08</td>\n",
              "    </tr>\n",
              "    <tr>\n",
              "      <th>1</th>\n",
              "      <td>PA</td>\n",
              "      <td>Bradford County</td>\n",
              "      <td>25787</td>\n",
              "      <td>10306</td>\n",
              "      <td>15057</td>\n",
              "      <td>40.64</td>\n",
              "    </tr>\n",
              "    <tr>\n",
              "      <th>2</th>\n",
              "      <td>PA</td>\n",
              "      <td>Tioga County</td>\n",
              "      <td>17984</td>\n",
              "      <td>6390</td>\n",
              "      <td>11326</td>\n",
              "      <td>36.07</td>\n",
              "    </tr>\n",
              "    <tr>\n",
              "      <th>3</th>\n",
              "      <td>PA</td>\n",
              "      <td>McKean County</td>\n",
              "      <td>15947</td>\n",
              "      <td>6465</td>\n",
              "      <td>9224</td>\n",
              "      <td>41.21</td>\n",
              "    </tr>\n",
              "    <tr>\n",
              "      <th>4</th>\n",
              "      <td>PA</td>\n",
              "      <td>Potter County</td>\n",
              "      <td>7507</td>\n",
              "      <td>2300</td>\n",
              "      <td>5109</td>\n",
              "      <td>31.04</td>\n",
              "    </tr>\n",
              "  </tbody>\n",
              "</table>\n",
              "</div>"
            ],
            "text/plain": [
              "  state           county  total_votes  dem_votes  rep_votes  dem_share\n",
              "0    PA      Erie County       127691      75775      50351      60.08\n",
              "1    PA  Bradford County        25787      10306      15057      40.64\n",
              "2    PA     Tioga County        17984       6390      11326      36.07\n",
              "3    PA    McKean County        15947       6465       9224      41.21\n",
              "4    PA    Potter County         7507       2300       5109      31.04"
            ]
          },
          "metadata": {
            "tags": []
          },
          "execution_count": 2
        }
      ]
    },
    {
      "metadata": {
        "id": "mxVrt-yg5-4d",
        "colab_type": "code",
        "colab": {
          "base_uri": "https://localhost:8080/",
          "height": 347
        },
        "outputId": "70bb8be0-25ba-45cd-f221-907c22f3b532"
      },
      "cell_type": "code",
      "source": [
        "# Histograma\n",
        "sns.set()\n",
        "plt.hist(df_swing['total_votes'])\n",
        "plt.show()"
      ],
      "execution_count": 3,
      "outputs": [
        {
          "output_type": "display_data",
          "data": {
            "image/png": "[encoded data removed]",
            "text/plain": [
              "<matplotlib.figure.Figure at 0x7f10f072a320>"
            ]
          },
          "metadata": {
            "tags": []
          }
        }
      ]
    },
    {
      "metadata": {
        "id": "NRjiB_sP5-4d",
        "colab_type": "text"
      },
      "cell_type": "markdown",
      "source": [
        "#### Swarm plot\n",
        "Te permite encontrar una correlacion entre variables categoricas y numericas y como estan distribuidos sus datos"
      ]
    },
    {
      "metadata": {
        "id": "s-rKsCPa5-4t",
        "colab_type": "code",
        "colab": {
          "base_uri": "https://localhost:8080/",
          "height": 361
        },
        "outputId": "abcd1e7b-b555-407b-9c66-2677bd85762f"
      },
      "cell_type": "code",
      "source": [
        "# Swarm plots\n",
        "sns.swarmplot(x='state', y='dem_share', data=df_swing)\n",
        "plt.xlabel('state')\n",
        "plt.ylabel('percent  of vote  for Obama')\n",
        "plt.show()"
      ],
      "execution_count": 4,
      "outputs": [
        {
          "output_type": "display_data",
          "data": {
            "image/png": "[encoded data removed]",
            "text/plain": [
              "<matplotlib.figure.Figure at 0x7f1112128898>"
            ]
          },
          "metadata": {
            "tags": []
          }
        }
      ]
    },
    {
      "metadata": {
        "id": "XzW4GYG95-4t",
        "colab_type": "text"
      },
      "cell_type": "markdown",
      "source": [
        "#### Cumulative distribution function\n",
        "\n",
        "Es una funcion que describe la probabilidad de un suceso aleatorio. "
      ]
    },
    {
      "metadata": {
        "id": "Ib-Hhrte5-4t",
        "colab_type": "code",
        "colab": {
          "base_uri": "https://localhost:8080/",
          "height": 361
        },
        "outputId": "6f707d78-c261-4b93-cd85-9be37d1a7ee1"
      },
      "cell_type": "code",
      "source": [
        "x=np.sort(df_swing['dem_share'])\n",
        "y=np.arange(1, len(x)+1)/ len(x)\n",
        "plt.plot(x,y, marker='.',linestyle='none')\n",
        "plt.xlabel('percentage of vote for Obama')\n",
        "plt.ylabel('ECDF')\n",
        "plt.show()\n"
      ],
      "execution_count": 5,
      "outputs": [
        {
          "output_type": "display_data",
          "data": {
            "image/png": "[encoded data removed]",
            "text/plain": [
              "<matplotlib.figure.Figure at 0x7f10f02821d0>"
            ]
          },
          "metadata": {
            "tags": []
          }
        }
      ]
    },
    {
      "metadata": {
        "id": "9rDzzVod5-48",
        "colab_type": "text"
      },
      "cell_type": "markdown",
      "source": [
        "#### Computar la  ECDF\n",
        "Este es un ejemplo de como se construye la C.D.F. (Funcion de Distribucion Cumulativa)"
      ]
    },
    {
      "metadata": {
        "id": "lrzaFd3C5-48",
        "colab_type": "code",
        "colab": {}
      },
      "cell_type": "code",
      "source": [
        "def ecdf(data):\n",
        "    \"\"\"Calcula la ECDF para un vector de una-dimension.\"\"\"\n",
        "\n",
        "    # Number of data points: n\n",
        "    n=len(data)\n",
        "\n",
        "    # x-data for the ECDF: x\n",
        "    x=np.sort(data)\n",
        "\n",
        "    # y-data for the ECDF: y\n",
        "    y = np.arange(1, n+1) / n\n",
        "\n",
        "    return x, y"
      ],
      "execution_count": 0,
      "outputs": []
    },
    {
      "metadata": {
        "id": "SpAjbGzp5-48",
        "colab_type": "code",
        "colab": {
          "base_uri": "https://localhost:8080/",
          "height": 347
        },
        "outputId": "6281cd7a-2c9f-484e-f737-764dc6f6132a"
      },
      "cell_type": "code",
      "source": [
        "x_ob, y_ecdf= ecdf(df_swing['dem_share'])\n",
        "_=plt.plot(x_ob, y_ecdf, marker='.', linestyle='none')\n",
        "_=plt.margins(0.02)\n",
        "_=plt.ylabel('ECDF')\n",
        "plt.show()"
      ],
      "execution_count": 7,
      "outputs": [
        {
          "output_type": "display_data",
          "data": {
            "image/png": "[encoded data removed]",
            "text/plain": [
              "<matplotlib.figure.Figure at 0x7f10ed915da0>"
            ]
          },
          "metadata": {
            "tags": []
          }
        }
      ]
    },
    {
      "metadata": {
        "id": "8OXeOhjY5-48",
        "colab_type": "text"
      },
      "cell_type": "markdown",
      "source": [
        "### Pearson correlation coefficient\n",
        " The Pearson correlation coefficient, also called the Pearson r, is often easier to interpret than the covariance. It is computed using the `np.corrcoef()` function. Like `np.cov()`, it takes two arrays as arguments and returns a 2D array. Entries [0,0] and [1,1] are necessarily equal to 1 (can you think about why?), and the value we are after is entry [0,1].\n",
        " \n",
        " "
      ]
    },
    {
      "metadata": {
        "id": "-EKO7Fst5-48",
        "colab_type": "code",
        "colab": {},
        "outputId": "b87e822f-b18c-4d14-b465-acf372961d93"
      },
      "cell_type": "code",
      "source": [
        "def pearson_r(x, y):\n",
        "    \"\"\"Compute Pearson correlation coefficient between two arrays.\"\"\"\n",
        "    # Compute correlation matrix: corr_mat\n",
        "    corr_mat=np.corrcoef(x,y)\n",
        "\n",
        "    # Return entry [0,1]\n",
        "    return corr_mat[0,1]\n",
        "\n",
        "total_votes=df_swing['total_votes']\n",
        "dem_s=df_swing['dem_share']\n",
        "\n",
        "# Compute Pearson correlation coefficient for I. versicolor: r\n",
        "r=pearson_r(total_votes,dem_s)\n",
        "\n",
        "# Print the result\n",
        "print(r)"
      ],
      "execution_count": 0,
      "outputs": [
        {
          "output_type": "stream",
          "text": [
            "0.536197364959\n"
          ],
          "name": "stdout"
        }
      ]
    },
    {
      "metadata": {
        "id": "X8GRGfvc5-5N",
        "colab_type": "text"
      },
      "cell_type": "markdown",
      "source": [
        "### Thinking probabilistically -- Discrete variables\n",
        "Statistical inference rests upon probability. Because we can very rarely say anything meaningful with absolute certainty from data, we use probabilistic language to make quantitative statements about data. In this chapter, you will learn how to think probabilistically about discrete quantities, those that can only take certain values, like integers. It is an important first step in building the probabilistic language necessary to think statistically.\n",
        "#### Random number generators and hacker statistics\n",
        "**Generating random numbers using the np.random module**\n",
        "\n",
        "We will be hammering the `np.random` module for the rest of this course and its sequel. Actually, you will probably call functions from this module more than any other while wearing your hacker statistician hat. Let's start by taking its simplest function, `np.random.random()` for a test spin. The function returns a random number between zero and one. Call `np.random.random()` a few times in the IPython shell. You should see numbers jumping around between zero and one.\n",
        "\n",
        "In this exercise, we'll generate lots of random numbers between zero and one, and then plot a histogram of the results. If the numbers are truly random, all bars in the histogram should be of (close to) equal height.\n",
        "\n",
        "You may have noticed that, in the video, Justin generated 4 random numbers by passing the keyword argument size=4 to np.random.random(). Such an approach is more efficient than a for loop: in this exercise, however, you will write a for loop to experience hacker statistics as the practice of repeating an experiment over and over again.\n"
      ]
    },
    {
      "metadata": {
        "id": "Nyt1x8_X5-5N",
        "colab_type": "code",
        "colab": {},
        "outputId": "1d068d55-0ad4-49ec-a571-10ca1020a6df"
      },
      "cell_type": "code",
      "source": [
        "# Seed the random number generator\n",
        "np.random.seed(42)\n",
        "\n",
        "# Initialize random numbers: random_numbers\n",
        "random_numbers = np.empty(100000)\n",
        "\n",
        "# Generate random numbers by looping over range(100000)\n",
        "for i in range(100000):\n",
        "    random_numbers[i] = np.random.random()\n",
        "\n",
        "# Plot a histogram\n",
        "_ = plt.hist(random_numbers)\n",
        "\n",
        "# Show the plot\n",
        "plt.show()"
      ],
      "execution_count": 0,
      "outputs": [
        {
          "output_type": "display_data",
          "data": {
            "image/png": "[encoded data removed]",
            "text/plain": [
              "<matplotlib.figure.Figure at 0x22346ba71d0>"
            ]
          },
          "metadata": {
            "tags": []
          }
        }
      ]
    },
    {
      "metadata": {
        "id": "BAAfbo1X5-5b",
        "colab_type": "text"
      },
      "cell_type": "markdown",
      "source": [
        "#### The np.random module and Bernoulli trials\n",
        "You can think of a Bernoulli trial as a flip of a possibly biased coin. Specifically, each coin flip has a probability *p* of landing heads (success) and probability *1−p* of landing tails (failure). In this exercise, you will write a function to perform n Bernoulli trials, `perform_bernoulli_trials(n, p)`, which returns the number of successes out of n Bernoulli trials, each of which has probability p of success. To perform each Bernoulli trial, use the `np.random.random()` function, which returns a random number between zero and one."
      ]
    },
    {
      "metadata": {
        "id": "sjbPp4po5-5b",
        "colab_type": "code",
        "colab": {}
      },
      "cell_type": "code",
      "source": [
        "def perform_bernoulli_trials(n,p):\n",
        "    \"\"\"\"Perform n Bernoilli trials with success probability p and return number of successes\"\"\"\n",
        "    \n",
        "    n_success=0\n",
        "    \n",
        "    for i in range(n):\n",
        "        random_number=np.random.random()\n",
        "        \n",
        "        if random_number<p:\n",
        "            n_success+=1\n",
        "        \n",
        "         \n",
        "    \n",
        "    return n_success\n",
        "    "
      ],
      "execution_count": 0,
      "outputs": []
    },
    {
      "metadata": {
        "id": "4xn-EHvf5-5b",
        "colab_type": "code",
        "colab": {},
        "outputId": "45a3f8f1-15c5-4bb6-eb84-170583cbb9fd"
      },
      "cell_type": "code",
      "source": [
        "perform_bernoulli_trials(8,0.2)"
      ],
      "execution_count": 0,
      "outputs": [
        {
          "output_type": "execute_result",
          "data": {
            "text/plain": [
              "3"
            ]
          },
          "metadata": {
            "tags": []
          },
          "execution_count": 21
        }
      ]
    },
    {
      "metadata": {
        "id": "s1C6Sazy5-5r",
        "colab_type": "text"
      },
      "cell_type": "markdown",
      "source": [
        "#### How many defaults might we expect?\n",
        "Let's say a bank made 100 mortgage loans. It is possible that anywhere between 0 and 100 of the loans will be defaulted upon. You would like to know the probability of getting a given number of defaults, given that the probability of a default is p = 0.05. To investigate this, you will do a simulation. You will perform 100 Bernoulli trials using the `perform_bernoulli_trials()` function you wrote in the previous exercise and record how many defaults we get. Here, a success is a default. (Remember that the word \"success\" just means that the Bernoulli trial evaluates to True, i.e., did the loan recipient default?) You will do this for another 100 Bernoulli trials. And again and again until we have tried it 1000 times. Then, you will plot a histogram describing the probability of the number of defaults."
      ]
    },
    {
      "metadata": {
        "id": "h0jLzCYR5-5r",
        "colab_type": "code",
        "colab": {},
        "outputId": "f4efab40-e92e-43cd-a148-e4335f751baa"
      },
      "cell_type": "code",
      "source": [
        "# Seed random number generator\n",
        "np.random.seed(42)\n",
        "\n",
        "# Initialize the number of defaults: n_defaults\n",
        "n_defaults=np.empty(1000)\n",
        "\n",
        "# Compute the number of defaults\n",
        "for i in range(1000):\n",
        "    n_defaults[i] = perform_bernoulli_trials(100,0.05)\n",
        "\n",
        "\n",
        "# Plot the histogram with default number of bins; label your axes\n",
        "_ = plt.hist(n_defaults, normed=True)\n",
        "_ = plt.xlabel('number of defaults out of 100 loans')\n",
        "_ = plt.ylabel('probability')\n",
        "\n",
        "# Show the plot\n",
        "plt.show()"
      ],
      "execution_count": 0,
      "outputs": [
        {
          "output_type": "display_data",
          "data": {
            "image/png": "[encoded data removed]",
            "text/plain": [
              "<matplotlib.figure.Figure at 0x1f655db4400>"
            ]
          },
          "metadata": {
            "tags": []
          }
        }
      ]
    },
    {
      "metadata": {
        "id": "A69e_3FG5-5r",
        "colab_type": "text"
      },
      "cell_type": "markdown",
      "source": [
        "#### Will the bank fail?\n",
        "Plot the number of defaults you got from the previous exercise, in your namespace as n_defaults, as a CDF. The ecdf() function you wrote in the first chapter is available.\n",
        "\n",
        "If interest rates are such that the bank will lose money if 10 or more of its loans are defaulted upon, what is the probability that the bank will lose money?"
      ]
    },
    {
      "metadata": {
        "id": "P7wwTjO65-5r",
        "colab_type": "code",
        "colab": {},
        "outputId": "9611892a-1338-4414-fa21-28f6dbd608d1"
      },
      "cell_type": "code",
      "source": [
        "# Compute ECDF: x, y\n",
        "x,y= ecdf(n_defaults)\n",
        "\n",
        "# Plot the ECDF with labeled axes\n",
        "_=plt.plot(x,y,linestyle='none',marker='.')\n",
        "_=plt.ylabel('probabilty')\n",
        "_=plt.xlabel('Default')\n",
        "\n",
        "# Show the plot\n",
        "plt.show()\n",
        "\n",
        "# Compute the number of 100-loan simulations with 10 or more defaults: n_lose_money\n",
        "n_lose_money=np.sum(n_defaults>=10)\n",
        "    \n",
        "\n",
        "# Compute and print probability of losing money\n",
        "print('Probability of losing money =', n_lose_money / len(n_defaults))"
      ],
      "execution_count": 0,
      "outputs": [
        {
          "output_type": "display_data",
          "data": {
            "image/png": "[encoded data removed]",
            "text/plain": [
              "<matplotlib.figure.Figure at 0x1f65af08ba8>"
            ]
          },
          "metadata": {
            "tags": []
          }
        },
        {
          "output_type": "stream",
          "text": [
            "Probability of losing money = 0.022\n"
          ],
          "name": "stdout"
        }
      ]
    },
    {
      "metadata": {
        "id": "BLOtQvCF5-57",
        "colab_type": "text"
      },
      "cell_type": "markdown",
      "source": [
        "### Probability distributions and stories: The Binomial distribution\n",
        "\n",
        "**Probability mass fuction (PMF)**: The set of probabilities of discrete outcomes\n",
        "\n",
        "** Probability Distribution** : A mathematical description of outcomes\n",
        "\n",
        "** Binomal distribution** \n",
        "\n",
        "The number *r* of successes in *n* Bernoulli trials with probability *p* of success, is Binomially distributed\n",
        "\n",
        "In many cases, it is appropriate to summarize a group of independent observations by the number of observations in the group that represent one of two outcomes. For example, the proportion of individuals in a random sample who support one of two political candidates fits this description. In this case, the statistic **p**  is the count X of voters who support the candidate divided by the total number of individuals in the group n. This provides an estimate of the parameter p, the proportion of individuals who support the candidate in the entire population.\n",
        "    \n",
        "The binomial distribution describes the behavior of a count variable X if the following conditions apply:\n",
        "\n",
        "   * The number of observations n is fixed.\n",
        "   * Each observation is independent.\n",
        "   * Each observation represents one of two outcomes (\"success\" or \"failure\").\n",
        "   * The probability of \"success\" p is the same for each outcome.\n",
        "   \n",
        "If these conditions are met, then X has a binomial distribution with parameters n and p, abbreviated *B(n,p)*.\n",
        "\n",
        "The binomial coefficient, stated as \"n choose k,\" or the number of possible ways to choose k \"successes\" from n observations. For example, the number of ways to achieve 2 heads in a set of four tosses is \"4 choose 2\", or 4!/2!2! = (4x3)/(2x1) = 6. The possibilities are {HHTT, HTHT, HTTH, TTHH, THHT, THTH}, where \"H\" represents a head and \"T\" represents a tail. The binomial coefficient multiplies the probability of one of these possibilities (which is (1/2)²(1/2)² = 1/16 for a fair coin) by the number of ways the outcome may be achieved, for a total probability of 6/16.\n",
        "\n",
        "#### Sampling out of the Binomial distribution\n",
        "Compute the probability mass function for the number of defaults we would expect for 100 loans as in the last section, but instead of simulating all of the Bernoulli trials, perform the sampling using `np.random.binomial()`. This is identical to the calculation you did in the last set of exercises using your custom-written `perform_bernoulli_trials()` function, but far more computationally efficient. Given this extra efficiency, we will take 10,000 samples instead of 1000. After taking the samples, plot the CDF as last time. This CDF that you are plotting is that of the Binomial distribution.\n"
      ]
    },
    {
      "metadata": {
        "id": "8lFdPk1J5-57",
        "colab_type": "code",
        "colab": {},
        "outputId": "347d624c-77bc-4426-8a6c-0e448e378b78"
      },
      "cell_type": "code",
      "source": [
        "np.random.seed(42)\n",
        "\n",
        "# Take 10,000 samples out of the binomial distribution\n",
        "n_defaults=np.random.binomial(100,0.05, size=1000)\n",
        "\n",
        "#Return 2 values, when 'y' is the probability \n",
        "x,y=ecdf(n_defaults)\n",
        "\n",
        "# Plot the CDF with axis labels\n",
        "_=plt.plot(x,y, marker= '.',linestyle='none')\n",
        "_=plt.xlabel('loans')\n",
        "_=plt.ylabel('probability')\n",
        "\n",
        "\n",
        "# Show the plot\n",
        "plt.show()\n"
      ],
      "execution_count": 0,
      "outputs": [
        {
          "output_type": "display_data",
          "data": {
            "image/png": "[encoded data removed]",
            "text/plain": [
              "<matplotlib.figure.Figure at 0x1f65af08978>"
            ]
          },
          "metadata": {
            "tags": []
          }
        }
      ]
    },
    {
      "metadata": {
        "id": "cJu3RaQc5-6K",
        "colab_type": "text"
      },
      "cell_type": "markdown",
      "source": [
        "#### Plotting the Binomial PMF\n",
        "Plotting a nice looking PMF requires a bit of matplotlib trickery that we will not go into here. Instead, we will plot the PMF of the Binomial distribution as a histogram with skills you have already learned. The trick is setting up the edges of the bins to pass to `plt.hist()` via the bins keyword argument. We want the bins centered on the integers. So, the edges of the bins should be `-0.5, 0.5, 1.5, 2.5`, ... up to `max(n_defaults) + 1.5`. You can generate an array like this using `np.arange()` and then subtracting 0.5 from the array.\n",
        "\n",
        "You have already sampled out of the Binomial distribution during your exercises on loan defaults, and the resulting samples are in the NumPy array `n_defaults`."
      ]
    },
    {
      "metadata": {
        "id": "UpLZTP275-6K",
        "colab_type": "code",
        "colab": {},
        "outputId": "8d83d8ba-ad4b-46c9-be2d-912b2f1b07bd"
      },
      "cell_type": "code",
      "source": [
        "# Compute bin edges: bins\n",
        "bins = np.arange(0, max(n_defaults) + 1.5) - 0.5\n",
        "\n",
        "# Generate histogram\n",
        "plt.hist(n_defaults, bins=bins, normed=True)\n",
        "\n",
        "# Set margins\n",
        "plt.margins(0.02)\n",
        "\n",
        "# Label axes\n",
        "plt.xlabel('Loans')\n",
        "plt.ylabel('Probability')\n",
        "\n",
        "# Show the plot\n",
        "plt.show()"
      ],
      "execution_count": 0,
      "outputs": [
        {
          "output_type": "display_data",
          "data": {
            "image/png": "[encoded data removed]",
            "text/plain": [
              "<matplotlib.figure.Figure at 0x1f65b0bdbe0>"
            ]
          },
          "metadata": {
            "tags": []
          }
        }
      ]
    },
    {
      "metadata": {
        "id": "-8g7dF_f5-6K",
        "colab_type": "text"
      },
      "cell_type": "markdown",
      "source": [
        "### Poisson processes and the Poisson distribution\n",
        "Poisson procces counts the number of arrivals and how the system react to the arrival. For ej. a call of a telefone and how the system react to stocastic evets like the call(arrival)\n",
        "\n",
        "#### Relationship between Binomial and Poisson distributions\n",
        "You just heard that the Poisson distribution is a limit of the Binomial distribution for rare events. This makes sense if you think about the stories. Say we do a Bernoulli trial every minute for an hour, each with a success probability of 0.1. We would do 60 trials, and the number of successes is Binomially distributed, and we would expect to get about 6 successes. This is just like the Poisson story we discussed in the video, where we get on average 6 hits on a website per hour. So, the Poisson distribution with arrival rate equal to npnp approximates a Binomial distribution for nn Bernoulli trials with probability pp of success (with nn large and pp small). Importantly, the Poisson distribution is often simpler to work with because it has only one parameter instead of two for the Binomial distribution.\n",
        "\n",
        "Let's explore these two distributions computationally. You will compute the mean and standard deviation of samples from a Poisson distribution with an arrival rate of 10. Then, you will compute the mean and standard deviation of samples from a Binomial distribution with parameters nn and pp such that np=10np=10.\n",
        "\n",
        "*The standard deviation of the Binomial distribution gets closer and closer to that of the Poisson distribution as the probability p gets lower and lower.*"
      ]
    },
    {
      "metadata": {
        "id": "pTp-i-sR5-6K",
        "colab_type": "code",
        "colab": {},
        "outputId": "7aac6f1e-37e8-45aa-d61e-c6c26adda184"
      },
      "cell_type": "code",
      "source": [
        "# Draw 10,000 samples out of Poisson distribution: samples_poisson\n",
        "samples_poisson=np.random.poisson(10,10000)\n",
        "\n",
        "# Print the mean and standard deviation\n",
        "print('Poisson:     ', np.mean(samples_poisson),\n",
        "                       np.std(samples_poisson))\n",
        "\n",
        "# Specify values of n and p to consider for Binomial: n, p\n",
        "n=[20,100,1000]\n",
        "p=[0.5,0.1,0.01]\n",
        "\n",
        "# Draw 10,000 samples for each n,p pair: samples_binomial\n",
        "for i in range(3):\n",
        "    samples_binomial = np.random.binomial(n[i], p[i], size=10000)\n",
        "    \n",
        "    # Print results\n",
        "    print('n =', n[i], 'Binom:', np.mean(samples_binomial),\n",
        "                                 np.std(samples_binomial))"
      ],
      "execution_count": 0,
      "outputs": [
        {
          "output_type": "stream",
          "text": [
            "Poisson:      9.9881 3.15784077971\n",
            "n = 20 Binom: 10.0222 2.2492014494\n",
            "n = 100 Binom: 10.0776 3.01227127596\n",
            "n = 1000 Binom: 10.0481 3.14801308606\n"
          ],
          "name": "stdout"
        }
      ]
    },
    {
      "metadata": {
        "id": "ham7Hgrh5-6a",
        "colab_type": "text"
      },
      "cell_type": "markdown",
      "source": [
        "#### Baseball problem\n",
        "In baseball, a no-hitter is a game in which a pitcher does not allow the other team to get a hit. This is a rare event, and since the beginning of the so-called modern era of baseball (starting in 1901), there have only been 251 of them through the 2015 season in over 200,000 games. The ECDF of the number of no-hitters in a season is shown to the right. Which probability distribution would be appropriate to describe the number of no-hitters we would expect in a given season?\n",
        "\n",
        "ANS=Both Binomial and Poisson, though Poisson is easier to model and compute.\n",
        "##### Was 2015 anomalous?\n",
        "1990 and 2015 featured the most no-hitters of any season of baseball (there were seven). Given that there are on average 251/115 no-hitters per season, what is the probability of having seven or more in a season?"
      ]
    },
    {
      "metadata": {
        "id": "pQwHNFjo5-6a",
        "colab_type": "code",
        "colab": {},
        "outputId": "1207cfc8-0fe7-4995-9d66-c350c18082eb"
      },
      "cell_type": "code",
      "source": [
        "# Draw 10,000 samples out of Poisson distribution: n_nohitters\n",
        "n_nohitters=np.random.poisson(251/115,10000)\n",
        "\n",
        "# Compute number of samples that are seven or greater: n_large\n",
        "n_large = np.sum(n_nohitters>=7)\n",
        "\n",
        "# Compute probability of getting seven or more: p_large\n",
        "p_large=n_large/10000\n",
        "\n",
        "# Print the result\n",
        "print('Probability of seven or more no-hitters:', p_large)\n"
      ],
      "execution_count": 0,
      "outputs": [
        {
          "output_type": "stream",
          "text": [
            "Probability of seven or more no-hitters: 0.0071\n"
          ],
          "name": "stdout"
        }
      ]
    },
    {
      "metadata": {
        "id": "zmp_MrcA5-6a",
        "colab_type": "text"
      },
      "cell_type": "markdown",
      "source": [
        "## Thinking probabilistically-- Continuous \n",
        "Now it is time to move on to continuous variables, such as those that can take on any fractional value. Many of the principles are the same, but there are some subtleties. At the end of this last chapter of the course, you will be speaking the probabilistic language you need to launch into the inference techniques covered in the sequel to this course.\n",
        "\n",
        "### Probability density functions\n",
        "Mathematical description of the relative likelihood\n",
        "of observing a value of a continuous variable.\n",
        "Continuous analog to the PMF \n",
        "\n",
        "### Normal distribution\n",
        "Describes a continuous variable whose\n",
        "PDF has a single symmetric peak\n"
      ]
    },
    {
      "metadata": {
        "id": "b8aHABB85-6a",
        "colab_type": "code",
        "colab": {},
        "outputId": "dcaf7f4e-7681-46d0-f806-f7928a87918b"
      },
      "cell_type": "code",
      "source": [
        "# Draw 100000 samples from Normal distribution with stds of interest: samples_std1, samples_std3, samples_std10\n",
        "\n",
        "samples_std1=np.random.normal(20,1, size=100000)\n",
        "\n",
        "samples_std3 =np.random.normal(20,3, size=100000)\n",
        "samples_std10=np.random.normal(20,10, size=100000)\n",
        "\n",
        "\n",
        "\n",
        "# Make histograms\n",
        "# histtype='step', makes the plot look much like the smooth theoretical PDF\n",
        "_=plt.hist(samples_std1, bins=100, normed=True, histtype='step')\n",
        "_=plt.hist(samples_std3, bins=100, normed=True, histtype='step')\n",
        "_=plt.hist(samples_std10, bins=100, normed=True, histtype='step')\n",
        "\n",
        "\n",
        "# Make a legend, set limits and show plot\n",
        "_ = plt.legend(('std = 1', 'std = 3', 'std = 10'))\n",
        "plt.ylim(-0.01, 0.42)\n",
        "plt.show()"
      ],
      "execution_count": 0,
      "outputs": [
        {
          "output_type": "display_data",
          "data": {
            "image/png": "[encoded data removed]",
            "text/plain": [
              "<matplotlib.figure.Figure at 0x223480d5fd0>"
            ]
          },
          "metadata": {
            "tags": []
          }
        }
      ]
    },
    {
      "metadata": {
        "id": "wZsytaMv5-6a",
        "colab_type": "code",
        "colab": {},
        "outputId": "8dcf6d78-93c1-4d26-80cb-63a565bb991b"
      },
      "cell_type": "code",
      "source": [
        "# The Normal CDF\n",
        "# Generate CDFs\n",
        "x_std1,y_std1=ecdf(samples_std1)\n",
        "x_std3,y_std3=ecdf(samples_std3)\n",
        "x_std10,y_std10=ecdf(samples_std10)\n",
        "\n",
        "\n",
        "# Plot CDFs\n",
        "_=plt.plot(x_std1,y_std1, marker='.', linestyle='none')\n",
        "_=plt.plot(x_std3, y_std3, marker='.', linestyle='none')\n",
        "_=plt.plot(x_std10, y_std10, marker='.', linestyle='none')\n",
        "# Make 2% margin\n",
        "plt.margins(0.02)\n",
        "\n",
        "# Make a legend and show the plot\n",
        "_ = plt.legend(('std = 1', 'std = 3', 'std = 10'), loc='lower right')\n",
        "plt.show()"
      ],
      "execution_count": 0,
      "outputs": [
        {
          "output_type": "display_data",
          "data": {
            "image/png": "[encoded data removed]",
            "text/plain": [
              "<matplotlib.figure.Figure at 0x2234bc5b7f0>"
            ]
          },
          "metadata": {
            "tags": []
          }
        }
      ]
    },
    {
      "metadata": {
        "id": "FjqN-XDL5-6q",
        "colab_type": "text"
      },
      "cell_type": "markdown",
      "source": [
        "### The Normal distribution: Properties and warnings\n",
        "\n",
        "#### Problem Belmont Stakes results\n",
        "#### Are the Belmont Stakes results Normally distributed?\n",
        "Since 1926, the Belmont Stakes is a 1.5 mile-long race of 3-year old thoroughbred horses. Secretariat ran the fastest Belmont Stakes in history in 1973. While that was the fastest year, 1970 was the slowest because of unusually wet and sloppy conditions. With these two outliers removed from the data set, compute the mean and standard deviation of the Belmont winners' times. Sample out of a Normal distribution with this mean and standard deviation using the `np.random.normal()` function and plot a CDF. Overlay the ECDF from the winning Belmont times. Are these close to Normally distributed?\n"
      ]
    },
    {
      "metadata": {
        "id": "Hn2URx5X5-6q",
        "colab_type": "code",
        "colab": {},
        "outputId": "c083eca6-9169-4040-df0a-a06fe0bc58df"
      },
      "cell_type": "code",
      "source": [
        "belmont.head()"
      ],
      "execution_count": 0,
      "outputs": [
        {
          "output_type": "execute_result",
          "data": {
            "text/html": [
              "<div>\n",
              "<style>\n",
              "    .dataframe thead tr:only-child th {\n",
              "        text-align: right;\n",
              "    }\n",
              "\n",
              "    .dataframe thead th {\n",
              "        text-align: left;\n",
              "    }\n",
              "\n",
              "    .dataframe tbody tr th {\n",
              "        vertical-align: top;\n",
              "    }\n",
              "</style>\n",
              "<table border=\"1\" class=\"dataframe\">\n",
              "  <thead>\n",
              "    <tr style=\"text-align: right;\">\n",
              "      <th></th>\n",
              "      <th>Year</th>\n",
              "      <th>Winner</th>\n",
              "      <th>Jockey</th>\n",
              "      <th>Trainer</th>\n",
              "      <th>Owner</th>\n",
              "      <th>Time</th>\n",
              "      <th>Track</th>\n",
              "      <th>miles</th>\n",
              "    </tr>\n",
              "  </thead>\n",
              "  <tbody>\n",
              "    <tr>\n",
              "      <th>0</th>\n",
              "      <td>2016</td>\n",
              "      <td>Creator</td>\n",
              "      <td>Irad Ortiz, Jr</td>\n",
              "      <td>Steve Asmussen</td>\n",
              "      <td>WinStar Farm LLC</td>\n",
              "      <td>2:28.51</td>\n",
              "      <td>Belmont</td>\n",
              "      <td>1.5</td>\n",
              "    </tr>\n",
              "    <tr>\n",
              "      <th>1</th>\n",
              "      <td>2015</td>\n",
              "      <td>American Pharoah</td>\n",
              "      <td>Victor Espinoza</td>\n",
              "      <td>Bob Baffert</td>\n",
              "      <td>Zayat Stables, LLC</td>\n",
              "      <td>2:26.65</td>\n",
              "      <td>Belmont</td>\n",
              "      <td>1.5</td>\n",
              "    </tr>\n",
              "    <tr>\n",
              "      <th>2</th>\n",
              "      <td>2014</td>\n",
              "      <td>Tonalist</td>\n",
              "      <td>Joel Rosario</td>\n",
              "      <td>Christophe Clement</td>\n",
              "      <td>Robert S. Evans</td>\n",
              "      <td>2:28.52</td>\n",
              "      <td>Belmont</td>\n",
              "      <td>1.5</td>\n",
              "    </tr>\n",
              "    <tr>\n",
              "      <th>3</th>\n",
              "      <td>2013</td>\n",
              "      <td>Palace Malice</td>\n",
              "      <td>Mike Smith</td>\n",
              "      <td>Todd Pletcher</td>\n",
              "      <td>Dogwood Stable</td>\n",
              "      <td>2:30.70</td>\n",
              "      <td>Belmont</td>\n",
              "      <td>1.5</td>\n",
              "    </tr>\n",
              "    <tr>\n",
              "      <th>4</th>\n",
              "      <td>2012</td>\n",
              "      <td>Union Rags</td>\n",
              "      <td>John Velazquez</td>\n",
              "      <td>Michael Matz</td>\n",
              "      <td>Phyllis M. Wyeth</td>\n",
              "      <td>2:30.42</td>\n",
              "      <td>Belmont</td>\n",
              "      <td>1.5</td>\n",
              "    </tr>\n",
              "  </tbody>\n",
              "</table>\n",
              "</div>"
            ],
            "text/plain": [
              "   Year            Winner           Jockey             Trainer  \\\n",
              "0  2016           Creator   Irad Ortiz, Jr      Steve Asmussen   \n",
              "1  2015  American Pharoah  Victor Espinoza         Bob Baffert   \n",
              "2  2014          Tonalist     Joel Rosario  Christophe Clement   \n",
              "3  2013     Palace Malice       Mike Smith       Todd Pletcher   \n",
              "4  2012        Union Rags   John Velazquez        Michael Matz   \n",
              "\n",
              "                Owner     Time    Track  miles  \n",
              "0    WinStar Farm LLC  2:28.51  Belmont    1.5  \n",
              "1  Zayat Stables, LLC  2:26.65  Belmont    1.5  \n",
              "2     Robert S. Evans  2:28.52  Belmont    1.5  \n",
              "3      Dogwood Stable  2:30.70  Belmont    1.5  \n",
              "4    Phyllis M. Wyeth  2:30.42  Belmont    1.5  "
            ]
          },
          "metadata": {
            "tags": []
          },
          "execution_count": 10
        }
      ]
    },
    {
      "metadata": {
        "id": "FB1hSuUw5-6q",
        "colab_type": "text"
      },
      "cell_type": "markdown",
      "source": [
        "#### Remove Outliers Using Normal Distribution and S.D.\n",
        "I applied this rule successfully when I had to clean up data from millions of IoT devices generating heating equipment data. Each data point contained the electricity usage at a point of time.\n",
        "\n",
        "However, sometimes the devices weren’t 100% accurate and would give very high or very low values.\n",
        "\n",
        "We needed to remove these outlier values because they were making the scales on our graph unrealistic. The challenge was that the number of these outlier values was never fixed. Sometimes we would get all valid values and sometimes these erroneous readings would cover as much as 10% of the data points.\n",
        "\n",
        "Our approach was to remove the outlier points by eliminating any points that were above (Mean + 2*SD) and any points below (Mean - 2*SD) before plotting the frequencies.\n",
        "\n",
        "You don’t have to use 2 though, you can tweak it a little to get a better outlier detection formula for your data."
      ]
    },
    {
      "metadata": {
        "id": "uJhk_nqV5-6q",
        "colab_type": "code",
        "colab": {}
      },
      "cell_type": "code",
      "source": [
        "belmont_no_outliers=np.array([ 148.51,  146.65,  148.52,  150.7 ,  150.42,  150.88,  151.57,\n",
        "        147.54,  149.65,  148.74,  147.86,  148.75,  147.5 ,  148.26,\n",
        "        149.71,  146.56,  151.19,  147.88,  149.16,  148.82,  148.96,\n",
        "        152.02,  146.82,  149.97,  146.13,  148.1 ,  147.2 ,  146.  ,\n",
        "        146.4 ,  148.2 ,  149.8 ,  147.  ,  147.2 ,  147.8 ,  148.2 ,\n",
        "        149.  ,  149.8 ,  148.6 ,  146.8 ,  149.6 ,  149.  ,  148.2 ,\n",
        "        149.2 ,  148.  ,  150.4 ,  148.8 ,  147.2 ,  148.8 ,  149.6 ,\n",
        "        148.4 ,  148.4 ,  150.2 ,  148.8 ,  149.2 ,  149.2 ,  148.4 ,\n",
        "        150.2 ,  146.6 ,  149.8 ,  149.  ,  150.8 ,  148.6 ,  150.2 ,\n",
        "        149.  ,  148.6 ,  150.2 ,  148.2 ,  149.4 ,  150.8 ,  150.2 ,\n",
        "        152.2 ,  148.2 ,  149.2 ,  151.  ,  149.6 ,  149.6 ,  149.4 ,\n",
        "        148.6 ,  150.  ,  150.6 ,  149.2 ,  152.6 ,  152.8 ,  149.6 ,\n",
        "        151.6 ,  152.8 ,  153.2 ,  152.4 ,  152.2 ])"
      ],
      "execution_count": 0,
      "outputs": []
    },
    {
      "metadata": {
        "id": "2q_PNyeu5-6q",
        "colab_type": "text"
      },
      "cell_type": "markdown",
      "source": [
        "The theoretical CDF and the ECDF of the data suggest that the winning Belmont times are, indeed, Normally distributed. This also suggests that in the last 100 years or so, there have not been major technological or training advances that have significantly affected the speed at which horses can run this race."
      ]
    },
    {
      "metadata": {
        "id": "zztLLKQI5-6q",
        "colab_type": "code",
        "colab": {},
        "outputId": "e4f0d8f8-043d-4f99-9732-82c5bc6ec5bc"
      },
      "cell_type": "code",
      "source": [
        "# Compute mean and standard deviation: mu, sigma\n",
        "mu=np.mean(belmont_no_outliers)\n",
        "sigma=np.std(belmont_no_outliers)\n",
        "\n",
        "# Sample out of a normal distribution with this mu and sigma: samples\n",
        "samples=np.random.normal(mu,sigma, size=10000)\n",
        "\n",
        "# Get the CDF of the samples and of the data\n",
        "x_theor, y_theor=ecdf(samples)\n",
        "x,y=ecdf(belmont_no_outliers)\n",
        "\n",
        "# Plot the CDFs and show the plot\n",
        "_ = plt.plot(x_theor, y_theor)\n",
        "_ = plt.plot(x, y, marker='.', linestyle='none')\n",
        "plt.margins(0.02)\n",
        "_ = plt.xlabel('Belmont winning time (sec.)')\n",
        "_ = plt.ylabel('CDF')\n",
        "plt.show()"
      ],
      "execution_count": 0,
      "outputs": [
        {
          "output_type": "display_data",
          "data": {
            "image/png": "[encoded data removed]",
            "text/plain": [
              "<matplotlib.figure.Figure at 0x2234bcf32b0>"
            ]
          },
          "metadata": {
            "tags": []
          }
        }
      ]
    },
    {
      "metadata": {
        "id": "GVPr_Twh5-65",
        "colab_type": "code",
        "colab": {},
        "outputId": "6137bf0f-016b-4e2c-d81d-f186689af816"
      },
      "cell_type": "code",
      "source": [
        "samples=np.random.normal(mu,sigma, size=1000000)\n",
        "prob=len(samples[samples<144.0])/len(samples)\n",
        "# Print the result\n",
        "print('Probability of besting Secretariat:', prob)\n"
      ],
      "execution_count": 0,
      "outputs": [
        {
          "output_type": "stream",
          "text": [
            "Probability of besting Secretariat: 0.000637\n"
          ],
          "name": "stdout"
        }
      ]
    },
    {
      "metadata": {
        "id": "T6DtT-Kk5-7K",
        "colab_type": "text"
      },
      "cell_type": "markdown",
      "source": [
        "### The Exponential distribution\n",
        "*The waiting time between arrivals of a Poisson process is Exponentially distributed*\n",
        "In the real world, exponential distributions come up when we look at a series of events and measure the times between events, called interarrival times. If the events are equally likely to occur at any time, the distribution of **interarrival times**   tends to look like an exponential distribution.\n",
        "#### If you have a story, you can simulate it!\n",
        "Sometimes, the story describing our probability distribution does not have a named distribution to go along with it. In these cases, fear not! You can always simulate it. We'll do that in this and the next exercise.\n",
        "\n",
        "In earlier exercises, we looked at the rare event of no-hitters in Major League Baseball. Hitting the cycle is another rare baseball event. When a batter hits the cycle, he gets all four kinds of hits, a single, double, triple, and home run, in a single game. Like no-hitters, this can be modeled as a Poisson process, so the time between hits of the cycle are also Exponentially distributed.\n",
        "\n",
        "How long must we wait to see both a no-hitter and a batter hit the cycle? The idea is that we have to wait some time for the no-hitter, and then after the no-hitter, we have to wait for hitting the cycle. Stated another way, what is the total waiting time for the arrival of two different Poisson processes? The total waiting time is the time waited for the no-hitter, plus the time waited for the hitting the cycle.\n",
        "\n",
        "Now, you will write a function to sample out of the distribution described by this story."
      ]
    },
    {
      "metadata": {
        "id": "l4PyeLrG5-7K",
        "colab_type": "code",
        "colab": {}
      },
      "cell_type": "code",
      "source": [
        "def successive_poisson(tau1, tau2, size=1):\n",
        "    # Draw samples out of first exponential distribution: t1\n",
        "    t1 = np.random.exponential(tau1, size)\n",
        "\n",
        "    # Draw samples out of second exponential distribution: t2\n",
        "    t2 = np.random.exponential(tau2,size)\n",
        "\n",
        "    return t1 + t2"
      ],
      "execution_count": 0,
      "outputs": []
    },
    {
      "metadata": {
        "id": "n3_LvQoC5-7K",
        "colab_type": "text"
      },
      "cell_type": "markdown",
      "source": [
        "#### Distribution of no-hitters and cycles\n",
        "Now, you'll use your sampling function to compute the waiting time to observer a no-hitter and hitting of the cycle. The mean waiting time for a no-hitter is 764 games, and the mean waiting time for hitting the cycle is 715 games."
      ]
    },
    {
      "metadata": {
        "id": "IVYMym_a5-7K",
        "colab_type": "code",
        "colab": {},
        "outputId": "d7226398-836d-4308-eef6-307fca682221"
      },
      "cell_type": "code",
      "source": [
        "# Draw samples of waiting times: waiting_times\n",
        "waiting_times=successive_poisson(764,715,100000)\n",
        "\n",
        "# Make the histogram\n",
        "_=plt.hist(waiting_times, bins=100, normed=True, histtype='step')\n",
        "\n",
        "\n",
        "# Label axes\n",
        "_=plt.xlabel('number of games')\n",
        "_=plt.ylabel('probability')\n",
        "_=plt.title('PDF Rare baseball event')\n",
        "\n",
        "# Show the plot\n",
        "plt.show()"
      ],
      "execution_count": 0,
      "outputs": [
        {
          "output_type": "display_data",
          "data": {
            "image/png": "[encoded data removed]",
            "text/plain": [
              "<matplotlib.figure.Figure at 0x2234bf6f358>"
            ]
          },
          "metadata": {
            "tags": []
          }
        }
      ]
    },
    {
      "metadata": {
        "id": "Lazx2H6D5-7Y",
        "colab_type": "code",
        "colab": {},
        "outputId": "adc6563b-0dd2-4bbb-e617-cf439ccf0d2c"
      },
      "cell_type": "code",
      "source": [
        "# CDF\n",
        "\n",
        "x_no,y_no=ecdf(waiting_times)\n",
        "\n",
        "_=plt.plot(x_no,y_no, marker='.', linestyle='none')\n",
        "_=plt.xlabel('number of games')\n",
        "plt.show()"
      ],
      "execution_count": 0,
      "outputs": [
        {
          "output_type": "display_data",
          "data": {
            "image/png": "[encoded data removed]",
            "text/plain": [
              "<matplotlib.figure.Figure at 0x2234c272a58>"
            ]
          },
          "metadata": {
            "tags": []
          }
        }
      ]
    },
    {
      "metadata": {
        "id": "W_7fh-Xz5-7Y",
        "colab_type": "code",
        "colab": {}
      },
      "cell_type": "code",
      "source": [
        ""
      ],
      "execution_count": 0,
      "outputs": []
    },
    {
      "metadata": {
        "id": "aFT8VbSr5-7Y",
        "colab_type": "code",
        "colab": {}
      },
      "cell_type": "code",
      "source": [
        ""
      ],
      "execution_count": 0,
      "outputs": []
    },
    {
      "metadata": {
        "id": "oDSbTl4J5-7o",
        "colab_type": "code",
        "colab": {}
      },
      "cell_type": "code",
      "source": [
        ""
      ],
      "execution_count": 0,
      "outputs": []
    },
    {
      "metadata": {
        "id": "f_P49dZF5-7o",
        "colab_type": "code",
        "colab": {}
      },
      "cell_type": "code",
      "source": [
        ""
      ],
      "execution_count": 0,
      "outputs": []
    },
    {
      "metadata": {
        "id": "rK0viItG5-7o",
        "colab_type": "code",
        "colab": {}
      },
      "cell_type": "code",
      "source": [
        ""
      ],
      "execution_count": 0,
      "outputs": []
    }
  ]
}