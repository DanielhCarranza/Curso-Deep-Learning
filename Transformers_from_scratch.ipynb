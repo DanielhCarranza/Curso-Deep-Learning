{
  "nbformat": 4,
  "nbformat_minor": 0,
  "metadata": {
    "colab": {
      "name": "Transformers_from_scratch.ipynb",
      "provenance": [],
      "collapsed_sections": [],
      "authorship_tag": "ABX9TyO1KsEaG4rCFU7uQXE4vJBQ",
      "include_colab_link": true
    },
    "kernelspec": {
      "name": "python3",
      "display_name": "Python 3"
    },
    "accelerator": "GPU"
  },
  "cells": [
    {
      "cell_type": "markdown",
      "metadata": {
        "id": "view-in-github",
        "colab_type": "text"
      },
      "source": [
        "<a href=\"https://colab.research.google.com/github/DanielhCarranza/Curso-Deep-Learning/blob/master/Transformers_from_scratch.ipynb\" target=\"_parent\"><img src=\"https://colab.research.google.com/assets/colab-badge.svg\" alt=\"Open In Colab\"/></a>"
      ]
    },
    {
      "cell_type": "markdown",
      "metadata": {
        "id": "jcAQrzHK4p8u"
      },
      "source": [
        "# Transformers\n",
        "### References\n",
        "* [Pytorch Seq2Seq](https://github.com/bentrevett/pytorch-seq2seq)\n",
        "* [Fastai Transformer](https://github.com/fastai/course-nlp/blob/master/8-translation-transformer.ipynb)\n",
        "* [Transformers from Scratch](http://www.peterbloem.nl/blog/transformers)\n",
        "\n",
        "![texto alternativo](https://github.com/bentrevett/pytorch-seq2seq/raw/6559ece8dcb41d2cb9cfe479c7442c8d6c0d90bb/assets/transformer1.png)\n"
      ]
    },
    {
      "cell_type": "code",
      "metadata": {
        "id": "oBb9BSFy4vtn"
      },
      "source": [
        "%%bash\n",
        "git clone https://github.com/fastai/course-v4.git\n",
        "pip install -r course-v4/requirements.txt\n",
        "python -m spacy download de\n",
        "pip install torch torchvision torchtext=='0.6'\n",
        "pip install git+https://github.com/PetrochukM/PyTorch-NLP.git"
      ],
      "execution_count": null,
      "outputs": []
    },
    {
      "cell_type": "code",
      "metadata": {
        "id": "agqUKksa4v1t",
        "colab": {
          "base_uri": "https://localhost:8080/",
          "height": 68
        },
        "outputId": "9f5146b3-cfa4-4952-a611-d9c273fed0c6"
      },
      "source": [
        "import math\n",
        "import time\n",
        "import random\n",
        "\n",
        "import spacy\n",
        "import numpy as np\n",
        "import matplotlib.pyplot as plt\n",
        "import matplotlib.ticker as ticker\n",
        "\n",
        "import torch\n",
        "import torch.nn as nn\n",
        "import torch.optim as optim\n",
        "import torch.nn.functional as F\n",
        "\n",
        "from torchtext.data import Field, BucketIterator\n",
        "from torchtext.datasets import TranslationDataset, Multi30k\n",
        "from torch.nn.utils.rnn import pack_padded_sequence, pad_packed_sequence\n",
        "\n",
        "from torchnlp.datasets import multi30k_dataset \n",
        "train = multi30k_dataset(train=True)"
      ],
      "execution_count": null,
      "outputs": [
        {
          "output_type": "stream",
          "text": [
            "training.tar.gz: 1.21MB [00:00, 4.21MB/s]                           \n",
            "validation.tar.gz: 49.2kB [00:00, 422kB/s]                             \n",
            "mmt16_task1_test.tar.gz: 49.2kB [00:00, 424kB/s]                             \n"
          ],
          "name": "stderr"
        }
      ]
    },
    {
      "cell_type": "code",
      "metadata": {
        "id": "ezwVmM7e4v5j"
      },
      "source": [
        "SEED = 1234\n",
        "\n",
        "random.seed(SEED)\n",
        "np.random.seed(SEED)\n",
        "torch.manual_seed(SEED)\n",
        "torch.cuda.manual_seed(SEED)\n",
        "torch.backends.cudnn.deterministic = True"
      ],
      "execution_count": null,
      "outputs": []
    },
    {
      "cell_type": "code",
      "metadata": {
        "id": "mFAFes2n4v9T"
      },
      "source": [
        "spacy_de = spacy.load('de')\n",
        "spacy_en = spacy.load('en')"
      ],
      "execution_count": null,
      "outputs": []
    },
    {
      "cell_type": "code",
      "metadata": {
        "id": "ImeYCjsHC-Pe"
      },
      "source": [
        "def tokenize_de(text):\n",
        "    \"\"\"\n",
        "    Tokenizes German text from a string into a list of strings\n",
        "    \"\"\"\n",
        "    return [tok.text for tok in spacy_de.tokenizer(text)]\n",
        "\n",
        "def tokenize_en(text):\n",
        "    \"\"\"\n",
        "    Tokenizes English text from a string into a list of strings\n",
        "    \"\"\"\n",
        "    return [tok.text for tok in spacy_en.tokenizer(text)]"
      ],
      "execution_count": null,
      "outputs": []
    },
    {
      "cell_type": "code",
      "metadata": {
        "id": "rTy0JsrgF2dA"
      },
      "source": [
        "SRC = Field(tokenize = tokenize_de, \n",
        "            init_token = '<sos>', \n",
        "            eos_token = '<eos>', \n",
        "            lower = True, \n",
        "            batch_first = True)\n",
        "\n",
        "TRG = Field(tokenize = tokenize_en, \n",
        "            init_token = '<sos>', \n",
        "            eos_token = '<eos>', \n",
        "            lower = True, \n",
        "            batch_first = True)"
      ],
      "execution_count": null,
      "outputs": []
    },
    {
      "cell_type": "code",
      "metadata": {
        "id": "nsBqQZdVF2h1",
        "colab": {
          "base_uri": "https://localhost:8080/",
          "height": 119
        },
        "outputId": "7d216aa4-879c-4e90-e205-9a2445a52d94"
      },
      "source": [
        "train_data, valid_data, test_data = Multi30k.splits(exts = ('.de', '.en'), \n",
        "                                                    fields = (SRC, TRG))\n",
        "# train_data, valid_data, test_data = Multi30k.splits(exts = ('.de', '.en'),\n",
        "#                                                     root='data',test='test', \n",
        "#                                                     fields = (SRC, TRG))"
      ],
      "execution_count": null,
      "outputs": [
        {
          "output_type": "stream",
          "text": [
            "\rtraining.tar.gz:   0%|          | 0.00/1.21M [00:00<?, ?B/s]"
          ],
          "name": "stderr"
        },
        {
          "output_type": "stream",
          "text": [
            "downloading training.tar.gz\n"
          ],
          "name": "stdout"
        },
        {
          "output_type": "stream",
          "text": [
            "training.tar.gz: 100%|██████████| 1.21M/1.21M [00:00<00:00, 6.49MB/s]\n",
            "validation.tar.gz: 100%|██████████| 46.3k/46.3k [00:00<00:00, 1.78MB/s]"
          ],
          "name": "stderr"
        },
        {
          "output_type": "stream",
          "text": [
            "downloading validation.tar.gz\n",
            "downloading mmt_task1_test2016.tar.gz\n"
          ],
          "name": "stdout"
        },
        {
          "output_type": "stream",
          "text": [
            "\n",
            "mmt_task1_test2016.tar.gz: 100%|██████████| 66.2k/66.2k [00:00<00:00, 1.69MB/s]\n"
          ],
          "name": "stderr"
        }
      ]
    },
    {
      "cell_type": "code",
      "metadata": {
        "id": "Q9-TfX45F2lw"
      },
      "source": [
        "SRC.build_vocab(train_data, min_freq = 2)\n",
        "TRG.build_vocab(train_data, min_freq = 2)"
      ],
      "execution_count": null,
      "outputs": []
    },
    {
      "cell_type": "code",
      "metadata": {
        "id": "62pPY-U-F2pY"
      },
      "source": [
        "BATCH_SIZE = 128\n",
        "\n",
        "device = torch.device('cuda' if torch.cuda.is_available() else 'cpu')\n",
        "\n",
        "train_iterator, valid_iterator, test_iterator = BucketIterator.splits(\n",
        "    (train_data, valid_data, test_data), \n",
        "     batch_size = BATCH_SIZE,\n",
        "     device = device)"
      ],
      "execution_count": null,
      "outputs": []
    },
    {
      "cell_type": "code",
      "metadata": {
        "id": "1TeHPBb7F2tv",
        "colab": {
          "base_uri": "https://localhost:8080/",
          "height": 34
        },
        "outputId": "62b029f9-0b2c-4f6f-cdc8-ee137aac6716"
      },
      "source": [
        "def one_batch(iterator):\n",
        "  batch= next(iter(iterator))\n",
        "  return batch.src, batch.trg \n",
        "xb, yb = one_batch(train_iterator)\n",
        "xb, yb = xb.to(device), yb.to(device)\n",
        "xb.shape,  yb.shape"
      ],
      "execution_count": null,
      "outputs": [
        {
          "output_type": "execute_result",
          "data": {
            "text/plain": [
              "(torch.Size([128, 23]), torch.Size([128, 21]))"
            ]
          },
          "metadata": {
            "tags": []
          },
          "execution_count": 10
        }
      ]
    },
    {
      "cell_type": "markdown",
      "metadata": {
        "id": "gYsofKFGS1wv"
      },
      "source": [
        "### Token & Positional Embedings\n",
        "We use learned embeddings to convert the input tokens and output tokens to vectors of dimension $d_{model}$. \n",
        "In our model, we share the same weight matrix between the two embedding layers and the pre-softmax\n",
        "linear transformation. In the embedding layers, we multiply those weights by $\\sqrt{d_{model}}$.\n",
        "\n",
        "**Positional Encodings**\n",
        "\n",
        "Since our model contains no recurrence and no convolution, in order for the model to make use of the order of the sequence, we must inject some information about the relative or absolute position of the tokens in the sequence.\n",
        "$$\\begin{aligned}\n",
        "P E_{(p o s, 2 i)} &=\\sin \\left(p o s / 10000^{2 i / d_{\\text {model }}}\\right) \\\\\n",
        "P E_{(p o s, 2 i+1)} &=\\cos \\left(p o s / 10000^{2 i / d_{\\text {model }}}\\right)\n",
        "\\end{aligned}$$"
      ]
    },
    {
      "cell_type": "code",
      "metadata": {
        "id": "6ysPzdWTS1ic"
      },
      "source": [
        "class TransformerEmbedding(nn.Module):\n",
        "  def __init__(self, inp_dim, emb_dim, dropout, device, max_lenght=100):\n",
        "    super().__init__()\n",
        "    self.device=device\n",
        "    self.tok_emb = nn.Embedding(inp_dim, emb_dim)\n",
        "    self.pos_emb = nn.Embedding(max_lenght, emb_dim)\n",
        "    self.drop    = nn.Dropout(dropout)\n",
        "    self.scale   = torch.sqrt(torch.FloatTensor([emb_dim])).to(device)\n",
        "  def forward(self, inp):\n",
        "    bs, sl  = inp.shape\n",
        "    pos     = torch.arange(0, sl).repeat(bs,1).to(self.device)\n",
        "    embeded = self.drop((self.tok_emb(inp)*self.scale) + self.pos_emb(pos))\n",
        "    return embeded\n"
      ],
      "execution_count": null,
      "outputs": []
    },
    {
      "cell_type": "code",
      "metadata": {
        "id": "G3tbb-HOkxmz",
        "colab": {
          "base_uri": "https://localhost:8080/",
          "height": 34
        },
        "outputId": "ded9e0b5-0f97-4761-abd6-b37705c9cc84"
      },
      "source": [
        "inp_dim, emb_dim, drop = len(SRC.vocab), 256, 0.1\n",
        "transformer_emb = TransformerEmbedding(inp_dim, emb_dim, drop, device).to(device)\n",
        "embeded = transformer_emb(xb); embeded.shape"
      ],
      "execution_count": null,
      "outputs": [
        {
          "output_type": "execute_result",
          "data": {
            "text/plain": [
              "torch.Size([128, 23, 256])"
            ]
          },
          "metadata": {
            "tags": []
          },
          "execution_count": 12
        }
      ]
    },
    {
      "cell_type": "markdown",
      "metadata": {
        "id": "DEMe4K0KEqsV"
      },
      "source": [
        "### Multi-Head Attention\n",
        "$$\\text { Attention }(Q, K, V)=\\operatorname{softmax}\\left(\\frac{Q K^{T}}{\\sqrt{d_{k}}}\\right) V$$\n",
        "\n",
        "$$\\begin{aligned}\n",
        "\\text { MultiHead }(Q, K, V) &\\left.=\\text { Concat(head }_{1}, \\ldots, \\text { head }_{\\mathrm{h}}\\right) W^{O} \\\\\n",
        "\\text { where head }_{\\mathrm{i}} &=\\text { Attention }\\left(Q W_{i}^{Q}, K W_{i}^{K}, V W_{i}^{V}\\right)\n",
        "\\end{aligned}$$\n",
        "\n",
        "Where the projections are parameter matrices are $W_{i}^{Q} \\in \\mathbb{R}^{d_{\\text {model }} \\times d_{k}}, W_{i}^{K} \\in \\mathbb{R}^{d_{\\text {model }} \\times d_{k}}, W_{i}^{V} \\in \\mathbb{R}^{d_{\\text {model }} \\times d_{v}}$\n",
        "and $W^{O} \\in \\mathbb{R}^{h d_{v} \\times d_{\\text {model }}}$\n",
        "\n",
        "\n",
        "`dk = dv = dmodel/h, dmodel = hid_dim, dk = head_dim, h = n_heads\n",
        "`"
      ]
    },
    {
      "cell_type": "code",
      "metadata": {
        "id": "_vGuZEcs4wBy"
      },
      "source": [
        "class MultiHeadAttention(nn.Module):\n",
        "  def __init__(self, hid_dim,  n_heads, dropout, device, bias=True):\n",
        "    super().__init__()\n",
        "    assert hid_dim % n_heads == 0\n",
        "    head_dim = hid_dim//n_heads \n",
        "    self.n_heads, self.hid_dim, self.head_dim = n_heads, hid_dim, head_dim\n",
        "    self.fc_q, self.fc_k, self.fc_v, self.fc_o = [nn.Linear(\n",
        "                hid_dim, hid_dim, bias=bias) for _ in range(4)]\n",
        "    self.dropout = nn.Dropout(dropout)\n",
        "    self.scale   = torch.sqrt(torch.FloatTensor([self.head_dim])).to(device)\n",
        "  def modify_dims(self, layer, bs):\n",
        "    return layer.view(bs, -1, self.n_heads, self.head_dim).permute(0,2,1,3)\n",
        "  def forward(self, q, k, v, mask=None):\n",
        "    bs = q.shape[0]\n",
        "    Q, K, V = self.fc_q(q), self.fc_k(k), self.fc_v(v)\n",
        "    Q, K, V = map(lambda o: self.modify_dims(o,bs), (Q,K,V))\n",
        "    attn_score  = (Q @ K.permute(0, 1, 3, 2)) / self.scale\n",
        "    if mask is not None: attn_score = attn_score.masked_fill(mask == 0, -1e10)\n",
        "    attn_prob = torch.softmax(attn_score, dim=-1) # [bs, h, sl, sl]\n",
        "    attn_vc = self.dropout(attn_prob) @ V # [bs, h, sl, sl] [bs, h, sl , hid]\n",
        "    attn_vc = attn_vc.permute(0,2,1,3).contiguous().view(bs, -1, self.hid_dim)\n",
        "    scale_dot_attn  = self.fc_o(attn_vc)     \n",
        "    return scale_dot_attn, attn_prob "
      ],
      "execution_count": null,
      "outputs": []
    },
    {
      "cell_type": "code",
      "metadata": {
        "id": "aSLA4GjgjPzL"
      },
      "source": [
        "# class MultiHeadAttentionLayer(nn.Module):\n",
        "#     def __init__(self, hid_dim, n_heads, dropout, device):\n",
        "#         super().__init__()\n",
        "#         assert hid_dim % n_heads == 0\n",
        "#         self.hid_dim, self.n_heads = hid_dim, n_heads\n",
        "#         self.head_dim = hid_dim // n_heads\n",
        "#         self.fc_q, self.fc_k, self.fc_v, self.fc_o = [nn.Linear(\n",
        "#                     hid_dim, hid_dim) for _ in range(4)]\n",
        "#         self.dropout = nn.Dropout(dropout)\n",
        "#         self.scale = torch.sqrt(torch.FloatTensor([self.head_dim])).to(device)\n",
        "#     def modify_dims(self, layer, bs):\n",
        "#         return layer.view(bs, -1, self.n_heads, self.head_dim).permute(0,2,1,3)\n",
        "#     def forward(self, query, key, value, mask = None):\n",
        "#         bs = query.shape[0]\n",
        "#         Q, K, V = self.fc_q(query), self.fc_k(key), self.fc_v(value)\n",
        "#         Q, K, V = map(lambda o: self.modify_dims(o,bs), (Q,K,V))       \n",
        "#         energy = torch.matmul(Q, K.permute(0, 1, 3, 2)) / self.scale\n",
        "#         if mask is not None: energy = energy.masked_fill(mask == 0, -1e10)\n",
        "#         attention = torch.softmax(energy, dim = -1)\n",
        "#         x = torch.matmul(self.dropout(attention), V)\n",
        "#         x = x.permute(0, 2, 1, 3).contiguous().view(bs, -1, self.hid_dim)\n",
        "#         x = self.fc_o(x)\n",
        "#         return x, attention"
      ],
      "execution_count": null,
      "outputs": []
    },
    {
      "cell_type": "code",
      "metadata": {
        "id": "zKBterOF4wFx"
      },
      "source": [
        "emb_dim, hid_dim, heads = 256, 256, 8\n",
        "matt = MultiHeadAttention(hid_dim, heads,drop, device).to(device)"
      ],
      "execution_count": null,
      "outputs": []
    },
    {
      "cell_type": "code",
      "metadata": {
        "id": "bmChQROIBUvm",
        "colab": {
          "base_uri": "https://localhost:8080/",
          "height": 34
        },
        "outputId": "ef1c6e23-7136-45be-9e36-6de7f14d43c0"
      },
      "source": [
        "# %debug\n",
        "sdattn, attn = matt(*[embeded]*3)\n",
        "sdattn.shape, attn.shape"
      ],
      "execution_count": null,
      "outputs": [
        {
          "output_type": "execute_result",
          "data": {
            "text/plain": [
              "(torch.Size([128, 23, 256]), torch.Size([128, 8, 23, 23]))"
            ]
          },
          "metadata": {
            "tags": []
          },
          "execution_count": 21
        }
      ]
    },
    {
      "cell_type": "markdown",
      "metadata": {
        "id": "Kw-huZeN4wJ9"
      },
      "source": [
        "### Feed-Forward-Network\n",
        "The dimensionality of input and output is $d_{model} = 512$, and the inner-layer has dimensionality\n",
        "$d_{ff} = 2048$.\n",
        "$$\\mathrm{FFN}(x)=\\max \\left(0, x W_{1}+b_{1}\\right) W_{2}+b_{2}$$"
      ]
    },
    {
      "cell_type": "code",
      "metadata": {
        "id": "D4ESHcXO4wOM"
      },
      "source": [
        "# class FFN(nn.Module):\n",
        "#   def __init__(self, hid_dim, inner_dim, dropout):\n",
        "#     super().__init__()\n",
        "#     self.layers = nn.Sequential(nn.Linear(hid_dim, inner_dim),\n",
        "#                            nn.ReLU(),\n",
        "#                            nn.Dropout(dropout),\n",
        "#                            nn.Linear(inner_dim, hid_dim))\n",
        "#     self.norm_ffn= nn.LayerNorm(hid_dim)\n",
        "#   def forward(self, inp):\n",
        "#     return self.norm_ffn(inp + self.layers(inp) )   \n",
        "\n",
        "class FFN(nn.Module):\n",
        "    def __init__(self, hid_dim, pf_dim, dropout):\n",
        "        super().__init__()\n",
        "        self.fc_1 = nn.Linear(hid_dim, pf_dim)\n",
        "        self.fc_2 = nn.Linear(pf_dim, hid_dim)\n",
        "        self.dropout = nn.Dropout(dropout)\n",
        "    def forward(self, x):        \n",
        "        x = self.dropout(torch.relu(self.fc_1(x)))\n",
        "        return self.fc_2(x) "
      ],
      "execution_count": null,
      "outputs": []
    },
    {
      "cell_type": "code",
      "metadata": {
        "id": "pJ4oVqU44wSG",
        "colab": {
          "base_uri": "https://localhost:8080/",
          "height": 34
        },
        "outputId": "8e62360d-f5fa-4969-f88e-a81894a90886"
      },
      "source": [
        "hid_dim, inner_dim, drop = 256,512, 0.1 \n",
        "ffn = FFN(hid_dim,inner_dim, drop).to(device)\n",
        "ffn(sdattn).shape"
      ],
      "execution_count": null,
      "outputs": [
        {
          "output_type": "execute_result",
          "data": {
            "text/plain": [
              "torch.Size([128, 23, 256])"
            ]
          },
          "metadata": {
            "tags": []
          },
          "execution_count": 23
        }
      ]
    },
    {
      "cell_type": "markdown",
      "metadata": {
        "id": "kVB00Is9g5zk"
      },
      "source": [
        "## Encoder \n"
      ]
    },
    {
      "cell_type": "code",
      "metadata": {
        "id": "LplYohFFg557"
      },
      "source": [
        "class EncoderLayer(nn.Module):\n",
        "  def __init__(self, hid_dim, inner_dim, n_heads, dropout, device):\n",
        "    super().__init__()\n",
        "    self.attention = MultiHeadAttention(hid_dim, n_heads,  dropout, device)\n",
        "    self.ffn_layer = FFN(hid_dim, inner_dim, dropout)\n",
        "    self.ln_attn   = nn.LayerNorm(hid_dim)\n",
        "    self.ln_ffn    = nn.LayerNorm(hid_dim)\n",
        "    self.dropout   = nn.Dropout(dropout)\n",
        "\n",
        "  def forward(self, q, k, v, mask=None):\n",
        "    attn, _    = self.attention(q, k, v, mask)\n",
        "    attn_layer = self.ln_attn(q + self.dropout(attn))\n",
        "    ffn        = self.ffn_layer(attn_layer)\n",
        "    enc_out    = self.ln_ffn(attn_layer + self.dropout(ffn))\n",
        "    return enc_out"
      ],
      "execution_count": null,
      "outputs": []
    },
    {
      "cell_type": "code",
      "metadata": {
        "id": "Mo7g27Bzg5-e"
      },
      "source": [
        "emb_dim, hid_dim, inner_dim, n_heads, drop = 256, 256,512, 8, 0.1\n",
        "enclayer = EncoderLayer(hid_dim, inner_dim, n_heads, drop, device).to(device)"
      ],
      "execution_count": null,
      "outputs": []
    },
    {
      "cell_type": "code",
      "metadata": {
        "id": "4M1HPPrgg6EF",
        "colab": {
          "base_uri": "https://localhost:8080/",
          "height": 34
        },
        "outputId": "11a013c4-ab9a-448c-f24a-654a052f5738"
      },
      "source": [
        "src_pad_idx = SRC.vocab.stoi[SRC.pad_token]\n",
        "src_mask = xb[:, None, None, :] != src_pad_idx \n",
        "enclayer(*[embeded]*3, src_mask).shape"
      ],
      "execution_count": null,
      "outputs": [
        {
          "output_type": "execute_result",
          "data": {
            "text/plain": [
              "torch.Size([128, 23, 256])"
            ]
          },
          "metadata": {
            "tags": []
          },
          "execution_count": 26
        }
      ]
    },
    {
      "cell_type": "code",
      "metadata": {
        "id": "2pRJoFJR0Uqg"
      },
      "source": [
        "class Encoder(nn.Module):\n",
        "  def __init__(self, inp_dim, emb_dim, hid_dim, inner_dim, n_heads,n_layers, dropout, device):\n",
        "    super().__init__()\n",
        "    self.embeded = TransformerEmbedding(inp_dim, emb_dim, dropout, device)\n",
        "    self.layers  = nn.ModuleList([EncoderLayer(hid_dim, inner_dim,  \n",
        "                                               n_heads, dropout,device) \n",
        "                                                 for _ in range(n_layers)])\n",
        "  def forward(self, inp, mask=None):\n",
        "    src   = self.embeded(inp)\n",
        "    for layer in self.layers: src = layer(src,src,src, mask)\n",
        "    return src"
      ],
      "execution_count": null,
      "outputs": []
    },
    {
      "cell_type": "code",
      "metadata": {
        "id": "3YVbEZHTdL_g"
      },
      "source": [
        "emb_dim, hid_dim, inner_dim, n_heads,n_layers, drop = 256, 256,512, 8, 6, 0.1\n",
        "enc = Encoder(inp_dim, emb_dim, hid_dim, inner_dim, n_heads,n_layers, drop, device).to(device)"
      ],
      "execution_count": null,
      "outputs": []
    },
    {
      "cell_type": "code",
      "metadata": {
        "id": "WaeWB-wldaOJ",
        "colab": {
          "base_uri": "https://localhost:8080/",
          "height": 34
        },
        "outputId": "3d7fadff-43b7-4bdd-b358-431aea42c9f5"
      },
      "source": [
        "enc_out = enc(xb, src_mask); enc_out.shape"
      ],
      "execution_count": null,
      "outputs": [
        {
          "output_type": "execute_result",
          "data": {
            "text/plain": [
              "torch.Size([128, 23, 256])"
            ]
          },
          "metadata": {
            "tags": []
          },
          "execution_count": 29
        }
      ]
    },
    {
      "cell_type": "markdown",
      "metadata": {
        "id": "ErQJEeMd9cEX"
      },
      "source": [
        "### Decoder"
      ]
    },
    {
      "cell_type": "code",
      "metadata": {
        "id": "ArCldT3Tdl8H"
      },
      "source": [
        "class DecoderLayer(nn.Module):\n",
        "  def __init__(self, hid_dim, inner_dim, n_heads, dropout, device):\n",
        "    super().__init__()\n",
        "    self.masked_attn = MultiHeadAttention(hid_dim, n_heads,dropout, device)\n",
        "    self.enc_attn    = MultiHeadAttention(hid_dim, n_heads,dropout, device)\n",
        "    self.ffn_layer   = FFN(hid_dim, inner_dim, dropout)\n",
        "    self.ln_masked   = nn.LayerNorm(hid_dim)\n",
        "    self.ln_attn     = nn.LayerNorm(hid_dim)\n",
        "    self.ln_ffn      = nn.LayerNorm(hid_dim)\n",
        "    self.dropout     = nn.Dropout(dropout)\n",
        "\n",
        "  def forward(self, q, k, v, trg_mask, src_mask, enc_out):\n",
        "    dot_attn, _   = self.masked_attn(q, k, v, trg_mask)\n",
        "    masked_layer  = self.ln_masked(q + self.dropout(dot_attn))\n",
        "    dot_attn, attn= self.enc_attn(masked_layer, enc_out, enc_out, src_mask)\n",
        "    attn_layer    = self.ln_attn(masked_layer + self.dropout(dot_attn))\n",
        "    ffn_layer     = self.ffn_layer(attn_layer)\n",
        "    dec_out       = self.ln_ffn(attn_layer + self.dropout(ffn_layer))\n",
        "    return dec_out, attn"
      ],
      "execution_count": null,
      "outputs": []
    },
    {
      "cell_type": "code",
      "metadata": {
        "id": "le4AJ6uh811X"
      },
      "source": [
        "emb_dim, hid_dim, inner_dim, n_heads, drop = 256, 256,512, 8, 0.1\n",
        "declayer = DecoderLayer(hid_dim, inner_dim, n_heads, drop, device).to(device)"
      ],
      "execution_count": null,
      "outputs": []
    },
    {
      "cell_type": "code",
      "metadata": {
        "id": "821iVfZ59Ijf",
        "colab": {
          "base_uri": "https://localhost:8080/",
          "height": 34
        },
        "outputId": "5721aa4e-aa31-4c9a-de49-27aefbc54428"
      },
      "source": [
        "out_dim, emb_dim, drop = len(TRG.vocab), 256, 0.1\n",
        "trg_embeding = TransformerEmbedding(out_dim, emb_dim, drop, device).to(device)\n",
        "trg_emb = trg_embeding(yb); trg_emb.shape"
      ],
      "execution_count": null,
      "outputs": [
        {
          "output_type": "execute_result",
          "data": {
            "text/plain": [
              "torch.Size([128, 21, 256])"
            ]
          },
          "metadata": {
            "tags": []
          },
          "execution_count": 32
        }
      ]
    },
    {
      "cell_type": "code",
      "metadata": {
        "id": "GhWAFUcC-l6j",
        "colab": {
          "base_uri": "https://localhost:8080/",
          "height": 51
        },
        "outputId": "f79eb913-7709-4591-ecba-5c3c08d743b1"
      },
      "source": [
        "trg_pad_idx = TRG.vocab.stoi[TRG.pad_token]\n",
        "bs, trg_sl = yb.shape\n",
        "src_mask = xb[:, None, None, :] != src_pad_idx \n",
        "\n",
        "pad_mask = yb[:, None, None,:] != trg_pad_idx \n",
        "tri_mask = torch.tril(yb.new_ones((trg_sl, trg_sl), device=device)).bool()\n",
        "trg_mask = (pad_mask & tri_mask )\n",
        "\n",
        "print(f'SRC Mask {src_mask.shape}, TRG Mask {trg_mask.shape}')\n",
        "dec_out, attn = declayer(*[trg_emb]*3, trg_mask, src_mask, enc_out)\n",
        "dec_out.shape, attn.shape"
      ],
      "execution_count": null,
      "outputs": [
        {
          "output_type": "stream",
          "text": [
            "SRC Mask torch.Size([128, 1, 1, 23]), TRG Mask torch.Size([128, 1, 21, 21])\n"
          ],
          "name": "stdout"
        },
        {
          "output_type": "execute_result",
          "data": {
            "text/plain": [
              "(torch.Size([128, 21, 256]), torch.Size([128, 8, 21, 23]))"
            ]
          },
          "metadata": {
            "tags": []
          },
          "execution_count": 33
        }
      ]
    },
    {
      "cell_type": "code",
      "metadata": {
        "id": "cITjOSGN42df"
      },
      "source": [
        "class Decoder(nn.Module):\n",
        "  def __init__(self, out_dim, emb_dim, hid_dim, inner_dim, n_heads, n_layers, drop, device):\n",
        "    super().__init__()\n",
        "    self.embeded = TransformerEmbedding(out_dim, emb_dim, drop, device)\n",
        "    self.layers  = nn.ModuleList([DecoderLayer(hid_dim, inner_dim, \n",
        "                                               n_heads, drop, device) \n",
        "                                               for _ in range(n_layers)])\n",
        "    self.fc_out = nn.Linear(hid_dim, out_dim)\n",
        "  def forward(self, trg, trg_mask, src_mask, enc_out):\n",
        "    trg = self.embeded(trg)\n",
        "    for layer  in self.layers: \n",
        "      trg, attn = layer(trg,trg,trg, trg_mask, src_mask, enc_out)\n",
        "    dec_out = self.fc_out(trg)\n",
        "    return dec_out, attn"
      ],
      "execution_count": null,
      "outputs": []
    },
    {
      "cell_type": "code",
      "metadata": {
        "id": "9bczJPp96LK6"
      },
      "source": [
        "out_dim, emb_dim, hid_dim, inner_dim, n_heads, drop =len(TRG.vocab), 256, 256,512, 8, 0.1\n",
        "dec = Decoder(out_dim, emb_dim, hid_dim, inner_dim, n_heads, n_layers, drop, device).to(device)"
      ],
      "execution_count": null,
      "outputs": []
    },
    {
      "cell_type": "code",
      "metadata": {
        "id": "gbJCIO2UXAfb",
        "colab": {
          "base_uri": "https://localhost:8080/",
          "height": 34
        },
        "outputId": "3c623ee9-1305-48c3-ace5-d093445da79a"
      },
      "source": [
        "dec_out, attn = dec(yb, trg_mask, src_mask, enc_out)\n",
        "dec_out.shape, attn.shape"
      ],
      "execution_count": null,
      "outputs": [
        {
          "output_type": "execute_result",
          "data": {
            "text/plain": [
              "(torch.Size([128, 21, 5893]), torch.Size([128, 8, 21, 23]))"
            ]
          },
          "metadata": {
            "tags": []
          },
          "execution_count": 36
        }
      ]
    },
    {
      "cell_type": "code",
      "metadata": {
        "id": "24r0UBk9XOOh"
      },
      "source": [
        "class Transformer(nn.Module):\n",
        "  def __init__(self, encoder, decoder,src_pad_idx, trg_pad_idx, device):\n",
        "    super().__init__()\n",
        "    self.encoder, self.decoder, self.device = encoder, decoder, device\n",
        "    self.src_pad_idx, self.trg_pad_idx = src_pad_idx, trg_pad_idx\n",
        "  def src_mask(self, src):\n",
        "    return (src != self.src_pad_idx)[:,None, None, :]\n",
        "  def trg_mask(self, trg):\n",
        "    trg_sl = trg.shape[1]\n",
        "    pad_mask = (trg != self.trg_pad_idx)[:,None, None,:]\n",
        "    tri_mask = torch.tril(torch.ones((trg_sl,trg_sl), device=self.device )).bool()\n",
        "    return pad_mask & tri_mask\n",
        "  def forward(self, src, trg):\n",
        "    src_mask, trg_mask = self.src_mask(src), self.trg_mask(trg)\n",
        "    enc_out            = self.encoder(src, src_mask)\n",
        "    dec_out, attention = self.decoder(trg, trg_mask, src_mask, enc_out)\n",
        "    return dec_out, attention"
      ],
      "execution_count": null,
      "outputs": []
    },
    {
      "cell_type": "code",
      "metadata": {
        "id": "PvLrWuQfXOZA"
      },
      "source": [
        "INPUT_DIM = len(SRC.vocab)\n",
        "OUTPUT_DIM = len(TRG.vocab)\n",
        "HID_DIM = 256\n",
        "EMB_DIM = HID_DIM\n",
        "ENC_LAYERS = 3\n",
        "DEC_LAYERS = 3\n",
        "ENC_HEADS = 8\n",
        "DEC_HEADS = 8\n",
        "ENC_INNER_DIM = 512\n",
        "DEC_INNER_DIM = 512\n",
        "ENC_DROPOUT = 0.1\n",
        "DEC_DROPOUT = 0.1\n",
        "trg_pad_idx = TRG.vocab.stoi[TRG.pad_token]\n",
        "src_pad_idx = SRC.vocab.stoi[SRC.pad_token]\n",
        "\n",
        "enc = Encoder(INPUT_DIM, EMB_DIM, HID_DIM, ENC_INNER_DIM, \n",
        "              ENC_HEADS, ENC_LAYERS, ENC_DROPOUT, device).to(device)\n",
        "dec = Decoder(OUTPUT_DIM, EMB_DIM, HID_DIM, DEC_INNER_DIM, \n",
        "              DEC_HEADS, DEC_LAYERS, DEC_DROPOUT, device).to(device)"
      ],
      "execution_count": null,
      "outputs": []
    },
    {
      "cell_type": "code",
      "metadata": {
        "id": "lv71920jXOdV"
      },
      "source": [
        "model = Transformer(enc, dec, src_pad_idx, trg_pad_idx, device).to(device)"
      ],
      "execution_count": null,
      "outputs": []
    },
    {
      "cell_type": "code",
      "metadata": {
        "id": "XOA3cZ9FXOhW",
        "colab": {
          "base_uri": "https://localhost:8080/",
          "height": 34
        },
        "outputId": "24a8bd0f-0285-43e8-a5da-21c02f25e01c"
      },
      "source": [
        "#output = [batch size, trg len, output dim]\n",
        "#attention = [batch size, n heads, trg len, src len]\n",
        "preds, attn = model(xb,yb)\n",
        "preds.shape, attn.shape"
      ],
      "execution_count": null,
      "outputs": [
        {
          "output_type": "execute_result",
          "data": {
            "text/plain": [
              "(torch.Size([128, 21, 5893]), torch.Size([128, 8, 21, 23]))"
            ]
          },
          "metadata": {
            "tags": []
          },
          "execution_count": 40
        }
      ]
    },
    {
      "cell_type": "code",
      "metadata": {
        "id": "DcNxp8zgXOlu",
        "colab": {
          "base_uri": "https://localhost:8080/",
          "height": 34
        },
        "outputId": "2c122b55-1665-4245-fcfd-d5dfbb5e6480"
      },
      "source": [
        "def count_parameters(model):\n",
        "    return sum(p.numel() for p in model.parameters() if p.requires_grad)\n",
        "\n",
        "print(f'The model has {count_parameters(model):,} trainable parameters')"
      ],
      "execution_count": null,
      "outputs": [
        {
          "output_type": "stream",
          "text": [
            "The model has 9,038,853 trainable parameters\n"
          ],
          "name": "stdout"
        }
      ]
    },
    {
      "cell_type": "code",
      "metadata": {
        "id": "CfOgQ_8vgSMz"
      },
      "source": [
        "def initialize_weights(m):\n",
        "    if hasattr(m, 'weight') and m.weight.dim() > 1:\n",
        "        nn.init.xavier_uniform_(m.weight.data)\n",
        "model.apply(initialize_weights);"
      ],
      "execution_count": null,
      "outputs": []
    },
    {
      "cell_type": "code",
      "metadata": {
        "id": "kKcVrjAfgSjf"
      },
      "source": [
        "LEARNING_RATE = 0.0005\n",
        "\n",
        "optimizer = torch.optim.Adam(model.parameters(), lr = LEARNING_RATE)"
      ],
      "execution_count": null,
      "outputs": []
    },
    {
      "cell_type": "code",
      "metadata": {
        "id": "PcFgeoC-gSoH"
      },
      "source": [
        "criterion = nn.CrossEntropyLoss(ignore_index = trg_pad_idx)"
      ],
      "execution_count": null,
      "outputs": []
    },
    {
      "cell_type": "code",
      "metadata": {
        "id": "Sdyrol0_gSru"
      },
      "source": [
        "def train(model, iterator, optimizer, criterion, clip):\n",
        "    \n",
        "    model.train()\n",
        "    \n",
        "    epoch_loss = 0\n",
        "    \n",
        "    for i, batch in enumerate(iterator):\n",
        "        \n",
        "        src = batch.src\n",
        "        trg = batch.trg\n",
        "        \n",
        "        optimizer.zero_grad()\n",
        "        \n",
        "        output, _ = model(src, trg[:,:-1])\n",
        "                \n",
        "        #output = [batch size, trg len - 1, output dim]\n",
        "        #trg = [batch size, trg len]\n",
        "            \n",
        "        output_dim = output.shape[-1]\n",
        "            \n",
        "        output = output.contiguous().view(-1, output_dim)\n",
        "        trg = trg[:,1:].contiguous().view(-1)\n",
        "                \n",
        "        #output = [batch size * trg len - 1, output dim]\n",
        "        #trg = [batch size * trg len - 1]\n",
        "            \n",
        "        loss = criterion(output, trg)\n",
        "        \n",
        "        loss.backward()\n",
        "        \n",
        "        torch.nn.utils.clip_grad_norm_(model.parameters(), clip)\n",
        "        \n",
        "        optimizer.step()\n",
        "        \n",
        "        epoch_loss += loss.item()\n",
        "        \n",
        "    return epoch_loss / len(iterator)"
      ],
      "execution_count": null,
      "outputs": []
    },
    {
      "cell_type": "code",
      "metadata": {
        "id": "tqZdXgLsgSv1"
      },
      "source": [
        "def evaluate(model, iterator, criterion):\n",
        "    \n",
        "    model.eval()\n",
        "    \n",
        "    epoch_loss = 0\n",
        "    \n",
        "    with torch.no_grad():\n",
        "    \n",
        "        for i, batch in enumerate(iterator):\n",
        "\n",
        "            src = batch.src\n",
        "            trg = batch.trg\n",
        "\n",
        "            output, _ = model(src, trg[:,:-1])\n",
        "            \n",
        "            #output = [batch size, trg len - 1, output dim]\n",
        "            #trg = [batch size, trg len]\n",
        "            \n",
        "            output_dim = output.shape[-1]\n",
        "            \n",
        "            output = output.contiguous().view(-1, output_dim)\n",
        "            trg = trg[:,1:].contiguous().view(-1)\n",
        "            \n",
        "            #output = [batch size * trg len - 1, output dim]\n",
        "            #trg = [batch size * trg len - 1]\n",
        "            \n",
        "            loss = criterion(output, trg)\n",
        "\n",
        "            epoch_loss += loss.item()\n",
        "        \n",
        "    return epoch_loss / len(iterator)"
      ],
      "execution_count": null,
      "outputs": []
    },
    {
      "cell_type": "code",
      "metadata": {
        "id": "GUTONGNfgS0Z"
      },
      "source": [
        "def epoch_time(start_time, end_time):\n",
        "    elapsed_time = end_time - start_time\n",
        "    elapsed_mins = int(elapsed_time / 60)\n",
        "    elapsed_secs = int(elapsed_time - (elapsed_mins * 60))\n",
        "    return elapsed_mins, elapsed_secs"
      ],
      "execution_count": null,
      "outputs": []
    },
    {
      "cell_type": "code",
      "metadata": {
        "id": "0tGUBsWdgS4Y",
        "colab": {
          "base_uri": "https://localhost:8080/",
          "height": 527
        },
        "outputId": "ebb0b284-023b-46d4-f942-593c9c1106b9"
      },
      "source": [
        "N_EPOCHS = 10\n",
        "CLIP = 1\n",
        "\n",
        "best_valid_loss = float('inf')\n",
        "\n",
        "for epoch in range(N_EPOCHS):\n",
        "    \n",
        "    start_time = time.time()\n",
        "    \n",
        "    train_loss = train(model, train_iterator, optimizer, criterion, CLIP)\n",
        "    valid_loss = evaluate(model, valid_iterator, criterion)\n",
        "    \n",
        "    end_time = time.time()\n",
        "    \n",
        "    epoch_mins, epoch_secs = epoch_time(start_time, end_time)\n",
        "    \n",
        "    if valid_loss < best_valid_loss:\n",
        "        best_valid_loss = valid_loss\n",
        "        torch.save(model.state_dict(), 'tut6-model.pt')\n",
        "    \n",
        "    print(f'Epoch: {epoch+1:02} | Time: {epoch_mins}m {epoch_secs}s')\n",
        "    print(f'\\tTrain Loss: {train_loss:.3f} | Train PPL: {math.exp(train_loss):7.3f}')\n",
        "    print(f'\\t Val. Loss: {valid_loss:.3f} |  Val. PPL: {math.exp(valid_loss):7.3f}')"
      ],
      "execution_count": null,
      "outputs": [
        {
          "output_type": "stream",
          "text": [
            "Epoch: 01 | Time: 0m 40s\n",
            "\tTrain Loss: 4.239 | Train PPL:  69.372\n",
            "\t Val. Loss: 3.035 |  Val. PPL:  20.811\n",
            "Epoch: 02 | Time: 0m 39s\n",
            "\tTrain Loss: 2.824 | Train PPL:  16.852\n",
            "\t Val. Loss: 2.305 |  Val. PPL:  10.019\n",
            "Epoch: 03 | Time: 0m 39s\n",
            "\tTrain Loss: 2.236 | Train PPL:   9.357\n",
            "\t Val. Loss: 1.985 |  Val. PPL:   7.279\n",
            "Epoch: 04 | Time: 0m 39s\n",
            "\tTrain Loss: 1.885 | Train PPL:   6.589\n",
            "\t Val. Loss: 1.815 |  Val. PPL:   6.140\n",
            "Epoch: 05 | Time: 0m 39s\n",
            "\tTrain Loss: 1.642 | Train PPL:   5.165\n",
            "\t Val. Loss: 1.715 |  Val. PPL:   5.554\n",
            "Epoch: 06 | Time: 0m 39s\n",
            "\tTrain Loss: 1.453 | Train PPL:   4.278\n",
            "\t Val. Loss: 1.666 |  Val. PPL:   5.292\n",
            "Epoch: 07 | Time: 0m 39s\n",
            "\tTrain Loss: 1.303 | Train PPL:   3.682\n",
            "\t Val. Loss: 1.643 |  Val. PPL:   5.173\n",
            "Epoch: 08 | Time: 0m 39s\n",
            "\tTrain Loss: 1.177 | Train PPL:   3.243\n",
            "\t Val. Loss: 1.637 |  Val. PPL:   5.142\n",
            "Epoch: 09 | Time: 0m 39s\n",
            "\tTrain Loss: 1.066 | Train PPL:   2.905\n",
            "\t Val. Loss: 1.654 |  Val. PPL:   5.227\n",
            "Epoch: 10 | Time: 0m 39s\n",
            "\tTrain Loss: 0.972 | Train PPL:   2.643\n",
            "\t Val. Loss: 1.664 |  Val. PPL:   5.279\n"
          ],
          "name": "stdout"
        }
      ]
    },
    {
      "cell_type": "code",
      "metadata": {
        "id": "YkTPli2oiIis",
        "colab": {
          "base_uri": "https://localhost:8080/",
          "height": 34
        },
        "outputId": "0beffb54-3bf3-4d11-cc2c-95bde439567a"
      },
      "source": [
        "model.load_state_dict(torch.load('tut6-model.pt'))\n",
        "\n",
        "test_loss = evaluate(model, test_iterator, criterion)\n",
        "\n",
        "print(f'| Test Loss: {test_loss:.3f} | Test PPL: {math.exp(test_loss):7.3f} |')"
      ],
      "execution_count": null,
      "outputs": [
        {
          "output_type": "stream",
          "text": [
            "| Test Loss: 1.655 | Test PPL:   5.233 |\n"
          ],
          "name": "stdout"
        }
      ]
    },
    {
      "cell_type": "code",
      "metadata": {
        "id": "SOBrX9TygS8V"
      },
      "source": [
        "def translate_sentence(sentence, src_field, trg_field, model, device, max_len = 50):\n",
        "    \n",
        "    model.eval()\n",
        "        \n",
        "    if isinstance(sentence, str):\n",
        "        nlp = spacy.load('de')\n",
        "        tokens = [token.text.lower() for token in nlp(sentence)]\n",
        "    else:\n",
        "        tokens = [token.lower() for token in sentence]\n",
        "\n",
        "    tokens = [src_field.init_token] + tokens + [src_field.eos_token]\n",
        "        \n",
        "    src_indexes = [src_field.vocab.stoi[token] for token in tokens]\n",
        "\n",
        "    src_tensor = torch.LongTensor(src_indexes).unsqueeze(0).to(device)\n",
        "    \n",
        "    src_mask = model.src_mask(src_tensor)\n",
        "    \n",
        "    with torch.no_grad():\n",
        "        enc_src = model.encoder(src_tensor, src_mask)\n",
        "\n",
        "    trg_indexes = [trg_field.vocab.stoi[trg_field.init_token]]\n",
        "\n",
        "    for i in range(max_len):\n",
        "\n",
        "        trg_tensor = torch.LongTensor(trg_indexes).unsqueeze(0).to(device)\n",
        "\n",
        "        trg_mask = model.trg_mask(trg_tensor)\n",
        "        \n",
        "        with torch.no_grad():\n",
        "            output, attention = model.decoder(trg_tensor, trg_mask, src_mask, enc_src)\n",
        "        \n",
        "        pred_token = output.argmax(2)[:,-1].item()\n",
        "        \n",
        "        trg_indexes.append(pred_token)\n",
        "\n",
        "        if pred_token == trg_field.vocab.stoi[trg_field.eos_token]:\n",
        "            break\n",
        "    \n",
        "    trg_tokens = [trg_field.vocab.itos[i] for i in trg_indexes]\n",
        "    \n",
        "    return trg_tokens[1:], attention"
      ],
      "execution_count": null,
      "outputs": []
    },
    {
      "cell_type": "code",
      "metadata": {
        "id": "-MpUQ2FOgTAw"
      },
      "source": [
        "def display_attention(sentence, translation, attention, n_heads = 8, n_rows = 4, n_cols = 2):\n",
        "    \n",
        "    assert n_rows * n_cols == n_heads\n",
        "    \n",
        "    fig = plt.figure(figsize=(15,25))\n",
        "    \n",
        "    for i in range(n_heads):\n",
        "        \n",
        "        ax = fig.add_subplot(n_rows, n_cols, i+1)\n",
        "        \n",
        "        _attention = attention.squeeze(0)[i].cpu().detach().numpy()\n",
        "\n",
        "        cax = ax.matshow(_attention, cmap='bone')\n",
        "\n",
        "        ax.tick_params(labelsize=12)\n",
        "        ax.set_xticklabels(['']+['<sos>']+[t.lower() for t in sentence]+['<eos>'], \n",
        "                           rotation=45)\n",
        "        ax.set_yticklabels(['']+translation)\n",
        "\n",
        "        ax.xaxis.set_major_locator(ticker.MultipleLocator(1))\n",
        "        ax.yaxis.set_major_locator(ticker.MultipleLocator(1))\n",
        "\n",
        "    plt.show()\n",
        "    plt.close()"
      ],
      "execution_count": null,
      "outputs": []
    },
    {
      "cell_type": "code",
      "metadata": {
        "id": "8gTcvSGfgTF1",
        "colab": {
          "base_uri": "https://localhost:8080/",
          "height": 51
        },
        "outputId": "0574c824-f71d-449b-f523-63842596f7a3"
      },
      "source": [
        "example_idx = 8\n",
        "\n",
        "src = vars(train_data.examples[example_idx])['src']\n",
        "trg = vars(train_data.examples[example_idx])['trg']\n",
        "\n",
        "print(f'src = {src}')\n",
        "print(f'trg = {trg}')"
      ],
      "execution_count": null,
      "outputs": [
        {
          "output_type": "stream",
          "text": [
            "src = ['eine', 'frau', 'mit', 'einer', 'großen', 'geldbörse', 'geht', 'an', 'einem', 'tor', 'vorbei', '.']\n",
            "trg = ['a', 'woman', 'with', 'a', 'large', 'purse', 'is', 'walking', 'by', 'a', 'gate', '.']\n"
          ],
          "name": "stdout"
        }
      ]
    },
    {
      "cell_type": "code",
      "metadata": {
        "id": "GdM5liDr32vn",
        "colab": {
          "base_uri": "https://localhost:8080/",
          "height": 34
        },
        "outputId": "92f643e2-51f8-42e1-bd13-70f619e0c0a9"
      },
      "source": [
        "# %debug\n",
        "translation, attention = translate_sentence(src, SRC, TRG, model, device)\n",
        "\n",
        "print(f'predicted trg = {translation}')"
      ],
      "execution_count": null,
      "outputs": [
        {
          "output_type": "stream",
          "text": [
            "predicted trg = ['a', 'woman', 'with', 'a', 'large', 'purse', 'walks', 'by', 'a', 'gate', '.', '<eos>']\n"
          ],
          "name": "stdout"
        }
      ]
    },
    {
      "cell_type": "code",
      "metadata": {
        "id": "MWF9ZLBY322b",
        "colab": {
          "base_uri": "https://localhost:8080/",
          "height": 1000
        },
        "outputId": "0ba6379c-cf6e-4f30-d10c-87eb596b70bd"
      },
      "source": [
        "display_attention(src, translation, attention)"
      ],
      "execution_count": null,
      "outputs": [
        {
          "output_type": "display_data",
          "data": {
            "image/png": "[encoded data removed]",
            "text/plain": [
              "<Figure size 1080x1800 with 8 Axes>"
            ]
          },
          "metadata": {
            "tags": [],
            "needs_background": "light"
          }
        }
      ]
    },
    {
      "cell_type": "code",
      "metadata": {
        "id": "QZnXUVVf326u",
        "colab": {
          "base_uri": "https://localhost:8080/",
          "height": 51
        },
        "outputId": "fc65b277-fba7-4594-bbf7-d86112e9de66"
      },
      "source": [
        "example_idx = 6\n",
        "\n",
        "src = vars(valid_data.examples[example_idx])['src']\n",
        "trg = vars(valid_data.examples[example_idx])['trg']\n",
        "\n",
        "print(f'src = {src}')\n",
        "print(f'trg = {trg}')"
      ],
      "execution_count": null,
      "outputs": [
        {
          "output_type": "stream",
          "text": [
            "src = ['ein', 'brauner', 'hund', 'rennt', 'dem', 'schwarzen', 'hund', 'hinterher', '.']\n",
            "trg = ['a', 'brown', 'dog', 'is', 'running', 'after', 'the', 'black', 'dog', '.']\n"
          ],
          "name": "stdout"
        }
      ]
    },
    {
      "cell_type": "code",
      "metadata": {
        "id": "nu_t5f-j33A9",
        "colab": {
          "base_uri": "https://localhost:8080/",
          "height": 34
        },
        "outputId": "651b1329-04db-4615-cb25-3ca963b0a3f3"
      },
      "source": [
        "translation, attention = translate_sentence(src, SRC, TRG, model, device)\n",
        "\n",
        "print(f'predicted trg = {translation}')"
      ],
      "execution_count": null,
      "outputs": [
        {
          "output_type": "stream",
          "text": [
            "predicted trg = ['a', 'brown', 'dog', 'running', 'after', 'the', 'black', 'dog', '.', '<eos>']\n"
          ],
          "name": "stdout"
        }
      ]
    },
    {
      "cell_type": "code",
      "metadata": {
        "id": "sLAVgOSp33En",
        "colab": {
          "base_uri": "https://localhost:8080/",
          "height": 1000
        },
        "outputId": "dc68e7cb-a8d5-4fd7-9546-8f8d5e0e8ad7"
      },
      "source": [
        "display_attention(src, translation, attention)"
      ],
      "execution_count": null,
      "outputs": [
        {
          "output_type": "display_data",
          "data": {
            "image/png": "[encoded data removed]",
            "text/plain": [
              "<Figure size 1080x1800 with 8 Axes>"
            ]
          },
          "metadata": {
            "tags": [],
            "needs_background": "light"
          }
        }
      ]
    },
    {
      "cell_type": "code",
      "metadata": {
        "id": "LApR1LI-33H3",
        "colab": {
          "base_uri": "https://localhost:8080/",
          "height": 51
        },
        "outputId": "fa4a972f-a27d-45f2-ecd1-8de4faab18e6"
      },
      "source": [
        "example_idx = 10\n",
        "\n",
        "src = vars(test_data.examples[example_idx])['src']\n",
        "trg = vars(test_data.examples[example_idx])['trg']\n",
        "\n",
        "print(f'src = {src}')\n",
        "print(f'trg = {trg}')"
      ],
      "execution_count": null,
      "outputs": [
        {
          "output_type": "stream",
          "text": [
            "src = ['eine', 'mutter', 'und', 'ihr', 'kleiner', 'sohn', 'genießen', 'einen', 'schönen', 'tag', 'im', 'freien', '.']\n",
            "trg = ['a', 'mother', 'and', 'her', 'young', 'song', 'enjoying', 'a', 'beautiful', 'day', 'outside', '.']\n"
          ],
          "name": "stdout"
        }
      ]
    },
    {
      "cell_type": "code",
      "metadata": {
        "id": "DXMbiw6233MS",
        "colab": {
          "base_uri": "https://localhost:8080/",
          "height": 34
        },
        "outputId": "d9bbcb15-1a13-4c79-c70e-396a08c01efd"
      },
      "source": [
        "translation, attention = translate_sentence(src, SRC, TRG, model, device)\n",
        "\n",
        "print(f'predicted trg = {translation}')"
      ],
      "execution_count": null,
      "outputs": [
        {
          "output_type": "stream",
          "text": [
            "predicted trg = ['a', 'mother', 'and', 'her', 'young', 'son', 'enjoying', 'a', 'beautiful', 'day', 'outside', '.', '<eos>']\n"
          ],
          "name": "stdout"
        }
      ]
    },
    {
      "cell_type": "code",
      "metadata": {
        "id": "d6cAL3Tm33QL",
        "colab": {
          "base_uri": "https://localhost:8080/",
          "height": 1000
        },
        "outputId": "7c650f1c-6b05-4162-d27e-10c67975a893"
      },
      "source": [
        "display_attention(src, translation, attention)"
      ],
      "execution_count": null,
      "outputs": [
        {
          "output_type": "display_data",
          "data": {
            "image/png": "[encoded data removed]",
            "text/plain": [
              "<Figure size 1080x1800 with 8 Axes>"
            ]
          },
          "metadata": {
            "tags": [],
            "needs_background": "light"
          }
        }
      ]
    },
    {
      "cell_type": "code",
      "metadata": {
        "id": "ZWNxomeS33UR"
      },
      "source": [
        "from torchtext.data.metrics import bleu_score\n",
        "\n",
        "def calculate_bleu(data, src_field, trg_field, model, device, max_len = 50):\n",
        "    \n",
        "    trgs = []\n",
        "    pred_trgs = []\n",
        "    \n",
        "    for datum in data:\n",
        "        \n",
        "        src = vars(datum)['src']\n",
        "        trg = vars(datum)['trg']\n",
        "        \n",
        "        pred_trg, _ = translate_sentence(src, src_field, trg_field, model, device, max_len)\n",
        "        \n",
        "        #cut off <eos> token\n",
        "        pred_trg = pred_trg[:-1]\n",
        "        \n",
        "        pred_trgs.append(pred_trg)\n",
        "        trgs.append([trg])\n",
        "        \n",
        "    return bleu_score(pred_trgs, trgs)"
      ],
      "execution_count": null,
      "outputs": []
    },
    {
      "cell_type": "code",
      "metadata": {
        "id": "k95XOGCt4Qny",
        "colab": {
          "base_uri": "https://localhost:8080/",
          "height": 34
        },
        "outputId": "afe5ad4c-161a-4778-9d98-f536af8cd271"
      },
      "source": [
        "bleu_score = calculate_bleu(test_data, SRC, TRG, model, device)\n",
        "\n",
        "print(f'BLEU score = {bleu_score*100:.2f}')"
      ],
      "execution_count": null,
      "outputs": [
        {
          "output_type": "stream",
          "text": [
            "BLEU score = 35.87\n"
          ],
          "name": "stdout"
        }
      ]
    },
    {
      "cell_type": "code",
      "metadata": {
        "id": "OyxU8sexNg58"
      },
      "source": [
        ""
      ],
      "execution_count": null,
      "outputs": []
    }
  ]
}